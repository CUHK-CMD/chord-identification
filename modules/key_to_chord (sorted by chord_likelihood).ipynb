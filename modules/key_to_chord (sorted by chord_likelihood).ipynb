{
  "nbformat": 4,
  "nbformat_minor": 0,
  "metadata": {
    "colab": {
      "name": "key to chord.ipynb",
      "provenance": []
    },
    "kernelspec": {
      "name": "python3",
      "display_name": "Python 3"
    },
    "language_info": {
      "name": "python"
    }
  },
  "cells": [
    {
      "cell_type": "code",
      "metadata": {
        "id": "AdMEfVDv5LVw"
      },
      "source": [
        "import pandas as pd\n",
        "import numpy as np\n",
        "import itertools\n",
        "from pandas.api.types import CategoricalDtype"
      ],
      "execution_count": 1,
      "outputs": []
    },
    {
      "cell_type": "code",
      "metadata": {
        "id": "cwnDnZPirxDI"
      },
      "source": [
        "key_mapping={\n",
        "    'C':0,\n",
        "    'D':2,\n",
        "    'E':4,\n",
        "    'F':5,\n",
        "    'G':7,\n",
        "    'A':9,\n",
        "    'B':11\n",
        "}"
      ],
      "execution_count": 2,
      "outputs": []
    },
    {
      "cell_type": "code",
      "metadata": {
        "id": "h6lNoKkNsbB8"
      },
      "source": [
        "#1 by 1 key to number\n",
        "def key2num(key):  \n",
        "  key=key.upper()\n",
        "  num=key_mapping[key[0]]\n",
        "  modifier=len(key)\n",
        "  if modifier==1:\n",
        "    return num\n",
        "  elif key[1]=='#':\n",
        "    return (num+(modifier-1))%12\n",
        "  elif key[1]=='B':\n",
        "    return (num-(modifier-1))%12\n",
        "  elif key[1]=='X':\n",
        "    return (num+(modifier-1)*2)%12"
      ],
      "execution_count": 3,
      "outputs": []
    },
    {
      "cell_type": "code",
      "metadata": {
        "id": "6rjvGwSUtwPr"
      },
      "source": [
        "# key_list to number_list\n",
        "def keys2num(keys):\n",
        "  if keys[-1]=='-':\n",
        "    return sorted([key2num(key) for key in keys[:-1]])\n",
        "  else:\n",
        "    return sorted([key2num(key) for key in keys])"
      ],
      "execution_count": 4,
      "outputs": []
    },
    {
      "cell_type": "code",
      "metadata": {
        "id": "IbxyOu0uvZa7"
      },
      "source": [
        "df=pd.read_csv('/content/chordToNoteResult.csv')\n"
      ],
      "execution_count": 5,
      "outputs": []
    },
    {
      "cell_type": "code",
      "metadata": {
        "colab": {
          "base_uri": "https://localhost:8080/"
        },
        "id": "CR96fTxrIger",
        "outputId": "f3a37ff1-beb7-4c21-eedd-6141f3219879"
      },
      "source": [
        "df['Chord'].unique()"
      ],
      "execution_count": 6,
      "outputs": [
        {
          "output_type": "execute_result",
          "data": {
            "text/plain": [
              "array(['I', 'I7', 'bII', 'II', 'II7', 'III', 'III7', 'IV', 'IV7', 'V',\n",
              "       'V7', 'bVI', 'GerVI', 'FreVI', 'ItaVI', 'VI', 'VI7', 'VII', 'VII7',\n",
              "       'DimVII7', 'I+', 'IV+', 'V+', 'V+7', 'DimVII'], dtype=object)"
            ]
          },
          "metadata": {
            "tags": []
          },
          "execution_count": 6
        }
      ]
    },
    {
      "cell_type": "code",
      "metadata": {
        "id": "F3qbUHCGIT2q"
      },
      "source": [
        "#custom chord likelihood\n",
        "chord_likelihood_order = CategoricalDtype(\n",
        "    ['I', 'II', 'III', 'IV', 'V', 'VI', 'VII', 'I7', 'II7', 'III7', 'IV7',\n",
        "       'V7', 'VI7', 'VII7', 'DimVII','DimVII7', 'bII', 'bVI',\n",
        "        'I+', 'IV+', 'V+', 'V+7', 'GerVI', 'FreVI', 'ItaVI'],\n",
        "    ordered=True\n",
        ")\n",
        "df['Chord'] = df['Chord'].astype(chord_likelihood_order)"
      ],
      "execution_count": 7,
      "outputs": []
    },
    {
      "cell_type": "code",
      "metadata": {
        "id": "Nugkh261ITUT"
      },
      "source": [
        "df_copy=df.copy()\n",
        "df_copy=df_copy.drop(['Unnamed: 0','Key','Chord'],axis=1)"
      ],
      "execution_count": 8,
      "outputs": []
    },
    {
      "cell_type": "code",
      "metadata": {
        "id": "-bnIFezRzzL5"
      },
      "source": [
        "#array: store every chord's key in the same order wrt the csv file\n",
        "known_key=list(df_copy.to_numpy())\n",
        "for idx in range(len(known_key)):\n",
        "  known_key[idx]= sorted(keys2num(known_key[idx]))"
      ],
      "execution_count": 9,
      "outputs": []
    },
    {
      "cell_type": "code",
      "metadata": {
        "id": "g2tmo5Bu4Ifn"
      },
      "source": [
        "#Return whether given arr is a subset of a array in list_arrays\n",
        "def subset_in_list(arr, list_arrays):\n",
        "    for array in list_arrays:\n",
        "      for each in arr:\n",
        "        if not (each in array):\n",
        "          break\n",
        "      else:\n",
        "        return True\n",
        "    return False"
      ],
      "execution_count": 10,
      "outputs": []
    },
    {
      "cell_type": "code",
      "metadata": {
        "colab": {
          "base_uri": "https://localhost:8080/"
        },
        "id": "IO0jJ58lzVT0",
        "outputId": "4d2bcaac-322d-4e08-ec9b-e95a7b64edfb"
      },
      "source": [
        "#all combinations of 4 key notes\n",
        "combination=np.array(list(itertools.chain.from_iterable(itertools.combinations(np.arange(12),n) for n in range(5))))"
      ],
      "execution_count": 11,
      "outputs": [
        {
          "output_type": "stream",
          "text": [
            "/usr/local/lib/python3.7/dist-packages/ipykernel_launcher.py:2: VisibleDeprecationWarning: Creating an ndarray from ragged nested sequences (which is a list-or-tuple of lists-or-tuples-or ndarrays with different lengths or shapes) is deprecated. If you meant to do this, you must specify 'dtype=object' when creating the ndarray\n",
            "  \n"
          ],
          "name": "stderr"
        }
      ]
    },
    {
      "cell_type": "code",
      "metadata": {
        "id": "t9HwOgi_ChEM"
      },
      "source": [
        "#array: possible chord_idx in the same order wrt combination\n",
        "key_chord_idx=[]\n",
        "for combo in combination:\n",
        "  chord=[]\n",
        "  for chord_idx in range(len(known_key)):\n",
        "    for note in combo:\n",
        "      if not(note in known_key[chord_idx]):\n",
        "        break\n",
        "    else:\n",
        "      chord.append(chord_idx)\n",
        "  key_chord_idx.append(chord)"
      ],
      "execution_count": 12,
      "outputs": []
    },
    {
      "cell_type": "code",
      "metadata": {
        "id": "e8tuptRQAQpk"
      },
      "source": [
        "#key --> chord_idx mapping : \n",
        "key_chord_mapping={}\n",
        "for idx in range(len(combination)):\n",
        "  key_chord_mapping[str(combination[idx])]=key_chord_idx[idx]"
      ],
      "execution_count": 13,
      "outputs": []
    },
    {
      "cell_type": "code",
      "metadata": {
        "id": "gESAPGzsJPxB"
      },
      "source": [
        "#key --> chord_name mapping :  with sorting by chord_likelihood\n",
        "key_chord_name_mapping={}\n",
        "for key in key_chord_mapping:#[''.join(df.loc[idx,['Key','Chord']].sort_values('Chord').tolist()) for idx in key_chord_mapping[key]]\n",
        "  chord_list=df.loc[key_chord_mapping[key],['Key','Chord']].sort_values('Chord')\n",
        "  key_chord_name_mapping[key]=(chord_list['Key'].astype(str)+chord_list['Chord'].astype(str)).tolist()"
      ],
      "execution_count": 14,
      "outputs": []
    },
    {
      "cell_type": "code",
      "metadata": {
        "id": "gihjA1QQNC__"
      },
      "source": [
        "import pickle\n",
        "\n",
        "with open('key_chord_mapping.pickle', 'wb') as handle:\n",
        "    pickle.dump(key_chord_mapping, handle, protocol=pickle.HIGHEST_PROTOCOL)\n",
        "\n",
        "with open('(sorted by chord_likelihood)key_chord_name_mapping.pickle', 'wb') as handle:\n",
        "    pickle.dump(key_chord_name_mapping, handle, protocol=pickle.HIGHEST_PROTOCOL)"
      ],
      "execution_count": 15,
      "outputs": []
    },
    {
      "cell_type": "code",
      "metadata": {
        "id": "cSFRJAyLJzhn"
      },
      "source": [
        "def keys2chords(keys,threshold=3):\n",
        "  result=[]\n",
        "  keys=keys2num(keys)\n",
        "  keys=list(dict.fromkeys(keys)) #remove duplicates\n",
        "  for i in range(4,threshold-1,-1):\n",
        "    for each in itertools.combinations(keys,i):\n",
        "      result.extend(key_chord_name_mapping[str(each)])\n",
        "  return result"
      ],
      "execution_count": 16,
      "outputs": []
    },
    {
      "cell_type": "code",
      "metadata": {
        "colab": {
          "base_uri": "https://localhost:8080/"
        },
        "id": "lcUFFWq_b19w",
        "outputId": "590199d5-4cd2-4d38-b90a-8bbf13615d41"
      },
      "source": [
        "temp=input()\n",
        "word=[]\n",
        "while temp:\n",
        "  word.append(temp)\n",
        "  temp=input()"
      ],
      "execution_count": 17,
      "outputs": [
        {
          "output_type": "stream",
          "text": [
            "c\n",
            "e\n",
            "g\n",
            "\n"
          ],
          "name": "stdout"
        }
      ]
    },
    {
      "cell_type": "code",
      "metadata": {
        "colab": {
          "base_uri": "https://localhost:8080/"
        },
        "id": "sMCXlckEL_Ir",
        "outputId": "afe09131-4177-4de9-d018-008f8a5de2d9"
      },
      "source": [
        "#TEST\n",
        "import time\n",
        "answer=''\n",
        "iterations=100000\n",
        "start = time.time()\n",
        "for i in range(iterations):\n",
        "  answer=keys2chords(word,3)\n",
        "end = time.time()\n",
        "print((end - start)/iterations)"
      ],
      "execution_count": 18,
      "outputs": [
        {
          "output_type": "stream",
          "text": [
            "4.566118717193603e-06\n"
          ],
          "name": "stdout"
        }
      ]
    },
    {
      "cell_type": "code",
      "metadata": {
        "colab": {
          "base_uri": "https://localhost:8080/"
        },
        "id": "U34w5LeTNkH-",
        "outputId": "0636c80e-7cdb-4585-93c0-0666ba90a97e"
      },
      "source": [
        "print(answer)\n"
      ],
      "execution_count": 19,
      "outputs": [
        {
          "output_type": "stream",
          "text": [
            "['CMajorI', 'aMinorIII', 'GMajorIV', 'FMajorV', 'eMinorVI', 'dMinorVII', 'CMajorI7', 'GMajorII7', 'FMajorIII7', 'GMajorIV7', 'FMajorV7', 'CMajorVI7', 'BMajorbII', 'bMinorbII', 'EMajorbVI', 'cMinorI+', 'gMinorIV+', 'fMinorV+', 'fMinorV+7', 'EMajorGerVI', 'eMinorGerVI']\n"
          ],
          "name": "stdout"
        }
      ]
    }
  ]
}