{
 "cells": [
  {
   "cell_type": "code",
   "execution_count": 7,
   "id": "c4352b28",
   "metadata": {},
   "outputs": [
    {
     "name": "stderr",
     "output_type": "stream",
     "text": [
      "music21: Certain music21 functions might need the optional package matplotlib;\n",
      "                  if you run into errors, install it by following the instructions at\n",
      "                  http://mit.edu/music21/doc/installing/installAdditional.html\n"
     ]
    }
   ],
   "source": [
    "import numpy as np\n",
    "from music21 import *\n",
    "import glob\n",
    "import sys\n",
    "import math\n",
    "from tensorflow.keras.models import Sequential, Model, load_model\n",
    "sys.path.append(\"../RL modules/\")\n",
    "from env_noOctave import SegmentationEnv"
   ]
  },
  {
   "cell_type": "code",
   "execution_count": 12,
   "id": "eb043687",
   "metadata": {},
   "outputs": [],
   "source": [
    "base_lr = 0.001\n",
    "max_lr = 0.1\n",
    "step_size = 8\n",
    "def masterScheduler(epoch):\n",
    "    def scheduler():\n",
    "            period = 2 * step_size\n",
    "            cycle = math.floor(1 + epoch/period)\n",
    "            x = abs(epoch/step_size - 2*cycle + 1)\n",
    "            delta = (max_lr - base_lr)*max(0, (1 - x))\n",
    "            delta /= float(2 ** (cycle - 1))\n",
    "            return base_lr + delta\n",
    "    return scheduler"
   ]
  },
  {
   "cell_type": "code",
   "execution_count": 13,
   "id": "6ab60c0a",
   "metadata": {},
   "outputs": [
    {
     "name": "stdout",
     "output_type": "stream",
     "text": [
      "0.001\n",
      "0.013375000000000001\n",
      "0.025750000000000002\n",
      "0.038125000000000006\n",
      "0.0505\n",
      "0.062875\n",
      "0.07525000000000001\n",
      "0.08762500000000001\n",
      "0.1\n",
      "0.08762500000000001\n",
      "0.07525000000000001\n",
      "0.062875\n",
      "0.0505\n",
      "0.038125000000000006\n",
      "0.025750000000000002\n",
      "0.013375000000000001\n",
      "0.001\n",
      "0.0071875\n",
      "0.013375000000000001\n",
      "0.019562500000000003\n"
     ]
    }
   ],
   "source": [
    "for i in range(20):\n",
    "    print(masterScheduler(i)())"
   ]
  },
  {
   "cell_type": "code",
   "execution_count": 22,
   "id": "9072b572",
   "metadata": {},
   "outputs": [],
   "source": [
    "testing_pieces = []\n",
    "# for piece in glob.glob('./normal/training/*'):\n",
    "#     testing_pieces.append(piece)\n",
    "\n",
    "for piece in glob.glob('./C_normalized/testing/*'):\n",
    "    testing_pieces.append(piece)"
   ]
  },
  {
   "cell_type": "code",
   "execution_count": 23,
   "id": "f3e450b6",
   "metadata": {},
   "outputs": [
    {
     "name": "stdout",
     "output_type": "stream",
     "text": [
      "Model: \"model\"\n",
      "_________________________________________________________________\n",
      "Layer (type)                 Output Shape              Param #   \n",
      "=================================================================\n",
      "input_1 (InputLayer)         [(None, 25)]              0         \n",
      "_________________________________________________________________\n",
      "dense (Dense)                (None, 48)                1248      \n",
      "_________________________________________________________________\n",
      "dense_1 (Dense)              (None, 24)                1176      \n",
      "_________________________________________________________________\n",
      "dense_2 (Dense)              (None, 2)                 50        \n",
      "=================================================================\n",
      "Total params: 2,474\n",
      "Trainable params: 2,474\n",
      "Non-trainable params: 0\n",
      "_________________________________________________________________\n",
      "None\n"
     ]
    }
   ],
   "source": [
    "model = load_model(\"DQN-normal\")\n",
    "print(model.summary())"
   ]
  },
  {
   "cell_type": "code",
   "execution_count": 24,
   "id": "9e06d3f3",
   "metadata": {},
   "outputs": [
    {
     "name": "stdout",
     "output_type": "stream",
     "text": [
      "./C_normalized/testing\\trans_Il_Vecchio_Castello.musicxml\n",
      "./C_normalized/testing\\trans_Minuet_in_G_Major.musicxml\n",
      "./C_normalized/testing\\trans_Nocturne_no._1.musicxml\n",
      "./C_normalized/testing\\trans_Prélude_in_B_Minor.musicxml\n",
      "./C_normalized/testing\\trans_Sonate_No._31.musicxml\n",
      "./C_normalized/testing\\trans_Étude_in_Gb_Major_Op25.musicxml\n",
      "Total number of pieces 6\n"
     ]
    }
   ],
   "source": [
    "env = SegmentationEnv(testing_pieces)"
   ]
  },
  {
   "cell_type": "code",
   "execution_count": 25,
   "id": "a9ace02c",
   "metadata": {},
   "outputs": [
    {
     "data": {
      "text/plain": [
       "(6, 6)"
      ]
     },
     "execution_count": 25,
     "metadata": {},
     "output_type": "execute_result"
    }
   ],
   "source": [
    "len(env.notes),len(testing_pieces)"
   ]
  },
  {
   "cell_type": "code",
   "execution_count": 28,
   "id": "978c96a2",
   "metadata": {},
   "outputs": [],
   "source": [
    "def Visualization(piece,offset): #offset assume sorted.\n",
    "    c = converter.parse(piece)\n",
    "    all_notes = []\n",
    "    for el in c.recurse().notes:\n",
    "        if el.lyric is not None:\n",
    "            el.lyric = el.lyric.replace(\"♭\", \"b\")\n",
    "        all_notes.append([el.lyric, el, cal_offset(el)])\n",
    "    b = sorted(all_notes, key=lambda x: x[0] if x[0] is not None else \"ZZZ\")\n",
    "    b = sorted(b, key=lambda x: x[-1])\n",
    "    for e in b:\n",
    "        if len(offset) >0 and e[2] == offset[0]:\n",
    "            del offset[0]\n",
    "            e[1].addLyric(\"CUT\")\n",
    "    GEX = musicxml.m21ToXml.GeneralObjectExporter(c)\n",
    "    out = GEX.parse()\n",
    "    piecename = piece.split(\"\\\\\")[-1]\n",
    "    piecename = piece.split(\".\")[0]\n",
    "    piecename = \"Vis_\"+piecename + \".musicxml\"\n",
    "    with open(output, \"wb\") as f:\n",
    "        f.write(out)\n",
    "    "
   ]
  },
  {
   "cell_type": "code",
   "execution_count": 26,
   "id": "3024902c",
   "metadata": {},
   "outputs": [
    {
     "name": "stdout",
     "output_type": "stream",
     "text": [
      "Piece ./C_normalized/testing\\trans_Il_Vecchio_Castello.musicxml, total reward = 61/205, correct segment = 77\n",
      "Piece ./C_normalized/testing\\trans_Minuet_in_G_Major.musicxml, total reward = 52/120, correct segment = 19\n",
      "Piece ./C_normalized/testing\\trans_Nocturne_no._1.musicxml, total reward = 173/451, correct segment = 52\n",
      "Piece ./C_normalized/testing\\trans_Prélude_in_B_Minor.musicxml, total reward = 55/79, correct segment = 26\n",
      "Piece ./C_normalized/testing\\trans_Sonate_No._31.musicxml, total reward = 53/305, correct segment = 68\n",
      "Piece ./C_normalized/testing\\trans_Étude_in_Gb_Major_Op25.musicxml, total reward = 51/105, correct segment = 66\n"
     ]
    }
   ],
   "source": [
    "for i in range(len(env.notes)):\n",
    "    obs = env.reset(i)\n",
    "    total_reward = 0\n",
    "    max_reward = 0\n",
    "    num_correct_segment = 0\n",
    "    while True:\n",
    "        obs = obs.reshape((1, 12*2+1))\n",
    "        action = np.argmax(model.predict(obs))\n",
    "        obs, reward, done, info = env.step(action)\n",
    "        #env.render()\n",
    "        total_reward += reward\n",
    "        max_reward += 1\n",
    "        if reward ==1 and action == 1:\n",
    "            num_correct_segment += 1\n",
    "        if done:\n",
    "            break\n",
    "    print(f\"Piece {testing_pieces[i]}, total reward = {total_reward}/{max_reward}, correct segment = {num_correct_segment}\")"
   ]
  }
 ],
 "metadata": {
  "kernelspec": {
   "display_name": "Python 3 (ipykernel)",
   "language": "python",
   "name": "python3"
  },
  "language_info": {
   "codemirror_mode": {
    "name": "ipython",
    "version": 3
   },
   "file_extension": ".py",
   "mimetype": "text/x-python",
   "name": "python",
   "nbconvert_exporter": "python",
   "pygments_lexer": "ipython3",
   "version": "3.8.10"
  }
 },
 "nbformat": 4,
 "nbformat_minor": 5
}
