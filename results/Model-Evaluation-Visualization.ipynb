{
 "cells": [
  {
   "cell_type": "code",
   "execution_count": 1,
   "id": "c4352b28",
   "metadata": {},
   "outputs": [],
   "source": [
    "import numpy as np\n",
    "from music21 import *\n",
    "import glob\n",
    "import sys\n",
    "import math\n",
    "from tensorflow.keras.models import Sequential, Model, load_model\n",
    "sys.path.append(\"../RL modules/\")\n",
    "from env_noOctave import SegmentationEnv"
   ]
  },
  {
   "cell_type": "code",
   "execution_count": 2,
   "id": "25a7458f",
   "metadata": {},
   "outputs": [],
   "source": [
    "base_lr = 0.001\n",
    "max_lr = 0.1\n",
    "step_size = 8\n",
    "def masterScheduler(epoch):\n",
    "    def scheduler():\n",
    "            period = 2 * step_size\n",
    "            cycle = math.floor(1 + epoch/period)\n",
    "            x = abs(epoch/step_size - 2*cycle + 1)\n",
    "            delta = (max_lr - base_lr)*max(0, (1 - x))\n",
    "            delta /= float(2 ** (cycle - 1))\n",
    "            return base_lr + delta\n",
    "    return scheduler"
   ]
  },
  {
   "cell_type": "code",
   "execution_count": 3,
   "id": "e9c0dbdb",
   "metadata": {},
   "outputs": [
    {
     "name": "stdout",
     "output_type": "stream",
     "text": [
      "0.001\n",
      "0.013375000000000001\n",
      "0.025750000000000002\n",
      "0.038125000000000006\n",
      "0.0505\n",
      "0.062875\n",
      "0.07525000000000001\n",
      "0.08762500000000001\n",
      "0.1\n",
      "0.08762500000000001\n",
      "0.07525000000000001\n",
      "0.062875\n",
      "0.0505\n",
      "0.038125000000000006\n",
      "0.025750000000000002\n",
      "0.013375000000000001\n",
      "0.001\n",
      "0.0071875\n",
      "0.013375000000000001\n",
      "0.019562500000000003\n"
     ]
    }
   ],
   "source": [
    "for i in range(20):\n",
    "    print(masterScheduler(i)())"
   ]
  },
  {
   "cell_type": "code",
   "execution_count": 16,
   "id": "9072b572",
   "metadata": {},
   "outputs": [],
   "source": [
    "testing_pieces = []\n",
    "# for piece in glob.glob('./normal/training/*'):\n",
    "#     testing_pieces.append(piece)\n",
    "\n",
    "for piece in glob.glob('./C_normalized/testing/*'):\n",
    "    testing_pieces.append(piece)"
   ]
  },
  {
   "cell_type": "code",
   "execution_count": 17,
   "id": "f3e450b6",
   "metadata": {},
   "outputs": [
    {
     "name": "stdout",
     "output_type": "stream",
     "text": [
      "Model: \"model\"\n",
      "_________________________________________________________________\n",
      "Layer (type)                 Output Shape              Param #   \n",
      "=================================================================\n",
      "input_1 (InputLayer)         [(None, 25)]              0         \n",
      "_________________________________________________________________\n",
      "dense (Dense)                (None, 48)                1248      \n",
      "_________________________________________________________________\n",
      "dense_1 (Dense)              (None, 24)                1176      \n",
      "_________________________________________________________________\n",
      "dense_2 (Dense)              (None, 2)                 50        \n",
      "=================================================================\n",
      "Total params: 2,474\n",
      "Trainable params: 2,474\n",
      "Non-trainable params: 0\n",
      "_________________________________________________________________\n"
     ]
    }
   ],
   "source": [
    "model = load_model(\"dqn_normalized\")\n",
    "model.summary()"
   ]
  },
  {
   "cell_type": "code",
   "execution_count": 32,
   "id": "1477d4a7",
   "metadata": {},
   "outputs": [
    {
     "name": "stdout",
     "output_type": "stream",
     "text": [
      "./C_normalized/testing\\trans_Il_Vecchio_Castello.musicxml\n",
      "./C_normalized/testing\\trans_Minuet_in_G_Major.musicxml\n",
      "./C_normalized/testing\\trans_Prélude_in_B_Minor.musicxml\n",
      "./C_normalized/testing\\trans_Sonate_No._31.musicxml\n",
      "./C_normalized/testing\\trans_Étude_in_Gb_Major_Op25.musicxml\n",
      "Total number of pieces 5\n"
     ]
    }
   ],
   "source": [
    "env = SegmentationEnv(testing_pieces)"
   ]
  },
  {
   "cell_type": "code",
   "execution_count": 19,
   "id": "5bd1bb65",
   "metadata": {},
   "outputs": [
    {
     "data": {
      "text/plain": [
       "(5, 5)"
      ]
     },
     "execution_count": 19,
     "metadata": {},
     "output_type": "execute_result"
    }
   ],
   "source": [
    "len(env.notes),len(testing_pieces)"
   ]
  },
  {
   "cell_type": "code",
   "execution_count": 35,
   "id": "011c2926",
   "metadata": {},
   "outputs": [],
   "source": [
    "def Visualization(piece,offset): #offset assume sorted.\n",
    "    def cal_offset(e):\n",
    "        if e is None:\n",
    "            return 0\n",
    "        return e.offset + cal_offset(e.activeSite)\n",
    "    c = converter.parse(piece)\n",
    "    all_notes = []\n",
    "    for el in c.recurse().notes:\n",
    "        if el.lyric is not None:\n",
    "            el.lyric = el.lyric.replace(\"♭\", \"b\")\n",
    "        all_notes.append([el.lyric, el, cal_offset(el)])\n",
    "    b = sorted(all_notes, key=lambda x: x[0] if x[0] is not None else \"ZZZ\")\n",
    "    b = sorted(b, key=lambda x: x[-1])\n",
    "    for e in b:\n",
    "        if len(offset) >0 and float(round(e[2],1)) >= offset[0]:\n",
    "            del offset[0]\n",
    "            e[1].addLyric(\"CUT\")\n",
    "    GEX = musicxml.m21ToXml.GeneralObjectExporter(c)\n",
    "    out = GEX.parse()\n",
    "    piecename = piece.split(\"\\\\\")[-1]\n",
    "    piecename = piecename.split(\".\")[0]\n",
    "    piecename = \"Vis_\"+piecename + \".musicxml\"\n",
    "    print(piece,piecename)\n",
    "    with open(piecename, \"wb\") as f:\n",
    "        f.write(out)"
   ]
  },
  {
   "cell_type": "code",
   "execution_count": 37,
   "id": "3024902c",
   "metadata": {},
   "outputs": [
    {
     "name": "stdout",
     "output_type": "stream",
     "text": [
      "Piece ./C_normalized/testing\\trans_Il_Vecchio_Castello.musicxml, total reward = 61/205, correct segment = 77\n"
     ]
    },
    {
     "ename": "NameError",
     "evalue": "name 'offset' is not defined",
     "output_type": "error",
     "traceback": [
      "\u001b[1;31m---------------------------------------------------------------------------\u001b[0m",
      "\u001b[1;31mNameError\u001b[0m                                 Traceback (most recent call last)",
      "\u001b[1;32m<ipython-input-37-310e2b5f73df>\u001b[0m in \u001b[0;36m<module>\u001b[1;34m\u001b[0m\n\u001b[0;32m     18\u001b[0m             \u001b[1;32mbreak\u001b[0m\u001b[1;33m\u001b[0m\u001b[1;33m\u001b[0m\u001b[0m\n\u001b[0;32m     19\u001b[0m     \u001b[0mprint\u001b[0m\u001b[1;33m(\u001b[0m\u001b[1;34mf\"Piece {testing_pieces[i]}, total reward = {total_reward}/{max_reward}, correct segment = {num_correct_segment}\"\u001b[0m\u001b[1;33m)\u001b[0m\u001b[1;33m\u001b[0m\u001b[1;33m\u001b[0m\u001b[0m\n\u001b[1;32m---> 20\u001b[1;33m     \u001b[0mprint\u001b[0m\u001b[1;33m(\u001b[0m\u001b[0moffset\u001b[0m\u001b[1;33m)\u001b[0m\u001b[1;33m\u001b[0m\u001b[1;33m\u001b[0m\u001b[0m\n\u001b[0m\u001b[0;32m     21\u001b[0m     \u001b[0moffsets\u001b[0m \u001b[1;33m=\u001b[0m \u001b[1;33m[\u001b[0m\u001b[0mfloat\u001b[0m\u001b[1;33m(\u001b[0m\u001b[0mround\u001b[0m\u001b[1;33m(\u001b[0m\u001b[0moffset\u001b[0m\u001b[1;33m,\u001b[0m\u001b[1;36m1\u001b[0m\u001b[1;33m)\u001b[0m\u001b[1;33m)\u001b[0m \u001b[1;32mfor\u001b[0m \u001b[0moffset\u001b[0m \u001b[1;32min\u001b[0m \u001b[0moffsets\u001b[0m\u001b[1;33m]\u001b[0m\u001b[1;33m\u001b[0m\u001b[1;33m\u001b[0m\u001b[0m\n\u001b[0;32m     22\u001b[0m     \u001b[0mprint\u001b[0m\u001b[1;33m(\u001b[0m\u001b[0moffsets\u001b[0m\u001b[1;33m)\u001b[0m\u001b[1;33m\u001b[0m\u001b[1;33m\u001b[0m\u001b[0m\n",
      "\u001b[1;31mNameError\u001b[0m: name 'offset' is not defined"
     ]
    }
   ],
   "source": [
    "for i in range(len(env.notes)):\n",
    "    offsets = []\n",
    "    obs = env.reset(i)\n",
    "    total_reward = 0\n",
    "    max_reward = 0\n",
    "    num_correct_segment = 0\n",
    "    while True:\n",
    "        obs = obs.reshape((1, 12*2+1))\n",
    "        action = np.argmax(model.predict(obs))\n",
    "        offsets.append(env.current_noteoffset)\n",
    "        obs, reward, done, info = env.step(action)\n",
    "        #env.render()\n",
    "        total_reward += reward\n",
    "        max_reward += 1\n",
    "        if reward ==1 and action == 1:\n",
    "            num_correct_segment += 1\n",
    "        if done:\n",
    "            break\n",
    "    print(f\"Piece {testing_pieces[i]}, total reward = {total_reward}/{max_reward}, correct segment = {num_correct_segment}\")\n",
    "    print(offset)\n",
    "    offsets = [float(round(offset,1)) for offset in offsets]\n",
    "    print(offsets)\n",
    "#     Visualization(env.piecelist[i],offsets)"
   ]
  }
 ],
 "metadata": {
  "kernelspec": {
   "display_name": "Python 3",
   "language": "python",
   "name": "python3"
  },
  "language_info": {
   "codemirror_mode": {
    "name": "ipython",
    "version": 3
   },
   "file_extension": ".py",
   "mimetype": "text/x-python",
   "name": "python",
   "nbconvert_exporter": "python",
   "pygments_lexer": "ipython3",
   "version": "3.6.13"
  }
 },
 "nbformat": 4,
 "nbformat_minor": 5
}
