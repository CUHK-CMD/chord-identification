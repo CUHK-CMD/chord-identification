{
 "cells": [
  {
   "cell_type": "code",
   "execution_count": 1,
   "id": "b86d9cfc",
   "metadata": {
    "tags": []
   },
   "outputs": [],
   "source": [
    "import numpy as np\n",
    "import random\n",
    "import itertools\n",
    "import math\n",
    "import tqdm\n",
    "from tqdm import trange\n",
    "import time"
   ]
  },
  {
   "cell_type": "markdown",
   "id": "77e5695e-239c-4b63-a3ad-8158855a82d0",
   "metadata": {},
   "source": [
    "# Helper Function"
   ]
  },
  {
   "cell_type": "code",
   "execution_count": 2,
   "id": "c69cb180",
   "metadata": {
    "tags": []
   },
   "outputs": [],
   "source": [
    "key_mapping={\n",
    "    'C':0,\n",
    "    'D':2,\n",
    "    'E':4,\n",
    "    'F':5,\n",
    "    'G':7,\n",
    "    'A':9,\n",
    "    'B':11\n",
    "}\n",
    "def key2num(key):  \n",
    "  key=key.upper()\n",
    "  num=key_mapping[key[0]]\n",
    "  modifier=len(key)\n",
    "  if modifier==1:\n",
    "    return num\n",
    "  elif key[1]=='#':\n",
    "    return (num+(modifier-1))%12\n",
    "  elif key[1]=='B' or key[1]=='-':\n",
    "    return (num-(modifier-1))%12\n",
    "  elif key[1]=='X':\n",
    "    return (num+(modifier-1)*2)%12\n",
    "\n",
    "# key_list to number_list\n",
    "def keys2num(keys):\n",
    "    return [key2num(key) for key in keys]"
   ]
  },
  {
   "cell_type": "code",
   "execution_count": 3,
   "id": "6388e69d",
   "metadata": {
    "tags": []
   },
   "outputs": [],
   "source": [
    "# function to distingish whether notes in given timestamp and chord are within or outside the chord (0=outside,1=within)\n",
    "import json\n",
    "with open('../modules/json_files/keychorddict.json') as json_file:\n",
    "    chord_notes = json.load(json_file)\n",
    "  \n",
    "    def note_2_class(chord,notes_at_t,chord_notes=chord_notes):\n",
    "        note_in_chord=chord_notes[chord]['idx']\n",
    "        return [int(note in note_in_chord) for note in notes_at_t]"
   ]
  },
  {
   "cell_type": "markdown",
   "id": "7591c0cc-1db0-42eb-8823-4b324eae7b7b",
   "metadata": {},
   "source": [
    "# HMM"
   ]
  },
  {
   "cell_type": "code",
   "execution_count": 4,
   "id": "98269d3d",
   "metadata": {
    "tags": []
   },
   "outputs": [],
   "source": [
    "### I threat the total length of time as the length of the observered list\n",
    "\n",
    "class HMM:\n",
    "    def __init__(self,no_of_state,no_of_value,states,values):\n",
    "        #randomize all matrix, each row should sum to 1\n",
    "        #self.emssion_matrix=np.array([ran/ran.sum() for ran in np.array([np.random.rand(no_of_value) for i in range(no_of_state)])]) #b[i][O]  --> probability to emit values[O] from states[i]\n",
    "        \n",
    "\n",
    "        #Modification: 2 parameter for all chord  [note inside chord & note outside chord]\n",
    "        self.emssion_matrix=np.random.rand(no_of_value)\n",
    "        self.emssion_matrix=self.emssion_matrix/self.emssion_matrix.sum()\n",
    "        if self.emssion_matrix[0]>self.emssion_matrix[1]:\n",
    "            temp=self.emssion_matrix[0]\n",
    "            self.emssion_matrix[0]=self.emssion_matrix[1]\n",
    "            self.emssion_matrix[1]=temp\n",
    "        self.emssion_matrix=np.array([self.emssion_matrix,]*len(states)) \n",
    "        self.emssion_matrix=np.array([[0.2,0.8],]*len(states)) \n",
    "        # assume same probability to emit \"note within chord\"  for all chords\n",
    "        \n",
    "        self.initial_matrix= np.random.rand(no_of_state) #π[i] --> probability to start at states[i]\n",
    "        self.initial_matrix/= self.initial_matrix.sum()\n",
    "        \n",
    "        self.transition_matrix=np.array([ran/ran.sum() for ran in np.array([np.random.rand(no_of_state) for i in range(no_of_state)])])  #a[i][j] --> probability from states[i] transit to states[j]\n",
    "        \n",
    "        self.no_of_state=no_of_state\n",
    "        self.states=states\n",
    "        self.values=values\n",
    "        self.observered=None\n",
    "        \n",
    "        self.probit_at_i_table=None\n",
    "        self.probit_transit_i_j_table=None\n",
    "        self.forward_table=None\n",
    "        self.backward_table=None\n",
    "        \n",
    "        #self.prev_initial_matrix=self.initial_matrix\n",
    "        #self.prev_emssion_matrix=self.emssion_matrix\n",
    "        #self.prev_transition_matrix=self.transition_matrix\n",
    "    def update_state_name(self,name):\n",
    "        self.states=name\n",
    "        \n",
    "    def debug(self):\n",
    "        print('initial_matrix\\n',self.initial_matrix)\n",
    "        print('transition_matrix\\n',self.transition_matrix)\n",
    "        print('emission_matrix\\n',self.emssion_matrix)\n",
    "        \n",
    "    def likelihood(self,state,ob_t):\n",
    "        \n",
    "        #Modification: convert observation[t] from notes to 2_classes\n",
    "        chord=self.states[state]  #numeric to chord name\n",
    "        ob_t=note_2_class(chord,ob_t) #2 class\n",
    "        \n",
    "        prob=1\n",
    "        for x in ob_t:\n",
    "            prob*=(self.emssion_matrix[state][x])\n",
    "        return prob\n",
    " \n",
    "    def forward(self,t,j,ob=None,mode=False):\n",
    "        if ob is None:\n",
    "            ob=self.observered\n",
    "        if np.isnan(self.forward_table[t][j]).any():\n",
    "            if t==0:\n",
    "                if mode==True:\n",
    "                    self.forward_table[t][j]=[self.initial_matrix[j]*self.likelihood(j,ob[t]),0]\n",
    "                    return self.forward_table[t][j][0],self.forward_table[t][j][1]\n",
    "                else:\n",
    "                    self.forward_table[t][j]=self.initial_matrix[j]*self.likelihood(j,ob[t])\n",
    "                    return self.forward_table[t][j]\n",
    "            else:          \n",
    "                if mode==True:\n",
    "                    result=np.array([self.forward(t-1,i,ob,mode)[0]*self.transition_matrix[i][j] for i in range(self.no_of_state)]) * self.likelihood(j,ob[t])\n",
    "                    self.forward_table[t][j]=[np.max(result),np.argmax(result)]\n",
    "                    return self.forward_table[t][j][0],self.forward_table[t][j][1]\n",
    "                else:\n",
    "                    self.forward_table[t][j]=sum([self.forward(t-1,i,ob,mode)*self.transition_matrix[i][j] for i in range(self.no_of_state)]) * self.likelihood(j,ob[t])\n",
    "                    return self.forward_table[t][j]\n",
    "        else:\n",
    "            return self.forward_table[t][j]\n",
    "\n",
    "    def backward(self,t,i,ob=None,mode=False):\n",
    "        if ob is None:\n",
    "            ob=self.observered\n",
    "        if np.isnan(self.backward_table[t][i]) or mode==True:\n",
    "            if t==len(ob)-1:\n",
    "                self.backward_table[t][i]=1\n",
    "                return self.backward_table[t][i]\n",
    "            else:\n",
    "                if mode==True:\n",
    "                    self.backward_table[t][i]=max([self.transition_matrix[i][j]*self.likelihood(j,ob[t+1])*self.backward(t+1,j,ob,mode) for j in range(self.no_of_state)])\n",
    "                    return self.backward_table[t][i]\n",
    "                else:\n",
    "                    self.backward_table[t][i]=sum([self.transition_matrix[i][j]*self.likelihood(j,ob[t+1])*self.backward(t+1,j,ob,mode) for j in range(self.no_of_state)])\n",
    "                    return self.backward_table[t][i]\n",
    "        else:\n",
    "            return self.backward_table[t][i]\n",
    "            \n",
    "           \n",
    "    def probit_at_i(self,t,i,ob=None):#Gamma γt(i) = P(qt = i|O,λ)      \n",
    "        if ob is None:\n",
    "            ob=self.observered\n",
    "        if np.isnan(self.probit_at_i_table[t][i]):\n",
    "            numerator=self.forward(t,i,ob)*self.backward(t,i,ob)#sum probability of all path passing through state[i] at time t\n",
    "            denominator=sum([self.forward(t,j,ob)*self.backward(t,j,ob) for j in range(self.no_of_state)]) #prob of passing through  ALL_state at time t\n",
    "            self.probit_at_i_table[t][i]=numerator/denominator\n",
    "            return self.probit_at_i_table[t][i]\n",
    "        else:\n",
    "            return self.probit_at_i_table[t][i]\n",
    "    \n",
    "    def probit_transit_i_j(self,t,i,j,ob=None):#epsilon ξt(i, j) = P(qt = i,qt+1 = j|O,λ)\n",
    "        if ob is None:\n",
    "            ob=self.observered\n",
    "        if np.isnan(self.probit_transit_i_j_table[t][i][j]):\n",
    "            numerator=self.forward(t,i,ob)*self.transition_matrix[i][j]*self.likelihood(j,ob[t+1])*self.backward(t+1,j,ob)#sum probability of all path transit from state[i] to state[j] at time t\n",
    "            denominator=sum([sum([self.forward(t,m,ob)*self.transition_matrix[m][n]*self.likelihood(n,ob[t+1])*self.backward(t+1,n,ob) for n in range(self.no_of_state)]) for m in range(self.no_of_state)]) #prob of ALL transition combination at time t\n",
    "            self.probit_transit_i_j_table[t][i][j]=(numerator/denominator)\n",
    "            return self.probit_transit_i_j_table[t][i][j]\n",
    "        else:\n",
    "            return self.probit_transit_i_j_table[t][i][j]\n",
    "        \n",
    "    #modify from https://stackoverflow.com/questions/9729968/python-implementation-of-viterbi-algorithm/9730083 , author RBF06(https://stackoverflow.com/users/3311728/rbf06)\n",
    "    def predict(self,ob,test_key_name):  \n",
    "        self.update_state_name([test_key_name.lower()[:-1]+states for states in h_states])\n",
    "        self.forward_table=np.empty((len(ob),self.no_of_state,2))\n",
    "        self.forward_table[:]= np.NaN\n",
    "\n",
    "        T1=np.empty((self.no_of_state,len(ob)),'d')\n",
    "        T2=np.empty((self.no_of_state,len(ob)),'B')\n",
    "        for idx in range(self.no_of_state):\n",
    "            T1[idx,0]=self.forward(0,idx,ob,True)[0]\n",
    "        T2[:,0]=0\n",
    "        \n",
    "        for i in range(1,len(ob)):\n",
    "            for idx in range(self.no_of_state):\n",
    "                T1[idx,i],T2[idx,i]=self.forward(i,idx,ob,True)\n",
    "        x = np.empty(len(ob), 'B')\n",
    "        x[-1] = np.argmax(T1[:, len(ob) - 1])\n",
    "        for i in reversed(range(1, len(ob))):\n",
    "            x[i - 1] = T2[x[i], i]\n",
    "        return x\n",
    "    \n",
    "    def train_supervisied(self,obs,labels,key_name): # by MLE\n",
    "        initial_matrix= np.zeros(self.no_of_state)\n",
    "        emssion_matrix=np.zeros((2)) \n",
    "        transition_matrix=np.array([np.zeros(self.no_of_state) for i in range(self.no_of_state)])\n",
    "        \n",
    "        for idx_1,label in enumerate(labels):\n",
    "            self.update_state_name([key_name[idx_1].lower()[:-1]+states for states in h_states])\n",
    "            for idx_2,lab in enumerate(label):\n",
    "                if idx_2==0:\n",
    "                    initial_matrix[self.states.index(label[idx_2])]+=1\n",
    "                else:\n",
    "                    transition_matrix[self.states.index(label[idx_2-1])][self.states.index(label[idx_2])]+=1\n",
    "                    ob_t=note_2_class(lab,obs[idx_1][idx_2]) #2 class\n",
    "                    for x in ob_t:\n",
    "                        emssion_matrix[x]+=1\n",
    "                        \n",
    "        #save back to model\n",
    "        self.initial_matrix=np.array([item/initial_matrix.sum() if item >0 else 0.0000000000001 for item in initial_matrix])\n",
    "        self.transition_matrix=np.array([row/row.sum() if row.sum()>0 else row+0.0000000000001 for row in transition_matrix])\n",
    "        for row in range(self.transition_matrix.shape[0]):\n",
    "            for col in range(self.transition_matrix.shape[1]):\n",
    "                if self.transition_matrix[row][col]==0:\n",
    "                    self.transition_matrix[row][col]=0.0000000000001\n",
    "        self.emssion_matrix=np.array([emssion_matrix/emssion_matrix.sum()] *self.no_of_state) \n",
    "\n",
    "        \n",
    "        \n",
    "    def train(self,obs,key_name,epochs=2):\n",
    "        #O:observed values\n",
    "        #λ:model parameters\n",
    "\n",
    "        \n",
    "        for epoch in range(epochs):\n",
    "            for ob_idx,ob in enumerate(obs):\n",
    "                self.update_state_name([key_name[ob_idx].lower()[:-1]+states for states in h_states])\n",
    "                print('running',ob_idx,key_name[ob_idx].lower()[:-1])\n",
    "                self.probit_at_i_table=np.empty((len(ob),self.no_of_state))\n",
    "                self.probit_transit_i_j_table=np.empty((len(ob),self.no_of_state,self.no_of_state))\n",
    "                self.forward_table=np.empty((len(ob),self.no_of_state))\n",
    "                self.backward_table=np.empty((len(ob),self.no_of_state))\n",
    "                self.probit_at_i_table[:]= np.NaN\n",
    "                self.probit_transit_i_j_table[:]=np.NaN\n",
    "                self.forward_table[:]= np.NaN\n",
    "                self.backward_table[:]=np.NaN\n",
    "                \n",
    "                #initalize DP table\n",
    "                for t, i in itertools.product(range(len(ob)),range(self.no_of_state)):\n",
    "                    self.forward(t,i,ob)\n",
    "                    self.backward(t,i,ob)\n",
    "                    self.probit_at_i(t,i,ob)\n",
    "                    for j in range(self.no_of_state):\n",
    "                        if t!=len(ob)-1:\n",
    "                            self.probit_transit_i_j(t,i,j,ob)\n",
    "                \n",
    "                \n",
    "                \n",
    "                #initial matrix\n",
    "                for i in range(self.no_of_state):\n",
    "                    self.initial_matrix[i]=self.probit_at_i(0,i,ob)\n",
    "                    if self.initial_matrix[i]==0 or np.isnan(self.initial_matrix[i]):\n",
    "                        self.initial_matrix[i]=0.0000000000001\n",
    "                #transition matrix\n",
    "                for i, j in itertools.product(range(self.no_of_state),range(self.no_of_state)):\n",
    "                    self.transition_matrix[i][j]=sum([self.probit_transit_i_j(t,i,j,ob) for t in range(len(ob)-1)])/sum([self.probit_at_i(t,i,ob) for t in range(len(ob)-1)])\n",
    "                    if self.transition_matrix[i][j]==0 or np.isnan(self.transition_matrix[i][j]):\n",
    "                        self.transition_matrix[i][j]=0.0000000000001\n",
    "                #emission matrix\n",
    "                for j, k in itertools.product(range(self.no_of_state),range(len(self.values))):   \n",
    "                    total=0\n",
    "                    \n",
    "                    #Modification: convert notes to 2 classes (outside or inside given chord)\n",
    "                    chord=self.states[j]  #numeric to chord name\n",
    "                    ob_2_class=[note_2_class(chord,ob_t) for ob_t in ob] #2 class\n",
    "\n",
    "                    for t in range(len(ob)):\n",
    "                        if k in ob_2_class[t]:\n",
    "                            #Modification: multiple by how many times do k appear at timestamp t\n",
    "                            total+=self.probit_at_i(t,j,ob)*ob_2_class[t].count(k)  \n",
    "                            \n",
    "                    #Modification: multiple by len(ob[t]), which is the total length of notes at timestamp t                    \n",
    "                    self.emssion_matrix[:,k]=total/sum([self.probit_at_i(t,j,ob)*len(ob[t]) for t in range(len(ob))])  \n",
    "                    \n",
    "                    #smoothing\n",
    "                    \n",
    "                    if self.emssion_matrix[j][k]==0 or np.isnan(self.emssion_matrix[j][k]):\n",
    "                        self.emssion_matrix[:,k]=0.0000000000001"
   ]
  },
  {
   "cell_type": "markdown",
   "id": "9f54ec85-8762-4908-b923-3d7e156aff2f",
   "metadata": {},
   "source": [
    "# Training"
   ]
  },
  {
   "cell_type": "code",
   "execution_count": 5,
   "id": "a485daf6",
   "metadata": {},
   "outputs": [],
   "source": [
    "import json\n",
    "with open('../data/training_data.json') as json_file:\n",
    "    data = json.load(json_file)"
   ]
  },
  {
   "cell_type": "code",
   "execution_count": 6,
   "id": "8132eed1",
   "metadata": {},
   "outputs": [],
   "source": [
    "h_states=['MinorI', 'MinorI+',\n",
    "          'MinorbII', 'MinorII', 'MinorII7',\n",
    "          'MinorIII',\n",
    "          'MinorIV', 'MinorIV+',\n",
    "          'MinorV', 'MinorV+', 'MinorV+7',\n",
    "          'MinorVI', 'MinorGerVI', 'MinorFreVI', 'MinorItaVI',\n",
    "          'MinorVII', 'MinorDimVII', 'MinorDimVII7',\n",
    "]#all possible chordm will add the key to the chord afterward e.g. cMinorI"
   ]
  },
  {
   "cell_type": "code",
   "execution_count": 7,
   "id": "e30a9359-f979-4638-a27f-bdc5ac0de634",
   "metadata": {
    "tags": []
   },
   "outputs": [
    {
     "data": {
      "text/plain": [
       "dict_keys(['chord_seq', 'note_seq'])"
      ]
     },
     "execution_count": 7,
     "metadata": {},
     "output_type": "execute_result"
    }
   ],
   "source": [
    "data['Etude_in_C_Minor.mxl'].keys()"
   ]
  },
  {
   "cell_type": "code",
   "execution_count": 8,
   "id": "8eff867f",
   "metadata": {},
   "outputs": [],
   "source": [
    "#prepare train data\n",
    "score_name=['Etude_in_C_Minor',\n",
    "            'Menuet_in_G_Minor',\n",
    "            'Nocturne_in_C_Minor',\n",
    "            'Nocturne_in_E_Minor',\n",
    "            \n",
    "            'Prelude_in_B_Minor',\n",
    "\n",
    "            'Prelude_in_C_Minor',\n",
    "            'Nocturne_in_F_Minor',\n",
    "            'Il_Vecchio_Castello',\n",
    "            'Piano_Sonata_No._11',\n",
    "\n",
    "\n",
    "            'Etude_in_F_Minor',\n",
    "            'Moonlight_Sonata_1st_Movement',\n",
    "           ]\n",
    "score_key=['Cm','Gm','C#m','Em','Bm','Cm','Fm','G#m','Am','Fm','C#m']\n",
    "\n",
    "\n",
    "x_train=[]\n",
    "y_train=[]\n",
    "for idx_root,name in enumerate(score_name):\n",
    "    select_idx=[]\n",
    "    #only extract chord in the same key with the score\n",
    "    for idx,chord in enumerate(data[name+'.mxl']['chord_seq']):\n",
    "        if chord.startswith(score_key[idx_root]):\n",
    "            select_idx.append(idx)\n",
    "    training=[]\n",
    "    training_label=[]\n",
    "    for idx in select_idx:\n",
    "        training.append(data[name+'.mxl']['note_seq'][idx])\n",
    "        tail=data[name+'.mxl']['chord_seq'][idx].split('_')[1]\n",
    "        if tail.startswith('German'):\n",
    "            tail='Ger'+str(tail[6:])\n",
    "        elif tail=='Dim7':\n",
    "            tail='DimVII'\n",
    "        training_label.append(score_key[idx_root][:-1].lower()+'Minor'+tail)\n",
    "    training=[keys2num(segment)for segment in training]\n",
    "    \n",
    "    x_train.append(training)\n",
    "    y_train.append(training_label)"
   ]
  },
  {
   "cell_type": "code",
   "execution_count": 9,
   "id": "e178042f",
   "metadata": {},
   "outputs": [],
   "source": [
    "test=HMM(len(h_states),2,h_states,[\"outside chord\",\"inside chord\"])"
   ]
  },
  {
   "cell_type": "code",
   "execution_count": 10,
   "id": "22e847c2-1411-46e4-9ca1-92d313707ed4",
   "metadata": {},
   "outputs": [],
   "source": [
    "test.train_supervisied(x_train,y_train,score_key)#initialize parameter"
   ]
  },
  {
   "cell_type": "raw",
   "id": "647381cc-77c4-4b59-8063-66051cf125d5",
   "metadata": {
    "tags": []
   },
   "source": [
    "import time\n",
    "start=time.time()\n",
    "test.train(all_training,score_key,1)\n",
    "print('timetaken',time.time()-start)"
   ]
  },
  {
   "cell_type": "markdown",
   "id": "9bdea6f2-7dd5-4335-a832-01321dcd7fd6",
   "metadata": {},
   "source": [
    "# Evaluation"
   ]
  },
  {
   "cell_type": "code",
   "execution_count": 11,
   "id": "f803e2df",
   "metadata": {
    "tags": []
   },
   "outputs": [],
   "source": [
    "#prepare test data\n",
    "test_score=['Nocturne_No._20_in_C_Minor',\n",
    "    \n",
    "]\n",
    "test_key=['C#m']\n",
    "\n",
    "\n",
    "#prepare the test data for a specific score (select by index)\n",
    "score_test_choice=0\n",
    "\n",
    "\n",
    "#only extract those chords that are in te same key with the score\n",
    "test_sample=[]\n",
    "select_idx=[]\n",
    "testing_label=[]\n",
    "name=test_score[score_test_choice]\n",
    "for idx,chord in enumerate(data[name+'.mxl']['chord_seq']):\n",
    "    if chord.startswith(test_key[score_test_choice]):\n",
    "        select_idx.append(idx)\n",
    "training=[]\n",
    "training_label=[]\n",
    "for idx in select_idx:\n",
    "    training.append(data[name+'.mxl']['note_seq'][idx])\n",
    "    training_label.append(data[name+'.mxl']['chord_seq'][idx])\n",
    "    \n",
    "test_note=training\n",
    "training=[keys2num(segment)for segment in training]\n",
    "test_sample=training\n",
    "testing_label=training_label\n",
    "\n",
    "\n",
    "\n",
    "test_score_key=test_key[score_test_choice]\n",
    "test_states=[test_score_key.lower()[:-1]+states for states in h_states]\n",
    "\n"
   ]
  },
  {
   "cell_type": "code",
   "execution_count": 12,
   "id": "13eea27c",
   "metadata": {
    "tags": []
   },
   "outputs": [
    {
     "name": "stdout",
     "output_type": "stream",
     "text": [
      "acc 0.4603174603174603 29 34\n"
     ]
    }
   ],
   "source": [
    "\n",
    "prediction=test.predict(test_sample,test_score_key)\n",
    "\n",
    "#rephase prediction to share same format with testinng_label\n",
    "prediction=[test_states[idx].split('Minor')[1] for idx in prediction]\n",
    "testing_label=[label.split('_')[1] for label in testing_label]\n",
    "for idx,lab in enumerate(testing_label):\n",
    "    if lab.startswith('German'):\n",
    "        testing_label[idx]='Ger'+str(lab[6:])\n",
    "\n",
    "\n",
    "\n",
    "#evaluation\n",
    "correct=0\n",
    "wrong=0\n",
    "for idx,label in enumerate(prediction):\n",
    "    if label==testing_label[idx]:\n",
    "        correct+=1\n",
    "    else:\n",
    "        wrong+=1\n",
    "print('acc',correct/(correct+wrong),correct,wrong)"
   ]
  },
  {
   "cell_type": "code",
   "execution_count": 16,
   "id": "0926eb13-ac18-45d4-93bb-7a7c83ae5d71",
   "metadata": {},
   "outputs": [
    {
     "data": {
      "text/plain": [
       "(['B#', 'F#', 'C#', 'D#', 'A', 'B', 'C'], 'C#Minor')"
      ]
     },
     "execution_count": 16,
     "metadata": {},
     "output_type": "execute_result"
    }
   ],
   "source": [
    "list(notes.keys()),test_score_key[:-1]+'Minor'"
   ]
  },
  {
   "cell_type": "code",
   "execution_count": 22,
   "id": "69f93878-e573-4d2a-92bd-6c5e066edbcd",
   "metadata": {},
   "outputs": [
    {
     "ename": "KeyError",
     "evalue": "'(0, 0)'",
     "output_type": "error",
     "traceback": [
      "\u001b[1;31m---------------------------------------------------------------------------\u001b[0m",
      "\u001b[1;31mKeyError\u001b[0m                                  Traceback (most recent call last)",
      "\u001b[1;32m<ipython-input-22-7e10edf48da6>\u001b[0m in \u001b[0;36m<module>\u001b[1;34m\u001b[0m\n\u001b[1;32m----> 1\u001b[1;33m \u001b[0mnoteToChord\u001b[0m\u001b[1;33m.\u001b[0m\u001b[0mNoteToChord\u001b[0m\u001b[1;33m(\u001b[0m\u001b[1;33m[\u001b[0m\u001b[1;34m'c'\u001b[0m\u001b[1;33m,\u001b[0m\u001b[1;34m'b'\u001b[0m\u001b[1;33m,\u001b[0m\u001b[1;34m'D#'\u001b[0m\u001b[1;33m,\u001b[0m \u001b[1;34m'A'\u001b[0m\u001b[1;33m,\u001b[0m\u001b[1;34m'c#'\u001b[0m\u001b[1;33m,\u001b[0m\u001b[1;34m'f#'\u001b[0m\u001b[1;33m,\u001b[0m\u001b[1;34m'b#'\u001b[0m\u001b[1;33m]\u001b[0m\u001b[1;33m,\u001b[0m\u001b[0mtest_score_key\u001b[0m\u001b[1;33m[\u001b[0m\u001b[1;33m:\u001b[0m\u001b[1;33m-\u001b[0m\u001b[1;36m1\u001b[0m\u001b[1;33m]\u001b[0m\u001b[1;33m+\u001b[0m\u001b[1;34m'Minor'\u001b[0m\u001b[1;33m,\u001b[0m\u001b[1;36m1\u001b[0m\u001b[1;33m,\u001b[0m\u001b[1;36m0\u001b[0m\u001b[1;33m)\u001b[0m\u001b[1;33m\u001b[0m\u001b[1;33m\u001b[0m\u001b[0m\n\u001b[0m",
      "\u001b[1;32m~\\OneDrive - The Chinese University of Hong Kong\\fyp\\fyp-chord-identification\\modules\\noteToChord.py\u001b[0m in \u001b[0;36mNoteToChord\u001b[1;34m(keys_name, key, numOut, threshold)\u001b[0m\n\u001b[0;32m    124\u001b[0m     \u001b[1;32mfor\u001b[0m \u001b[0mi\u001b[0m \u001b[1;32min\u001b[0m \u001b[0mrange\u001b[0m\u001b[1;33m(\u001b[0m\u001b[0mthreshold\u001b[0m\u001b[1;33m,\u001b[0m \u001b[1;36m5\u001b[0m\u001b[1;33m)\u001b[0m\u001b[1;33m:\u001b[0m\u001b[1;33m\u001b[0m\u001b[1;33m\u001b[0m\u001b[0m\n\u001b[0;32m    125\u001b[0m         \u001b[1;32mfor\u001b[0m \u001b[0meach\u001b[0m \u001b[1;32min\u001b[0m \u001b[0mitertools\u001b[0m\u001b[1;33m.\u001b[0m\u001b[0mcombinations\u001b[0m\u001b[1;33m(\u001b[0m\u001b[0msorted_keys\u001b[0m\u001b[1;33m,\u001b[0m \u001b[0mi\u001b[0m\u001b[1;33m)\u001b[0m\u001b[1;33m:\u001b[0m\u001b[1;33m\u001b[0m\u001b[1;33m\u001b[0m\u001b[0m\n\u001b[1;32m--> 126\u001b[1;33m             \u001b[0mpossible_chords\u001b[0m\u001b[1;33m.\u001b[0m\u001b[0mupdate\u001b[0m\u001b[1;33m(\u001b[0m\u001b[0mkey_chord_name_mapping\u001b[0m\u001b[1;33m[\u001b[0m\u001b[0mstr\u001b[0m\u001b[1;33m(\u001b[0m\u001b[0meach\u001b[0m\u001b[1;33m)\u001b[0m\u001b[1;33m]\u001b[0m\u001b[1;33m)\u001b[0m\u001b[1;33m\u001b[0m\u001b[1;33m\u001b[0m\u001b[0m\n\u001b[0m\u001b[0;32m    127\u001b[0m     \u001b[0mchords\u001b[0m \u001b[1;33m=\u001b[0m \u001b[0mlist\u001b[0m\u001b[1;33m(\u001b[0m\u001b[0mpossible_chords\u001b[0m\u001b[1;33m)\u001b[0m\u001b[1;33m\u001b[0m\u001b[1;33m\u001b[0m\u001b[0m\n\u001b[0;32m    128\u001b[0m     \u001b[1;32mif\u001b[0m \u001b[0mchords\u001b[0m \u001b[1;33m==\u001b[0m \u001b[1;33m[\u001b[0m\u001b[1;33m]\u001b[0m\u001b[1;33m:\u001b[0m\u001b[1;33m\u001b[0m\u001b[1;33m\u001b[0m\u001b[0m\n",
      "\u001b[1;31mKeyError\u001b[0m: '(0, 0)'"
     ]
    }
   ],
   "source": [
    "noteToChord.NoteToChord(['c','b','D#', 'A','c#','f#','b#'],test_score_key[:-1]+'Minor',1,0)"
   ]
  },
  {
   "cell_type": "code",
   "execution_count": 14,
   "id": "f06b40f6-12a3-4c09-b52f-777c600cfa06",
   "metadata": {},
   "outputs": [
    {
     "ename": "KeyError",
     "evalue": "'(0, 0)'",
     "output_type": "error",
     "traceback": [
      "\u001b[1;31m---------------------------------------------------------------------------\u001b[0m",
      "\u001b[1;31mKeyError\u001b[0m                                  Traceback (most recent call last)",
      "\u001b[1;32m<ipython-input-14-b63078120939>\u001b[0m in \u001b[0;36m<module>\u001b[1;34m\u001b[0m\n\u001b[1;32m----> 1\u001b[1;33m \u001b[0mnoteToChord\u001b[0m\u001b[1;33m.\u001b[0m\u001b[0mNoteToChord\u001b[0m\u001b[1;33m(\u001b[0m\u001b[0mlist\u001b[0m\u001b[1;33m(\u001b[0m\u001b[0mnotes\u001b[0m\u001b[1;33m.\u001b[0m\u001b[0mkeys\u001b[0m\u001b[1;33m(\u001b[0m\u001b[1;33m)\u001b[0m\u001b[1;33m)\u001b[0m\u001b[1;33m,\u001b[0m\u001b[0mtest_score_key\u001b[0m\u001b[1;33m[\u001b[0m\u001b[1;33m:\u001b[0m\u001b[1;33m-\u001b[0m\u001b[1;36m1\u001b[0m\u001b[1;33m]\u001b[0m\u001b[1;33m+\u001b[0m\u001b[1;34m'Minor'\u001b[0m\u001b[1;33m,\u001b[0m\u001b[1;36m1\u001b[0m\u001b[1;33m,\u001b[0m\u001b[1;36m0\u001b[0m\u001b[1;33m)\u001b[0m\u001b[1;33m\u001b[0m\u001b[1;33m\u001b[0m\u001b[0m\n\u001b[0m",
      "\u001b[1;32m~\\OneDrive - The Chinese University of Hong Kong\\fyp\\fyp-chord-identification\\modules\\noteToChord.py\u001b[0m in \u001b[0;36mNoteToChord\u001b[1;34m(keys_name, key, numOut, threshold)\u001b[0m\n\u001b[0;32m    124\u001b[0m     \u001b[1;32mfor\u001b[0m \u001b[0mi\u001b[0m \u001b[1;32min\u001b[0m \u001b[0mrange\u001b[0m\u001b[1;33m(\u001b[0m\u001b[0mthreshold\u001b[0m\u001b[1;33m,\u001b[0m \u001b[1;36m5\u001b[0m\u001b[1;33m)\u001b[0m\u001b[1;33m:\u001b[0m\u001b[1;33m\u001b[0m\u001b[1;33m\u001b[0m\u001b[0m\n\u001b[0;32m    125\u001b[0m         \u001b[1;32mfor\u001b[0m \u001b[0meach\u001b[0m \u001b[1;32min\u001b[0m \u001b[0mitertools\u001b[0m\u001b[1;33m.\u001b[0m\u001b[0mcombinations\u001b[0m\u001b[1;33m(\u001b[0m\u001b[0msorted_keys\u001b[0m\u001b[1;33m,\u001b[0m \u001b[0mi\u001b[0m\u001b[1;33m)\u001b[0m\u001b[1;33m:\u001b[0m\u001b[1;33m\u001b[0m\u001b[1;33m\u001b[0m\u001b[0m\n\u001b[1;32m--> 126\u001b[1;33m             \u001b[0mpossible_chords\u001b[0m\u001b[1;33m.\u001b[0m\u001b[0mupdate\u001b[0m\u001b[1;33m(\u001b[0m\u001b[0mkey_chord_name_mapping\u001b[0m\u001b[1;33m[\u001b[0m\u001b[0mstr\u001b[0m\u001b[1;33m(\u001b[0m\u001b[0meach\u001b[0m\u001b[1;33m)\u001b[0m\u001b[1;33m]\u001b[0m\u001b[1;33m)\u001b[0m\u001b[1;33m\u001b[0m\u001b[1;33m\u001b[0m\u001b[0m\n\u001b[0m\u001b[0;32m    127\u001b[0m     \u001b[0mchords\u001b[0m \u001b[1;33m=\u001b[0m \u001b[0mlist\u001b[0m\u001b[1;33m(\u001b[0m\u001b[0mpossible_chords\u001b[0m\u001b[1;33m)\u001b[0m\u001b[1;33m\u001b[0m\u001b[1;33m\u001b[0m\u001b[0m\n\u001b[0;32m    128\u001b[0m     \u001b[1;32mif\u001b[0m \u001b[0mchords\u001b[0m \u001b[1;33m==\u001b[0m \u001b[1;33m[\u001b[0m\u001b[1;33m]\u001b[0m\u001b[1;33m:\u001b[0m\u001b[1;33m\u001b[0m\u001b[1;33m\u001b[0m\u001b[0m\n",
      "\u001b[1;31mKeyError\u001b[0m: '(0, 0)'"
     ]
    }
   ],
   "source": [
    "noteToChord.NoteToChord(list(notes.keys()),test_score_key[:-1]+'Minor',1,0)"
   ]
  },
  {
   "cell_type": "code",
   "execution_count": 13,
   "id": "502ac86d-f48e-4889-86cb-c309852224a5",
   "metadata": {},
   "outputs": [
    {
     "ename": "KeyError",
     "evalue": "'(0, 0)'",
     "output_type": "error",
     "traceback": [
      "\u001b[1;31m---------------------------------------------------------------------------\u001b[0m",
      "\u001b[1;31mKeyError\u001b[0m                                  Traceback (most recent call last)",
      "\u001b[1;32m<ipython-input-13-e1dd64e0e780>\u001b[0m in \u001b[0;36m<module>\u001b[1;34m\u001b[0m\n\u001b[0;32m      4\u001b[0m \u001b[0mnote2chord_ans\u001b[0m\u001b[1;33m=\u001b[0m\u001b[1;33m[\u001b[0m\u001b[1;33m]\u001b[0m\u001b[1;33m\u001b[0m\u001b[1;33m\u001b[0m\u001b[0m\n\u001b[0;32m      5\u001b[0m \u001b[1;32mfor\u001b[0m \u001b[0mnotes\u001b[0m \u001b[1;32min\u001b[0m \u001b[0mtest_note\u001b[0m\u001b[1;33m:\u001b[0m\u001b[1;33m\u001b[0m\u001b[1;33m\u001b[0m\u001b[0m\n\u001b[1;32m----> 6\u001b[1;33m     \u001b[0mnote2chord_ans\u001b[0m\u001b[1;33m.\u001b[0m\u001b[0mappend\u001b[0m\u001b[1;33m(\u001b[0m\u001b[0mnoteToChord\u001b[0m\u001b[1;33m.\u001b[0m\u001b[0mNoteToChord\u001b[0m\u001b[1;33m(\u001b[0m\u001b[0mlist\u001b[0m\u001b[1;33m(\u001b[0m\u001b[0mnotes\u001b[0m\u001b[1;33m.\u001b[0m\u001b[0mkeys\u001b[0m\u001b[1;33m(\u001b[0m\u001b[1;33m)\u001b[0m\u001b[1;33m)\u001b[0m\u001b[1;33m,\u001b[0m\u001b[0mtest_score_key\u001b[0m\u001b[1;33m[\u001b[0m\u001b[1;33m:\u001b[0m\u001b[1;33m-\u001b[0m\u001b[1;36m1\u001b[0m\u001b[1;33m]\u001b[0m\u001b[1;33m+\u001b[0m\u001b[1;34m'Minor'\u001b[0m\u001b[1;33m,\u001b[0m\u001b[1;36m1\u001b[0m\u001b[1;33m,\u001b[0m\u001b[1;36m0\u001b[0m\u001b[1;33m)\u001b[0m\u001b[1;33m[\u001b[0m\u001b[1;36m0\u001b[0m\u001b[1;33m]\u001b[0m\u001b[1;33m[\u001b[0m\u001b[1;34m'Chord'\u001b[0m\u001b[1;33m]\u001b[0m\u001b[1;33m.\u001b[0m\u001b[0msplit\u001b[0m\u001b[1;33m(\u001b[0m\u001b[1;34m'Minor'\u001b[0m\u001b[1;33m)\u001b[0m\u001b[1;33m[\u001b[0m\u001b[1;36m1\u001b[0m\u001b[1;33m]\u001b[0m\u001b[1;33m)\u001b[0m\u001b[1;33m\u001b[0m\u001b[1;33m\u001b[0m\u001b[0m\n\u001b[0m\u001b[0;32m      7\u001b[0m \u001b[1;31m#evaluation\u001b[0m\u001b[1;33m\u001b[0m\u001b[1;33m\u001b[0m\u001b[1;33m\u001b[0m\u001b[0m\n\u001b[0;32m      8\u001b[0m \u001b[0mcorrect\u001b[0m\u001b[1;33m=\u001b[0m\u001b[1;36m0\u001b[0m\u001b[1;33m\u001b[0m\u001b[1;33m\u001b[0m\u001b[0m\n",
      "\u001b[1;32m~\\OneDrive - The Chinese University of Hong Kong\\fyp\\fyp-chord-identification\\modules\\noteToChord.py\u001b[0m in \u001b[0;36mNoteToChord\u001b[1;34m(keys_name, key, numOut, threshold)\u001b[0m\n\u001b[0;32m    124\u001b[0m     \u001b[1;32mfor\u001b[0m \u001b[0mi\u001b[0m \u001b[1;32min\u001b[0m \u001b[0mrange\u001b[0m\u001b[1;33m(\u001b[0m\u001b[0mthreshold\u001b[0m\u001b[1;33m,\u001b[0m \u001b[1;36m5\u001b[0m\u001b[1;33m)\u001b[0m\u001b[1;33m:\u001b[0m\u001b[1;33m\u001b[0m\u001b[1;33m\u001b[0m\u001b[0m\n\u001b[0;32m    125\u001b[0m         \u001b[1;32mfor\u001b[0m \u001b[0meach\u001b[0m \u001b[1;32min\u001b[0m \u001b[0mitertools\u001b[0m\u001b[1;33m.\u001b[0m\u001b[0mcombinations\u001b[0m\u001b[1;33m(\u001b[0m\u001b[0msorted_keys\u001b[0m\u001b[1;33m,\u001b[0m \u001b[0mi\u001b[0m\u001b[1;33m)\u001b[0m\u001b[1;33m:\u001b[0m\u001b[1;33m\u001b[0m\u001b[1;33m\u001b[0m\u001b[0m\n\u001b[1;32m--> 126\u001b[1;33m             \u001b[0mpossible_chords\u001b[0m\u001b[1;33m.\u001b[0m\u001b[0mupdate\u001b[0m\u001b[1;33m(\u001b[0m\u001b[0mkey_chord_name_mapping\u001b[0m\u001b[1;33m[\u001b[0m\u001b[0mstr\u001b[0m\u001b[1;33m(\u001b[0m\u001b[0meach\u001b[0m\u001b[1;33m)\u001b[0m\u001b[1;33m]\u001b[0m\u001b[1;33m)\u001b[0m\u001b[1;33m\u001b[0m\u001b[1;33m\u001b[0m\u001b[0m\n\u001b[0m\u001b[0;32m    127\u001b[0m     \u001b[0mchords\u001b[0m \u001b[1;33m=\u001b[0m \u001b[0mlist\u001b[0m\u001b[1;33m(\u001b[0m\u001b[0mpossible_chords\u001b[0m\u001b[1;33m)\u001b[0m\u001b[1;33m\u001b[0m\u001b[1;33m\u001b[0m\u001b[0m\n\u001b[0;32m    128\u001b[0m     \u001b[1;32mif\u001b[0m \u001b[0mchords\u001b[0m \u001b[1;33m==\u001b[0m \u001b[1;33m[\u001b[0m\u001b[1;33m]\u001b[0m\u001b[1;33m:\u001b[0m\u001b[1;33m\u001b[0m\u001b[1;33m\u001b[0m\u001b[0m\n",
      "\u001b[1;31mKeyError\u001b[0m: '(0, 0)'"
     ]
    }
   ],
   "source": [
    "import sys\n",
    "sys.path.append('../modules')\n",
    "import noteToChord\n",
    "note2chord_ans=[]\n",
    "for notes in test_note:\n",
    "    note2chord_ans.append(noteToChord.NoteToChord(list(notes.keys()),test_score_key[:-1]+'Minor',1,0)[0]['Chord'].split('Minor')[1])\n",
    "#evaluation\n",
    "correct=0\n",
    "wrong=0\n",
    "for idx,label in enumerate(note2chord_ans):\n",
    "    if label==testing_label[idx]:\n",
    "        correct+=1\n",
    "    else:\n",
    "        wrong+=1\n",
    "print('acc',correct/(correct+wrong),correct,wrong)   "
   ]
  },
  {
   "cell_type": "markdown",
   "id": "bc89e2f3-5b6d-494e-981b-e451002f9387",
   "metadata": {},
   "source": [
    "# Debug"
   ]
  },
  {
   "cell_type": "code",
   "execution_count": null,
   "id": "b401f465",
   "metadata": {
    "tags": []
   },
   "outputs": [],
   "source": [
    "test.debug()"
   ]
  },
  {
   "cell_type": "code",
   "execution_count": null,
   "id": "e332812a-e897-49a1-8f9b-7ec5259ab872",
   "metadata": {},
   "outputs": [],
   "source": [
    "np.array(prediction)"
   ]
  },
  {
   "cell_type": "code",
   "execution_count": null,
   "id": "246e057a",
   "metadata": {},
   "outputs": [],
   "source": [
    "np.array(testing_label)"
   ]
  },
  {
   "cell_type": "code",
   "execution_count": null,
   "id": "10cc8f5d-e8d5-4c5e-ab3d-15bb815ecb36",
   "metadata": {},
   "outputs": [],
   "source": [
    "test_sample[11]"
   ]
  },
  {
   "cell_type": "code",
   "execution_count": null,
   "id": "5e43143e-3ba1-4c30-a592-b355a0ca3c11",
   "metadata": {},
   "outputs": [],
   "source": [
    "chord_notes['c#MinorV+7']"
   ]
  }
 ],
 "metadata": {
  "kernelspec": {
   "display_name": "Python 3",
   "language": "python",
   "name": "python3"
  },
  "language_info": {
   "codemirror_mode": {
    "name": "ipython",
    "version": 3
   },
   "file_extension": ".py",
   "mimetype": "text/x-python",
   "name": "python",
   "nbconvert_exporter": "python",
   "pygments_lexer": "ipython3",
   "version": "3.8.8"
  }
 },
 "nbformat": 4,
 "nbformat_minor": 5
}
