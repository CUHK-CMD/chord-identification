{
 "cells": [
  {
   "cell_type": "code",
   "execution_count": 1,
   "metadata": {
    "tags": []
   },
   "outputs": [],
   "source": [
    "import numpy as np\n",
    "import random\n",
    "import itertools\n",
    "import math\n",
    "import tqdm\n",
    "from tqdm import trange\n",
    "import time"
   ]
  },
  {
   "cell_type": "code",
   "execution_count": 2,
   "metadata": {},
   "outputs": [
    {
     "name": "stderr",
     "output_type": "stream",
     "text": [
      "<ipython-input-2-795782b68787>:1: RuntimeWarning: divide by zero encountered in log\n",
      "  np.log(0.000000000000000)\n"
     ]
    },
    {
     "data": {
      "text/plain": [
       "-inf"
      ]
     },
     "execution_count": 2,
     "metadata": {},
     "output_type": "execute_result"
    }
   ],
   "source": [
    "np.log(0.000000000000000)"
   ]
  },
  {
   "cell_type": "markdown",
   "metadata": {},
   "source": [
    "# Helper Function"
   ]
  },
  {
   "cell_type": "code",
   "execution_count": 3,
   "metadata": {
    "jupyter": {
     "source_hidden": true
    },
    "tags": []
   },
   "outputs": [],
   "source": [
    "key_mapping={\n",
    "    'C':0,\n",
    "    'D':2,\n",
    "    'E':4,\n",
    "    'F':5,\n",
    "    'G':7,\n",
    "    'A':9,\n",
    "    'B':11\n",
    "}\n",
    "def key2num(key):  \n",
    "  key=key.upper()\n",
    "  num=key_mapping[key[0]]\n",
    "  modifier=len(key)\n",
    "  if modifier==1:\n",
    "    return num\n",
    "  elif key[1]=='#':\n",
    "    return (num+(modifier-1))%12\n",
    "  elif key[1]=='B' or key[1]=='-':\n",
    "    return (num-(modifier-1))%12\n",
    "  elif key[1]=='X':\n",
    "    return (num+(modifier-1)*2)%12\n",
    "\n",
    "# key_list to number_list\n",
    "def keys2num(keys):\n",
    "    return [key2num(key) for key in keys]"
   ]
  },
  {
   "cell_type": "code",
   "execution_count": 4,
   "metadata": {
    "tags": []
   },
   "outputs": [],
   "source": [
    "# function to distingish whether notes in given timestamp and chord are within or outside the chord (0=outside,1=within)\n",
    "import json\n",
    "with open('../modules/json_files/keychorddict.json') as json_file:\n",
    "    chord_notes = json.load(json_file)\n",
    "  \n",
    "    def note_2_class(chord,notes_at_t,chord_notes=chord_notes):\n",
    "        notes_at_t=keys2num(notes_at_t.keys())\n",
    "        note_in_chord=chord_notes[chord]['idx']\n",
    "        return [int(note in note_in_chord) for note in notes_at_t]"
   ]
  },
  {
   "cell_type": "markdown",
   "metadata": {},
   "source": [
    "# HMM"
   ]
  },
  {
   "cell_type": "code",
   "execution_count": 5,
   "metadata": {
    "tags": []
   },
   "outputs": [
    {
     "data": {
      "text/plain": [
       "\"        \\n    def train(self,obs,key_name,epochs=2):\\n        #O:observed values\\n        #λ:model parameters\\n\\n        \\n        for epoch in range(epochs):\\n            for ob_idx,ob in enumerate(obs):\\n                self.update_state_name([key_name[ob_idx].lower()[:-1]+states for states in h_states])\\n                print('running',ob_idx,key_name[ob_idx].lower()[:-1])\\n                self.probit_at_i_table=np.empty((len(ob),self.no_of_state))\\n                self.probit_transit_i_j_table=np.empty((len(ob),self.no_of_state,self.no_of_state))\\n                self.forward_table=np.empty((len(ob),self.no_of_state))\\n                self.backward_table=np.empty((len(ob),self.no_of_state))\\n                self.probit_at_i_table[:]= np.NaN\\n                self.probit_transit_i_j_table[:]=np.NaN\\n                self.forward_table[:]= np.NaN\\n                self.backward_table[:]=np.NaN\\n                self.chord_probit=self.transition_matrix.sum(axis=0)\\n                self.chord_probit/=self.chord_probit.sum()\\n                #initalize DP table\\n                for t, i in tqdm.tqdm(itertools.product(range(len(ob)),range(self.no_of_state))):\\n                    self.forward(t,i,ob)\\n                    self.backward(t,i,ob)\\n                    self.probit_at_i(t,i,ob)\\n                    for j in range(self.no_of_state):\\n                        if t!=len(ob)-1:\\n                            self.probit_transit_i_j(t,i,j,ob)\\n                \\n                \\n                \\n                #initial matrix\\n                for i in range(self.no_of_state):\\n                    self.initial_matrix[i]=self.probit_at_i(0,i,ob)\\n                    if self.initial_matrix[i]==0:\\n                        self.initial_matrix[i]=0.00000001\\n                #transition matrix\\n                for i, j in itertools.product(range(self.no_of_state),range(self.no_of_state)):\\n                    self.transition_matrix[i][j]=sum([self.probit_transit_i_j(t,i,j,ob) for t in range(len(ob)-1)])/sum([self.probit_at_i(t,i,ob) for t in range(len(ob)-1)])\\n                    if self.transition_matrix[i][j]==0 :\\n                        self.transition_matrix[i][j]=0.00000001\\n                #emission matrix\\n                for j, k in itertools.product(range(self.no_of_state),range(len(self.values))):   \\n                    total=0\\n                    \\n                    #Modification: convert notes to 2 classes (outside or inside given chord)\\n                    chord=self.states[j]  #numeric to chord name\\n                    ob_2_class=[note_2_class(chord,ob_t) for ob_t in ob] #2 class\\n\\n                    for t in range(len(ob)):\\n                        if k in ob_2_class[t]:\\n                            #Modification: multiple by how many times do k appear at timestamp t\\n                            total+=self.probit_at_i(t,j,ob)*ob_2_class[t].count(k)  \\n                            \\n                    #Modification: multiple by len(ob[t]), which is the total length of notes at timestamp t                    \\n                    self.emssion_matrix[:,k]=total/sum([self.probit_at_i(t,j,ob)*len(ob[t]) for t in range(len(ob))])  \\n                    \\n                    #smoothing\\n                    \\n                    if self.emssion_matrix[j][k]==0 :\\n                        self.emssion_matrix[:,k]=0.00000001\\n\""
      ]
     },
     "execution_count": 5,
     "metadata": {},
     "output_type": "execute_result"
    }
   ],
   "source": [
    "\n",
    "\n",
    "class HMM:\n",
    "    def __init__(self,no_of_state,no_of_value,states,values):\n",
    "        #randomize all matrix, each row should sum to 1\n",
    "        #self.emssion_matrix=np.array([ran/ran.sum() for ran in np.array([np.random.rand(no_of_value) for i in range(no_of_state)])]) #b[i][O]  --> probability to emit values[O] from states[i]\n",
    "        \n",
    "\n",
    "        self.zero=0.00000000001\n",
    "        self.emssion_matrix=np.random.rand(no_of_value)\n",
    "        self.emssion_matrix=self.emssion_matrix/self.emssion_matrix.sum()\n",
    "        if self.emssion_matrix[0]>self.emssion_matrix[1]:\n",
    "            temp=self.emssion_matrix[0]\n",
    "            self.emssion_matrix[0]=self.emssion_matrix[1]\n",
    "            self.emssion_matrix[1]=temp\n",
    "        self.emssion_matrix=np.array([self.emssion_matrix,]*len(states)) \n",
    "        self.emssion_matrix=np.array([[0.2,0.8],]*len(states)) \n",
    "        # assume same probability to emit \"note within chord\"  for all chords\n",
    "        \n",
    "        self.initial_matrix= np.random.rand(no_of_state) #π[i] --> probability to start at states[i]\n",
    "        self.initial_matrix/= self.initial_matrix.sum()\n",
    "        \n",
    "        self.transition_matrix=np.array([ran/ran.sum() for ran in np.array([np.random.rand(no_of_state) for i in range(no_of_state)])])  #a[i][j] --> probability from states[i] transit to states[j]\n",
    "        self.T1=None\n",
    "        self.T2=None\n",
    "        self.no_of_state=no_of_state\n",
    "        self.states=states\n",
    "        self.values=values\n",
    "        self.observered=None\n",
    "        self.key=None\n",
    " \n",
    "        self.MinorMask=np.array([1, 1,\n",
    "          1, 1, 1,\n",
    "          1,\n",
    "          1, 1,\n",
    "          1, 1, 1,\n",
    "          1, 1,1,1,\n",
    "          1, 1,\n",
    "          self.zero,\n",
    "          self.zero,self.zero,self.zero,\n",
    "          self.zero,\n",
    "          self.zero,\n",
    "          self.zero,self.zero,\n",
    "          self.zero,self.zero,self.zero,self.zero,self.zero,\n",
    "          self.zero,self.zero,self.zero\n",
    "        ])\n",
    "        self.MajorMask=(self.MinorMask*-1)+1+self.zero\n",
    "        \n",
    "        self.probit_at_i_table=None\n",
    "        self.probit_transit_i_j_table=None\n",
    "        self.forward_table=None\n",
    "        self.backward_table=None\n",
    "        self.chord_probit=None\n",
    "        \n",
    "    def debug(self):\n",
    "        print('initial_matrix\\n',self.initial_matrix)\n",
    "        print('transition_matrix\\n',self.transition_matrix)\n",
    "        print('emission_matrix\\n',self.emssion_matrix)\n",
    "    \n",
    "    def likelihood(self,state,ob_t,key):\n",
    "        if key[-5:]!=self.states[state][:5]:\n",
    "            return np.log(self.zero)\n",
    "        chord=key+self.states[state][5:]\n",
    "\n",
    "        a=noteToChord.NoteToChord(ob_t,key,3,0)\n",
    "        score = np.array([i['Score'] for i in a])\n",
    "        score=score-min(score)\n",
    "        score/=score.sum()\n",
    "        chords=[i['Chord'] for i in a]\n",
    "      \n",
    "        try:\n",
    "            idx=chords.index(chord)\n",
    "        except ValueError:\n",
    "            idx=None\n",
    "            \n",
    "        if idx==None or score[idx]==0:\n",
    "            return np.log(self.zero)\n",
    "\n",
    "        ob_t=note_2_class(chord,ob_t) #2 class\n",
    "        \n",
    "        prob=1\n",
    "        for x in ob_t:\n",
    "            prob*=(self.emssion_matrix[state][x])\n",
    "        return np.log(score[idx])+np.log(prob)#/self.chord_probit[state] # assume uniform probability\n",
    "\n",
    "    def forward(self,t,j,ob=None,mode=False):\n",
    "\n",
    "        if ob is None:\n",
    "            ob=self.observered\n",
    "        if np.isnan(self.forward_table[t][j]).any():\n",
    "            if t==0:\n",
    "                if mode==True:\n",
    "                    if 'Major' in self.key[t]:\n",
    "                        self.forward_table[t][j]=[(np.log(self.initial_matrix)+np.log(self.MajorMask))[j]+self.likelihood(j,ob[t],self.key[t]),0]\n",
    "                    else:\n",
    "                        self.forward_table[t][j]=[(np.log(self.initial_matrix)+np.log(self.MinorMask))[j]+self.likelihood(j,ob[t],self.key[t]),0]\n",
    "                    return self.forward_table[t][j][0],self.forward_table[t][j][1]\n",
    "                else:\n",
    "                    self.forward_table[t][j]=self.initial_matrix[j]*self.likelihood(j,ob[t])\n",
    "                    return self.forward_table[t][j]\n",
    "            else:          \n",
    "                if mode==True:\n",
    "\n",
    "                    if self.key[t-1]==self.key[t]:\n",
    "            \n",
    "                        if 'Major' in self.key[t]:                            \n",
    "                            result=np.array([self.forward(t-1,i,ob,mode)[0]+np.log(self.transition_matrix[i][j]) for i in range(self.no_of_state)])+np.log(self.MajorMask)+self.likelihood(j,ob[t],self.key[t])\n",
    "                        else:\n",
    "                            result=np.array([self.forward(t-1,i,ob,mode)[0]+np.log(self.transition_matrix[i][j]) for i in range(self.no_of_state)])+np.log(self.MinorMask)+self.likelihood(j,ob[t],self.key[t])\n",
    "\n",
    "                    else:#if key change, dont consider chord transition, in other word, the chord before and after key change are consider as indepent\n",
    "                        #if 'Major' in self.key[t]:                            \n",
    "                         #   result=np.array([self.forward(t-1,i,ob,mode)[0] for i in range(self.no_of_state)])* self.likelihood(j,ob[t],self.key[t])\n",
    "                        #else:\n",
    "                            result=np.array([self.forward(t-1,i,ob,mode)[0] for i in range(self.no_of_state)])+self.likelihood(j,ob[t],self.key[t])\n",
    "    \n",
    "        \n",
    "                    self.forward_table[t][j]=[np.max(result),np.argmax(result)]\n",
    "                    return self.forward_table[t][j][0],self.forward_table[t][j][1]\n",
    "                else:\n",
    "                    self.forward_table[t][j]=sum([self.forward(t-1,i,ob,mode)*self.transition_matrix[i][j] for i in range(self.no_of_state)]) * self.likelihood(j,ob[t])\n",
    "                    return self.forward_table[t][j]\n",
    "        else:\n",
    "            return self.forward_table[t][j]\n",
    "\n",
    "    def backward(self,t,i,ob=None,mode=False):\n",
    "        if ob is None:\n",
    "            ob=self.observered\n",
    "        if np.isnan(self.backward_table[t][i]) or mode==True:\n",
    "            if t==len(ob)-1:\n",
    "                self.backward_table[t][i]=1\n",
    "                return self.backward_table[t][i]\n",
    "            else:\n",
    "                if mode==True:\n",
    "                    self.backward_table[t][i]=max([self.transition_matrix[i][j]*self.likelihood(j,ob[t+1])*self.backward(t+1,j,ob,mode) for j in range(self.no_of_state)])\n",
    "                    return self.backward_table[t][i]\n",
    "                else:\n",
    "                    self.backward_table[t][i]=sum([self.transition_matrix[i][j]*self.likelihood(j,ob[t+1])*self.backward(t+1,j,ob,mode) for j in range(self.no_of_state)])\n",
    "                    return self.backward_table[t][i]\n",
    "        else:\n",
    "            return self.backward_table[t][i]\n",
    "            \n",
    "           \n",
    "    def probit_at_i(self,t,i,ob=None):#Gamma γt(i) = P(qt = i|O,λ)      \n",
    "        if ob is None:\n",
    "            ob=self.observered\n",
    "        if np.isnan(self.probit_at_i_table[t][i]):\n",
    "            numerator=self.forward(t,i,ob)*self.backward(t,i,ob)#sum probability of all path passing through state[i] at time t\n",
    "            denominator=sum([self.forward(t,j,ob)*self.backward(t,j,ob) for j in range(self.no_of_state)]) #prob of passing through  ALL_state at time t\n",
    "            self.probit_at_i_table[t][i]=numerator/denominator\n",
    "            return self.probit_at_i_table[t][i]\n",
    "        else:\n",
    "            return self.probit_at_i_table[t][i]\n",
    "    \n",
    "    def probit_transit_i_j(self,t,i,j,ob=None):#epsilon ξt(i, j) = P(qt = i,qt+1 = j|O,λ)\n",
    "        if ob is None:\n",
    "            ob=self.observered\n",
    "        if np.isnan(self.probit_transit_i_j_table[t][i][j]):\n",
    "            numerator=self.forward(t,i,ob)*self.transition_matrix[i][j]*self.likelihood(j,ob[t+1])*self.backward(t+1,j,ob)#sum probability of all path transit from state[i] to state[j] at time t\n",
    "            denominator=sum([sum([self.forward(t,m,ob)*self.transition_matrix[m][n]*self.likelihood(n,ob[t+1])*self.backward(t+1,n,ob) for n in range(self.no_of_state)]) for m in range(self.no_of_state)]) #prob of ALL transition combination at time t\n",
    "            self.probit_transit_i_j_table[t][i][j]=(numerator/denominator)\n",
    "            return self.probit_transit_i_j_table[t][i][j]\n",
    "        else:\n",
    "            return self.probit_transit_i_j_table[t][i][j]\n",
    "        \n",
    "    #modify from https://stackoverflow.com/questions/9729968/python-implementation-of-viterbi-algorithm/9730083 , author RBF06(https://stackoverflow.com/users/3311728/rbf06)\n",
    "    def predict(self,ob,test_key):  \n",
    "        self.forward_table=np.empty((len(ob),self.no_of_state,2))\n",
    "        self.forward_table[:]= np.NaN\n",
    "        self.key=test_key\n",
    "\n",
    "        T1=np.empty((self.no_of_state,len(ob)),'d')\n",
    "        T2=np.empty((self.no_of_state,len(ob)),'B')\n",
    "        for idx in range(self.no_of_state):\n",
    "            T1[idx,0]=self.forward(0,idx,ob,True)[0]\n",
    "        T2[:,0]=0\n",
    "        self.T1=T1\n",
    "        \n",
    "        for i in range(1,len(ob)):\n",
    "            for idx in range(self.no_of_state):\n",
    "                T1[idx,i],T2[idx,i]=self.forward(i,idx,ob,True)\n",
    "\n",
    "        x = np.empty(len(ob), 'B')\n",
    "        x[-1] = np.argmax(T1[:, len(ob) - 1])\n",
    "        \n",
    "        self.T2=x\n",
    "        for i in reversed(range(1, len(ob))):\n",
    "            x[i - 1] = T2[x[i], i]\n",
    "        return x\n",
    "    \n",
    "    def get_detail(self,label):\n",
    "        key='Major' if 'M' in label else 'Minor'\n",
    "        chord=label.split(\"_\")[1]\n",
    "        key_note=label.split('M')[0] if key=='Major' else label.split('m')[0].lower()\n",
    "        if key=='Major':\n",
    "            if key_note=='F#':\n",
    "                key_note='Gb'\n",
    "            elif key_note=='A#':\n",
    "                key_note='Bb'\n",
    "            elif key_note=='C#':\n",
    "                key_note='Db'\n",
    "            elif key_note=='G#':\n",
    "                key_note='Ab'\n",
    "            elif key_note=='D#':\n",
    "                key_note='Eb'\n",
    "        else:\n",
    "            if key_note=='gb':\n",
    "                key_note='f#'\n",
    "            elif key_note=='db':\n",
    "                key_note='c#'\n",
    "            elif key_note=='ab':\n",
    "                key_note='g#'\n",
    "            elif key_note=='d#':\n",
    "                key_note='eb'\n",
    "                \n",
    "        if 'German' in chord:\n",
    "            chord=key+'GerVI'\n",
    "        elif 'Dim7' in chord:\n",
    "            chord=key+'DimVII7'\n",
    "        elif 'FrenchVI' in chord:\n",
    "            chord=key+'FreVI'\n",
    "        else:\n",
    "            chord=key+chord\n",
    "        return chord,key_note\n",
    "    \n",
    "    def train_supervisied(self,obs,labels): # by MLE\n",
    "        initial_matrix= np.zeros(self.no_of_state)\n",
    "        emssion_matrix=np.zeros((2)) \n",
    "        transition_matrix=np.array([np.zeros(self.no_of_state) for i in range(self.no_of_state)])\n",
    "\n",
    "        for idx_1,label in enumerate(labels):\n",
    "            for idx_2,lab in enumerate(label):\n",
    "                Pre_chord,Pre_key_name=self.get_detail(label[idx_2-1])\n",
    "                chord,key_name=self.get_detail(label[idx_2])\n",
    "                if idx_2==0:\n",
    "                    initial_matrix[self.states.index(chord)]+=1\n",
    "                else:\n",
    "                    if Pre_chord[:5]==chord[:5]: ## ignore key change\n",
    "                        transition_matrix[self.states.index(Pre_chord)][self.states.index(chord)]+=1\n",
    "                        #note_2_class(chord,notes_at_t,chord_notes=chord_notes):\n",
    "                    ob_t=note_2_class(key_name+chord,obs[idx_1][idx_2]) #2 class\n",
    "                    for x in ob_t:\n",
    "                        emssion_matrix[x]+=1\n",
    "                        \n",
    "        #save back to model\n",
    "        self.initial_matrix=np.array([item/initial_matrix.sum() if item >0 else 0.00000001 for item in initial_matrix])\n",
    "        self.transition_matrix=np.array([row/row.sum() if row.sum()>0 else row+0.00000001 for row in transition_matrix])\n",
    "        for row in range(self.transition_matrix.shape[0]):\n",
    "            for col in range(self.transition_matrix.shape[1]):\n",
    "                if self.transition_matrix[row][col]==0:\n",
    "                    self.transition_matrix[row][col]=0.00000001\n",
    "        self.emssion_matrix=np.array([emssion_matrix/emssion_matrix.sum()] *self.no_of_state) \n",
    "\n",
    "        \n",
    "\"\"\"        \n",
    "    def train(self,obs,key_name,epochs=2):\n",
    "        #O:observed values\n",
    "        #λ:model parameters\n",
    "\n",
    "        \n",
    "        for epoch in range(epochs):\n",
    "            for ob_idx,ob in enumerate(obs):\n",
    "                self.update_state_name([key_name[ob_idx].lower()[:-1]+states for states in h_states])\n",
    "                print('running',ob_idx,key_name[ob_idx].lower()[:-1])\n",
    "                self.probit_at_i_table=np.empty((len(ob),self.no_of_state))\n",
    "                self.probit_transit_i_j_table=np.empty((len(ob),self.no_of_state,self.no_of_state))\n",
    "                self.forward_table=np.empty((len(ob),self.no_of_state))\n",
    "                self.backward_table=np.empty((len(ob),self.no_of_state))\n",
    "                self.probit_at_i_table[:]= np.NaN\n",
    "                self.probit_transit_i_j_table[:]=np.NaN\n",
    "                self.forward_table[:]= np.NaN\n",
    "                self.backward_table[:]=np.NaN\n",
    "                self.chord_probit=self.transition_matrix.sum(axis=0)\n",
    "                self.chord_probit/=self.chord_probit.sum()\n",
    "                #initalize DP table\n",
    "                for t, i in tqdm.tqdm(itertools.product(range(len(ob)),range(self.no_of_state))):\n",
    "                    self.forward(t,i,ob)\n",
    "                    self.backward(t,i,ob)\n",
    "                    self.probit_at_i(t,i,ob)\n",
    "                    for j in range(self.no_of_state):\n",
    "                        if t!=len(ob)-1:\n",
    "                            self.probit_transit_i_j(t,i,j,ob)\n",
    "                \n",
    "                \n",
    "                \n",
    "                #initial matrix\n",
    "                for i in range(self.no_of_state):\n",
    "                    self.initial_matrix[i]=self.probit_at_i(0,i,ob)\n",
    "                    if self.initial_matrix[i]==0:\n",
    "                        self.initial_matrix[i]=0.00000001\n",
    "                #transition matrix\n",
    "                for i, j in itertools.product(range(self.no_of_state),range(self.no_of_state)):\n",
    "                    self.transition_matrix[i][j]=sum([self.probit_transit_i_j(t,i,j,ob) for t in range(len(ob)-1)])/sum([self.probit_at_i(t,i,ob) for t in range(len(ob)-1)])\n",
    "                    if self.transition_matrix[i][j]==0 :\n",
    "                        self.transition_matrix[i][j]=0.00000001\n",
    "                #emission matrix\n",
    "                for j, k in itertools.product(range(self.no_of_state),range(len(self.values))):   \n",
    "                    total=0\n",
    "                    \n",
    "                    #Modification: convert notes to 2 classes (outside or inside given chord)\n",
    "                    chord=self.states[j]  #numeric to chord name\n",
    "                    ob_2_class=[note_2_class(chord,ob_t) for ob_t in ob] #2 class\n",
    "\n",
    "                    for t in range(len(ob)):\n",
    "                        if k in ob_2_class[t]:\n",
    "                            #Modification: multiple by how many times do k appear at timestamp t\n",
    "                            total+=self.probit_at_i(t,j,ob)*ob_2_class[t].count(k)  \n",
    "                            \n",
    "                    #Modification: multiple by len(ob[t]), which is the total length of notes at timestamp t                    \n",
    "                    self.emssion_matrix[:,k]=total/sum([self.probit_at_i(t,j,ob)*len(ob[t]) for t in range(len(ob))])  \n",
    "                    \n",
    "                    #smoothing\n",
    "                    \n",
    "                    if self.emssion_matrix[j][k]==0 :\n",
    "                        self.emssion_matrix[:,k]=0.00000001\n",
    "\"\"\"                        "
   ]
  },
  {
   "cell_type": "markdown",
   "metadata": {},
   "source": [
    "# Prepare Data"
   ]
  },
  {
   "cell_type": "code",
   "execution_count": 6,
   "metadata": {},
   "outputs": [],
   "source": [
    "import json\n",
    "with open('../data/training_data.json') as json_file:\n",
    "    data = json.load(json_file)"
   ]
  },
  {
   "cell_type": "code",
   "execution_count": 7,
   "metadata": {
    "tags": []
   },
   "outputs": [
    {
     "data": {
      "text/plain": [
       "(array(['Nocturne_in_F_Major.mxl'], dtype='<U35'),\n",
       " array(['Prelude_in_B_Minor_Opus104a.mxl', 'Minuet_in_F.mxl',\n",
       "        'Nocturne_No._20_in_C_Minor.mxl', 'Etude_in_Gb_Major_Opus_25.mxl',\n",
       "        'Etude_in_Gb_Major.mxl', 'Nocturne_in_Eb_Major.mxl',\n",
       "        'Il_Vecchio_Castello.mxl', 'Moonlight_Sonata_1st_Movement.mxl',\n",
       "        'Nocturne_in_F_Minor.mxl', 'Etude_in_F_Minor.mxl',\n",
       "        'Menuet_in_G_Minor.mxl', 'Piano_Sonata_No._11.mxl',\n",
       "        'Prelude_in_A_Major.mxl', 'Prlude_Opus_28_No._4_in_E_Minor.mxl',\n",
       "        'Prelude_in_B_Minor.mxl', 'notestochord.mxl',\n",
       "        'Nocturne_in_E_Minor.mxl', 'Nocturne_in_C_Minor.mxl',\n",
       "        'Minuet_in_G_Major_2nd.mxl', 'Etude_in_C_Minor.mxl',\n",
       "        'Prelude_in_Db_Major.mxl', 'Prelude_in_G_Major.mxl',\n",
       "        'Prelude_in_B_Major.mxl', 'Prelude_in_C_Minor.mxl',\n",
       "        'Nocturne_in_E_Major.mxl', 'Nocturne_in_B_Major.mxl',\n",
       "        'Prelude_in_F_Major.mxl', 'Etude_in_F_Major.mxl'], dtype='<U35'))"
      ]
     },
     "execution_count": 7,
     "metadata": {},
     "output_type": "execute_result"
    }
   ],
   "source": [
    "#shuffle\n",
    "score=np.array(list(data.keys()))\n",
    "np.random.shuffle(score)\n",
    "test_score=score[-1:]\n",
    "score=score[:-1]\n",
    "test_score,score"
   ]
  },
  {
   "cell_type": "code",
   "execution_count": 8,
   "metadata": {},
   "outputs": [],
   "source": [
    "#prepare train data\n",
    "score_name=score\n",
    "x_train=[]\n",
    "y_train=[]\n",
    "for idx_root,name in enumerate(score_name):\n",
    "    select_idx=[]\n",
    "\n",
    "    training=[]\n",
    "    training_label=[]\n",
    "\n",
    "    training=data[name]['note_seq']\n",
    "    training_label=data[name]['chord_seq']\n",
    "    \n",
    "    x_train.append(training)\n",
    "    y_train.append(training_label)"
   ]
  },
  {
   "cell_type": "code",
   "execution_count": 9,
   "metadata": {
    "tags": []
   },
   "outputs": [],
   "source": [
    "#prepare test data (1 score)\n",
    "test_score=test_score\n",
    "score_test_choice=0\n",
    "\n",
    "test_sample=[]\n",
    "testing_label=[]\n",
    "name=test_score[score_test_choice]\n",
    "\n",
    "test_sample=data[name]['note_seq']\n",
    "testing_label=data[name]['chord_seq']\n",
    "\n",
    "test_key=[]\n",
    "for e in testing_label:\n",
    "    temp_key=e.split('_')[0]\n",
    "    temp_name=temp_key[:-1]\n",
    "    temp_key=temp_key[-1]\n",
    "    if temp_key=='m':\n",
    "        test_key.append(temp_name.lower()+'Minor')\n",
    "    else:\n",
    "        test_key.append(temp_name[0].upper()+temp_name[1:].lower()+'Major')   "
   ]
  },
  {
   "cell_type": "markdown",
   "metadata": {},
   "source": [
    "# Training"
   ]
  },
  {
   "cell_type": "code",
   "execution_count": 10,
   "metadata": {},
   "outputs": [],
   "source": [
    "h_states=['MinorI', 'MinorI+',\n",
    "          'MinorbII', 'MinorII', 'MinorII7',\n",
    "          'MinorIII',\n",
    "          'MinorIV', 'MinorIV+',\n",
    "          'MinorV', 'MinorV+', 'MinorV+7',\n",
    "          'MinorVI', 'MinorGerVI', 'MinorFreVI', 'MinorItaVI',\n",
    "          'MinorVII', 'MinorDimVII7',#, 'MinorDimVII'\n",
    "          'MajorI',\n",
    "          'MajorbII','MajorII','MajorII7',\n",
    "          'MajorIII',\n",
    "          'MajorIV',\n",
    "          'MajorV','MajorV7',\n",
    "          'MajorbVI','MajorGerVI','MajorFreVI','MajorItaVI','MajorVI',\n",
    "          'MajorVII','MajorVII7','MajorDimVII7'\n",
    "]\n",
    "#all possible chordm will add the key to the chord afterward e.g. cMinorI"
   ]
  },
  {
   "cell_type": "code",
   "execution_count": 11,
   "metadata": {},
   "outputs": [],
   "source": [
    "test=HMM(len(h_states),2,h_states,[\"outside chord\",\"inside chord\"])"
   ]
  },
  {
   "cell_type": "code",
   "execution_count": 12,
   "metadata": {},
   "outputs": [],
   "source": [
    "test.train_supervisied(x_train,y_train)#initialize parameter"
   ]
  },
  {
   "cell_type": "code",
   "execution_count": 13,
   "metadata": {
    "tags": []
   },
   "outputs": [
    {
     "name": "stdout",
     "output_type": "stream",
     "text": [
      "initial_matrix\n",
      " [5.00000000e-01 1.00000000e-08 1.00000000e-08 1.00000000e-08\n",
      " 1.00000000e-08 1.00000000e-08 1.00000000e-08 1.00000000e-08\n",
      " 1.00000000e-08 1.00000000e-08 1.00000000e-08 1.00000000e-08\n",
      " 1.00000000e-08 1.00000000e-08 1.00000000e-08 1.00000000e-08\n",
      " 1.00000000e-08 3.21428571e-01 1.00000000e-08 3.57142857e-02\n",
      " 1.00000000e-08 1.00000000e-08 1.00000000e-08 1.42857143e-01\n",
      " 1.00000000e-08 1.00000000e-08 1.00000000e-08 1.00000000e-08\n",
      " 1.00000000e-08 1.00000000e-08 1.00000000e-08 1.00000000e-08\n",
      " 1.00000000e-08]\n",
      "transition_matrix\n",
      " [[1.92307692e-02 2.88461538e-02 1.44230769e-02 ... 1.00000000e-08\n",
      "  1.00000000e-08 1.00000000e-08]\n",
      " [1.55555556e-01 4.44444444e-02 6.66666667e-02 ... 1.00000000e-08\n",
      "  1.00000000e-08 1.00000000e-08]\n",
      " [3.33333333e-01 3.33333333e-02 1.00000000e-08 ... 1.00000000e-08\n",
      "  1.00000000e-08 1.00000000e-08]\n",
      " ...\n",
      " [1.00000000e-08 1.00000000e-08 1.00000000e-08 ... 1.00000000e-08\n",
      "  1.00000000e-08 1.00000000e-08]\n",
      " [1.00000000e-08 1.00000000e-08 1.00000000e-08 ... 1.00000000e-08\n",
      "  1.00000000e-08 1.00000000e-08]\n",
      " [1.00000000e-08 1.00000000e-08 1.00000000e-08 ... 1.00000000e-08\n",
      "  1.00000000e-08 1.00000000e-08]]\n",
      "emission_matrix\n",
      " [[0.35621691 0.64378309]\n",
      " [0.35621691 0.64378309]\n",
      " [0.35621691 0.64378309]\n",
      " [0.35621691 0.64378309]\n",
      " [0.35621691 0.64378309]\n",
      " [0.35621691 0.64378309]\n",
      " [0.35621691 0.64378309]\n",
      " [0.35621691 0.64378309]\n",
      " [0.35621691 0.64378309]\n",
      " [0.35621691 0.64378309]\n",
      " [0.35621691 0.64378309]\n",
      " [0.35621691 0.64378309]\n",
      " [0.35621691 0.64378309]\n",
      " [0.35621691 0.64378309]\n",
      " [0.35621691 0.64378309]\n",
      " [0.35621691 0.64378309]\n",
      " [0.35621691 0.64378309]\n",
      " [0.35621691 0.64378309]\n",
      " [0.35621691 0.64378309]\n",
      " [0.35621691 0.64378309]\n",
      " [0.35621691 0.64378309]\n",
      " [0.35621691 0.64378309]\n",
      " [0.35621691 0.64378309]\n",
      " [0.35621691 0.64378309]\n",
      " [0.35621691 0.64378309]\n",
      " [0.35621691 0.64378309]\n",
      " [0.35621691 0.64378309]\n",
      " [0.35621691 0.64378309]\n",
      " [0.35621691 0.64378309]\n",
      " [0.35621691 0.64378309]\n",
      " [0.35621691 0.64378309]\n",
      " [0.35621691 0.64378309]\n",
      " [0.35621691 0.64378309]]\n"
     ]
    }
   ],
   "source": [
    "test.debug()"
   ]
  },
  {
   "cell_type": "markdown",
   "metadata": {},
   "source": [
    "# Evaluation"
   ]
  },
  {
   "cell_type": "code",
   "execution_count": 14,
   "metadata": {},
   "outputs": [],
   "source": [
    "import sys\n",
    "sys.path.append('../modules')\n",
    "import noteToChordWeighted  as noteToChord"
   ]
  },
  {
   "cell_type": "code",
   "execution_count": 15,
   "metadata": {},
   "outputs": [
    {
     "data": {
      "text/plain": [
       "55"
      ]
     },
     "execution_count": 15,
     "metadata": {},
     "output_type": "execute_result"
    }
   ],
   "source": [
    "len(test_key)"
   ]
  },
  {
   "cell_type": "code",
   "execution_count": 16,
   "metadata": {},
   "outputs": [
    {
     "data": {
      "text/plain": [
       "55"
      ]
     },
     "execution_count": 16,
     "metadata": {},
     "output_type": "execute_result"
    }
   ],
   "source": [
    "len(test_sample)"
   ]
  },
  {
   "cell_type": "code",
   "execution_count": 17,
   "metadata": {
    "tags": []
   },
   "outputs": [],
   "source": [
    "prediction=test.predict(test_sample,test_key)\n",
    "prediction=[h_states[i] for i in prediction]"
   ]
  },
  {
   "cell_type": "code",
   "execution_count": 18,
   "metadata": {},
   "outputs": [
    {
     "name": "stdout",
     "output_type": "stream",
     "text": [
      "MajorI F#M_V\n",
      "MajorV F#M_I\n",
      "MajorI F#M_V\n",
      "MajorV F#M_I\n",
      "MinorV+7 G#m_V+\n",
      "MinorI G#m_I\n",
      "MajorII F#M_II\n",
      "MajorV F#M_I\n",
      "MajorI F#M_IV\n",
      "MajorV F#M_V\n",
      "MajorI F#M_VI\n",
      "MajorV F#M_V\n",
      "MajorI F#M_I\n",
      "MajorV F#M_V\n",
      "MajorI F#M_I\n",
      "MajorV F#M_V\n",
      "MajorI F#M_I\n",
      "MinorV+7 G#m_V+\n",
      "MinorI G#m_I\n",
      "MajorV F#M_I\n",
      "MajorI F#M_IV\n",
      "MajorV F#M_V\n",
      "MajorI F#M_I\n",
      "MinorV+7 F#m_V+\n",
      "MinorI F#m_I\n",
      "MinorGerVI F#m_GermanVI\n",
      "MinorI F#m_IV+\n",
      "MinorI A#M_I\n",
      "MinorI F#M_V\n",
      "MajorDimVII7 FM_Dim7\n",
      "MajorV7 AM_V\n",
      "MinorV+7 F#m_V+7\n",
      "MinorI F#m_I\n",
      "MinorV+7 F#m_V+7\n",
      "MinorVI F#m_VI\n",
      "MinorV+ F#m_V\n",
      "MinorIV F#m_II\n",
      "MinorV+7 F#m_V+\n",
      "MinorI F#m_I\n",
      "MinorV+7 F#m_V+\n",
      "MajorV F#M_V\n",
      "MajorI F#M_I\n",
      "MajorV F#M_V\n",
      "MajorI F#M_I\n",
      "MinorV+7 G#m_V+\n",
      "MinorI G#m_I\n",
      "MajorII F#M_II\n",
      "MajorV F#M_V\n",
      "MajorI F#M_IV\n",
      "MajorV F#M_V\n",
      "MajorI F#M_I\n",
      "MajorV F#M_V\n",
      "MajorI F#M_VI\n",
      "MajorV F#M_V\n",
      "MajorI F#M_I\n"
     ]
    }
   ],
   "source": [
    "for i in range(len(prediction)):\n",
    "    print(prediction[i],testing_label[i])"
   ]
  },
  {
   "cell_type": "code",
   "execution_count": 19,
   "metadata": {},
   "outputs": [],
   "source": [
    "for idx,e in enumerate(testing_label):\n",
    "    if 'M' in e:\n",
    "        testing_label[idx]=testing_label[idx].replace(\"M_\", \"Major\")\n",
    "        testing_label[idx]=testing_label[idx][0].upper()+testing_label[idx][1:]\n",
    "    else:\n",
    "        testing_label[idx]=testing_label[idx].replace(\"m_\", \"Minor\")\n",
    "        testing_label[idx]=testing_label[idx][0].lower()+testing_label[idx][1:]"
   ]
  },
  {
   "cell_type": "code",
   "execution_count": 20,
   "metadata": {},
   "outputs": [
    {
     "name": "stdout",
     "output_type": "stream",
     "text": [
      "MajorVI MajorI\n",
      "MajorII7 MajorV\n",
      "MajorVII MajorV\n",
      "MajorDimVII7 MajorDim7\n",
      "MinorV+ MinorV\n",
      "MajorIV MajorV\n",
      "MajorI MajorV\n",
      "acc 0.8727272727272727 48 7\n"
     ]
    }
   ],
   "source": [
    "note2chord_ans=[]\n",
    "for notes,key in zip(test_sample,test_key):\n",
    "    note2chord_ans.append(noteToChord.NoteToChord(notes,key,1,0)[0]['Chord'])\n",
    "    \n",
    "for idx,e in enumerate(testing_label):\n",
    "    testing_label[idx]='M'+e.split('M')[1]\n",
    "for idx,e in enumerate(note2chord_ans):\n",
    "    note2chord_ans[idx]='M'+e.split('M')[1]\n",
    "#evaluation\n",
    "correct=0\n",
    "wrong=0\n",
    "for idx,label in enumerate(note2chord_ans):\n",
    "    \n",
    "    if label.replace('7','').replace('German','Ger').replace('Gb','F#').upper()==testing_label[idx].replace('7','').replace('German','Ger').upper():\n",
    "        correct+=1\n",
    "    else:\n",
    "        wrong+=1\n",
    "        print(label,testing_label[idx])\n",
    "print('acc',correct/(correct+wrong),correct,wrong)   "
   ]
  },
  {
   "cell_type": "code",
   "execution_count": 21,
   "metadata": {
    "tags": []
   },
   "outputs": [
    {
     "name": "stdout",
     "output_type": "stream",
     "text": [
      "MajorI MajorV\n",
      "MajorV MajorI\n",
      "MajorI MajorV\n",
      "MajorV MajorI\n",
      "MajorV MajorI\n",
      "MajorI MajorIV\n",
      "MajorI MajorVI\n",
      "MajorV MajorI\n",
      "MajorI MajorIV\n",
      "MinorI MinorIV+\n",
      "MinorI MajorI\n",
      "MinorI MajorV\n",
      "MajorDimVII7 MajorDim7\n",
      "MinorV+ MinorV\n",
      "MinorIV MinorII\n",
      "MajorI MajorIV\n",
      "MajorI MajorVI\n",
      "acc 0.6909090909090909 38 17\n"
     ]
    }
   ],
   "source": [
    "#evaluation\n",
    "correct=0\n",
    "wrong=0\n",
    "for idx,label in enumerate(prediction):\n",
    "    if label.replace('7','').replace('German','Ger').upper()==testing_label[idx].replace('7','').replace('German','Ger').upper():\n",
    "        correct+=1\n",
    "    else:\n",
    "        wrong+=1\n",
    "        print(label,testing_label[idx])\n",
    "print('acc',correct/(correct+wrong),correct,wrong)"
   ]
  },
  {
   "cell_type": "code",
   "execution_count": null,
   "metadata": {},
   "outputs": [],
   "source": []
  },
  {
   "cell_type": "code",
   "execution_count": null,
   "metadata": {},
   "outputs": [],
   "source": []
  },
  {
   "cell_type": "code",
   "execution_count": null,
   "metadata": {},
   "outputs": [],
   "source": []
  }
 ],
 "metadata": {
  "kernelspec": {
   "display_name": "Python 3",
   "language": "python",
   "name": "python3"
  },
  "language_info": {
   "codemirror_mode": {
    "name": "ipython",
    "version": 3
   },
   "file_extension": ".py",
   "mimetype": "text/x-python",
   "name": "python",
   "nbconvert_exporter": "python",
   "pygments_lexer": "ipython3",
   "version": "3.8.3"
  }
 },
 "nbformat": 4,
 "nbformat_minor": 5
}
