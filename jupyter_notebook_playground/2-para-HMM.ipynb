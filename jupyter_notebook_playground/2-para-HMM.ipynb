{
 "cells": [
  {
   "cell_type": "markdown",
   "id": "22228aef-100b-4034-91f9-416dda01cf12",
   "metadata": {},
   "source": [
    "# Modify from HMM.ipynb\n",
    "\n",
    "### Idea: for each state(chords) , we will classify the output notes as \"inside the chord\" and \"outside the chord\" by calling note_2_class()\n",
    "### as a result, each state only got 2 possible emission , and the emission matrix is [α,β] , where  α as the probability to emit note inside a chord, and β is (1-α).\n",
    "\n",
    "### The likelihood of observing chord X and notes_sequence M , with #A notes inside the chord and #B notes outside the chord will be P(M|X) = α(x)^a * β(x)^b. where α(x)is the probability α of chord X\n",
    "\n",
    "<br>\n",
    "\n",
    "#### 1 New Function: note_2_class()\n",
    "<pre>\n",
    "paras:\n",
    "    chord: str\n",
    "        the current chord name \n",
    "    notes_at_t: 1D list\n",
    "        observation of notes at time t\n",
    "    chord_notes: Dictionary from keychorddict.json\n",
    "        chord and key mapping\n",
    "</pre>\n",
    "#### 3 Modifications:     __(All modifications below are marked by #Modification above the line)__\n",
    "1. how to initalize emission matrix\n",
    "<br>Assume all chords will share same probability to emit notes inside itself. This assumption might be broken after training, such that, each chord will hv different probability to emit note inside itself\n",
    "2. how to calculate likelihood\n",
    "<br>given any observation at a timestamp , to calculate the likelihood of the observation[t], one's need first convert notes to 2 class , so that it can map with the emission matrix\n",
    "3. how to update emission matrix\n",
    "<br>When updating emission matrix, the #occurence of notes inside/outside the chord is also taken into account"
   ]
  },
  {
   "cell_type": "code",
   "execution_count": 1,
   "id": "735021f7-00ef-445a-be5c-58e56b696739",
   "metadata": {},
   "outputs": [],
   "source": [
    "import numpy as np\n",
    "import random\n",
    "import itertools\n",
    "import math"
   ]
  },
  {
   "cell_type": "code",
   "execution_count": 2,
   "id": "0d76c0d8-2b21-48ff-8ba9-174e53f35685",
   "metadata": {},
   "outputs": [],
   "source": [
    "# function to distingish whether notes in given timestamp and chord are within or outside the chord (0=outside,1=within)\n",
    "import json\n",
    "with open('../modules/json_files/keychorddict.json') as json_file:\n",
    "    chord_notes = json.load(json_file)\n",
    "  \n",
    "    def note_2_class(chord,notes_at_t,chord_notes=chord_notes):\n",
    "        note_in_chord=chord_notes[chord]['idx']\n",
    "        return [int(note in note_in_chord) for note in notes_at_t]"
   ]
  },
  {
   "cell_type": "code",
   "execution_count": 3,
   "id": "f98c73ef-9739-4825-b601-f05a9534c4a7",
   "metadata": {
    "tags": []
   },
   "outputs": [],
   "source": [
    "### I threat the total length of time as the length of the observered list\n",
    "\n",
    "class HMM:\n",
    "    def __init__(self,no_of_state,no_of_value,states,values):\n",
    "        #randomize all matrix, each row should sum to 1\n",
    "        #self.emssion_matrix=np.array([ran/ran.sum() for ran in np.array([np.random.rand(no_of_value) for i in range(no_of_state)])]) #b[i][O]  --> probability to emit values[O] from states[i]\n",
    "        \n",
    "\n",
    "        #Modification: 2 parameter for all chord  [note inside chord & note outside chord]\n",
    "        self.emssion_matrix=np.random.rand(no_of_value)\n",
    "        self.emssion_matrix=self.emssion_matrix/self.emssion_matrix.sum()\n",
    "        self.emssion_matrix=np.array([self.emssion_matrix,]*len(states)) # assume same probability to emit \"note within chord\"  for all chords\n",
    "        \n",
    "        self.initial_matrix= np.random.rand(no_of_state) #π[i] --> probability to start at states[i]\n",
    "        self.initial_matrix/= self.initial_matrix.sum()\n",
    "        \n",
    "        self.transition_matrix=np.array([ran/ran.sum() for ran in np.array([np.random.rand(no_of_state) for i in range(no_of_state)])])  #a[i][j] --> probability from states[i] transit to states[j]\n",
    "        \n",
    "        self.states=states\n",
    "        self.values=values\n",
    "        self.observered=None\n",
    "        \n",
    "        #self.prev_initial_matrix=self.initial_matrix\n",
    "        #self.prev_emssion_matrix=self.emssion_matrix\n",
    "        #self.prev_transition_matrix=self.transition_matrix\n",
    "        \n",
    "    def debug(self):\n",
    "        print('initial_matrix\\n',self.initial_matrix)\n",
    "        print('transition_matrix\\n',self.transition_matrix)\n",
    "        print('emission_matrix\\n',self.emssion_matrix)\n",
    "        \n",
    "    def likelihood(self,state,ob_t):\n",
    "        \n",
    "        #Modification: convert observation[t] from notes to 2_classes\n",
    "        chord=self.states[state]  #numeric to chord name\n",
    "        ob_t=note_2_class(chord,ob_t) #2 class\n",
    "        \n",
    "        prob=1\n",
    "        for x in ob_t:\n",
    "            prob*=(self.emssion_matrix[state][x])\n",
    "        return prob\n",
    " \n",
    "    def forward(self,t,j,ob=None):\n",
    "        if ob is None:\n",
    "            ob=self.observered\n",
    "        if t==0:\n",
    "            return self.initial_matrix[j]*self.likelihood(j,ob[t])\n",
    "        else:          \n",
    "            return sum([self.forward(t-1,i,ob)*self.transition_matrix[i][j] for i in range(len(self.states))]) * self.likelihood(j,ob[t])\n",
    "          \n",
    "            \n",
    "    def backward(self,t,i,ob=None):\n",
    "        if ob is None:\n",
    "            ob=self.observered\n",
    "        if t==len(ob)-1:\n",
    "            return 1\n",
    "        else:\n",
    "            return sum([self.transition_matrix[i][j]*self.likelihood(j,ob[t+1])*self.backward(t+1,j,ob) for j in range(len(self.states))])\n",
    "           \n",
    "    def probit_at_i(self,t,i,ob=None):#Gamma γt(i) = P(qt = i|O,λ)      \n",
    "        if ob is None:\n",
    "            ob=self.observered\n",
    "        numerator=self.forward(t,i,ob)*self.backward(t,i,ob)#sum probability of all path passing through state[i] at time t\n",
    "        denominator=sum([self.forward(t,j,ob)*self.backward(t,j,ob) for j in range(len(self.states))]) #prob of passing through  ALL_state at time t\n",
    "        return numerator/denominator\n",
    "    \n",
    "    def probit_transit_i_j(self,t,i,j,ob=None):#epsilon ξt(i, j) = P(qt = i,qt+1 = j|O,λ)\n",
    "        if ob is None:\n",
    "            ob=self.observered\n",
    "        numerator=self.forward(t,i,ob)*self.transition_matrix[i][j]*self.likelihood(j,ob[t+1])*self.backward(t+1,j,ob)#sum probability of all path transit from state[i] to state[j] at time t\n",
    "        denominator=sum([sum([self.forward(t,m,ob)*self.transition_matrix[m][n]*self.likelihood(n,ob[t+1])*self.backward(t+1,n,ob) for n in range(len(self.states))]) for m in range(len(self.states))]) #prob of ALL transition combination at time t\n",
    "        return (numerator/denominator)\n",
    "            \n",
    "    def train(self,obs=None,epochs=2):\n",
    "        #O:observed values\n",
    "        #λ:model parameters\n",
    "         \n",
    "        if obs is None:\n",
    "            obs=self.observered\n",
    "        \n",
    "        for epoch in range(epochs):\n",
    "            for ob in obs:\n",
    "                \n",
    "                #initial matrix\n",
    "                for i in range(len(self.states)):\n",
    "                    self.initial_matrix[i]=self.probit_at_i(0,i,ob)\n",
    "                #transition matrix\n",
    "                for i, j in itertools.product(range(len(self.states)),range(len(self.states))):\n",
    "                    self.transition_matrix[i][j]=sum([self.probit_transit_i_j(t,i,j,ob) for t in range(len(ob)-1)])/sum([self.probit_at_i(t,i,ob) for t in range(len(ob)-1)])\n",
    "                #emission matrix\n",
    "                for j, k in itertools.product(range(len(self.states)),range(len(self.values))):   \n",
    "                    total=0\n",
    "                    \n",
    "                    #Modification: convert notes to 2 classes (outside or inside given chord)\n",
    "                    chord=self.states[j]  #numeric to chord name\n",
    "                    ob_2_class=[note_2_class(chord,ob_t) for ob_t in ob] #2 class\n",
    "\n",
    "                    for t in range(len(ob)):\n",
    "                        if k in ob_2_class[t]:\n",
    "                            #Modification: multiple by how many times do k appear at timestamp t\n",
    "                            total+=self.probit_at_i(t,j,ob)*ob_2_class[t].count(k)  \n",
    "                            \n",
    "                    #Modification: multiple by len(ob[t]), which is the total length of notes at timestamp t                    \n",
    "                    self.emssion_matrix[j][k]=total/sum([self.probit_at_i(t,j,ob)*len(ob[t]) for t in range(len(ob))])  \n",
    "                    \n",
    "                    #smoothing\n",
    "                    if self.emssion_matrix[j][k]==0:\n",
    "                        self.emssion_matrix[j][k]=0.0000000001"
   ]
  },
  {
   "cell_type": "code",
   "execution_count": 4,
   "id": "6466e00d-4ec6-40e8-80cc-f75f17069466",
   "metadata": {},
   "outputs": [],
   "source": [
    "test=HMM(2,2,[\"CMajorI\", \"DMajorI\"],[\"outside chord\",\"inside chord\"])"
   ]
  },
  {
   "cell_type": "code",
   "execution_count": 5,
   "id": "d6512227-d7b9-497b-b725-8633133cb858",
   "metadata": {
    "tags": []
   },
   "outputs": [],
   "source": [
    "test.train([[[10,2,4], [5,0,2], [3,1], [0], [1], [0,1,0]],[[2], [0,3], [3,1], [10], [2], [1]],[[2,0], [10,4], [12,5], [12], [11], [0,1]]],10)"
   ]
  },
  {
   "cell_type": "code",
   "execution_count": 6,
   "id": "36d78a57-2ee3-42ec-aff4-7f3739a8c7e4",
   "metadata": {},
   "outputs": [
    {
     "name": "stdout",
     "output_type": "stream",
     "text": [
      "initial_matrix\n",
      " [1. 0.]\n",
      "transition_matrix\n",
      " [[0.14002659 0.9442555 ]\n",
      " [0.35881461 0.65722131]]\n",
      "emission_matrix\n",
      " [[6.97467846e-01 3.34673677e-01]\n",
      " [1.00000000e+00 1.00000000e-10]]\n"
     ]
    }
   ],
   "source": [
    "test.debug()"
   ]
  }
 ],
 "metadata": {
  "kernelspec": {
   "display_name": "Python 3",
   "language": "python",
   "name": "python3"
  },
  "language_info": {
   "codemirror_mode": {
    "name": "ipython",
    "version": 3
   },
   "file_extension": ".py",
   "mimetype": "text/x-python",
   "name": "python",
   "nbconvert_exporter": "python",
   "pygments_lexer": "ipython3",
   "version": "3.8.8"
  }
 },
 "nbformat": 4,
 "nbformat_minor": 5
}
