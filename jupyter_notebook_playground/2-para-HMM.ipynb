{
 "cells": [
  {
   "cell_type": "code",
   "execution_count": 1,
   "id": "b86d9cfc",
   "metadata": {
    "tags": []
   },
   "outputs": [],
   "source": [
    "import numpy as np\n",
    "import random\n",
    "import itertools\n",
    "import math\n",
    "import tqdm\n",
    "from tqdm import trange\n",
    "import time"
   ]
  },
  {
   "cell_type": "markdown",
   "id": "77e5695e-239c-4b63-a3ad-8158855a82d0",
   "metadata": {},
   "source": [
    "# Helper Function"
   ]
  },
  {
   "cell_type": "code",
   "execution_count": 2,
   "id": "c69cb180",
   "metadata": {
    "tags": []
   },
   "outputs": [],
   "source": [
    "key_mapping={\n",
    "    'C':0,\n",
    "    'D':2,\n",
    "    'E':4,\n",
    "    'F':5,\n",
    "    'G':7,\n",
    "    'A':9,\n",
    "    'B':11\n",
    "}\n",
    "def key2num(key):  \n",
    "  key=key.upper()\n",
    "  num=key_mapping[key[0]]\n",
    "  modifier=len(key)\n",
    "  if modifier==1:\n",
    "    return num\n",
    "  elif key[1]=='#':\n",
    "    return (num+(modifier-1))%12\n",
    "  elif key[1]=='B' or key[1]=='-':\n",
    "    return (num-(modifier-1))%12\n",
    "  elif key[1]=='X':\n",
    "    return (num+(modifier-1)*2)%12\n",
    "\n",
    "# key_list to number_list\n",
    "def keys2num(keys):\n",
    "    return [key2num(key) for key in keys]"
   ]
  },
  {
   "cell_type": "code",
   "execution_count": 3,
   "id": "6388e69d",
   "metadata": {
    "tags": []
   },
   "outputs": [],
   "source": [
    "# function to distingish whether notes in given timestamp and chord are within or outside the chord (0=outside,1=within)\n",
    "import json\n",
    "with open('../modules/json_files/keychorddict.json') as json_file:\n",
    "    chord_notes = json.load(json_file)\n",
    "  \n",
    "    def note_2_class(chord,notes_at_t,chord_notes=chord_notes):\n",
    "        note_in_chord=chord_notes[chord]['idx']\n",
    "        return [int(note in note_in_chord) for note in notes_at_t]"
   ]
  },
  {
   "cell_type": "markdown",
   "id": "7591c0cc-1db0-42eb-8823-4b324eae7b7b",
   "metadata": {},
   "source": [
    "# HMM"
   ]
  },
  {
   "cell_type": "code",
   "execution_count": 4,
   "id": "98269d3d",
   "metadata": {
    "tags": []
   },
   "outputs": [],
   "source": [
    "### I threat the total length of time as the length of the observered list\n",
    "\n",
    "class HMM:\n",
    "    def __init__(self,no_of_state,no_of_value,states,values):\n",
    "        #randomize all matrix, each row should sum to 1\n",
    "        #self.emssion_matrix=np.array([ran/ran.sum() for ran in np.array([np.random.rand(no_of_value) for i in range(no_of_state)])]) #b[i][O]  --> probability to emit values[O] from states[i]\n",
    "        \n",
    "\n",
    "        #Modification: 2 parameter for all chord  [note inside chord & note outside chord]\n",
    "        self.emssion_matrix=np.random.rand(no_of_value)\n",
    "        self.emssion_matrix=self.emssion_matrix/self.emssion_matrix.sum()\n",
    "        if self.emssion_matrix[0]>self.emssion_matrix[1]:\n",
    "            temp=self.emssion_matrix[0]\n",
    "            self.emssion_matrix[0]=self.emssion_matrix[1]\n",
    "            self.emssion_matrix[1]=temp\n",
    "        self.emssion_matrix=np.array([self.emssion_matrix,]*len(states)) \n",
    "        self.emssion_matrix=np.array([[0.2,0.8],]*len(states)) \n",
    "        # assume same probability to emit \"note within chord\"  for all chords\n",
    "        \n",
    "        self.initial_matrix= np.random.rand(no_of_state) #π[i] --> probability to start at states[i]\n",
    "        self.initial_matrix/= self.initial_matrix.sum()\n",
    "        \n",
    "        self.transition_matrix=np.array([ran/ran.sum() for ran in np.array([np.random.rand(no_of_state) for i in range(no_of_state)])])  #a[i][j] --> probability from states[i] transit to states[j]\n",
    "        \n",
    "        self.no_of_state=no_of_state\n",
    "        self.states=states\n",
    "        self.values=values\n",
    "        self.observered=None\n",
    "        \n",
    "        self.probit_at_i_table=None\n",
    "        self.probit_transit_i_j_table=None\n",
    "        self.forward_table=None\n",
    "        self.backward_table=None\n",
    "        \n",
    "        self.chord_probit=None\n",
    "        \n",
    "        #self.prev_initial_matrix=self.initial_matrix\n",
    "        #self.prev_emssion_matrix=self.emssion_matrix\n",
    "        #self.prev_transition_matrix=self.transition_matrix\n",
    "    def update_state_name(self,name):\n",
    "        self.states=name\n",
    "        \n",
    "    def debug(self):\n",
    "        print('initial_matrix\\n',self.initial_matrix)\n",
    "        print('transition_matrix\\n',self.transition_matrix)\n",
    "        print('emission_matrix\\n',self.emssion_matrix)\n",
    "    \n",
    "    def likelihood(self,state,ob_t):\n",
    "        index_to_pitch_sharp = {\n",
    "            0: \"C\",\n",
    "            1: \"C#\",\n",
    "            2: \"D\",\n",
    "            3: \"D#\",\n",
    "            4: \"E\",\n",
    "            5: \"F\",\n",
    "            6: \"F#\",\n",
    "            7: \"G\",\n",
    "            8: \"G#\",\n",
    "            9: \"A\",\n",
    "            10: \"A#\",\n",
    "            11: \"B\",\n",
    "        }\n",
    "        #Modification: convert observation[t] from notes to 2_classes\n",
    "        chord=self.states[state]  #numeric to chord name\n",
    "        \n",
    "        num2note=[index_to_pitch_sharp[e] for e in ob_t]\n",
    "        a=noteToChord.NoteToChord(num2note,chord.split('Minor')[0]+'Minor',5,1)\n",
    "        score = [i['Score'] for i in a]\n",
    "        chords=[i['Chord'] for i in a]\n",
    "        try:\n",
    "            idx=chords.index(chord)\n",
    "        except ValueError:\n",
    "            idx=None\n",
    "        if idx==None:\n",
    "            return 0.000001\n",
    "        \n",
    "        \n",
    "        \n",
    "        \n",
    "        \n",
    "        ob_t=note_2_class(chord,ob_t) #2 class\n",
    "        \n",
    "        prob=1\n",
    "        for x in ob_t:\n",
    "            prob*=(self.emssion_matrix[state][x])\n",
    "        #return prob\n",
    "\n",
    "\n",
    "        return score[idx]/5000*prob/self.chord_probit[state]\n",
    "    \"\"\"#original function\n",
    "    def likelihood(self,state,ob_t):\n",
    "        #Modification: convert observation[t] from notes to 2_classes\n",
    "        chord=self.states[state]  #numeric to chord name\n",
    "        ob_t=note_2_class(chord,ob_t) #2 class\n",
    "        \n",
    "        prob=1\n",
    "        for x in ob_t:\n",
    "            prob*=(self.emssion_matrix[state][x])\n",
    "        return prob\n",
    "    \"\"\"\n",
    " \n",
    "    def forward(self,t,j,ob=None,mode=False):\n",
    "        if ob is None:\n",
    "            ob=self.observered\n",
    "        if np.isnan(self.forward_table[t][j]).any():\n",
    "            if t==0:\n",
    "                if mode==True:\n",
    "                    self.forward_table[t][j]=[self.initial_matrix[j]*self.likelihood(j,ob[t]),0]\n",
    "                    return self.forward_table[t][j][0],self.forward_table[t][j][1]\n",
    "                else:\n",
    "                    self.forward_table[t][j]=self.initial_matrix[j]*self.likelihood(j,ob[t])\n",
    "                    return self.forward_table[t][j]\n",
    "            else:          \n",
    "                if mode==True:\n",
    "                    result=np.array([self.forward(t-1,i,ob,mode)[0]*self.transition_matrix[i][j] for i in range(self.no_of_state)]) * self.likelihood(j,ob[t])\n",
    "                    self.forward_table[t][j]=[np.max(result),np.argmax(result)]\n",
    "                    return self.forward_table[t][j][0],self.forward_table[t][j][1]\n",
    "                else:\n",
    "                    self.forward_table[t][j]=sum([self.forward(t-1,i,ob,mode)*self.transition_matrix[i][j] for i in range(self.no_of_state)]) * self.likelihood(j,ob[t])\n",
    "                    return self.forward_table[t][j]\n",
    "        else:\n",
    "            return self.forward_table[t][j]\n",
    "\n",
    "    def backward(self,t,i,ob=None,mode=False):\n",
    "        if ob is None:\n",
    "            ob=self.observered\n",
    "        if np.isnan(self.backward_table[t][i]) or mode==True:\n",
    "            if t==len(ob)-1:\n",
    "                self.backward_table[t][i]=1\n",
    "                return self.backward_table[t][i]\n",
    "            else:\n",
    "                if mode==True:\n",
    "                    self.backward_table[t][i]=max([self.transition_matrix[i][j]*self.likelihood(j,ob[t+1])*self.backward(t+1,j,ob,mode) for j in range(self.no_of_state)])\n",
    "                    return self.backward_table[t][i]\n",
    "                else:\n",
    "                    self.backward_table[t][i]=sum([self.transition_matrix[i][j]*self.likelihood(j,ob[t+1])*self.backward(t+1,j,ob,mode) for j in range(self.no_of_state)])\n",
    "                    return self.backward_table[t][i]\n",
    "        else:\n",
    "            return self.backward_table[t][i]\n",
    "            \n",
    "           \n",
    "    def probit_at_i(self,t,i,ob=None):#Gamma γt(i) = P(qt = i|O,λ)      \n",
    "        if ob is None:\n",
    "            ob=self.observered\n",
    "        if np.isnan(self.probit_at_i_table[t][i]):\n",
    "            numerator=self.forward(t,i,ob)*self.backward(t,i,ob)#sum probability of all path passing through state[i] at time t\n",
    "            denominator=sum([self.forward(t,j,ob)*self.backward(t,j,ob) for j in range(self.no_of_state)]) #prob of passing through  ALL_state at time t\n",
    "            self.probit_at_i_table[t][i]=numerator/denominator\n",
    "            return self.probit_at_i_table[t][i]\n",
    "        else:\n",
    "            return self.probit_at_i_table[t][i]\n",
    "    \n",
    "    def probit_transit_i_j(self,t,i,j,ob=None):#epsilon ξt(i, j) = P(qt = i,qt+1 = j|O,λ)\n",
    "        if ob is None:\n",
    "            ob=self.observered\n",
    "        if np.isnan(self.probit_transit_i_j_table[t][i][j]):\n",
    "            numerator=self.forward(t,i,ob)*self.transition_matrix[i][j]*self.likelihood(j,ob[t+1])*self.backward(t+1,j,ob)#sum probability of all path transit from state[i] to state[j] at time t\n",
    "            denominator=sum([sum([self.forward(t,m,ob)*self.transition_matrix[m][n]*self.likelihood(n,ob[t+1])*self.backward(t+1,n,ob) for n in range(self.no_of_state)]) for m in range(self.no_of_state)]) #prob of ALL transition combination at time t\n",
    "            self.probit_transit_i_j_table[t][i][j]=(numerator/denominator)\n",
    "            return self.probit_transit_i_j_table[t][i][j]\n",
    "        else:\n",
    "            return self.probit_transit_i_j_table[t][i][j]\n",
    "        \n",
    "    #modify from https://stackoverflow.com/questions/9729968/python-implementation-of-viterbi-algorithm/9730083 , author RBF06(https://stackoverflow.com/users/3311728/rbf06)\n",
    "    def predict(self,ob,test_key_name):  \n",
    "        self.update_state_name([test_key_name.lower()[:-1]+states for states in h_states])\n",
    "        self.forward_table=np.empty((len(ob),self.no_of_state,2))\n",
    "        self.forward_table[:]= np.NaN\n",
    "\n",
    "        T1=np.empty((self.no_of_state,len(ob)),'d')\n",
    "        T2=np.empty((self.no_of_state,len(ob)),'B')\n",
    "        for idx in range(self.no_of_state):\n",
    "            T1[idx,0]=self.forward(0,idx,ob,True)[0]\n",
    "        T2[:,0]=0\n",
    "        \n",
    "        for i in range(1,len(ob)):\n",
    "            for idx in range(self.no_of_state):\n",
    "                T1[idx,i],T2[idx,i]=self.forward(i,idx,ob,True)\n",
    "        x = np.empty(len(ob), 'B')\n",
    "        x[-1] = np.argmax(T1[:, len(ob) - 1])\n",
    "        for i in reversed(range(1, len(ob))):\n",
    "            x[i - 1] = T2[x[i], i]\n",
    "        return x\n",
    "    \n",
    "    def train_supervisied(self,obs,labels,key_name): # by MLE\n",
    "        initial_matrix= np.zeros(self.no_of_state)\n",
    "        emssion_matrix=np.zeros((2)) \n",
    "        transition_matrix=np.array([np.zeros(self.no_of_state) for i in range(self.no_of_state)])\n",
    "\n",
    "        for idx_1,label in enumerate(labels):\n",
    "            self.update_state_name([key_name[idx_1].lower()[:-1]+states for states in h_states])\n",
    "            for idx_2,lab in enumerate(label):\n",
    "                if idx_2==0:\n",
    "                    initial_matrix[self.states.index(label[idx_2])]+=1\n",
    "\n",
    "                else:\n",
    "\n",
    "                    transition_matrix[self.states.index(label[idx_2-1])][self.states.index(label[idx_2])]+=1\n",
    "                    ob_t=note_2_class(lab,obs[idx_1][idx_2]) #2 class\n",
    "                    for x in ob_t:\n",
    "                        emssion_matrix[x]+=1\n",
    "                        \n",
    "        #save back to model\n",
    "\n",
    "        self.initial_matrix=np.array([item/initial_matrix.sum() if item >0 else 0.00000001 for item in initial_matrix])\n",
    "        self.transition_matrix=np.array([row/row.sum() if row.sum()>0 else row+0.00000001 for row in transition_matrix])\n",
    "        for row in range(self.transition_matrix.shape[0]):\n",
    "            for col in range(self.transition_matrix.shape[1]):\n",
    "                if self.transition_matrix[row][col]==0:\n",
    "                    self.transition_matrix[row][col]=0.00000001\n",
    "        self.emssion_matrix=np.array([emssion_matrix/emssion_matrix.sum()] *self.no_of_state) \n",
    "\n",
    "        \n",
    "        \n",
    "    def train(self,obs,key_name,epochs=2):\n",
    "        #O:observed values\n",
    "        #λ:model parameters\n",
    "\n",
    "        \n",
    "        for epoch in range(epochs):\n",
    "            for ob_idx,ob in enumerate(obs):\n",
    "                self.update_state_name([key_name[ob_idx].lower()[:-1]+states for states in h_states])\n",
    "                print('running',ob_idx,key_name[ob_idx].lower()[:-1])\n",
    "                self.probit_at_i_table=np.empty((len(ob),self.no_of_state))\n",
    "                self.probit_transit_i_j_table=np.empty((len(ob),self.no_of_state,self.no_of_state))\n",
    "                self.forward_table=np.empty((len(ob),self.no_of_state))\n",
    "                self.backward_table=np.empty((len(ob),self.no_of_state))\n",
    "                self.probit_at_i_table[:]= np.NaN\n",
    "                self.probit_transit_i_j_table[:]=np.NaN\n",
    "                self.forward_table[:]= np.NaN\n",
    "                self.backward_table[:]=np.NaN\n",
    "                self.chord_probit=self.transition_matrix.sum(axis=0)\n",
    "                self.chord_probit/=self.chord_probit.sum()\n",
    "                #initalize DP table\n",
    "                for t, i in tqdm.tqdm(itertools.product(range(len(ob)),range(self.no_of_state))):\n",
    "                    self.forward(t,i,ob)\n",
    "                    self.backward(t,i,ob)\n",
    "                    self.probit_at_i(t,i,ob)\n",
    "                    for j in range(self.no_of_state):\n",
    "                        if t!=len(ob)-1:\n",
    "                            self.probit_transit_i_j(t,i,j,ob)\n",
    "                \n",
    "                \n",
    "                \n",
    "                #initial matrix\n",
    "                for i in range(self.no_of_state):\n",
    "                    self.initial_matrix[i]=self.probit_at_i(0,i,ob)\n",
    "                    if self.initial_matrix[i]==0:\n",
    "                        self.initial_matrix[i]=0.00000001\n",
    "                #transition matrix\n",
    "                for i, j in itertools.product(range(self.no_of_state),range(self.no_of_state)):\n",
    "                    self.transition_matrix[i][j]=sum([self.probit_transit_i_j(t,i,j,ob) for t in range(len(ob)-1)])/sum([self.probit_at_i(t,i,ob) for t in range(len(ob)-1)])\n",
    "                    if self.transition_matrix[i][j]==0 :\n",
    "                        self.transition_matrix[i][j]=0.00000001\n",
    "                #emission matrix\n",
    "                for j, k in itertools.product(range(self.no_of_state),range(len(self.values))):   \n",
    "                    total=0\n",
    "                    \n",
    "                    #Modification: convert notes to 2 classes (outside or inside given chord)\n",
    "                    chord=self.states[j]  #numeric to chord name\n",
    "                    ob_2_class=[note_2_class(chord,ob_t) for ob_t in ob] #2 class\n",
    "\n",
    "                    for t in range(len(ob)):\n",
    "                        if k in ob_2_class[t]:\n",
    "                            #Modification: multiple by how many times do k appear at timestamp t\n",
    "                            total+=self.probit_at_i(t,j,ob)*ob_2_class[t].count(k)  \n",
    "                            \n",
    "                    #Modification: multiple by len(ob[t]), which is the total length of notes at timestamp t                    \n",
    "                    self.emssion_matrix[:,k]=total/sum([self.probit_at_i(t,j,ob)*len(ob[t]) for t in range(len(ob))])  \n",
    "                    \n",
    "                    #smoothing\n",
    "                    \n",
    "                    if self.emssion_matrix[j][k]==0 :\n",
    "                        self.emssion_matrix[:,k]=0.00000001"
   ]
  },
  {
   "cell_type": "markdown",
   "id": "9f54ec85-8762-4908-b923-3d7e156aff2f",
   "metadata": {},
   "source": [
    "# Training"
   ]
  },
  {
   "cell_type": "code",
   "execution_count": 5,
   "id": "a485daf6",
   "metadata": {},
   "outputs": [],
   "source": [
    "import json\n",
    "with open('../data/training_data.json') as json_file:\n",
    "    data = json.load(json_file)"
   ]
  },
  {
   "cell_type": "code",
   "execution_count": 6,
   "id": "8132eed1",
   "metadata": {},
   "outputs": [],
   "source": [
    "h_states=['MinorI', 'MinorI+',\n",
    "          'MinorbII', 'MinorII', 'MinorII7',\n",
    "          'MinorIII',\n",
    "          'MinorIV', 'MinorIV+',\n",
    "          'MinorV', 'MinorV+', 'MinorV+7',\n",
    "          'MinorVI', 'MinorGerVI', 'MinorFreVI', 'MinorItaVI',\n",
    "          'MinorVII', 'MinorDimVII', 'MinorDimVII7',\n",
    "]\n",
    "#all possible chordm will add the key to the chord afterward e.g. cMinorI"
   ]
  },
  {
   "cell_type": "code",
   "execution_count": 7,
   "id": "e30a9359-f979-4638-a27f-bdc5ac0de634",
   "metadata": {
    "tags": []
   },
   "outputs": [
    {
     "data": {
      "text/plain": [
       "dict_keys(['chord_seq', 'note_seq'])"
      ]
     },
     "execution_count": 7,
     "metadata": {},
     "output_type": "execute_result"
    }
   ],
   "source": [
    "data['Etude_in_C_Minor.mxl'].keys()"
   ]
  },
  {
   "cell_type": "code",
   "execution_count": 8,
   "id": "8eff867f",
   "metadata": {},
   "outputs": [],
   "source": [
    "#prepare train data\n",
    "score_name=['Etude_in_C_Minor',\n",
    "  \n",
    "            'Nocturne_in_C_Minor',\n",
    "            'Nocturne_in_E_Minor',\n",
    "            'Prelude_in_B_Minor',\n",
    "            'Il_Vecchio_Castello',\n",
    "            'Etude_in_F_Minor',\n",
    "          \n",
    "            'Nocturne_No._20_in_C_Minor',\n",
    "            'Prelude_in_C_Minor',\n",
    "              'Piano_Sonata_No._11',\n",
    "             'Nocturne_in_F_Minor',\n",
    "           ]\n",
    "score_key=['Cm','C#m','Em','Bm','G#m','Fm','C#m','Cm','Am','Fm']\n",
    "\n",
    "\n",
    "x_train=[]\n",
    "y_train=[]\n",
    "for idx_root,name in enumerate(score_name):\n",
    "    select_idx=[]\n",
    "    #only extract chord in the same key with the score\n",
    "    for idx,chord in enumerate(data[name+'.mxl']['chord_seq']):\n",
    "        if chord.startswith(score_key[idx_root]):\n",
    "            select_idx.append(idx)\n",
    "    training=[]\n",
    "    training_label=[]\n",
    "    for idx in select_idx:\n",
    "        training.append(data[name+'.mxl']['note_seq'][idx])\n",
    "        tail=data[name+'.mxl']['chord_seq'][idx].split('_')[1]\n",
    "        if tail.startswith('German'):\n",
    "            tail='Ger'+str(tail[6:])\n",
    "        elif tail=='Dim7':\n",
    "            tail='DimVII'\n",
    "        training_label.append(score_key[idx_root][:-1].lower()+'Minor'+tail)\n",
    "    training=[keys2num(segment)for segment in training]\n",
    "    \n",
    "    x_train.append(training)\n",
    "    y_train.append(training_label)"
   ]
  },
  {
   "cell_type": "code",
   "execution_count": 9,
   "id": "e178042f",
   "metadata": {},
   "outputs": [],
   "source": [
    "test=HMM(len(h_states),2,h_states,[\"outside chord\",\"inside chord\"])"
   ]
  },
  {
   "cell_type": "code",
   "execution_count": 10,
   "id": "22e847c2-1411-46e4-9ca1-92d313707ed4",
   "metadata": {},
   "outputs": [],
   "source": [
    "test.train_supervisied(x_train[:1],y_train[:1],score_key)#initialize parameter"
   ]
  },
  {
   "cell_type": "code",
   "execution_count": 13,
   "id": "09f21313-b57a-42df-9cb0-cfa52340bdd7",
   "metadata": {
    "collapsed": true,
    "jupyter": {
     "outputs_hidden": true
    },
    "tags": []
   },
   "outputs": [
    {
     "name": "stderr",
     "output_type": "stream",
     "text": [
      "0it [00:00, ?it/s]"
     ]
    },
    {
     "name": "stdout",
     "output_type": "stream",
     "text": [
      "running 0 c\n"
     ]
    },
    {
     "name": "stderr",
     "output_type": "stream",
     "text": [
      "1170it [23:10,  1.19s/it]\n",
      "0it [00:00, ?it/s]"
     ]
    },
    {
     "name": "stdout",
     "output_type": "stream",
     "text": [
      "running 1 c#\n"
     ]
    },
    {
     "name": "stderr",
     "output_type": "stream",
     "text": [
      "0it [00:05, ?it/s]\n"
     ]
    },
    {
     "ename": "KeyboardInterrupt",
     "evalue": "",
     "output_type": "error",
     "traceback": [
      "\u001b[1;31m---------------------------------------------------------------------------\u001b[0m",
      "\u001b[1;31mKeyboardInterrupt\u001b[0m                         Traceback (most recent call last)",
      "\u001b[1;32m<ipython-input-13-27b7fafa9d67>\u001b[0m in \u001b[0;36m<module>\u001b[1;34m\u001b[0m\n\u001b[0;32m      1\u001b[0m \u001b[1;32mimport\u001b[0m \u001b[0mtime\u001b[0m\u001b[1;33m\u001b[0m\u001b[1;33m\u001b[0m\u001b[0m\n\u001b[0;32m      2\u001b[0m \u001b[0mstart\u001b[0m\u001b[1;33m=\u001b[0m\u001b[0mtime\u001b[0m\u001b[1;33m.\u001b[0m\u001b[0mtime\u001b[0m\u001b[1;33m(\u001b[0m\u001b[1;33m)\u001b[0m\u001b[1;33m\u001b[0m\u001b[1;33m\u001b[0m\u001b[0m\n\u001b[1;32m----> 3\u001b[1;33m \u001b[0mtest\u001b[0m\u001b[1;33m.\u001b[0m\u001b[0mtrain\u001b[0m\u001b[1;33m(\u001b[0m\u001b[0mx_train\u001b[0m\u001b[1;33m,\u001b[0m\u001b[0mscore_key\u001b[0m\u001b[1;33m,\u001b[0m\u001b[1;36m1\u001b[0m\u001b[1;33m)\u001b[0m\u001b[1;33m\u001b[0m\u001b[1;33m\u001b[0m\u001b[0m\n\u001b[0m\u001b[0;32m      4\u001b[0m \u001b[0mprint\u001b[0m\u001b[1;33m(\u001b[0m\u001b[1;34m'timetaken'\u001b[0m\u001b[1;33m,\u001b[0m\u001b[0mtime\u001b[0m\u001b[1;33m.\u001b[0m\u001b[0mtime\u001b[0m\u001b[1;33m(\u001b[0m\u001b[1;33m)\u001b[0m\u001b[1;33m-\u001b[0m\u001b[0mstart\u001b[0m\u001b[1;33m)\u001b[0m\u001b[1;33m\u001b[0m\u001b[1;33m\u001b[0m\u001b[0m\n",
      "\u001b[1;32m<ipython-input-4-b22affab88c9>\u001b[0m in \u001b[0;36mtrain\u001b[1;34m(self, obs, key_name, epochs)\u001b[0m\n\u001b[0;32m    239\u001b[0m                     \u001b[1;32mfor\u001b[0m \u001b[0mj\u001b[0m \u001b[1;32min\u001b[0m \u001b[0mrange\u001b[0m\u001b[1;33m(\u001b[0m\u001b[0mself\u001b[0m\u001b[1;33m.\u001b[0m\u001b[0mno_of_state\u001b[0m\u001b[1;33m)\u001b[0m\u001b[1;33m:\u001b[0m\u001b[1;33m\u001b[0m\u001b[1;33m\u001b[0m\u001b[0m\n\u001b[0;32m    240\u001b[0m                         \u001b[1;32mif\u001b[0m \u001b[0mt\u001b[0m\u001b[1;33m!=\u001b[0m\u001b[0mlen\u001b[0m\u001b[1;33m(\u001b[0m\u001b[0mob\u001b[0m\u001b[1;33m)\u001b[0m\u001b[1;33m-\u001b[0m\u001b[1;36m1\u001b[0m\u001b[1;33m:\u001b[0m\u001b[1;33m\u001b[0m\u001b[1;33m\u001b[0m\u001b[0m\n\u001b[1;32m--> 241\u001b[1;33m                             \u001b[0mself\u001b[0m\u001b[1;33m.\u001b[0m\u001b[0mprobit_transit_i_j\u001b[0m\u001b[1;33m(\u001b[0m\u001b[0mt\u001b[0m\u001b[1;33m,\u001b[0m\u001b[0mi\u001b[0m\u001b[1;33m,\u001b[0m\u001b[0mj\u001b[0m\u001b[1;33m,\u001b[0m\u001b[0mob\u001b[0m\u001b[1;33m)\u001b[0m\u001b[1;33m\u001b[0m\u001b[1;33m\u001b[0m\u001b[0m\n\u001b[0m\u001b[0;32m    242\u001b[0m \u001b[1;33m\u001b[0m\u001b[0m\n\u001b[0;32m    243\u001b[0m \u001b[1;33m\u001b[0m\u001b[0m\n",
      "\u001b[1;32m<ipython-input-4-b22affab88c9>\u001b[0m in \u001b[0;36mprobit_transit_i_j\u001b[1;34m(self, t, i, j, ob)\u001b[0m\n\u001b[0;32m    156\u001b[0m         \u001b[1;32mif\u001b[0m \u001b[0mnp\u001b[0m\u001b[1;33m.\u001b[0m\u001b[0misnan\u001b[0m\u001b[1;33m(\u001b[0m\u001b[0mself\u001b[0m\u001b[1;33m.\u001b[0m\u001b[0mprobit_transit_i_j_table\u001b[0m\u001b[1;33m[\u001b[0m\u001b[0mt\u001b[0m\u001b[1;33m]\u001b[0m\u001b[1;33m[\u001b[0m\u001b[0mi\u001b[0m\u001b[1;33m]\u001b[0m\u001b[1;33m[\u001b[0m\u001b[0mj\u001b[0m\u001b[1;33m]\u001b[0m\u001b[1;33m)\u001b[0m\u001b[1;33m:\u001b[0m\u001b[1;33m\u001b[0m\u001b[1;33m\u001b[0m\u001b[0m\n\u001b[0;32m    157\u001b[0m             \u001b[0mnumerator\u001b[0m\u001b[1;33m=\u001b[0m\u001b[0mself\u001b[0m\u001b[1;33m.\u001b[0m\u001b[0mforward\u001b[0m\u001b[1;33m(\u001b[0m\u001b[0mt\u001b[0m\u001b[1;33m,\u001b[0m\u001b[0mi\u001b[0m\u001b[1;33m,\u001b[0m\u001b[0mob\u001b[0m\u001b[1;33m)\u001b[0m\u001b[1;33m*\u001b[0m\u001b[0mself\u001b[0m\u001b[1;33m.\u001b[0m\u001b[0mtransition_matrix\u001b[0m\u001b[1;33m[\u001b[0m\u001b[0mi\u001b[0m\u001b[1;33m]\u001b[0m\u001b[1;33m[\u001b[0m\u001b[0mj\u001b[0m\u001b[1;33m]\u001b[0m\u001b[1;33m*\u001b[0m\u001b[0mself\u001b[0m\u001b[1;33m.\u001b[0m\u001b[0mlikelihood\u001b[0m\u001b[1;33m(\u001b[0m\u001b[0mj\u001b[0m\u001b[1;33m,\u001b[0m\u001b[0mob\u001b[0m\u001b[1;33m[\u001b[0m\u001b[0mt\u001b[0m\u001b[1;33m+\u001b[0m\u001b[1;36m1\u001b[0m\u001b[1;33m]\u001b[0m\u001b[1;33m)\u001b[0m\u001b[1;33m*\u001b[0m\u001b[0mself\u001b[0m\u001b[1;33m.\u001b[0m\u001b[0mbackward\u001b[0m\u001b[1;33m(\u001b[0m\u001b[0mt\u001b[0m\u001b[1;33m+\u001b[0m\u001b[1;36m1\u001b[0m\u001b[1;33m,\u001b[0m\u001b[0mj\u001b[0m\u001b[1;33m,\u001b[0m\u001b[0mob\u001b[0m\u001b[1;33m)\u001b[0m\u001b[1;31m#sum probability of all path transit from state[i] to state[j] at time t\u001b[0m\u001b[1;33m\u001b[0m\u001b[1;33m\u001b[0m\u001b[0m\n\u001b[1;32m--> 158\u001b[1;33m             \u001b[0mdenominator\u001b[0m\u001b[1;33m=\u001b[0m\u001b[0msum\u001b[0m\u001b[1;33m(\u001b[0m\u001b[1;33m[\u001b[0m\u001b[0msum\u001b[0m\u001b[1;33m(\u001b[0m\u001b[1;33m[\u001b[0m\u001b[0mself\u001b[0m\u001b[1;33m.\u001b[0m\u001b[0mforward\u001b[0m\u001b[1;33m(\u001b[0m\u001b[0mt\u001b[0m\u001b[1;33m,\u001b[0m\u001b[0mm\u001b[0m\u001b[1;33m,\u001b[0m\u001b[0mob\u001b[0m\u001b[1;33m)\u001b[0m\u001b[1;33m*\u001b[0m\u001b[0mself\u001b[0m\u001b[1;33m.\u001b[0m\u001b[0mtransition_matrix\u001b[0m\u001b[1;33m[\u001b[0m\u001b[0mm\u001b[0m\u001b[1;33m]\u001b[0m\u001b[1;33m[\u001b[0m\u001b[0mn\u001b[0m\u001b[1;33m]\u001b[0m\u001b[1;33m*\u001b[0m\u001b[0mself\u001b[0m\u001b[1;33m.\u001b[0m\u001b[0mlikelihood\u001b[0m\u001b[1;33m(\u001b[0m\u001b[0mn\u001b[0m\u001b[1;33m,\u001b[0m\u001b[0mob\u001b[0m\u001b[1;33m[\u001b[0m\u001b[0mt\u001b[0m\u001b[1;33m+\u001b[0m\u001b[1;36m1\u001b[0m\u001b[1;33m]\u001b[0m\u001b[1;33m)\u001b[0m\u001b[1;33m*\u001b[0m\u001b[0mself\u001b[0m\u001b[1;33m.\u001b[0m\u001b[0mbackward\u001b[0m\u001b[1;33m(\u001b[0m\u001b[0mt\u001b[0m\u001b[1;33m+\u001b[0m\u001b[1;36m1\u001b[0m\u001b[1;33m,\u001b[0m\u001b[0mn\u001b[0m\u001b[1;33m,\u001b[0m\u001b[0mob\u001b[0m\u001b[1;33m)\u001b[0m \u001b[1;32mfor\u001b[0m \u001b[0mn\u001b[0m \u001b[1;32min\u001b[0m \u001b[0mrange\u001b[0m\u001b[1;33m(\u001b[0m\u001b[0mself\u001b[0m\u001b[1;33m.\u001b[0m\u001b[0mno_of_state\u001b[0m\u001b[1;33m)\u001b[0m\u001b[1;33m]\u001b[0m\u001b[1;33m)\u001b[0m \u001b[1;32mfor\u001b[0m \u001b[0mm\u001b[0m \u001b[1;32min\u001b[0m \u001b[0mrange\u001b[0m\u001b[1;33m(\u001b[0m\u001b[0mself\u001b[0m\u001b[1;33m.\u001b[0m\u001b[0mno_of_state\u001b[0m\u001b[1;33m)\u001b[0m\u001b[1;33m]\u001b[0m\u001b[1;33m)\u001b[0m \u001b[1;31m#prob of ALL transition combination at time t\u001b[0m\u001b[1;33m\u001b[0m\u001b[1;33m\u001b[0m\u001b[0m\n\u001b[0m\u001b[0;32m    159\u001b[0m             \u001b[0mself\u001b[0m\u001b[1;33m.\u001b[0m\u001b[0mprobit_transit_i_j_table\u001b[0m\u001b[1;33m[\u001b[0m\u001b[0mt\u001b[0m\u001b[1;33m]\u001b[0m\u001b[1;33m[\u001b[0m\u001b[0mi\u001b[0m\u001b[1;33m]\u001b[0m\u001b[1;33m[\u001b[0m\u001b[0mj\u001b[0m\u001b[1;33m]\u001b[0m\u001b[1;33m=\u001b[0m\u001b[1;33m(\u001b[0m\u001b[0mnumerator\u001b[0m\u001b[1;33m/\u001b[0m\u001b[0mdenominator\u001b[0m\u001b[1;33m)\u001b[0m\u001b[1;33m\u001b[0m\u001b[1;33m\u001b[0m\u001b[0m\n\u001b[0;32m    160\u001b[0m             \u001b[1;32mreturn\u001b[0m \u001b[0mself\u001b[0m\u001b[1;33m.\u001b[0m\u001b[0mprobit_transit_i_j_table\u001b[0m\u001b[1;33m[\u001b[0m\u001b[0mt\u001b[0m\u001b[1;33m]\u001b[0m\u001b[1;33m[\u001b[0m\u001b[0mi\u001b[0m\u001b[1;33m]\u001b[0m\u001b[1;33m[\u001b[0m\u001b[0mj\u001b[0m\u001b[1;33m]\u001b[0m\u001b[1;33m\u001b[0m\u001b[1;33m\u001b[0m\u001b[0m\n",
      "\u001b[1;32m<ipython-input-4-b22affab88c9>\u001b[0m in \u001b[0;36m<listcomp>\u001b[1;34m(.0)\u001b[0m\n\u001b[0;32m    156\u001b[0m         \u001b[1;32mif\u001b[0m \u001b[0mnp\u001b[0m\u001b[1;33m.\u001b[0m\u001b[0misnan\u001b[0m\u001b[1;33m(\u001b[0m\u001b[0mself\u001b[0m\u001b[1;33m.\u001b[0m\u001b[0mprobit_transit_i_j_table\u001b[0m\u001b[1;33m[\u001b[0m\u001b[0mt\u001b[0m\u001b[1;33m]\u001b[0m\u001b[1;33m[\u001b[0m\u001b[0mi\u001b[0m\u001b[1;33m]\u001b[0m\u001b[1;33m[\u001b[0m\u001b[0mj\u001b[0m\u001b[1;33m]\u001b[0m\u001b[1;33m)\u001b[0m\u001b[1;33m:\u001b[0m\u001b[1;33m\u001b[0m\u001b[1;33m\u001b[0m\u001b[0m\n\u001b[0;32m    157\u001b[0m             \u001b[0mnumerator\u001b[0m\u001b[1;33m=\u001b[0m\u001b[0mself\u001b[0m\u001b[1;33m.\u001b[0m\u001b[0mforward\u001b[0m\u001b[1;33m(\u001b[0m\u001b[0mt\u001b[0m\u001b[1;33m,\u001b[0m\u001b[0mi\u001b[0m\u001b[1;33m,\u001b[0m\u001b[0mob\u001b[0m\u001b[1;33m)\u001b[0m\u001b[1;33m*\u001b[0m\u001b[0mself\u001b[0m\u001b[1;33m.\u001b[0m\u001b[0mtransition_matrix\u001b[0m\u001b[1;33m[\u001b[0m\u001b[0mi\u001b[0m\u001b[1;33m]\u001b[0m\u001b[1;33m[\u001b[0m\u001b[0mj\u001b[0m\u001b[1;33m]\u001b[0m\u001b[1;33m*\u001b[0m\u001b[0mself\u001b[0m\u001b[1;33m.\u001b[0m\u001b[0mlikelihood\u001b[0m\u001b[1;33m(\u001b[0m\u001b[0mj\u001b[0m\u001b[1;33m,\u001b[0m\u001b[0mob\u001b[0m\u001b[1;33m[\u001b[0m\u001b[0mt\u001b[0m\u001b[1;33m+\u001b[0m\u001b[1;36m1\u001b[0m\u001b[1;33m]\u001b[0m\u001b[1;33m)\u001b[0m\u001b[1;33m*\u001b[0m\u001b[0mself\u001b[0m\u001b[1;33m.\u001b[0m\u001b[0mbackward\u001b[0m\u001b[1;33m(\u001b[0m\u001b[0mt\u001b[0m\u001b[1;33m+\u001b[0m\u001b[1;36m1\u001b[0m\u001b[1;33m,\u001b[0m\u001b[0mj\u001b[0m\u001b[1;33m,\u001b[0m\u001b[0mob\u001b[0m\u001b[1;33m)\u001b[0m\u001b[1;31m#sum probability of all path transit from state[i] to state[j] at time t\u001b[0m\u001b[1;33m\u001b[0m\u001b[1;33m\u001b[0m\u001b[0m\n\u001b[1;32m--> 158\u001b[1;33m             \u001b[0mdenominator\u001b[0m\u001b[1;33m=\u001b[0m\u001b[0msum\u001b[0m\u001b[1;33m(\u001b[0m\u001b[1;33m[\u001b[0m\u001b[0msum\u001b[0m\u001b[1;33m(\u001b[0m\u001b[1;33m[\u001b[0m\u001b[0mself\u001b[0m\u001b[1;33m.\u001b[0m\u001b[0mforward\u001b[0m\u001b[1;33m(\u001b[0m\u001b[0mt\u001b[0m\u001b[1;33m,\u001b[0m\u001b[0mm\u001b[0m\u001b[1;33m,\u001b[0m\u001b[0mob\u001b[0m\u001b[1;33m)\u001b[0m\u001b[1;33m*\u001b[0m\u001b[0mself\u001b[0m\u001b[1;33m.\u001b[0m\u001b[0mtransition_matrix\u001b[0m\u001b[1;33m[\u001b[0m\u001b[0mm\u001b[0m\u001b[1;33m]\u001b[0m\u001b[1;33m[\u001b[0m\u001b[0mn\u001b[0m\u001b[1;33m]\u001b[0m\u001b[1;33m*\u001b[0m\u001b[0mself\u001b[0m\u001b[1;33m.\u001b[0m\u001b[0mlikelihood\u001b[0m\u001b[1;33m(\u001b[0m\u001b[0mn\u001b[0m\u001b[1;33m,\u001b[0m\u001b[0mob\u001b[0m\u001b[1;33m[\u001b[0m\u001b[0mt\u001b[0m\u001b[1;33m+\u001b[0m\u001b[1;36m1\u001b[0m\u001b[1;33m]\u001b[0m\u001b[1;33m)\u001b[0m\u001b[1;33m*\u001b[0m\u001b[0mself\u001b[0m\u001b[1;33m.\u001b[0m\u001b[0mbackward\u001b[0m\u001b[1;33m(\u001b[0m\u001b[0mt\u001b[0m\u001b[1;33m+\u001b[0m\u001b[1;36m1\u001b[0m\u001b[1;33m,\u001b[0m\u001b[0mn\u001b[0m\u001b[1;33m,\u001b[0m\u001b[0mob\u001b[0m\u001b[1;33m)\u001b[0m \u001b[1;32mfor\u001b[0m \u001b[0mn\u001b[0m \u001b[1;32min\u001b[0m \u001b[0mrange\u001b[0m\u001b[1;33m(\u001b[0m\u001b[0mself\u001b[0m\u001b[1;33m.\u001b[0m\u001b[0mno_of_state\u001b[0m\u001b[1;33m)\u001b[0m\u001b[1;33m]\u001b[0m\u001b[1;33m)\u001b[0m \u001b[1;32mfor\u001b[0m \u001b[0mm\u001b[0m \u001b[1;32min\u001b[0m \u001b[0mrange\u001b[0m\u001b[1;33m(\u001b[0m\u001b[0mself\u001b[0m\u001b[1;33m.\u001b[0m\u001b[0mno_of_state\u001b[0m\u001b[1;33m)\u001b[0m\u001b[1;33m]\u001b[0m\u001b[1;33m)\u001b[0m \u001b[1;31m#prob of ALL transition combination at time t\u001b[0m\u001b[1;33m\u001b[0m\u001b[1;33m\u001b[0m\u001b[0m\n\u001b[0m\u001b[0;32m    159\u001b[0m             \u001b[0mself\u001b[0m\u001b[1;33m.\u001b[0m\u001b[0mprobit_transit_i_j_table\u001b[0m\u001b[1;33m[\u001b[0m\u001b[0mt\u001b[0m\u001b[1;33m]\u001b[0m\u001b[1;33m[\u001b[0m\u001b[0mi\u001b[0m\u001b[1;33m]\u001b[0m\u001b[1;33m[\u001b[0m\u001b[0mj\u001b[0m\u001b[1;33m]\u001b[0m\u001b[1;33m=\u001b[0m\u001b[1;33m(\u001b[0m\u001b[0mnumerator\u001b[0m\u001b[1;33m/\u001b[0m\u001b[0mdenominator\u001b[0m\u001b[1;33m)\u001b[0m\u001b[1;33m\u001b[0m\u001b[1;33m\u001b[0m\u001b[0m\n\u001b[0;32m    160\u001b[0m             \u001b[1;32mreturn\u001b[0m \u001b[0mself\u001b[0m\u001b[1;33m.\u001b[0m\u001b[0mprobit_transit_i_j_table\u001b[0m\u001b[1;33m[\u001b[0m\u001b[0mt\u001b[0m\u001b[1;33m]\u001b[0m\u001b[1;33m[\u001b[0m\u001b[0mi\u001b[0m\u001b[1;33m]\u001b[0m\u001b[1;33m[\u001b[0m\u001b[0mj\u001b[0m\u001b[1;33m]\u001b[0m\u001b[1;33m\u001b[0m\u001b[1;33m\u001b[0m\u001b[0m\n",
      "\u001b[1;32m<ipython-input-4-b22affab88c9>\u001b[0m in \u001b[0;36m<listcomp>\u001b[1;34m(.0)\u001b[0m\n\u001b[0;32m    156\u001b[0m         \u001b[1;32mif\u001b[0m \u001b[0mnp\u001b[0m\u001b[1;33m.\u001b[0m\u001b[0misnan\u001b[0m\u001b[1;33m(\u001b[0m\u001b[0mself\u001b[0m\u001b[1;33m.\u001b[0m\u001b[0mprobit_transit_i_j_table\u001b[0m\u001b[1;33m[\u001b[0m\u001b[0mt\u001b[0m\u001b[1;33m]\u001b[0m\u001b[1;33m[\u001b[0m\u001b[0mi\u001b[0m\u001b[1;33m]\u001b[0m\u001b[1;33m[\u001b[0m\u001b[0mj\u001b[0m\u001b[1;33m]\u001b[0m\u001b[1;33m)\u001b[0m\u001b[1;33m:\u001b[0m\u001b[1;33m\u001b[0m\u001b[1;33m\u001b[0m\u001b[0m\n\u001b[0;32m    157\u001b[0m             \u001b[0mnumerator\u001b[0m\u001b[1;33m=\u001b[0m\u001b[0mself\u001b[0m\u001b[1;33m.\u001b[0m\u001b[0mforward\u001b[0m\u001b[1;33m(\u001b[0m\u001b[0mt\u001b[0m\u001b[1;33m,\u001b[0m\u001b[0mi\u001b[0m\u001b[1;33m,\u001b[0m\u001b[0mob\u001b[0m\u001b[1;33m)\u001b[0m\u001b[1;33m*\u001b[0m\u001b[0mself\u001b[0m\u001b[1;33m.\u001b[0m\u001b[0mtransition_matrix\u001b[0m\u001b[1;33m[\u001b[0m\u001b[0mi\u001b[0m\u001b[1;33m]\u001b[0m\u001b[1;33m[\u001b[0m\u001b[0mj\u001b[0m\u001b[1;33m]\u001b[0m\u001b[1;33m*\u001b[0m\u001b[0mself\u001b[0m\u001b[1;33m.\u001b[0m\u001b[0mlikelihood\u001b[0m\u001b[1;33m(\u001b[0m\u001b[0mj\u001b[0m\u001b[1;33m,\u001b[0m\u001b[0mob\u001b[0m\u001b[1;33m[\u001b[0m\u001b[0mt\u001b[0m\u001b[1;33m+\u001b[0m\u001b[1;36m1\u001b[0m\u001b[1;33m]\u001b[0m\u001b[1;33m)\u001b[0m\u001b[1;33m*\u001b[0m\u001b[0mself\u001b[0m\u001b[1;33m.\u001b[0m\u001b[0mbackward\u001b[0m\u001b[1;33m(\u001b[0m\u001b[0mt\u001b[0m\u001b[1;33m+\u001b[0m\u001b[1;36m1\u001b[0m\u001b[1;33m,\u001b[0m\u001b[0mj\u001b[0m\u001b[1;33m,\u001b[0m\u001b[0mob\u001b[0m\u001b[1;33m)\u001b[0m\u001b[1;31m#sum probability of all path transit from state[i] to state[j] at time t\u001b[0m\u001b[1;33m\u001b[0m\u001b[1;33m\u001b[0m\u001b[0m\n\u001b[1;32m--> 158\u001b[1;33m             \u001b[0mdenominator\u001b[0m\u001b[1;33m=\u001b[0m\u001b[0msum\u001b[0m\u001b[1;33m(\u001b[0m\u001b[1;33m[\u001b[0m\u001b[0msum\u001b[0m\u001b[1;33m(\u001b[0m\u001b[1;33m[\u001b[0m\u001b[0mself\u001b[0m\u001b[1;33m.\u001b[0m\u001b[0mforward\u001b[0m\u001b[1;33m(\u001b[0m\u001b[0mt\u001b[0m\u001b[1;33m,\u001b[0m\u001b[0mm\u001b[0m\u001b[1;33m,\u001b[0m\u001b[0mob\u001b[0m\u001b[1;33m)\u001b[0m\u001b[1;33m*\u001b[0m\u001b[0mself\u001b[0m\u001b[1;33m.\u001b[0m\u001b[0mtransition_matrix\u001b[0m\u001b[1;33m[\u001b[0m\u001b[0mm\u001b[0m\u001b[1;33m]\u001b[0m\u001b[1;33m[\u001b[0m\u001b[0mn\u001b[0m\u001b[1;33m]\u001b[0m\u001b[1;33m*\u001b[0m\u001b[0mself\u001b[0m\u001b[1;33m.\u001b[0m\u001b[0mlikelihood\u001b[0m\u001b[1;33m(\u001b[0m\u001b[0mn\u001b[0m\u001b[1;33m,\u001b[0m\u001b[0mob\u001b[0m\u001b[1;33m[\u001b[0m\u001b[0mt\u001b[0m\u001b[1;33m+\u001b[0m\u001b[1;36m1\u001b[0m\u001b[1;33m]\u001b[0m\u001b[1;33m)\u001b[0m\u001b[1;33m*\u001b[0m\u001b[0mself\u001b[0m\u001b[1;33m.\u001b[0m\u001b[0mbackward\u001b[0m\u001b[1;33m(\u001b[0m\u001b[0mt\u001b[0m\u001b[1;33m+\u001b[0m\u001b[1;36m1\u001b[0m\u001b[1;33m,\u001b[0m\u001b[0mn\u001b[0m\u001b[1;33m,\u001b[0m\u001b[0mob\u001b[0m\u001b[1;33m)\u001b[0m \u001b[1;32mfor\u001b[0m \u001b[0mn\u001b[0m \u001b[1;32min\u001b[0m \u001b[0mrange\u001b[0m\u001b[1;33m(\u001b[0m\u001b[0mself\u001b[0m\u001b[1;33m.\u001b[0m\u001b[0mno_of_state\u001b[0m\u001b[1;33m)\u001b[0m\u001b[1;33m]\u001b[0m\u001b[1;33m)\u001b[0m \u001b[1;32mfor\u001b[0m \u001b[0mm\u001b[0m \u001b[1;32min\u001b[0m \u001b[0mrange\u001b[0m\u001b[1;33m(\u001b[0m\u001b[0mself\u001b[0m\u001b[1;33m.\u001b[0m\u001b[0mno_of_state\u001b[0m\u001b[1;33m)\u001b[0m\u001b[1;33m]\u001b[0m\u001b[1;33m)\u001b[0m \u001b[1;31m#prob of ALL transition combination at time t\u001b[0m\u001b[1;33m\u001b[0m\u001b[1;33m\u001b[0m\u001b[0m\n\u001b[0m\u001b[0;32m    159\u001b[0m             \u001b[0mself\u001b[0m\u001b[1;33m.\u001b[0m\u001b[0mprobit_transit_i_j_table\u001b[0m\u001b[1;33m[\u001b[0m\u001b[0mt\u001b[0m\u001b[1;33m]\u001b[0m\u001b[1;33m[\u001b[0m\u001b[0mi\u001b[0m\u001b[1;33m]\u001b[0m\u001b[1;33m[\u001b[0m\u001b[0mj\u001b[0m\u001b[1;33m]\u001b[0m\u001b[1;33m=\u001b[0m\u001b[1;33m(\u001b[0m\u001b[0mnumerator\u001b[0m\u001b[1;33m/\u001b[0m\u001b[0mdenominator\u001b[0m\u001b[1;33m)\u001b[0m\u001b[1;33m\u001b[0m\u001b[1;33m\u001b[0m\u001b[0m\n\u001b[0;32m    160\u001b[0m             \u001b[1;32mreturn\u001b[0m \u001b[0mself\u001b[0m\u001b[1;33m.\u001b[0m\u001b[0mprobit_transit_i_j_table\u001b[0m\u001b[1;33m[\u001b[0m\u001b[0mt\u001b[0m\u001b[1;33m]\u001b[0m\u001b[1;33m[\u001b[0m\u001b[0mi\u001b[0m\u001b[1;33m]\u001b[0m\u001b[1;33m[\u001b[0m\u001b[0mj\u001b[0m\u001b[1;33m]\u001b[0m\u001b[1;33m\u001b[0m\u001b[1;33m\u001b[0m\u001b[0m\n",
      "\u001b[1;32m<ipython-input-4-b22affab88c9>\u001b[0m in \u001b[0;36mlikelihood\u001b[1;34m(self, state, ob_t)\u001b[0m\n\u001b[0;32m     65\u001b[0m \u001b[1;33m\u001b[0m\u001b[0m\n\u001b[0;32m     66\u001b[0m         \u001b[0mnum2note\u001b[0m\u001b[1;33m=\u001b[0m\u001b[1;33m[\u001b[0m\u001b[0mindex_to_pitch_sharp\u001b[0m\u001b[1;33m[\u001b[0m\u001b[0me\u001b[0m\u001b[1;33m]\u001b[0m \u001b[1;32mfor\u001b[0m \u001b[0me\u001b[0m \u001b[1;32min\u001b[0m \u001b[0mob_t\u001b[0m\u001b[1;33m]\u001b[0m\u001b[1;33m\u001b[0m\u001b[1;33m\u001b[0m\u001b[0m\n\u001b[1;32m---> 67\u001b[1;33m         \u001b[0ma\u001b[0m\u001b[1;33m=\u001b[0m\u001b[0mnoteToChord\u001b[0m\u001b[1;33m.\u001b[0m\u001b[0mNoteToChord\u001b[0m\u001b[1;33m(\u001b[0m\u001b[0mnum2note\u001b[0m\u001b[1;33m,\u001b[0m\u001b[0mchord\u001b[0m\u001b[1;33m.\u001b[0m\u001b[0msplit\u001b[0m\u001b[1;33m(\u001b[0m\u001b[1;34m'Minor'\u001b[0m\u001b[1;33m)\u001b[0m\u001b[1;33m[\u001b[0m\u001b[1;36m0\u001b[0m\u001b[1;33m]\u001b[0m\u001b[1;33m+\u001b[0m\u001b[1;34m'Minor'\u001b[0m\u001b[1;33m,\u001b[0m\u001b[1;36m5\u001b[0m\u001b[1;33m,\u001b[0m\u001b[1;36m1\u001b[0m\u001b[1;33m)\u001b[0m\u001b[1;33m\u001b[0m\u001b[1;33m\u001b[0m\u001b[0m\n\u001b[0m\u001b[0;32m     68\u001b[0m         \u001b[0mscore\u001b[0m \u001b[1;33m=\u001b[0m \u001b[1;33m[\u001b[0m\u001b[0mi\u001b[0m\u001b[1;33m[\u001b[0m\u001b[1;34m'Score'\u001b[0m\u001b[1;33m]\u001b[0m \u001b[1;32mfor\u001b[0m \u001b[0mi\u001b[0m \u001b[1;32min\u001b[0m \u001b[0ma\u001b[0m\u001b[1;33m]\u001b[0m\u001b[1;33m\u001b[0m\u001b[1;33m\u001b[0m\u001b[0m\n\u001b[0;32m     69\u001b[0m         \u001b[0mchords\u001b[0m\u001b[1;33m=\u001b[0m\u001b[1;33m[\u001b[0m\u001b[0mi\u001b[0m\u001b[1;33m[\u001b[0m\u001b[1;34m'Chord'\u001b[0m\u001b[1;33m]\u001b[0m \u001b[1;32mfor\u001b[0m \u001b[0mi\u001b[0m \u001b[1;32min\u001b[0m \u001b[0ma\u001b[0m\u001b[1;33m]\u001b[0m\u001b[1;33m\u001b[0m\u001b[1;33m\u001b[0m\u001b[0m\n",
      "\u001b[1;32m~\\OneDrive - The Chinese University of Hong Kong\\fyp\\fyp-chord-identification\\modules\\noteToChord.py\u001b[0m in \u001b[0;36mNoteToChord\u001b[1;34m(keys_name, key, numOut, threshold)\u001b[0m\n\u001b[0;32m    126\u001b[0m     \u001b[1;32mfor\u001b[0m \u001b[0mi\u001b[0m \u001b[1;32min\u001b[0m \u001b[0mrange\u001b[0m\u001b[1;33m(\u001b[0m\u001b[0mthreshold\u001b[0m\u001b[1;33m,\u001b[0m \u001b[1;36m5\u001b[0m\u001b[1;33m)\u001b[0m\u001b[1;33m:\u001b[0m\u001b[1;33m\u001b[0m\u001b[1;33m\u001b[0m\u001b[0m\n\u001b[0;32m    127\u001b[0m         \u001b[1;32mfor\u001b[0m \u001b[0meach\u001b[0m \u001b[1;32min\u001b[0m \u001b[0mitertools\u001b[0m\u001b[1;33m.\u001b[0m\u001b[0mcombinations\u001b[0m\u001b[1;33m(\u001b[0m\u001b[0msorted_keys\u001b[0m\u001b[1;33m,\u001b[0m \u001b[0mi\u001b[0m\u001b[1;33m)\u001b[0m\u001b[1;33m:\u001b[0m\u001b[1;33m\u001b[0m\u001b[1;33m\u001b[0m\u001b[0m\n\u001b[1;32m--> 128\u001b[1;33m             \u001b[0mpossible_chords\u001b[0m\u001b[1;33m.\u001b[0m\u001b[0mupdate\u001b[0m\u001b[1;33m(\u001b[0m\u001b[0mkey_chord_name_mapping\u001b[0m\u001b[1;33m[\u001b[0m\u001b[0mstr\u001b[0m\u001b[1;33m(\u001b[0m\u001b[0meach\u001b[0m\u001b[1;33m)\u001b[0m\u001b[1;33m]\u001b[0m\u001b[1;33m)\u001b[0m\u001b[1;33m\u001b[0m\u001b[1;33m\u001b[0m\u001b[0m\n\u001b[0m\u001b[0;32m    129\u001b[0m     \u001b[0mchords\u001b[0m \u001b[1;33m=\u001b[0m \u001b[0mlist\u001b[0m\u001b[1;33m(\u001b[0m\u001b[0mpossible_chords\u001b[0m\u001b[1;33m)\u001b[0m\u001b[1;33m\u001b[0m\u001b[1;33m\u001b[0m\u001b[0m\n\u001b[0;32m    130\u001b[0m     \u001b[1;32mif\u001b[0m \u001b[0mchords\u001b[0m \u001b[1;33m==\u001b[0m \u001b[1;33m[\u001b[0m\u001b[1;33m]\u001b[0m\u001b[1;33m:\u001b[0m\u001b[1;33m\u001b[0m\u001b[1;33m\u001b[0m\u001b[0m\n",
      "\u001b[1;31mKeyboardInterrupt\u001b[0m: "
     ]
    }
   ],
   "source": [
    "import time\n",
    "start=time.time()\n",
    "test.train(x_train,score_key,1)\n",
    "print('timetaken',time.time()-start)"
   ]
  },
  {
   "cell_type": "markdown",
   "id": "9bdea6f2-7dd5-4335-a832-01321dcd7fd6",
   "metadata": {},
   "source": [
    "# Evaluation"
   ]
  },
  {
   "cell_type": "code",
   "execution_count": 14,
   "id": "f803e2df",
   "metadata": {
    "tags": []
   },
   "outputs": [],
   "source": [
    "#prepare test data\n",
    "test_score=[\n",
    "              'Menuet_in_G_Minor',\n",
    "      'Moonlight_Sonata_1st_Movement',\n",
    " \n",
    "]\n",
    "test_key=['Gm','C#m']\n",
    "\n",
    "\n",
    "#prepare the test data for a specific score (select by index)\n",
    "score_test_choice=0\n",
    "\n",
    "\n",
    "#only extract those chords that are in te same key with the score\n",
    "test_sample=[]\n",
    "select_idx=[]\n",
    "testing_label=[]\n",
    "name=test_score[score_test_choice]\n",
    "for idx,chord in enumerate(data[name+'.mxl']['chord_seq']):\n",
    "    if chord.startswith(test_key[score_test_choice]):\n",
    "        select_idx.append(idx)\n",
    "training=[]\n",
    "training_label=[]\n",
    "for idx in select_idx:\n",
    "    training.append(data[name+'.mxl']['note_seq'][idx])\n",
    "    training_label.append(data[name+'.mxl']['chord_seq'][idx])\n",
    "    \n",
    "test_note=training\n",
    "training=[keys2num(segment)for segment in training]\n",
    "test_sample=training\n",
    "testing_label=training_label\n",
    "\n",
    "\n",
    "\n",
    "test_score_key=test_key[score_test_choice]\n",
    "test_states=[test_score_key.lower()[:-1]+states for states in h_states]\n",
    "\n"
   ]
  },
  {
   "cell_type": "code",
   "execution_count": 15,
   "id": "8d9a8a2a-1b53-43de-96e1-0f24227b0abe",
   "metadata": {},
   "outputs": [],
   "source": [
    "import sys\n",
    "sys.path.append('../modules')\n",
    "import noteToChord"
   ]
  },
  {
   "cell_type": "code",
   "execution_count": 16,
   "id": "13eea27c",
   "metadata": {
    "tags": []
   },
   "outputs": [
    {
     "name": "stdout",
     "output_type": "stream",
     "text": [
      "acc 0.39285714285714285 11 17\n"
     ]
    }
   ],
   "source": [
    "\n",
    "prediction=test.predict(test_sample,test_score_key)\n",
    "\n",
    "#rephase prediction to share same format with testinng_label\n",
    "prediction=[test_states[idx].split('Minor')[1] for idx in prediction]\n",
    "testing_label=[label.split('_')[1] for label in testing_label]\n",
    "for idx,lab in enumerate(testing_label):\n",
    "    if lab.startswith('German'):\n",
    "        testing_label[idx]='Ger'+str(lab[6:])\n",
    "\n",
    "\n",
    "\n",
    "#evaluation\n",
    "correct=0\n",
    "wrong=0\n",
    "for idx,label in enumerate(prediction):\n",
    "    if label==testing_label[idx]:\n",
    "        correct+=1\n",
    "    else:\n",
    "        wrong+=1\n",
    "print('acc',correct/(correct+wrong),correct,wrong)"
   ]
  },
  {
   "cell_type": "code",
   "execution_count": 17,
   "id": "502ac86d-f48e-4889-86cb-c309852224a5",
   "metadata": {},
   "outputs": [
    {
     "name": "stdout",
     "output_type": "stream",
     "text": [
      "acc 0.5 14 14\n"
     ]
    }
   ],
   "source": [
    "\n",
    "note2chord_ans=[]\n",
    "for notes in test_note:\n",
    "    note2chord_ans.append(noteToChord.NoteToChord(list(notes.keys()),test_score_key[:-1]+'Minor',1,0)[0]['Chord'].split('Minor')[1])\n",
    "#evaluation\n",
    "correct=0\n",
    "wrong=0\n",
    "for idx,label in enumerate(note2chord_ans):\n",
    "    if label==testing_label[idx]:\n",
    "        correct+=1\n",
    "    else:\n",
    "        wrong+=1\n",
    "print('acc',correct/(correct+wrong),correct,wrong)   "
   ]
  },
  {
   "cell_type": "code",
   "execution_count": 18,
   "id": "51c8caac-f77c-41b7-8434-8ba5f5c4f074",
   "metadata": {},
   "outputs": [
    {
     "name": "stdout",
     "output_type": "stream",
     "text": [
      "acc 0.4642857142857143 13 15\n"
     ]
    }
   ],
   "source": [
    "#remove 7 HMM\n",
    "prediction=[each[:-1] if '7' in each else each for each in prediction]\n",
    "testing_label=[each[:-1] if '7' in each else each for each in testing_label]\n",
    "#evaluation\n",
    "correct=0\n",
    "wrong=0\n",
    "for idx,label in enumerate(prediction):\n",
    "    if label==testing_label[idx]:\n",
    "        correct+=1\n",
    "    else:\n",
    "        wrong+=1\n",
    "print('acc',correct/(correct+wrong),correct,wrong) "
   ]
  },
  {
   "cell_type": "code",
   "execution_count": 19,
   "id": "35723739-71c3-4521-b911-d9bdc84afc9d",
   "metadata": {},
   "outputs": [
    {
     "name": "stdout",
     "output_type": "stream",
     "text": [
      "acc 0.5357142857142857 15 13\n"
     ]
    }
   ],
   "source": [
    "#remove 7 note2chord\n",
    "note2chord_ans=[each[:-1] if '7' in each else each for each in note2chord_ans]\n",
    "testing_label=[each[:-1] if '7' in each else each for each in testing_label]\n",
    "#evaluation\n",
    "correct=0\n",
    "wrong=0\n",
    "for idx,label in enumerate(note2chord_ans):\n",
    "    if label==testing_label[idx]:\n",
    "        correct+=1\n",
    "    else:\n",
    "        wrong+=1\n",
    "print('acc',correct/(correct+wrong),correct,wrong) "
   ]
  },
  {
   "cell_type": "markdown",
   "id": "bc89e2f3-5b6d-494e-981b-e451002f9387",
   "metadata": {},
   "source": [
    "# Debug"
   ]
  },
  {
   "cell_type": "code",
   "execution_count": 20,
   "id": "b401f465",
   "metadata": {
    "tags": []
   },
   "outputs": [
    {
     "name": "stdout",
     "output_type": "stream",
     "text": [
      "initial_matrix\n",
      " [9.99999983e-01 1.50515420e-14 6.27733622e-21 1.57892920e-16\n",
      " 4.39752744e-22 4.39752744e-22 2.82952488e-15 3.42097639e-16\n",
      " 1.58610004e-08 3.53060126e-10 4.60143882e-10 5.65903823e-15\n",
      " 4.39752744e-22 4.39752744e-22 4.39752744e-22 4.39752744e-22\n",
      " 1.71047277e-16 4.39752744e-22]\n",
      "transition_matrix\n",
      " [[2.05761965e-06 6.12104116e-08 1.34877663e-02 5.86043288e-01\n",
      "  6.31778853e-06 3.37068818e-17 5.22995467e-07 4.60059721e-05\n",
      "  2.06461173e-09 3.98543354e-01 3.43622316e-08 1.86637423e-03\n",
      "  3.37068818e-17 5.32809561e-09 3.37068818e-17 3.37068818e-17\n",
      "  2.75384786e-08 4.18260945e-06]\n",
      " [3.62471495e-05 1.30600905e-08 1.77865662e-01 3.59246192e-09\n",
      "  2.41044862e-05 1.02851503e-16 8.95031487e-07 1.93274399e-04\n",
      "  7.39233407e-09 8.14299718e-01 3.88342871e-08 7.57659188e-03\n",
      "  1.02851503e-16 1.41448502e-09 1.02851503e-16 1.02851503e-16\n",
      "  1.25685154e-08 3.43069528e-06]\n",
      " [1.25930924e-12 4.93845426e-12 3.06990957e-15 2.35576022e-13\n",
      "  5.69514670e-10 3.08026922e-21 1.15087173e-10 6.70028798e-12\n",
      "  8.67956288e-14 4.62365042e-01 5.37634952e-01 4.88060668e-15\n",
      "  3.08026922e-21 2.06771900e-15 3.08026922e-21 3.08026922e-21\n",
      "  1.17227466e-09 3.32627907e-09]\n",
      " [1.84595256e-01 1.32420087e-01 2.29605966e-14 2.26034741e-12\n",
      "  8.16366705e-09 2.20721554e-15 4.66455718e-01 8.89192293e-09\n",
      "  4.57519207e-09 4.82175129e-02 1.28681825e-01 2.61990158e-14\n",
      "  2.20721554e-15 4.53169736e-15 2.20721554e-15 2.20721554e-15\n",
      "  3.96295765e-02 2.54593201e-09]\n",
      " [1.90949917e-02 2.41624218e-02 6.32067878e-08 3.21188792e-05\n",
      "  6.87654032e-02 4.53979949e-11 7.06964396e-02 4.87347265e-01\n",
      "  1.33846338e-02 2.18851208e-01 6.47772793e-02 5.11829094e-08\n",
      "  4.53979949e-11 2.75353698e-05 4.53979949e-11 4.53979949e-11\n",
      "  2.22759298e-02 1.05846587e-02]\n",
      " [4.87241650e-03 2.41801264e-03 6.56568051e-06 1.05921859e-03\n",
      "  3.82925452e-02 1.35755273e-12 7.08064438e-03 1.66151152e-01\n",
      "  1.27421957e-03 4.80014035e-01 7.61170594e-02 1.65929406e-06\n",
      "  1.35755273e-12 2.70243558e-04 1.35755273e-12 1.35755273e-12\n",
      "  1.14190679e-02 2.11023160e-01]\n",
      " [2.21344196e-01 3.32054412e-01 8.80688950e-10 1.92692234e-01\n",
      "  3.60049095e-08 2.97928271e-17 8.79730416e-09 4.46226198e-06\n",
      "  6.92971896e-09 1.59438676e-08 2.36854868e-08 2.35204309e-03\n",
      "  2.97928271e-17 6.92350066e-09 2.97928271e-17 2.97928271e-17\n",
      "  2.51552545e-01 8.00134846e-09]\n",
      " [6.11371205e-09 3.43520941e-10 8.27437084e-15 7.92078378e-11\n",
      "  1.34305911e-08 3.17447157e-20 8.45694839e-01 3.78043972e-09\n",
      "  4.80581180e-09 1.54305130e-01 5.22573093e-10 2.61192768e-14\n",
      "  3.17447157e-20 2.79257017e-15 3.17447157e-20 3.17447157e-20\n",
      "  7.86507683e-10 4.22167714e-10]\n",
      " [5.20007039e-05 3.66143467e-09 3.05692655e-09 2.87033052e-05\n",
      "  3.44589604e-05 7.14929340e-17 3.33696106e-10 9.99439729e-01\n",
      "  9.51270455e-09 4.27994614e-08 3.40356330e-05 6.21674301e-12\n",
      "  7.14929340e-17 1.79898983e-09 7.14929340e-17 7.14929340e-17\n",
      "  3.59571899e-04 5.14397562e-05]\n",
      " [6.24354886e-02 3.18524586e-01 2.01326149e-11 3.18990106e-02\n",
      "  2.69555905e-05 2.44145371e-17 1.56218275e-01 1.44129858e-01\n",
      "  9.04273406e-02 2.46425399e-04 3.52573569e-06 1.34461934e-11\n",
      "  2.44145371e-17 5.07474752e-11 2.44145371e-17 2.44145371e-17\n",
      "  1.96081235e-01 7.29993028e-06]\n",
      " [2.22667001e-01 6.59751043e-01 1.28409185e-09 1.10714514e-01\n",
      "  6.99803569e-09 4.20829378e-17 4.83383540e-09 6.52909388e-06\n",
      "  2.43490495e-09 3.46199232e-10 5.22436011e-09 6.86083177e-03\n",
      "  4.20829378e-17 3.95207921e-11 4.20829378e-17 4.20829378e-17\n",
      "  5.24419303e-08 7.51644532e-09]\n",
      " [1.87488421e-11 7.14069063e-11 1.10071754e-13 1.72179211e-04\n",
      "  8.49783063e-09 1.69777965e-19 1.67030929e-09 1.06038254e-10\n",
      "  1.48295811e-12 1.32720293e-07 9.99827621e-01 1.04168017e-13\n",
      "  1.69777965e-19 7.88311644e-14 1.69777965e-19 1.69777965e-19\n",
      "  4.60085146e-10 5.62219193e-08]\n",
      " [4.87241650e-03 2.41801264e-03 6.56568051e-06 1.05921859e-03\n",
      "  3.82925452e-02 1.35755273e-12 7.08064438e-03 1.66151152e-01\n",
      "  1.27421957e-03 4.80014035e-01 7.61170594e-02 1.65929406e-06\n",
      "  1.35755273e-12 2.70243558e-04 1.35755273e-12 1.35755273e-12\n",
      "  1.14190679e-02 2.11023160e-01]\n",
      " [5.22535991e-02 2.47068031e-01 8.99363682e-08 1.68348089e-06\n",
      "  1.27718894e-01 4.47813771e-08 1.78038839e-01 1.29173613e-01\n",
      "  7.40127790e-02 3.63932057e-02 1.45440958e-01 3.29038103e-07\n",
      "  4.47813771e-08 4.47851559e-08 4.47813771e-08 4.47813771e-08\n",
      "  2.10142177e-06 9.89565356e-03]\n",
      " [4.87241650e-03 2.41801264e-03 6.56568051e-06 1.05921859e-03\n",
      "  3.82925452e-02 1.35755273e-12 7.08064438e-03 1.66151152e-01\n",
      "  1.27421957e-03 4.80014035e-01 7.61170594e-02 1.65929406e-06\n",
      "  1.35755273e-12 2.70243558e-04 1.35755273e-12 1.35755273e-12\n",
      "  1.14190679e-02 2.11023160e-01]\n",
      " [4.87241650e-03 2.41801264e-03 6.56568051e-06 1.05921859e-03\n",
      "  3.82925452e-02 1.35755273e-12 7.08064438e-03 1.66151152e-01\n",
      "  1.27421957e-03 4.80014035e-01 7.61170594e-02 1.65929406e-06\n",
      "  1.35755273e-12 2.70243558e-04 1.35755273e-12 1.35755273e-12\n",
      "  1.14190679e-02 2.11023160e-01]\n",
      " [8.25615521e-01 3.30908853e-08 7.15153953e-13 2.28498756e-06\n",
      "  1.04426604e-06 3.02822596e-19 1.74345294e-01 6.83535740e-09\n",
      "  7.03882561e-09 3.06293971e-08 2.92496315e-06 3.99323625e-13\n",
      "  3.02822596e-19 3.90310774e-15 3.02822596e-19 3.02822596e-19\n",
      "  2.87202464e-05 4.13270759e-06]\n",
      " [1.88185002e-01 4.61159197e-02 1.06954222e-07 2.01605657e-02\n",
      "  1.62097173e-02 3.09224656e-14 8.11124279e-05 7.64668328e-05\n",
      "  1.41401552e-01 2.91756285e-02 1.82850644e-01 1.52542837e-07\n",
      "  3.09224656e-14 3.30246336e-14 3.09224656e-14 3.09224656e-14\n",
      "  3.11508344e-01 6.42347886e-02]]\n",
      "emission_matrix\n",
      " [[0.15694192 0.84305808]\n",
      " [0.15694192 0.84305808]\n",
      " [0.15694192 0.84305808]\n",
      " [0.15694192 0.84305808]\n",
      " [0.15694192 0.84305808]\n",
      " [0.15694192 0.84305808]\n",
      " [0.15694192 0.84305808]\n",
      " [0.15694192 0.84305808]\n",
      " [0.15694192 0.84305808]\n",
      " [0.15694192 0.84305808]\n",
      " [0.15694192 0.84305808]\n",
      " [0.15694192 0.84305808]\n",
      " [0.15694192 0.84305808]\n",
      " [0.15694192 0.84305808]\n",
      " [0.15694192 0.84305808]\n",
      " [0.15694192 0.84305808]\n",
      " [0.15694192 0.84305808]\n",
      " [0.15694192 0.84305808]]\n"
     ]
    }
   ],
   "source": [
    "test.debug()"
   ]
  },
  {
   "cell_type": "code",
   "execution_count": 21,
   "id": "88e77256-8a02-4de6-bb9d-0ebb97a81988",
   "metadata": {},
   "outputs": [
    {
     "data": {
      "text/plain": [
       "array(['I', 'V', 'II', 'V+', 'VI', 'V+', 'GerVI', 'III', 'V+', 'I', 'V',\n",
       "       'II', 'II', 'IV', 'VII', 'III', 'VI', 'I', 'IV', 'I', 'DimVII',\n",
       "       'I', 'I', 'IV', 'III', 'II', 'I', 'I'], dtype='<U6')"
      ]
     },
     "execution_count": 21,
     "metadata": {},
     "output_type": "execute_result"
    }
   ],
   "source": [
    "np.array(note2chord_ans)"
   ]
  },
  {
   "cell_type": "code",
   "execution_count": 22,
   "id": "e332812a-e897-49a1-8f9b-7ec5259ab872",
   "metadata": {},
   "outputs": [
    {
     "data": {
      "text/plain": [
       "array(['I', 'V+', 'II', 'V+', 'VI', 'V+', 'I+', 'VI', 'V+', 'I+', 'V+',\n",
       "       'IV', 'I+', 'bII', 'V+', 'I', 'VI', 'V+', 'I+', 'V+', 'DimVII',\n",
       "       'I', 'V+', 'IV', 'I', 'II', 'V+', 'I'], dtype='<U6')"
      ]
     },
     "execution_count": 22,
     "metadata": {},
     "output_type": "execute_result"
    }
   ],
   "source": [
    "np.array(prediction)"
   ]
  },
  {
   "cell_type": "code",
   "execution_count": 23,
   "id": "246e057a",
   "metadata": {},
   "outputs": [
    {
     "data": {
      "text/plain": [
       "array(['I', 'V', 'VI', 'V', 'VI', 'VII', 'III', 'IV', 'V+', 'I', 'V',\n",
       "       'VI', 'I+', 'IV', 'VII', 'I', 'VI', 'I+', 'IV', 'I', 'V+', 'I',\n",
       "       'V+', 'IV', 'I', 'II', 'V+', 'I'], dtype='<U3')"
      ]
     },
     "execution_count": 23,
     "metadata": {},
     "output_type": "execute_result"
    }
   ],
   "source": [
    "np.array(testing_label)"
   ]
  },
  {
   "cell_type": "code",
   "execution_count": null,
   "id": "f9d6a80d-c4ee-4766-8522-f83eddc6a160",
   "metadata": {},
   "outputs": [],
   "source": []
  }
 ],
 "metadata": {
  "kernelspec": {
   "display_name": "Python 3",
   "language": "python",
   "name": "python3"
  },
  "language_info": {
   "codemirror_mode": {
    "name": "ipython",
    "version": 3
   },
   "file_extension": ".py",
   "mimetype": "text/x-python",
   "name": "python",
   "nbconvert_exporter": "python",
   "pygments_lexer": "ipython3",
   "version": "3.8.8"
  }
 },
 "nbformat": 4,
 "nbformat_minor": 5
}
