{
 "cells": [
  {
   "cell_type": "code",
   "execution_count": 1,
   "id": "735021f7-00ef-445a-be5c-58e56b696739",
   "metadata": {},
   "outputs": [],
   "source": [
    "import numpy as np\n",
    "import random"
   ]
  },
  {
   "cell_type": "code",
   "execution_count": 42,
   "id": "f98c73ef-9739-4825-b601-f05a9534c4a7",
   "metadata": {},
   "outputs": [],
   "source": [
    "class HMM():\n",
    "    def __init__(self,no_of_state,no_of_value,states,values):\n",
    "        self.emssion_matrix=np.array([ran/ran.sum() for ran in np.array([np.random.rand(no_of_state) for i in range(no_of_value)])]) #b[i][O]  --> probability to emit values[O] from states[i]\n",
    "        \n",
    "        self.initial_matrix= np.random.rand(no_of_state) #π[i] --> probability to start at states[i]\n",
    "        self.initial_matrix/= self.initial_matrix.sum()\n",
    "        \n",
    "        self.transition_matrix=np.array([ran/ran.sum() for ran in np.array([np.random.rand(no_of_state) for i in range(no_of_state)])])  #a[i][j] --> probability from states[i] transit to states[j]\n",
    "        self.states=states\n",
    "        self.values=values\n",
    "    def debug(self):\n",
    "        print('initial_matrix\\n',self.initial_matrix)\n",
    "        print('transition_matrix\\n',self.transition_matrix)\n",
    "        print('emssion_matrix\\n',self.emssion_matrix)"
   ]
  },
  {
   "cell_type": "code",
   "execution_count": 43,
   "id": "fffa51c0-68e2-43b0-8742-642a87d23008",
   "metadata": {},
   "outputs": [],
   "source": [
    "hmm=HMM(3,3,['hot','cold','warm'],['eat ice cream','hotpot','sleep'])"
   ]
  },
  {
   "cell_type": "code",
   "execution_count": 44,
   "id": "8dbb02e0-10ab-4fb8-adb6-c5dd756a1852",
   "metadata": {},
   "outputs": [
    {
     "name": "stdout",
     "output_type": "stream",
     "text": [
      "initial_matrix\n",
      " [0.25315538 0.35188802 0.3949566 ]\n",
      "transition_matrix\n",
      " [[0.42954679 0.28879454 0.28165867]\n",
      " [0.3783173  0.26951259 0.35217011]\n",
      " [0.35490393 0.29520606 0.34989002]]\n",
      "emssion_matrix\n",
      " [[0.46566151 0.36672883 0.16760966]\n",
      " [0.47029498 0.35214097 0.17756405]\n",
      " [0.24369216 0.24460942 0.51169842]]\n"
     ]
    }
   ],
   "source": [
    "hmm.debug()"
   ]
  }
 ],
 "metadata": {
  "kernelspec": {
   "display_name": "Python 3",
   "language": "python",
   "name": "python3"
  },
  "language_info": {
   "codemirror_mode": {
    "name": "ipython",
    "version": 3
   },
   "file_extension": ".py",
   "mimetype": "text/x-python",
   "name": "python",
   "nbconvert_exporter": "python",
   "pygments_lexer": "ipython3",
   "version": "3.8.8"
  }
 },
 "nbformat": 4,
 "nbformat_minor": 5
}
