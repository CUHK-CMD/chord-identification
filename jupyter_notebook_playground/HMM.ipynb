{
 "cells": [
  {
   "cell_type": "code",
   "execution_count": 22,
   "id": "735021f7-00ef-445a-be5c-58e56b696739",
   "metadata": {},
   "outputs": [],
   "source": [
    "import numpy as np\n",
    "import random\n",
    "import itertools"
   ]
  },
  {
   "cell_type": "code",
   "execution_count": 35,
   "id": "f98c73ef-9739-4825-b601-f05a9534c4a7",
   "metadata": {},
   "outputs": [],
   "source": [
    "class HMM:\n",
    "    def __init__(self,no_of_state,no_of_value,states,values,observered):\n",
    "        self.emssion_matrix=np.array([ran/ran.sum() for ran in np.array([np.random.rand(no_of_value) for i in range(no_of_state)])]) #b[i][O]  --> probability to emit values[O] from states[i]\n",
    "        \n",
    "        self.initial_matrix= np.random.rand(no_of_state) #π[i] --> probability to start at states[i]\n",
    "        self.initial_matrix/= self.initial_matrix.sum()\n",
    "        \n",
    "        self.transition_matrix=np.array([ran/ran.sum() for ran in np.array([np.random.rand(no_of_state) for i in range(no_of_state)])])  #a[i][j] --> probability from states[i] transit to states[j]\n",
    "        self.states=states\n",
    "        self.values=values\n",
    "        self.observered=observered#list of values's index\n",
    "        \n",
    "        self.prev_initial_matrix=self.initial_matrix\n",
    "        self.prev_emssion_matrix=self.emssion_matrix\n",
    "        self.prev_transition_matrix=self.transition_matrix\n",
    "        \n",
    "        \n",
    "        \n",
    "    def debug(self):\n",
    "        print('initial_matrix\\n',self.initial_matrix)\n",
    "        print('transition_matrix\\n',self.transition_matrix)\n",
    "        print('emssion_matrix\\n',self.emssion_matrix)\n",
    "        \n",
    "    def forward(self,t,j,mode='eval',obs=None):\n",
    "        if obs is None:\n",
    "            obs=self.observered\n",
    "        if t==0:\n",
    "            return self.initial_matrix[j]*self.emssion_matrix[j][obs[t]]\n",
    "        else:\n",
    "            if mode=='eval':\n",
    "                return sum([self.forward(t-1,i)*self.transition_matrix[i][j] for i in range(len(self.states))]) * self.emssion_matrix[j][obs[t]]\n",
    "            elif mode=='decode':\n",
    "                return max([self.forward(t-1,i)*self.transition_matrix[i][j] for i in range(len(self.states))]) * self.emssion_matrix[j][obs[t]]\n",
    "            \n",
    "    def backward(self,t,i,mode='eval',obs=None):\n",
    "        if obs is None:\n",
    "            obs=self.observered\n",
    "        if t==len(obs)-1:\n",
    "            return 1\n",
    "        else:\n",
    "            if mode=='eval':\n",
    "                return sum([self.transition_matrix[i][j]*self.emssion_matrix[j][obs[t+1]]*self.backward(t+1,j) for j in range(len(self.states))])\n",
    "            elif mode=='decode':\n",
    "                return max([self.transition_matrix[i][j]*self.emssion_matrix[j][obs[t+1]]*self.backward(t+1,j) for j in range(len(self.states))])\n",
    "            \n",
    "    def train(self,obs=None,epochs=2):\n",
    "        if obs is None:\n",
    "            obs=self.observered\n",
    "        def probit_at_i(t,i,ob):#Gamma\n",
    "            numerator=self.forward(t,i)*self.backward(t,i)#sum probability of all path passing through state[i] at time t\n",
    "            denominator=sum([self.forward(t,j)*self.backward(t,j) for j in range(len(self.states))])\n",
    "            return numerator/denominator\n",
    "        def probit_transit_i_j(t,i,j,ob):#epsilon\n",
    "            numerator=self.forward(t,i)*self.transition_matrix[i][j]*self.emssion_matrix[j][ob[t+1]]*self.backward(t+1,j)#sum probability of all path transit from state[i] to state[j] at time t\n",
    "            denominator=sum([sum([self.forward(t,m)*self.transition_matrix[m][n]*self.emssion_matrix[n][ob[t+1]]*self.backward(t+1,n) for n in range(len(self.states))]) for m in range(len(self.states))])\n",
    "            return numerator/denominator\n",
    "        \n",
    "        for epoch in range(epochs):\n",
    "            for ob in obs:\n",
    "                for i in range(len(self.states)):\n",
    "                    self.initial_matrix[i]=probit_at_i(0,i,ob)\n",
    "                for i, j in itertools.product(range(len(self.states)),range(len(self.states))):\n",
    "                    self.transition_matrix[i][j]=sum([probit_transit_i_j(t,i,j,ob) for t in range(len(ob)-1)])/sum([probit_at_i(t,i,ob) for t in range(len(ob)-1)])\n",
    "                for j, k in itertools.product(range(len(self.states)),range(len(self.values))):   \n",
    "                    total=0\n",
    "                    for t in range(len(ob)):\n",
    "                        if ob[t]==k:\n",
    "                            total+=probit_at_i(t,i,ob)\n",
    "                    self.emssion_matrix[j][k]=total/sum([probit_at_i(t,i,ob) for t in range(len(ob))])"
   ]
  },
  {
   "cell_type": "code",
   "execution_count": 126,
   "id": "6466e00d-4ec6-40e8-80cc-f75f17069466",
   "metadata": {},
   "outputs": [],
   "source": [
    "test=HMM(2,3,[\"Rainy\", \"Sunny\"],[\"walk\", \"shop\", \"clean\"],[2, 0, 1, 1, 2, 0])"
   ]
  },
  {
   "cell_type": "code",
   "execution_count": 127,
   "id": "d6512227-d7b9-497b-b725-8633133cb858",
   "metadata": {},
   "outputs": [],
   "source": [
    "test.train([[2, 0, 1, 1, 2, 0],[0, 0, 1, 1, 2, 0],[2, 1, 2, 1, 2, 0]],250)"
   ]
  },
  {
   "cell_type": "code",
   "execution_count": 128,
   "id": "36d78a57-2ee3-42ec-aff4-7f3739a8c7e4",
   "metadata": {},
   "outputs": [
    {
     "name": "stdout",
     "output_type": "stream",
     "text": [
      "initial_matrix\n",
      " [0. 1.]\n",
      "transition_matrix\n",
      " [[0.         0.99803068]\n",
      " [0.7873343  0.21094684]]\n",
      "emssion_matrix\n",
      " [[0.1149929  0.31986729 0.47922235]\n",
      " [0.21684415 0.29336996 0.51488945]]\n"
     ]
    }
   ],
   "source": [
    "test.debug()"
   ]
  },
  {
   "cell_type": "code",
   "execution_count": null,
   "id": "49a47f03-4ace-4cef-aa70-e72836d39594",
   "metadata": {},
   "outputs": [],
   "source": []
  }
 ],
 "metadata": {
  "kernelspec": {
   "display_name": "Python 3",
   "language": "python",
   "name": "python3"
  },
  "language_info": {
   "codemirror_mode": {
    "name": "ipython",
    "version": 3
   },
   "file_extension": ".py",
   "mimetype": "text/x-python",
   "name": "python",
   "nbconvert_exporter": "python",
   "pygments_lexer": "ipython3",
   "version": "3.8.8"
  }
 },
 "nbformat": 4,
 "nbformat_minor": 5
}
