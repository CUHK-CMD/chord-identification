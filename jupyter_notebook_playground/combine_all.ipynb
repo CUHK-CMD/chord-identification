{
 "cells": [
  {
   "cell_type": "code",
   "execution_count": 1,
   "metadata": {
    "id": "NCWN0mU1LLJ9"
   },
   "outputs": [],
   "source": [
    "from music21 import *\n",
    "import music21\n",
    "import os\n",
    "import glob\n",
    "import re\n",
    "import numpy as np\n",
    "import math"
   ]
  },
  {
   "cell_type": "code",
   "execution_count": 2,
   "metadata": {
    "id": "3TZkyOPAK9o0"
   },
   "outputs": [],
   "source": [
    "def cal_offset(e):\n",
    "    if e is None:\n",
    "        return 0\n",
    "    return e.offset+cal_offset(e.activeSite)"
   ]
  },
  {
   "cell_type": "code",
   "execution_count": 3,
   "metadata": {
    "id": "U2dBknN8WRqy"
   },
   "outputs": [],
   "source": [
    "class Score_in_beat:\n",
    "    \n",
    "    def __init__(self):\n",
    "        self.beat_list=[Beat()]\n",
    "        \n",
    "    #extract info from note and add to corrsponding beat\n",
    "    def add_note(self,note):\n",
    "        length=note.quarterLength\n",
    "        start=cal_offset(note)\n",
    "        end=start+length\n",
    "        rounded_floor_start=math.floor(start)\n",
    "        #loop until the note played to its end\n",
    "        while start<end-0.000000000001:\n",
    "            if len(self.beat_list)-1<rounded_floor_start:\n",
    "                new_beat=rounded_floor_start-(len(self.beat_list)-1)\n",
    "                #the input note maybe is a chord -> recurse all pitch inside\n",
    "                for _ in range(new_beat):\n",
    "                    self.beat_list.append(Beat())\n",
    "            self.beat_list[rounded_floor_start].add_note(note,min(rounded_floor_start+1-start,end-start))\n",
    "            start+=min(rounded_floor_start+1-start,end-start)\n",
    "            rounded_floor_start=int(start)\n",
    "            \n",
    "    #add key to the first occurence of beat\n",
    "    def add_key(self,note):\n",
    "        assert(note.lyric is not None and '(' in note.lyric)\n",
    "        key_change_beat=cal_offset(note)\n",
    "        rounded_floor_key_change_beat=math.floor(key_change_beat)\n",
    "        self.beat_list[rounded_floor_key_change_beat].add_key(note.lyric.split('(')[0])\n",
    "        \n",
    "    #onyl call once\n",
    "    def infer_key(self):\n",
    "        first_key_in_num=None\n",
    "        first_key_full=None\n",
    "        first_key_major=None\n",
    "        #backtrack\n",
    "        for e in self.beat_list:\n",
    "            if e.key_full is not None:\n",
    "                first_key_full=e.key_full\n",
    "                first_key_in_num=e.key_in_num\n",
    "                first_key_major=e.major\n",
    "                break\n",
    "        #bring forward\n",
    "        for e in self.beat_list:\n",
    "            if e.key_full is None:\n",
    "                e.key_full=first_key_full\n",
    "                e.key_in_num=first_key_in_num\n",
    "                e.major=first_key_major\n",
    "            else:\n",
    "                first_key_full=e.key_full\n",
    "                first_key_in_num=e.key_in_num\n",
    "                first_key_major=e.major"
   ]
  },
  {
   "cell_type": "code",
   "execution_count": 4,
   "metadata": {
    "id": "VS3NlEUrWS1x"
   },
   "outputs": [],
   "source": [
    "key_mapping={\n",
    "    'C':0,\n",
    "    'D':2,\n",
    "    'E':4,\n",
    "    'F':5,\n",
    "    'G':7,\n",
    "    'A':9,\n",
    "    'B':11\n",
    "}\n",
    "def key2num(k):  \n",
    "    k=k.upper()\n",
    "    num=key_mapping[k[0]]\n",
    "    modifier=len(k)\n",
    "    if modifier==1:\n",
    "        return num\n",
    "    elif k[1]=='#':\n",
    "        return (num+(modifier-1))%12\n",
    "    elif k[1]=='B' or k[1]=='-' or k[1]=='♭':\n",
    "        return (num-(modifier-1))%12\n",
    "    elif k[1]=='X':\n",
    "        return (num+(modifier-1)*2)%12"
   ]
  },
  {
   "cell_type": "code",
   "execution_count": 5,
   "metadata": {
    "id": "lrcIv42NWT3i"
   },
   "outputs": [],
   "source": [
    "class Beat:\n",
    "    def __init__(self):\n",
    "        self.notes = np.zeros((12,7))  #from C1 to C7\n",
    "        self.total_duration = np.zeros((12,7))\n",
    "        self.notes_occurences_count= np.zeros((12,7))\n",
    "        self.key_full=None\n",
    "        self.major=None\n",
    "        self.key_in_num=None\n",
    "        \n",
    "    def add_note(self,note,duration):\n",
    "        assert(duration<=1)\n",
    "        pitches=note.pitches\n",
    "        for pitch in pitches:\n",
    "            pitch_idx=key2num(pitch.nameWithOctave[:-1])\n",
    "            octave=int(pitch.nameWithOctave[-1])-1\n",
    "            if octave<0:\n",
    "                octave=0\n",
    "            elif octave>6:\n",
    "                octave=6\n",
    "            self.notes[pitch_idx,octave]=1\n",
    "            self.total_duration[pitch_idx,octave]+=duration\n",
    "            self.notes_occurences_count[pitch_idx,octave]+=1\n",
    "            \n",
    "    def add_key(self,k):\n",
    "        self.major = 'M' in k\n",
    "        self.key_full=k\n",
    "        k=k[:-1]\n",
    "        self.key_in_num=key2num(k)"
   ]
  },
  {
   "cell_type": "code",
   "execution_count": 6,
   "metadata": {
    "id": "trDx92pfWVFa"
   },
   "outputs": [
    {
     "name": "stdout",
     "output_type": "stream",
     "text": [
      "train ../musicxml(train)\\Fugue_in_G_Minor.mxl\n",
      "train ../musicxml(train)\\G_minor.mxl\n",
      "train ../musicxml(train)\\Menuet_in_G_Minor.mxl\n",
      "train ../musicxml(train)\\Minuet_in_F.mxl\n",
      "train ../musicxml(train)\\Minuet_in_G_Major.mxl\n",
      "train ../musicxml(train)\\Moonlight_Sonata_1st_Movement.mxl\n",
      "train ../musicxml(train)\\Musette_in_D.mxl\n",
      "train ../musicxml(train)\\Nocturne_in_B_Major.mxl\n",
      "train ../musicxml(train)\\Nocturne_in_C#_Minor.mxl\n",
      "train ../musicxml(train)\\Nocturne_in_Eb_Major.mxl\n",
      "train ../musicxml(train)\\Nocturne_in_E_Minor.mxl\n",
      "train ../musicxml(train)\\Nocturne_in_F#_Major.mxl\n",
      "train ../musicxml(train)\\Nocturne_no._1.mxl\n",
      "train ../musicxml(train)\\Nocturne_No._20_in_C#_Minor.mxl\n",
      "train ../musicxml(train)\\Prélude_in_A_Major.mxl\n",
      "train ../musicxml(train)\\Prélude_in_B_Major.mxl\n",
      "train ../musicxml(train)\\Prélude_in_B_Minor.mxl\n",
      "train ../musicxml(train)\\Prélude_in_B_Minor_op104a.mxl\n",
      "train ../musicxml(train)\\Prélude_in_Db_Major.mxl\n",
      "train ../musicxml(train)\\Prélude_in_E_Minor.mxl\n",
      "train ../musicxml(train)\\Prélude_in_F#_Major.mxl\n",
      "train ../musicxml(train)\\Prélude_in_G_Major.mxl\n",
      "train ../musicxml(train)\\Solfeggietto_in_C_minor.mxl\n",
      "train ../musicxml(train)\\sonata_no_1.mxl\n",
      "train ../musicxml(train)\\Sonate_No._28.mxl\n",
      "train ../musicxml(train)\\Sonate_No._28_1stmovt.mxl\n",
      "train ../musicxml(train)\\Sonatina_in_G.mxl\n",
      "train ../musicxml(train)\\Spring_Waltz.mxl\n",
      "train ../musicxml(train)\\Twinkle-Twinkle.mxl\n",
      "train ../musicxml(train)\\Waltz.mxl\n",
      "train ../musicxml(train)\\Waltz_in_Eb_Major.mxl\n",
      "train ../musicxml(train)\\Étude_in_F_Major.mxl\n",
      "train ../musicxml(train)\\Étude_in_F_Minor.mxl\n",
      "train ../musicxml(train)\\Étude_in_Gb_Major.mxl\n",
      "train ../musicxml(train)\\Étude_in_Gb_Major_Op25.mxl\n",
      "test ../musicxml(test)\\Il_Vecchio_Castello.mxl\n",
      "test ../musicxml(test)\\Piano_Sonata_No._11.mxl\n",
      "test ../musicxml(test)\\Prélude_in_C_Minor.mxl\n",
      "test ../musicxml(test)\\Waltz_in_A_Minor.mxl\n",
      "test ../musicxml(test)\\Étude_in_C_Minor.mxl\n"
     ]
    }
   ],
   "source": [
    "all_score_train=[]\n",
    "all_score_test=[]\n",
    "all_score=[]\n",
    "files=[\"../musicxml(train)/*.mxl\",\"../musicxml(test)/*.mxl\"]\n",
    "for piece in glob.glob(files[0]):\n",
    "    all_score.append(piece)\n",
    "    all_beat_train=Score_in_beat()\n",
    "    all_score_train.append(all_beat_train)\n",
    "    print('train',piece)\n",
    "    chords = []\n",
    "    notes = []\n",
    "    c = converter.parse(piece)\n",
    "    post = c.flat\n",
    "\n",
    "    #extract note\n",
    "    for note in post.notes:\n",
    "        all_beat_train.add_note(note)\n",
    "        if note.lyric is not None and '(' in note.lyric:\n",
    "            all_beat_train.add_key(note)\n",
    "\n",
    "    all_beat_train.infer_key()\n",
    "for piece in glob.glob(files[1]):\n",
    "    all_score.append(piece)\n",
    "    all_beat_test=Score_in_beat()\n",
    "    all_score_test.append(all_beat_test)\n",
    "    print('test',piece)\n",
    "    chords = []\n",
    "    notes = []\n",
    "    c = converter.parse(piece)\n",
    "    post = c.flat\n",
    "\n",
    "    #extract note\n",
    "    for note in post.notes:\n",
    "        all_beat_test.add_note(note)\n",
    "        if note.lyric is not None and '(' in note.lyric:\n",
    "            all_beat_test.add_key(note)\n",
    "\n",
    "    all_beat_test.infer_key()"
   ]
  },
  {
   "cell_type": "code",
   "execution_count": 7,
   "metadata": {
    "id": "QBWqkKO9WYNa"
   },
   "outputs": [],
   "source": [
    "weight=[1.35,1.25,0.9,0.8,0.9,1,1.2]\n",
    "\n",
    "trainX=[]\n",
    "trainY=[]\n",
    "for e in all_score_train:\n",
    "    tempX=[]\n",
    "    tempY=[]\n",
    "    count=0\n",
    "    for beat in e.beat_list:\n",
    "        value=beat.total_duration*beat.notes_occurences_count\n",
    "        if np.sum(value)!=0:\n",
    "            value/=np.sum(value)\n",
    "            value*=weight\n",
    "            value=value.sum(axis=1)\n",
    "            #value=value.reshape((-1))\n",
    "            value/=value.sum()\n",
    "        else:\n",
    "            value=np.zeros((12))\n",
    "            \n",
    "        assert(len(value)==12)\n",
    "        tempX.append(value)\n",
    "        \n",
    "        prepare_y=np.zeros((13,1))\n",
    "        prepare_y[-1]=beat.major*1\n",
    "        prepare_y[beat.key_in_num]=1\n",
    "        assert(len(prepare_y)==13)\n",
    "        tempY.append(prepare_y)\n",
    "        count+=1\n",
    "    trainX.append(tempX)\n",
    "    trainY.append(tempY)\n",
    "\n",
    "testX=[]\n",
    "testY=[]\n",
    "for e in all_score_test:\n",
    "    tempX=[]\n",
    "    tempY=[]\n",
    "    count=0\n",
    "    for beat in e.beat_list:\n",
    "        value=beat.total_duration*beat.notes_occurences_count\n",
    "        if np.sum(value)!=0:\n",
    "            value/=np.sum(value)\n",
    "            value*=weight\n",
    "            value=value.sum(axis=1)\n",
    "            #value=value.reshape((-1))\n",
    "            value/=value.sum()\n",
    "        else:\n",
    "            value=np.zeros((12))\n",
    "            \n",
    "        assert(len(value)==12)\n",
    "        tempX.append(value)\n",
    "        \n",
    "        prepare_y=np.zeros((13,1))\n",
    "        prepare_y[-1]=beat.major*1\n",
    "        prepare_y[beat.key_in_num]=1\n",
    "        assert(len(prepare_y)==13)\n",
    "        tempY.append(prepare_y)\n",
    "        count+=1\n",
    "    testX.append(tempX)\n",
    "    testY.append(tempY)"
   ]
  },
  {
   "cell_type": "code",
   "execution_count": 8,
   "metadata": {
    "id": "KseP4qOaWY9C"
   },
   "outputs": [],
   "source": [
    "look_forward=4\n",
    "look_after=4\n",
    "dataX,dataY=[],[]\n",
    "dataXX,dataYY=[],[]\n",
    "for idx_p,piece in enumerate(trainX):\n",
    "    piece_notesX=[]\n",
    "    piece_notesY=[]\n",
    "    for idx_b,beat in enumerate(piece):\n",
    "        tempX=[]\n",
    "        tempfront=[]\n",
    "        tempend=[]\n",
    "        for i in reversed(range(1,look_forward+1)):\n",
    "            if(idx_b-i)<0:\n",
    "                tempfront.append(np.zeros(12))\n",
    "            else:\n",
    "                tempfront.append(np.array(piece[idx_b-i]))\n",
    "        tempfront=np.array(tempfront)\n",
    "        tempfront=np.sum(tempfront,axis=0)\n",
    "          \n",
    "        tempX.append(tempfront)\n",
    "        tempX.append(piece[idx_b])\n",
    "\n",
    "        for i in range(1,look_after+1):\n",
    "            if(idx_b+i)>len(piece)-1:\n",
    "                tempend.append(np.zeros(12))\n",
    "            else:\n",
    "                tempend.append(np.array(piece[idx_b+i]))\n",
    "\n",
    "        tempend=np.sum(tempend,axis=0) \n",
    "        tempX.append(tempend)\n",
    "\n",
    "        piece_notesX.append(tempX)\n",
    "        piece_notesY.append(trainY[idx_p][idx_b])\n",
    "    dataX.append(piece_notesX)\n",
    "    dataY.append(piece_notesY)\n",
    "\n",
    "for idx_p,piece in enumerate(testX):\n",
    "    piece_notesX=[]\n",
    "    piece_notesY=[]\n",
    "    for idx_b,beat in enumerate(piece):\n",
    "        tempX=[]\n",
    "        tempfront=[]\n",
    "        tempend=[]\n",
    "        for i in reversed(range(1,look_forward+1)):\n",
    "            if(idx_b-i)<0:\n",
    "                tempfront.append(np.zeros(12))\n",
    "            else:\n",
    "                tempfront.append(np.array(piece[idx_b-i]))\n",
    "        tempfront=np.array(tempfront)\n",
    "        tempfront=np.sum(tempfront,axis=0)\n",
    "          \n",
    "        tempX.append(tempfront)\n",
    "        tempX.append(piece[idx_b])\n",
    "\n",
    "        for i in range(1,look_after+1):\n",
    "            if(idx_b+i)>len(piece)-1:\n",
    "                tempend.append(np.zeros(12))\n",
    "            else:\n",
    "                tempend.append(np.array(piece[idx_b+i]))\n",
    "\n",
    "        tempend=np.sum(tempend,axis=0) \n",
    "        tempX.append(tempend)\n",
    "\n",
    "        piece_notesX.append(tempX)\n",
    "        piece_notesY.append(testY[idx_p][idx_b])\n",
    "    dataXX.append(piece_notesX)\n",
    "    dataYY.append(piece_notesY)"
   ]
  },
  {
   "cell_type": "code",
   "execution_count": 9,
   "metadata": {
    "colab": {
     "base_uri": "https://localhost:8080/"
    },
    "id": "ZWd6wWBXj5Zy",
    "outputId": "dcf3ab26-2c8d-47cc-9f1b-3fbb5254db1a"
   },
   "outputs": [
    {
     "data": {
      "text/plain": [
       "(35, 5)"
      ]
     },
     "execution_count": 9,
     "metadata": {},
     "output_type": "execute_result"
    }
   ],
   "source": [
    "len(dataX),len(dataXX)"
   ]
  },
  {
   "cell_type": "code",
   "execution_count": 10,
   "metadata": {
    "colab": {
     "base_uri": "https://localhost:8080/"
    },
    "id": "2bb97bLSldXD",
    "outputId": "74463be6-79f8-4f80-e899-aff9d9540a33"
   },
   "outputs": [
    {
     "data": {
      "text/plain": [
       "(13, 1)"
      ]
     },
     "execution_count": 10,
     "metadata": {},
     "output_type": "execute_result"
    }
   ],
   "source": [
    "dataY[0][0].shape"
   ]
  },
  {
   "cell_type": "code",
   "execution_count": 11,
   "metadata": {
    "id": "zaFqwKoSk6oq"
   },
   "outputs": [],
   "source": [
    "def trainable(X,Y):\n",
    "  retX=[ b for x in X for b in x ]\n",
    "  retX=np.array(retX)\n",
    "  retY=[b for y in Y for b in y]\n",
    "  retY=np.array(retY).reshape((-1,13))\n",
    "  return retX,retY"
   ]
  },
  {
   "cell_type": "code",
   "execution_count": 12,
   "metadata": {
    "id": "p7cENKP-luea"
   },
   "outputs": [],
   "source": [
    "processedX,processedY=trainable(dataX,dataY)\n",
    "processedXX,processedYY=trainable(dataXX,dataYY)"
   ]
  },
  {
   "cell_type": "code",
   "execution_count": 13,
   "metadata": {
    "colab": {
     "base_uri": "https://localhost:8080/"
    },
    "id": "TnYjwyBRmLuD",
    "outputId": "eb3df1c6-0254-4c94-a279-cd018824c5c1"
   },
   "outputs": [
    {
     "data": {
      "text/plain": [
       "((7909, 3, 12), (7909, 13))"
      ]
     },
     "execution_count": 13,
     "metadata": {},
     "output_type": "execute_result"
    }
   ],
   "source": [
    "processedX.shape,processedY.shape"
   ]
  },
  {
   "cell_type": "code",
   "execution_count": 14,
   "metadata": {
    "colab": {
     "base_uri": "https://localhost:8080/"
    },
    "id": "lQsDGRyEm59r",
    "outputId": "c60358ce-bf18-4ed4-dc34-6c6da8a53d75"
   },
   "outputs": [
    {
     "data": {
      "text/plain": [
       "((1576, 3, 12), (1576, 13))"
      ]
     },
     "execution_count": 14,
     "metadata": {},
     "output_type": "execute_result"
    }
   ],
   "source": [
    "processedXX.shape,processedYY.shape"
   ]
  },
  {
   "cell_type": "code",
   "execution_count": 15,
   "metadata": {},
   "outputs": [],
   "source": [
    "#LSTM model (Key prediction)"
   ]
  },
  {
   "cell_type": "code",
   "execution_count": 16,
   "metadata": {
    "id": "nqhRCzDWWdbq"
   },
   "outputs": [],
   "source": [
    "import numpy\n",
    "from keras.models import Sequential\n",
    "from keras.layers import Dense\n",
    "from keras.layers import LSTM\n",
    "from keras.layers.embeddings import Embedding\n",
    "from keras.preprocessing import sequence"
   ]
  },
  {
   "cell_type": "code",
   "execution_count": 17,
   "metadata": {
    "id": "2LxAkFAAWeMq"
   },
   "outputs": [],
   "source": [
    "from keras.layers import Flatten\n",
    "from keras.layers import Input\n",
    "from keras.models import Model\n",
    "from keras.callbacks import EarlyStopping\n",
    "from keras.layers import Bidirectional"
   ]
  },
  {
   "cell_type": "code",
   "execution_count": 18,
   "metadata": {
    "id": "ufyJxwzWkMiY"
   },
   "outputs": [],
   "source": [
    "def get_model():\n",
    "  in_data = Input(shape=(3,12))\n",
    "\n",
    "  lstm = LSTM(128,return_sequences=True)(in_data)#\n",
    "  lstm = LSTM(12)(lstm)\n",
    "  lstm = Flatten()(lstm)\n",
    "\n",
    "\n",
    "  #lstm_2 = Dense(4,activation='relu')(lstm)\n",
    "  #lstm_2 = Dense(2,activation='relu')(lstm_2)\n",
    "  output2=Dense(1,activation='sigmoid',name='majorPrediction')(lstm)\n",
    "\n",
    "  keyclassifier = Dense(64,activation='relu')(lstm)\n",
    "  output=Dense(12,activation='softmax',name='keyPrediction')(lstm)\n",
    "\n",
    "\n",
    "  \n",
    "\n",
    "  model = Model(inputs=in_data, outputs=[output,output2])\n",
    "\n",
    "  losses ={\n",
    "          'keyPrediction':'categorical_crossentropy',\n",
    "          'majorPrediction':'binary_crossentropy'    \n",
    "        }\n",
    "\n",
    "  lossWeights={\n",
    "          'keyPrediction':0.7,\n",
    "          'majorPrediction':0.3  \n",
    "        }\n",
    "      \n",
    "  model.compile(  loss=losses,\n",
    "                loss_weights= lossWeights,\n",
    "                optimizer='adam',\n",
    "\n",
    "                metrics=['accuracy'])\n",
    "  return model"
   ]
  },
  {
   "cell_type": "code",
   "execution_count": 19,
   "metadata": {
    "id": "YANNB3vYWh3y"
   },
   "outputs": [],
   "source": [
    "callback=EarlyStopping(\n",
    "    monitor='val_loss', min_delta=0, patience=30, verbose=2, mode='auto',\n",
    "    baseline=None, restore_best_weights=True)"
   ]
  },
  {
   "cell_type": "code",
   "execution_count": 20,
   "metadata": {
    "colab": {
     "base_uri": "https://localhost:8080/"
    },
    "id": "s6FRjtWfvYAE",
    "outputId": "70ce341f-67ca-49b7-a386-d29b1b2766bb"
   },
   "outputs": [
    {
     "data": {
      "text/plain": [
       "(7909,)"
      ]
     },
     "execution_count": 20,
     "metadata": {},
     "output_type": "execute_result"
    }
   ],
   "source": [
    "#sample weights\n",
    "classes={}\n",
    "s=0\n",
    "for e,m in zip(processedY[:,:-1],processedY[:,-1]):\n",
    "  s+=1\n",
    "  name=str(np.argmax(e))+' '+str(int(m))\n",
    "  if name in classes:\n",
    "    classes[name]+=1\n",
    "  else:\n",
    "    classes[name]=1\n",
    "\n",
    "for e in classes:\n",
    "  classes[e]=s / (24 * classes[e])\n",
    "\n",
    "sample_weights=[]\n",
    "for e,m in zip(processedY[:,:-1],processedY[:,-1]):\n",
    "  name=str(np.argmax(e))+' '+str(int(m))\n",
    "  sample_weights.append(classes[name])\n",
    "sample_weights=np.array(sample_weights)\n",
    "sample_weights.shape"
   ]
  },
  {
   "cell_type": "raw",
   "metadata": {
    "colab": {
     "base_uri": "https://localhost:8080/"
    },
    "id": "hIP28ZTujOzY",
    "outputId": "12fe2cc7-8aa7-460e-c67b-f61d8ddbf0af",
    "tags": []
   },
   "source": [
    "model=get_model()\n",
    "# Generate a print\n",
    "print('------------------------------------------------------------------------')\n",
    "print(f'Training')\n",
    "\n",
    "# Fit data to model\n",
    "\n",
    "history = model.fit(processedX, [processedY[:,:-1],processedY[:,-1]],\n",
    "                    validation_data=(processedXX, [processedYY[:,:-1],processedYY[:,-1]]),\n",
    "                    verbose=1, \n",
    "                    sample_weight=sample_weights,\n",
    "                    epochs=1000,\n",
    "                    callbacks=[callback],  \n",
    "                    batch_size=1024,\n",
    "                    shuffle=True)\n",
    "\n",
    "# Generate generalization metrics \n",
    "# use different score explictly\n",
    "scores = model.evaluate(processedXX, [processedYY[:,:-1],processedYY[:,-1]], verbose=0)\n",
    "print(f'Score : {model.metrics_names[3]} of {scores[3]*100}%; {model.metrics_names[4]} of {scores[4]*100}%')\n",
    "\n",
    "# use different score explictly\n",
    "a,b=(model.predict(processedXX))\n",
    "wrong=0\n",
    "correct=0\n",
    "for idx,e in enumerate(processedYY):\n",
    "    if np.argmax(processedYY[idx][:-1])==np.argmax(a[idx]) and processedYY[idx][-1]==(1 if b[idx]>=0.5 else 0):\n",
    "        correct+=1\n",
    "    else:\n",
    "        wrong+=1\n",
    "print(wrong,correct,correct/(wrong+correct))\n"
   ]
  },
  {
   "cell_type": "code",
   "execution_count": 21,
   "metadata": {
    "tags": []
   },
   "outputs": [],
   "source": [
    "#HMM model(chord prediction)\n",
    "\n",
    "h_states=[#Minor\n",
    "      'MinorI', 'MinorI+',\n",
    "      'MinorbII', 'MinorII',\n",
    "      'MinorIII',\n",
    "      'MinorIV', 'MinorIV+',\n",
    "      'MinorV', 'MinorV+',\n",
    "      'MinorVI', 'MinorGerVI', 'MinorFreVI', 'MinorItaVI',\n",
    "      'MinorVII', 'MinorDimVII',\n",
    "      #Major\n",
    "      'MajorI',\n",
    "      'MajorbII','MajorII',\n",
    "      'MajorIII',\n",
    "      'MajorIV',\n",
    "      'MajorV',\n",
    "      'MajorbVI','MajorGerVI','MajorFreVI','MajorItaVI','MajorVI',\n",
    "      'MajorVII'\n",
    "]"
   ]
  },
  {
   "cell_type": "code",
   "execution_count": 22,
   "metadata": {},
   "outputs": [],
   "source": [
    "import sys\n",
    "sys.path.append('../modules')"
   ]
  },
  {
   "cell_type": "code",
   "execution_count": 23,
   "metadata": {},
   "outputs": [],
   "source": [
    "import HMM"
   ]
  },
  {
   "cell_type": "code",
   "execution_count": 24,
   "metadata": {
    "tags": []
   },
   "outputs": [],
   "source": [
    "\n",
    "\n",
    "b=[]\n",
    "def prepareHMM(K_fold_selection):\n",
    "  #  print(all_score[K_fold_selection[0]])\n",
    "    pieces=[all_score[e] for e in K_fold_selection]\n",
    "    HMM_data=[]\n",
    "    current_chord=None\n",
    "    current_key=None\n",
    "    HMM_notes=[]\n",
    "    HMM_chord=[]\n",
    "    HMM_beats=[]\n",
    "    for piece in pieces:\n",
    "        data_chord=[]\n",
    "        data_notes=[]\n",
    "        data_beats=[]\n",
    "        c = converter.parse(piece)\n",
    "        all_notes=[]\n",
    "        for el in c.recurse().notes:\n",
    "            if el.lyric is not None:\n",
    "                el.lyric=el.lyric.replace('♭','b')\n",
    "            all_notes.append([el.lyric, el, cal_offset(el),el.duration.linked])\n",
    "        \n",
    "        \n",
    "        #sort by first occurence\n",
    "        b=sorted(all_notes,key=lambda x: (x[-2],x[0] if x[0] is not None else \"ZZZZZZZZZZZZZZZ\"))\n",
    "        data_note={}\n",
    "        for e in b:\n",
    "   \n",
    "            if current_chord is None and e[0] is None:\n",
    "                continue\n",
    "            elif e[0] is not None:\n",
    "                if '(' in e[0]:\n",
    "                    current_key=e[0].split('(')[0]\n",
    "                    current_chord=e[0].split('(')[1].split(')')[0]\n",
    "                else:\n",
    "                    current_key=current_key\n",
    "                    current_chord=e[0]\n",
    "             \n",
    "                major='M' if 'M' in current_key else 'm'\n",
    "                \n",
    "                chord=current_key[:-1]+major+'_'+current_chord\n",
    "                data_chord.append(chord)\n",
    "                data_beats.append(e[2])\n",
    "                s=0\n",
    "                for k,v in data_note.items():\n",
    "                    s+=v\n",
    "                for k,v in data_note.items():\n",
    "                    data_note[k]=v/s\n",
    "                data_notes.append(data_note)\n",
    "                data_note={}\n",
    "\n",
    "            for pitch in e[1].pitches:\n",
    "                if pitch.name in data_note:\n",
    "                    data_note[pitch.name]+=e[1].quarterLength*weight[int(pitch.nameWithOctave[-1])-1]\n",
    "                    data_note[pitch.name]*=1.2 #reward for occurence\n",
    "                else:\n",
    "                    data_note[pitch.name]=e[1].quarterLength*weight[int(pitch.nameWithOctave[-1])-1]\n",
    "\n",
    "        data_notes=data_notes[1:]\n",
    "        data_notes.append(data_note)\n",
    "        HMM_notes.append(data_notes)\n",
    "        HMM_chord.append(data_chord)\n",
    "        HMM_beats.append(data_beats)\n",
    "        \n",
    "        \n",
    "    return HMM_notes,HMM_chord,HMM_beats"
   ]
  },
  {
   "cell_type": "code",
   "execution_count": 25,
   "metadata": {},
   "outputs": [],
   "source": [
    "#tools for evaluation\n",
    "from chordToNote import *\n",
    "chords=['C','Db','D','Eb','E','F','F#','G','Ab','A','Bb','B']\n",
    "M=['Minor','Major']\n"
   ]
  },
  {
   "cell_type": "raw",
   "metadata": {
    "tags": []
   },
   "source": [
    "#prepare HMM model\n",
    "n,c,_=prepareHMM(train)\n",
    "hmm_model=HMM.HMM(len(h_states),2,h_states,[\"outside chord\",\"inside chord\"])\n",
    "hmm_model.train_supervisied(n,c)#initialize parameter\n",
    "\n",
    "\n",
    "#prepare HMM test data\n",
    "testnotes,c,offsets=prepareHMM(test)\n",
    "\n",
    "key_name_scores=[]\n",
    "\n",
    "for test_id,test_piece in enumerate(offsets):\n",
    "\n",
    "    o1,o2=model.predict(np.array(k_fold_x[test[test_id]]))\n",
    "    key_name_score=[]\n",
    "    #append len at end\n",
    "    test_piece.append(len(o1))\n",
    "    trace_id=0\n",
    "    for i in range(len(test_piece)-1):\n",
    "        temp=[]\n",
    "        while trace_id<test_piece[i+1]:\n",
    "            if (o2[trace_id][0]>=0.5)*1==0:\n",
    "                name=chords[np.argmax(o1[trace_id])].lower()+M[(o2[trace_id][0]>=0.5)*1]\n",
    "            else:\n",
    "                name=chords[np.argmax(o1[trace_id])]+M[(o2[trace_id][0]>=0.5)*1]\n",
    "            temp.append(name)\n",
    "            trace_id+=1\n",
    "        if len(temp)==0:\n",
    "            key_name_score.append(key_name_score[-1])\n",
    "        else:\n",
    "            key_name_score.append(max(set(temp), key = temp.count))\n",
    "    key_name_scores.append(key_name_score)\n",
    "\n",
    "prediction=hmm_model.predict(testnotes[2],key_name_scores[2])\n",
    "prediction=[h_states[i] for i in prediction]\n",
    "predict_result=[]\n",
    "for pKey,p in zip(key_name_scores[2],prediction):\n",
    "   # print(pKey,p[5:])\n",
    "    predict_result.append(ChordToNote(pKey, p[5:]))\n",
    "ground_result=[]\n",
    "for pKey in c[2]:\n",
    "    m,p=pKey.split('_')\n",
    "    m+='ajor' if 'M' in m else 'inor'\n",
    "    if m=='Gbminor':\n",
    "        m='F#minor'\n",
    "    ground_result.append(ChordToNote(m, p))\n",
    "correct=0\n",
    "all=0\n",
    "for a,b in zip(predict_result,ground_result):\n",
    "    all+=1\n",
    "    if a[0]==b[0]:\n",
    "        correct+=1\n",
    "print(all_score[test[2]],correct/all)\n"
   ]
  },
  {
   "cell_type": "raw",
   "metadata": {
    "tags": []
   },
   "source": [
    "from importlib import reload\n",
    "reload(HMM)"
   ]
  },
  {
   "cell_type": "code",
   "execution_count": 26,
   "metadata": {
    "colab": {
     "base_uri": "https://localhost:8080/",
     "height": 506
    },
    "id": "u_4pdCEjGq1v",
    "outputId": "4a4115c9-84ed-4a18-9d87-e278875b6a0c",
    "tags": []
   },
   "outputs": [
    {
     "name": "stderr",
     "output_type": "stream",
     "text": [
      "<ipython-input-26-a1cee7e5873c>:13: VisibleDeprecationWarning: Creating an ndarray from ragged nested sequences (which is a list-or-tuple of lists-or-tuples-or ndarrays with different lengths or shapes) is deprecated. If you meant to do this, you must specify 'dtype=object' when creating the ndarray\n",
      "  k_fold_x=np.array(k_fold_x)\n",
      "<ipython-input-26-a1cee7e5873c>:14: VisibleDeprecationWarning: Creating an ndarray from ragged nested sequences (which is a list-or-tuple of lists-or-tuples-or ndarrays with different lengths or shapes) is deprecated. If you meant to do this, you must specify 'dtype=object' when creating the ndarray\n",
      "  k_fold_y=np.array(k_fold_y)\n"
     ]
    },
    {
     "name": "stdout",
     "output_type": "stream",
     "text": [
      "------------------------------------------------------------------------\n",
      "Training for fold 1 ...\n",
      "Restoring model weights from the end of the best epoch.\n",
      "Epoch 00095: early stopping\n",
      "Score for fold 1: keyPrediction_accuracy of 57.99663066864014%; majorPrediction_accuracy of 66.16161465644836%\n",
      "686 502 0.4225589225589226\n",
      "!!!!!!!!!!!!!!!!!!!!!!!!!!!!!!!!!!!!!!!!!!!!!!!!!!!!!!!!!!!!!!!!!!!!!\n",
      "../musicxml(train)\\Minuet_in_F.mxl 0.76\n",
      "!!!!!!!!!!!!!!!!!!!!!!!!!!!!!!!!!!!!!!!!!!!!!!!!!!!!!!!!!!!!!!!!!!!!!\n",
      "../musicxml(train)\\Nocturne_no._1.mxl 0.4818181818181818\n",
      "!!!!!!!!!!!!!!!!!!!!!!!!!!!!!!!!!!!!!!!!!!!!!!!!!!!!!!!!!!!!!!!!!!!!!\n",
      "../musicxml(train)\\Prélude_in_Db_Major.mxl 0.7191011235955056\n",
      "!!!!!!!!!!!!!!!!!!!!!!!!!!!!!!!!!!!!!!!!!!!!!!!!!!!!!!!!!!!!!!!!!!!!!\n",
      "../musicxml(train)\\sonata_no_1.mxl 0.575\n",
      "------------------------------------------------------------------------\n",
      "Training for fold 2 ...\n",
      "Restoring model weights from the end of the best epoch.\n",
      "Epoch 00089: early stopping\n",
      "Score for fold 2: keyPrediction_accuracy of 69.54413056373596%; majorPrediction_accuracy of 72.55092263221741%\n",
      "449 582 0.5645004849660524\n",
      "!!!!!!!!!!!!!!!!!!!!!!!!!!!!!!!!!!!!!!!!!!!!!!!!!!!!!!!!!!!!!!!!!!!!!\n",
      "../musicxml(train)\\Minuet_in_G_Major.mxl 0.8\n",
      "!!!!!!!!!!!!!!!!!!!!!!!!!!!!!!!!!!!!!!!!!!!!!!!!!!!!!!!!!!!!!!!!!!!!!\n",
      "../musicxml(train)\\Nocturne_in_B_Major.mxl 0.593939393939394\n",
      "!!!!!!!!!!!!!!!!!!!!!!!!!!!!!!!!!!!!!!!!!!!!!!!!!!!!!!!!!!!!!!!!!!!!!\n",
      "../musicxml(train)\\Nocturne_in_Eb_Major.mxl 0.62\n",
      "!!!!!!!!!!!!!!!!!!!!!!!!!!!!!!!!!!!!!!!!!!!!!!!!!!!!!!!!!!!!!!!!!!!!!\n",
      "../musicxml(train)\\Sonate_No._28_1stmovt.mxl 0.6176470588235294\n",
      "------------------------------------------------------------------------\n",
      "Training for fold 3 ...\n",
      "Restoring model weights from the end of the best epoch.\n",
      "Epoch 00120: early stopping\n",
      "Score for fold 3: keyPrediction_accuracy of 63.06653618812561%; majorPrediction_accuracy of 73.48119616508484%\n",
      "501 536 0.5168756027000965\n",
      "!!!!!!!!!!!!!!!!!!!!!!!!!!!!!!!!!!!!!!!!!!!!!!!!!!!!!!!!!!!!!!!!!!!!!\n",
      "../musicxml(train)\\Nocturne_in_C#_Minor.mxl 0.6153846153846154\n",
      "!!!!!!!!!!!!!!!!!!!!!!!!!!!!!!!!!!!!!!!!!!!!!!!!!!!!!!!!!!!!!!!!!!!!!\n",
      "../musicxml(train)\\Prélude_in_F#_Major.mxl 0.48936170212765956\n",
      "!!!!!!!!!!!!!!!!!!!!!!!!!!!!!!!!!!!!!!!!!!!!!!!!!!!!!!!!!!!!!!!!!!!!!\n",
      "../musicxml(train)\\Twinkle-Twinkle.mxl 0.9772727272727273\n",
      "!!!!!!!!!!!!!!!!!!!!!!!!!!!!!!!!!!!!!!!!!!!!!!!!!!!!!!!!!!!!!!!!!!!!!\n",
      "../musicxml(test)\\Étude_in_C_Minor.mxl 0.6823529411764706\n",
      "------------------------------------------------------------------------\n",
      "Training for fold 4 ...\n",
      "Restoring model weights from the end of the best epoch.\n",
      "Epoch 00097: early stopping\n",
      "Score for fold 4: keyPrediction_accuracy of 73.0038046836853%; majorPrediction_accuracy of 65.39924144744873%\n",
      "650 665 0.5057034220532319\n",
      "!!!!!!!!!!!!!!!!!!!!!!!!!!!!!!!!!!!!!!!!!!!!!!!!!!!!!!!!!!!!!!!!!!!!!\n",
      "../musicxml(train)\\Menuet_in_G_Minor.mxl 0.5428571428571428\n",
      "!!!!!!!!!!!!!!!!!!!!!!!!!!!!!!!!!!!!!!!!!!!!!!!!!!!!!!!!!!!!!!!!!!!!!\n",
      "../musicxml(train)\\Musette_in_D.mxl 1.0\n",
      "!!!!!!!!!!!!!!!!!!!!!!!!!!!!!!!!!!!!!!!!!!!!!!!!!!!!!!!!!!!!!!!!!!!!!\n",
      "../musicxml(train)\\Nocturne_in_E_Minor.mxl 0.5061728395061729\n",
      "!!!!!!!!!!!!!!!!!!!!!!!!!!!!!!!!!!!!!!!!!!!!!!!!!!!!!!!!!!!!!!!!!!!!!\n",
      "../musicxml(train)\\Waltz_in_Eb_Major.mxl 0.5\n",
      "------------------------------------------------------------------------\n",
      "Training for fold 5 ...\n",
      "Restoring model weights from the end of the best epoch.\n",
      "Epoch 00106: early stopping\n",
      "Score for fold 5: keyPrediction_accuracy of 64.55696225166321%; majorPrediction_accuracy of 51.898735761642456%\n",
      "426 285 0.4008438818565401\n",
      "!!!!!!!!!!!!!!!!!!!!!!!!!!!!!!!!!!!!!!!!!!!!!!!!!!!!!!!!!!!!!!!!!!!!!\n",
      "../musicxml(train)\\G_minor.mxl 0.43037974683544306\n",
      "!!!!!!!!!!!!!!!!!!!!!!!!!!!!!!!!!!!!!!!!!!!!!!!!!!!!!!!!!!!!!!!!!!!!!\n",
      "../musicxml(train)\\Prélude_in_G_Major.mxl 0.45454545454545453\n",
      "!!!!!!!!!!!!!!!!!!!!!!!!!!!!!!!!!!!!!!!!!!!!!!!!!!!!!!!!!!!!!!!!!!!!!\n",
      "../musicxml(test)\\Piano_Sonata_No._11.mxl 0.6944444444444444\n",
      "!!!!!!!!!!!!!!!!!!!!!!!!!!!!!!!!!!!!!!!!!!!!!!!!!!!!!!!!!!!!!!!!!!!!!\n",
      "../musicxml(test)\\Prélude_in_C_Minor.mxl 0.6666666666666666\n",
      "------------------------------------------------------------------------\n",
      "Training for fold 6 ...\n",
      "Restoring model weights from the end of the best epoch.\n",
      "Epoch 00175: early stopping\n",
      "Score for fold 6: keyPrediction_accuracy of 74.12371039390564%; majorPrediction_accuracy of 71.44330143928528%\n",
      "416 554 0.5711340206185567\n",
      "!!!!!!!!!!!!!!!!!!!!!!!!!!!!!!!!!!!!!!!!!!!!!!!!!!!!!!!!!!!!!!!!!!!!!\n",
      "../musicxml(train)\\Moonlight_Sonata_1st_Movement.mxl 0.6559139784946236\n",
      "!!!!!!!!!!!!!!!!!!!!!!!!!!!!!!!!!!!!!!!!!!!!!!!!!!!!!!!!!!!!!!!!!!!!!\n",
      "../musicxml(train)\\Nocturne_No._20_in_C#_Minor.mxl 0.5494505494505495\n",
      "!!!!!!!!!!!!!!!!!!!!!!!!!!!!!!!!!!!!!!!!!!!!!!!!!!!!!!!!!!!!!!!!!!!!!\n",
      "../musicxml(train)\\Spring_Waltz.mxl 0.7653061224489796\n",
      "!!!!!!!!!!!!!!!!!!!!!!!!!!!!!!!!!!!!!!!!!!!!!!!!!!!!!!!!!!!!!!!!!!!!!\n",
      "../musicxml(train)\\Étude_in_Gb_Major_Op25.mxl 0.5833333333333334\n",
      "------------------------------------------------------------------------\n",
      "Training for fold 7 ...\n",
      "Restoring model weights from the end of the best epoch.\n",
      "Epoch 00122: early stopping\n",
      "Score for fold 7: keyPrediction_accuracy of 67.6755428314209%; majorPrediction_accuracy of 88.25665712356567%\n",
      "331 495 0.5992736077481841\n",
      "!!!!!!!!!!!!!!!!!!!!!!!!!!!!!!!!!!!!!!!!!!!!!!!!!!!!!!!!!!!!!!!!!!!!!\n",
      "../musicxml(train)\\Prélude_in_A_Major.mxl 0.6363636363636364\n",
      "!!!!!!!!!!!!!!!!!!!!!!!!!!!!!!!!!!!!!!!!!!!!!!!!!!!!!!!!!!!!!!!!!!!!!\n",
      "../musicxml(train)\\Sonatina_in_G.mxl 0.7553191489361702\n",
      "!!!!!!!!!!!!!!!!!!!!!!!!!!!!!!!!!!!!!!!!!!!!!!!!!!!!!!!!!!!!!!!!!!!!!\n",
      "../musicxml(train)\\Étude_in_F_Minor.mxl 0.6306306306306306\n",
      "!!!!!!!!!!!!!!!!!!!!!!!!!!!!!!!!!!!!!!!!!!!!!!!!!!!!!!!!!!!!!!!!!!!!!\n",
      "../musicxml(test)\\Il_Vecchio_Castello.mxl 0.4574468085106383\n",
      "------------------------------------------------------------------------\n",
      "Training for fold 8 ...\n",
      "Restoring model weights from the end of the best epoch.\n",
      "Epoch 00095: early stopping\n",
      "Score for fold 8: keyPrediction_accuracy of 72.95188307762146%; majorPrediction_accuracy of 64.88946676254272%\n",
      "366 403 0.5240572171651495\n",
      "!!!!!!!!!!!!!!!!!!!!!!!!!!!!!!!!!!!!!!!!!!!!!!!!!!!!!!!!!!!!!!!!!!!!!\n",
      "../musicxml(train)\\Nocturne_in_F#_Major.mxl 0.2909090909090909\n",
      "!!!!!!!!!!!!!!!!!!!!!!!!!!!!!!!!!!!!!!!!!!!!!!!!!!!!!!!!!!!!!!!!!!!!!\n",
      "../musicxml(train)\\Prélude_in_B_Major.mxl 0.6956521739130435\n",
      "!!!!!!!!!!!!!!!!!!!!!!!!!!!!!!!!!!!!!!!!!!!!!!!!!!!!!!!!!!!!!!!!!!!!!\n",
      "../musicxml(train)\\Sonate_No._28.mxl 0.4246575342465753\n",
      "!!!!!!!!!!!!!!!!!!!!!!!!!!!!!!!!!!!!!!!!!!!!!!!!!!!!!!!!!!!!!!!!!!!!!\n",
      "../musicxml(train)\\Étude_in_Gb_Major.mxl 0.6981132075471698\n",
      "------------------------------------------------------------------------\n",
      "Training for fold 9 ...\n",
      "Restoring model weights from the end of the best epoch.\n",
      "Epoch 00120: early stopping\n",
      "Score for fold 9: keyPrediction_accuracy of 69.66824531555176%; majorPrediction_accuracy of 80.09478449821472%\n",
      "164 258 0.6113744075829384\n",
      "!!!!!!!!!!!!!!!!!!!!!!!!!!!!!!!!!!!!!!!!!!!!!!!!!!!!!!!!!!!!!!!!!!!!!\n",
      "../musicxml(train)\\Prélude_in_B_Minor.mxl 0.7027027027027027\n",
      "!!!!!!!!!!!!!!!!!!!!!!!!!!!!!!!!!!!!!!!!!!!!!!!!!!!!!!!!!!!!!!!!!!!!!\n",
      "../musicxml(train)\\Prélude_in_E_Minor.mxl 0.40425531914893614\n",
      "!!!!!!!!!!!!!!!!!!!!!!!!!!!!!!!!!!!!!!!!!!!!!!!!!!!!!!!!!!!!!!!!!!!!!\n",
      "../musicxml(train)\\Solfeggietto_in_C_minor.mxl 0.8163265306122449\n",
      "!!!!!!!!!!!!!!!!!!!!!!!!!!!!!!!!!!!!!!!!!!!!!!!!!!!!!!!!!!!!!!!!!!!!!\n",
      "../musicxml(train)\\Waltz.mxl 0.75\n",
      "------------------------------------------------------------------------\n",
      "Training for fold 10 ...\n",
      "Restoring model weights from the end of the best epoch.\n",
      "Epoch 00144: early stopping\n",
      "Score for fold 10: keyPrediction_accuracy of 76.4802634716034%; majorPrediction_accuracy of 74.25987124443054%\n",
      "427 789 0.6488486842105263\n",
      "!!!!!!!!!!!!!!!!!!!!!!!!!!!!!!!!!!!!!!!!!!!!!!!!!!!!!!!!!!!!!!!!!!!!!\n",
      "../musicxml(train)\\Fugue_in_G_Minor.mxl 0.689119170984456\n",
      "!!!!!!!!!!!!!!!!!!!!!!!!!!!!!!!!!!!!!!!!!!!!!!!!!!!!!!!!!!!!!!!!!!!!!\n",
      "../musicxml(train)\\Prélude_in_B_Minor_op104a.mxl 0.5121951219512195\n",
      "!!!!!!!!!!!!!!!!!!!!!!!!!!!!!!!!!!!!!!!!!!!!!!!!!!!!!!!!!!!!!!!!!!!!!\n",
      "../musicxml(train)\\Étude_in_F_Major.mxl 0.7093023255813954\n",
      "!!!!!!!!!!!!!!!!!!!!!!!!!!!!!!!!!!!!!!!!!!!!!!!!!!!!!!!!!!!!!!!!!!!!!\n",
      "../musicxml(test)\\Waltz_in_A_Minor.mxl 0.6084656084656085\n"
     ]
    }
   ],
   "source": [
    "#10- fold crossvalidation\n",
    "from sklearn.model_selection import KFold\n",
    "import HMM\n",
    "num_folds=10\n",
    "kfold = KFold(n_splits=num_folds, shuffle=True)\n",
    "fold_no = 1\n",
    "acc_per_fold = []\n",
    "loss_per_fold = []\n",
    "acc2_per_fold=[]\n",
    "acc3_per_fold=[]\n",
    "k_fold_x=dataX+dataXX\n",
    "k_fold_y=dataY+dataYY\n",
    "k_fold_x=np.array(k_fold_x)\n",
    "k_fold_y=np.array(k_fold_y)\n",
    "HMM_score=0\n",
    "HMM_count=0\n",
    "\n",
    "for train, test in kfold.split(k_fold_x, k_fold_y):\n",
    "\n",
    "  model=get_model()\n",
    "\n",
    "  processedX,processedY=trainable(k_fold_x[train],k_fold_y[train])\n",
    "  processedXX,processedYY=trainable(k_fold_x[test],k_fold_y[test])\n",
    "  classes={}\n",
    "  s=0\n",
    "  for e,m in zip(processedY[:,:-1],processedY[:,-1]):\n",
    "    s+=1\n",
    "    name=str(np.argmax(e))+' '+str(int(m))\n",
    "    if name in classes:\n",
    "      classes[name]+=1\n",
    "    else:\n",
    "      classes[name]=1\n",
    "\n",
    "  for e in classes:\n",
    "    classes[e]=s / (24 * classes[e])\n",
    "\n",
    "  sample_weights=[]\n",
    "  for e,m in zip(processedY[:,:-1],processedY[:,-1]):\n",
    "    name=str(np.argmax(e))+' '+str(int(m))\n",
    "    sample_weights.append(classes[name])\n",
    "  sample_weights=np.array(sample_weights)\n",
    "  sample_weights.shape\n",
    "\n",
    "\n",
    "\n",
    "  # Generate a print\n",
    "  print('------------------------------------------------------------------------')\n",
    "  print(f'Training for fold {fold_no} ...')\n",
    "\n",
    "  \n",
    "\n",
    "  # Fit data to model\n",
    "  history = model.fit(processedX, [processedY[:,:-1],processedY[:,-1]],\n",
    "                      validation_data=(processedXX, [processedYY[:,:-1],processedYY[:,-1]]),\n",
    "                      verbose=0, \n",
    "                      epochs=1000,\n",
    "                      sample_weight=sample_weights,\n",
    "                      callbacks=[callback],  \n",
    "                      batch_size=1024,\n",
    "                      shuffle=True)\n",
    "\n",
    "  # Generate generalization metrics \n",
    "  # use different score explictly\n",
    "  scores = model.evaluate(processedXX, [processedYY[:,:-1],processedYY[:,-1]], verbose=0)\n",
    "  print(f'Score for fold {fold_no}: {model.metrics_names[3]} of {scores[3]*100}%; {model.metrics_names[4]} of {scores[4]*100}%')\n",
    "\n",
    "  # use different score explictly\n",
    "  a,b=(model.predict(processedXX))\n",
    "\n",
    "  wrong=0\n",
    "  correct=0\n",
    "  for idx,e in enumerate(processedYY):\n",
    "      if np.argmax(processedYY[idx][:-1])==np.argmax(a[idx]) and processedYY[idx][-1]==(1 if b[idx]>=0.5 else 0):\n",
    "          correct+=1\n",
    "      else:\n",
    "          wrong+=1\n",
    "  print(wrong,correct,correct/(wrong+correct))\n",
    "\n",
    "\n",
    "  acc_per_fold.append(correct/(wrong+correct)* 100)\n",
    "  acc2_per_fold.append(scores[3]* 100)\n",
    "  acc3_per_fold.append(scores[4]* 100)\n",
    "  loss_per_fold.append(scores[0])\n",
    "\n",
    "  # Increase fold number\n",
    "  fold_no = fold_no + 1\n",
    "\n",
    "  \n",
    "  #prepare HMM model\n",
    "  n,c,_=prepareHMM(train)\n",
    "  hmm_model=HMM.HMM(len(h_states),2,h_states,[\"outside chord\",\"inside chord\"])\n",
    "  hmm_model.train_supervisied(n,c)#initialize parameter\n",
    "\n",
    "\n",
    "  #prepare HMM test data\n",
    "  testnotes,c,offsets=prepareHMM(test)\n",
    "  key_name_scores=[]\n",
    "  for test_id,test_piece in enumerate(offsets):\n",
    "    o1,o2=model.predict(np.array(k_fold_x[test[test_id]]))\n",
    "    key_name_score=[]\n",
    "    #append len at end\n",
    "    test_piece.append(len(o1))\n",
    "    trace_id=0\n",
    "    for i in range(len(test_piece)-1):\n",
    "        temp=[]\n",
    "        while trace_id<test_piece[i+1]:\n",
    "            if (o2[trace_id][0]>=0.5)*1==0:\n",
    "                name=chords[np.argmax(o1[trace_id])].lower()+M[(o2[trace_id][0]>=0.5)*1]\n",
    "            else:\n",
    "                name=chords[np.argmax(o1[trace_id])]+M[(o2[trace_id][0]>=0.5)*1]\n",
    "            temp.append(name)\n",
    "            trace_id+=1\n",
    "        if len(temp)==0:\n",
    "            key_name_score.append(key_name_score[-1])\n",
    "        else:\n",
    "            key_name_score.append(max(set(temp), key = temp.count))\n",
    "    key_name_scores.append(key_name_score)\n",
    "\n",
    "  #predict on HMM + evaluation\n",
    "  for test_i in range(len(testnotes)):\n",
    "      prediction=hmm_model.predict(testnotes[test_i],key_name_scores[test_i])\n",
    "      prediction=[h_states[i] for i in prediction]\n",
    "      predict_result=[]\n",
    "      for pKey,p in zip(key_name_scores[test_i],prediction):\n",
    "        if pKey=='gbMinor':\n",
    "            pKey='f#Minor'\n",
    "        elif pKey=='dbMinor':\n",
    "            pKey='c#Minor'\n",
    "        elif pKey=='abMinor':\n",
    "            pKey='g#Minor'\n",
    "        elif pKey=='d#Minor':\n",
    "            pKey='ebMinor'\n",
    "        #print(pKey, p[5:])\n",
    "        p=p[5:]\n",
    "        p=p.replace('7','')\n",
    "        p=p.replace('Dim','DimVII')\n",
    "        predict_result.append(ChordToNote(pKey, p))\n",
    "      ground_result=[]\n",
    "      for pKey in c[test_i]:\n",
    "        m,p=pKey.split('_')\n",
    "        m+='ajor' if 'M' in m else 'inor'\n",
    "        if m=='Gbminor':\n",
    "            m='F#minor'\n",
    "        elif m=='Dbminor':\n",
    "            m='C#minor'\n",
    "        elif m=='Abminor':\n",
    "            m='g#minor'\n",
    "        elif m=='D#minor':\n",
    "            m='ebminor'\n",
    "        p=p.replace('7','')\n",
    "        p=p.replace('Dim','DimVII')\n",
    "        ground_result.append(ChordToNote(m, p))\n",
    "      correct=0\n",
    "      all=0\n",
    "      for a,b in zip(predict_result,ground_result):\n",
    "        all+=1\n",
    "        if a[0]==b[0]:\n",
    "            correct+=1\n",
    "      print(all_score[test[test_i]],correct/all)\n",
    "      HMM_score+=correct/all\n",
    "      HMM_count+=1"
   ]
  },
  {
   "cell_type": "code",
   "execution_count": 29,
   "metadata": {},
   "outputs": [
    {
     "data": {
      "text/plain": [
       "0.6265601758306102"
      ]
     },
     "execution_count": 29,
     "metadata": {},
     "output_type": "execute_result"
    }
   ],
   "source": [
    "#acc: key+chord prediction\n",
    "HMM_score/HMM_count"
   ]
  },
  {
   "cell_type": "code",
   "execution_count": 30,
   "metadata": {},
   "outputs": [],
   "source": [
    "#Sonate_No._31 removed < need check again"
   ]
  },
  {
   "cell_type": "code",
   "execution_count": 31,
   "metadata": {
    "id": "qluCV4HtIYyH"
   },
   "outputs": [
    {
     "name": "stdout",
     "output_type": "stream",
     "text": [
      "------------------------------------------------------------------------\n",
      "Score per fold\n",
      "------------------------------------------------------------------------\n",
      "> Fold 1 - Loss: 1.1549738645553589 - Key&Maj Accuracy: 42.255892255892256% - Key Accuracy: 57.99663066864014% - Maj Accuracy: 66.16161465644836%\n",
      "------------------------------------------------------------------------\n",
      "> Fold 2 - Loss: 0.8659101128578186 - Key&Maj Accuracy: 56.45004849660524% - Key Accuracy: 69.54413056373596% - Maj Accuracy: 72.55092263221741%\n",
      "------------------------------------------------------------------------\n",
      "> Fold 3 - Loss: 0.9202156066894531 - Key&Maj Accuracy: 51.68756027000965% - Key Accuracy: 63.06653618812561% - Maj Accuracy: 73.48119616508484%\n",
      "------------------------------------------------------------------------\n",
      "> Fold 4 - Loss: 0.8333103656768799 - Key&Maj Accuracy: 50.57034220532319% - Key Accuracy: 73.0038046836853% - Maj Accuracy: 65.39924144744873%\n",
      "------------------------------------------------------------------------\n",
      "> Fold 5 - Loss: 1.1069999933242798 - Key&Maj Accuracy: 40.08438818565401% - Key Accuracy: 64.55696225166321% - Maj Accuracy: 51.898735761642456%\n",
      "------------------------------------------------------------------------\n",
      "> Fold 6 - Loss: 0.748255729675293 - Key&Maj Accuracy: 57.113402061855666% - Key Accuracy: 74.12371039390564% - Maj Accuracy: 71.44330143928528%\n",
      "------------------------------------------------------------------------\n",
      "> Fold 7 - Loss: 0.6814714670181274 - Key&Maj Accuracy: 59.9273607748184% - Key Accuracy: 67.6755428314209% - Maj Accuracy: 88.25665712356567%\n",
      "------------------------------------------------------------------------\n",
      "> Fold 8 - Loss: 0.835821807384491 - Key&Maj Accuracy: 52.405721716514954% - Key Accuracy: 72.95188307762146% - Maj Accuracy: 64.88946676254272%\n",
      "------------------------------------------------------------------------\n",
      "> Fold 9 - Loss: 0.8327226042747498 - Key&Maj Accuracy: 61.137440758293835% - Key Accuracy: 69.66824531555176% - Maj Accuracy: 80.09478449821472%\n",
      "------------------------------------------------------------------------\n",
      "> Fold 10 - Loss: 0.7300823330879211 - Key&Maj Accuracy: 64.88486842105263% - Key Accuracy: 76.4802634716034% - Maj Accuracy: 74.25987124443054%\n",
      "------------------------------------------------------------------------\n",
      "Average scores for all folds:\n",
      "> Total Accuracy: 53.65170251460198 (+- 7.5515554539390894)\n",
      "> KeyAccuracy: 68.90677094459534 (+- 5.406340680974739)\n",
      "> MajAccuracy: 70.84357917308807 (+- 9.255393014679335)\n",
      "> Total Loss: 0.8709763884544373\n",
      "------------------------------------------------------------------------\n"
     ]
    }
   ],
   "source": [
    "# == Provide average scores ==\n",
    "print('------------------------------------------------------------------------')\n",
    "print('Score per fold')\n",
    "for i in range(0, len(acc_per_fold)):\n",
    "  print('------------------------------------------------------------------------')\n",
    "  print(f'> Fold {i+1} - Loss: {loss_per_fold[i]} - Key&Maj Accuracy: {acc_per_fold[i]}% - Key Accuracy: {acc2_per_fold[i]}% - Maj Accuracy: {acc3_per_fold[i]}%')\n",
    "print('------------------------------------------------------------------------')\n",
    "print('Average scores for all folds:')\n",
    "print(f'> Total Accuracy: {np.mean(acc_per_fold)} (+- {np.std(acc_per_fold)})')\n",
    "print(f'> KeyAccuracy: {np.mean(acc2_per_fold)} (+- {np.std(acc2_per_fold)})')\n",
    "print(f'> MajAccuracy: {np.mean(acc3_per_fold)} (+- {np.std(acc3_per_fold)})')\n",
    "print(f'> Total Loss: {np.mean(loss_per_fold)}')\n",
    "print('------------------------------------------------------------------------')"
   ]
  },
  {
   "cell_type": "code",
   "execution_count": null,
   "metadata": {},
   "outputs": [],
   "source": []
  }
 ],
 "metadata": {
  "accelerator": "GPU",
  "colab": {
   "name": "key identification & segmentation2.ipynb",
   "provenance": []
  },
  "kernelspec": {
   "display_name": "Python 3",
   "language": "python",
   "name": "python3"
  },
  "language_info": {
   "codemirror_mode": {
    "name": "ipython",
    "version": 3
   },
   "file_extension": ".py",
   "mimetype": "text/x-python",
   "name": "python",
   "nbconvert_exporter": "python",
   "pygments_lexer": "ipython3",
   "version": "3.8.8"
  }
 },
 "nbformat": 4,
 "nbformat_minor": 4
}
