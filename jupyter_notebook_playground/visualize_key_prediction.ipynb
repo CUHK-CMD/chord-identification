{
 "cells": [
  {
   "cell_type": "code",
   "execution_count": 1,
   "id": "508632c1-0e52-4932-bc75-1361f9270672",
   "metadata": {},
   "outputs": [],
   "source": [
    "#required library\n",
    "from music21 import *\n",
    "import music21\n",
    "import os\n",
    "import glob\n",
    "import re\n",
    "import numpy as np\n",
    "import json"
   ]
  },
  {
   "cell_type": "code",
   "execution_count": 2,
   "id": "8c5fdb00-66d9-4f04-8dc8-e87bb0d82328",
   "metadata": {},
   "outputs": [
    {
     "name": "stdout",
     "output_type": "stream",
     "text": [
      "Environment settings:\n",
      "musicXML:   C:\\Program Files\\MuseScore 3\n",
      "musescore:  C:\\C:\\Program Files\\MuseScore 3\\MuseScore.exe\n"
     ]
    }
   ],
   "source": [
    "# get environment\n",
    "env = environment.Environment()\n",
    "\n",
    "# check the path\n",
    "print('Environment settings:')\n",
    "print('musicXML:  ', env['musicxmlPath'])\n",
    "print('musescore: ', env['musescoreDirectPNGPath'])\n",
    "\n",
    "# set path if necessary\n",
    "# env['musicxmlPath'] = 'path/to/your/musicXmlApplication'\n",
    "env['musescoreDirectPNGPath'] = 'C:\\Program Files\\MuseScore 3\\\\bin\\MuseScore3.exe'"
   ]
  },
  {
   "cell_type": "code",
   "execution_count": 3,
   "id": "caf61e44-ba71-4ae4-b6f3-a9f1d7c4fd4e",
   "metadata": {},
   "outputs": [],
   "source": [
    "#read file\n",
    "c = converter.parse('Waltz_in_Eb_Major.mxl')"
   ]
  },
  {
   "cell_type": "code",
   "execution_count": 4,
   "id": "d7bb48e7-8a86-4aa9-9543-925db231e915",
   "metadata": {},
   "outputs": [],
   "source": [
    "def cal_offset(e):\n",
    "    if e is None:\n",
    "        return 0\n",
    "    return e.offset+cal_offset(e.activeSite)"
   ]
  },
  {
   "cell_type": "code",
   "execution_count": 5,
   "id": "a74e6c30-1218-458c-b02c-2b7172b5abdd",
   "metadata": {},
   "outputs": [],
   "source": [
    "#extract notes\n",
    "all_notes=[]\n",
    "for el in c.recurse().notes:\n",
    "    if el.lyric is not None:\n",
    "        el.lyric=el.lyric.replace('♭','b')\n",
    "    \n",
    "    #print(el)\n",
    "    #print([el.getOffsetBySite(c),el.lyric, el, el.activeSite,el.offset, el.activeSite.offset])\n",
    "    all_notes.append([el.lyric, el, cal_offset(el)])\n",
    "    \n",
    "    #DEBUG\n",
    "    #print([el.lyric, el, cal_offset(el)])"
   ]
  },
  {
   "cell_type": "code",
   "execution_count": 6,
   "id": "b72159b7-a956-4c75-81f5-75b5410cd10d",
   "metadata": {
    "tags": []
   },
   "outputs": [],
   "source": [
    "#sort by first occurence\n",
    "b = sorted(all_notes, key=lambda x: x[0] if x[0] is not None else \"ZZZ\")\n",
    "b=sorted(all_notes,key=lambda x: x[-1])\n",
    "\n",
    "\n",
    "#DEBUG\n",
    "#for e in b:\n",
    "#    print(e)"
   ]
  },
  {
   "cell_type": "markdown",
   "id": "92107d35-0759-469d-9532-fd1909033e5c",
   "metadata": {},
   "source": [
    "# visualization"
   ]
  },
  {
   "cell_type": "code",
   "execution_count": 7,
   "id": "7894cca0-6973-4bd8-9869-9d306dc8523a",
   "metadata": {},
   "outputs": [],
   "source": [
    "prediction=['EbM', 'EbM', 'EbM', 'EbM', 'EbM', 'EbM', 'EbM', 'EbM', 'EbM', 'Ebm', 'Ebm', 'Ebm', 'EbM', 'EbM', 'EbM', 'EbM', 'EbM', 'EbM', 'EbM', 'EbM', 'EbM', 'AbM', 'AbM', 'AbM', 'AbM', 'AbM', 'AbM', 'AbM', 'AbM', 'AbM', 'EbM', 'EbM', 'EbM', 'EbM', 'EbM', 'EbM', 'EbM', 'EbM', 'EbM', 'EbM', 'EbM', 'EbM', 'EbM', 'EbM', 'EbM', 'AbM', 'AbM', 'AbM', 'AbM', 'AbM', 'AbM', 'AbM', 'AbM', 'AbM', 'EbM', 'EbM', 'EbM', 'EbM', 'EbM', 'EbM', 'EbM', 'EbM', 'AbM', 'AbM', 'AbM', 'AbM', 'AbM', 'AbM', 'AbM', 'AbM', 'AbM', 'AbM', 'AbM', 'AbM', 'AbM', 'AbM', 'AbM', 'AbM', 'AbM', 'AbM', 'AbM', 'AbM', 'AbM', 'AbM', 'AbM', 'AbM', 'AbM', 'AbM', 'AbM', 'AbM', 'AbM', 'AbM', 'AbM', 'AbM', 'AbM', 'AbM', 'AbM', 'AbM', 'AbM', 'AbM', 'AbM', 'AbM', 'AbM', 'AbM', 'AbM', 'AbM', 'AbM', 'AbM', 'AbM', 'AbM', 'AbM', 'AbM', 'AbM', 'EbM', 'EbM', 'EbM', 'EbM', 'EbM', 'EbM', 'EbM', 'EbM', 'EbM', 'AbM', 'AbM', 'AbM', 'AbM', 'AbM', 'AbM', 'AbM', 'AbM', 'AbM', 'EbM', 'EbM', 'EbM', 'EbM', 'EbM', 'EbM', 'EbM', 'EbM', 'EbM', 'EbM', 'EbM', 'EbM', 'EbM', 'EbM', 'EbM', 'AbM', 'AbM', 'AbM', 'AbM', 'AbM', 'AbM', 'AbM', 'AbM', 'AbM', 'EbM', 'EbM', 'EbM', 'EbM', 'EbM', 'AbM', 'AbM', 'AbM', 'AbM', 'AbM', 'AbM', 'AbM', 'AbM', 'AbM', 'AbM', 'AbM', 'AbM', 'AbM', 'AbM', 'AbM', 'AbM', 'AbM', 'AbM', 'AbM', 'AbM', 'AbM', 'AbM', 'AbM', 'AbM', 'AbM', 'AbM', 'AbM', 'AbM', 'AbM', 'AbM', 'AbM', 'AbM', 'AbM', 'AbM', 'AbM', 'AbM', 'AbM', 'AbM', 'AbM', 'AbM', 'AbM', 'AbM', 'AbM', 'AbM', 'AbM', 'AbM', 'AbM', 'AbM', 'AbM', 'DbM', 'DbM', 'DbM', 'DbM', 'DbM', 'DbM', 'DbM', 'DbM', 'DbM', 'DbM', 'DbM', 'DbM', 'DbM', 'DbM', 'DbM', 'DbM', 'DbM', 'DbM', 'DbM', 'DbM', 'DbM', 'DbM', 'DbM', 'DbM', 'DbM', 'DbM', 'DbM', 'DbM', 'DbM', 'DbM', 'DbM', 'DbM', 'DbM', 'DbM', 'DbM', 'DbM', 'DbM', 'DbM', 'DbM', 'DbM', 'DbM', 'DbM', 'DbM', 'DbM', 'DbM', 'DbM', 'DbM', 'DbM', 'DbM', 'DbM', 'DbM', 'AbM', 'AbM', 'AbM', 'AbM', 'AbM', 'AbM', 'AbM', 'AbM', 'AbM', 'AbM', 'AbM', 'AbM', 'AbM', 'AbM', 'AbM', 'AbM', 'AbM', 'AbM', 'AbM', 'AbM', 'AbM', 'AbM', 'AbM', 'AbM', 'AbM', 'AbM', 'AbM', 'AbM', 'AbM', 'AbM', 'AbM', 'AbM', 'AbM', 'AbM', 'AbM', 'AbM', 'AbM', 'AbM', 'AbM', 'AbM', 'AbM', 'AbM', 'AbM', 'AbM', 'AbM', 'AbM', 'AbM', 'AbM', 'DbM', 'DbM', 'DbM', 'DbM', 'DbM', 'DbM', 'DbM', 'DbM', 'DbM', 'DbM', 'DbM', 'DbM', 'DbM', 'DbM', 'DbM', 'DbM', 'DbM', 'DbM', 'DbM', 'DbM', 'DbM', 'DbM', 'DbM', 'DbM', 'DbM', 'DbM', 'DbM', 'DbM', 'DbM', 'DbM', 'DbM', 'DbM', 'DbM', 'DbM', 'DbM', 'DbM', 'DbM', 'DbM', 'DbM', 'DbM', 'DbM', 'DbM', 'DbM', 'DbM', 'DbM', 'DbM', 'DbM', 'DbM', 'GbM', 'GbM', 'GbM', 'GbM', 'GbM', 'GbM', 'GbM', 'GbM', 'GbM', 'GbM', 'GbM', 'DbM', 'DbM', 'DbM', 'DbM', 'DbM', 'DbM', 'DbM', 'DbM', 'DbM', 'DbM', 'DbM', 'DbM', 'DbM', 'GbM', 'GbM', 'GbM', 'GbM', 'GbM', 'GbM', 'GbM', 'GbM', 'GbM', 'GbM', 'GbM', 'DbM', 'DbM', 'DbM', 'DbM', 'DbM', 'DbM', 'DbM', 'DbM', 'DbM', 'DbM', 'DbM', 'DbM', 'DbM', 'DbM', 'DbM', 'DbM', 'Bbm', 'Bbm', 'Bbm', 'Bbm', 'Bbm', 'Bbm', 'Bbm', 'Bbm', 'Bbm', 'Bbm', 'Bbm', 'Bbm', 'Bbm', 'Bbm', 'Bbm', 'Bbm', 'Bbm', 'Bbm', 'Bbm', 'Bbm', 'Bbm', 'Bbm', 'Bbm', 'Bbm', 'Bbm', 'Bbm', 'Bbm', 'Bbm', 'Bbm', 'Bbm', 'Bbm', 'Bbm', 'Bbm', 'Bbm', 'Bbm', 'Bbm', 'Bbm', 'Bbm', 'Bbm', 'Bbm', 'Bbm', 'Bbm', 'Bbm', 'Bbm', 'Bbm', 'Bbm', 'Bbm', 'Bbm', 'GbM', 'GbM', 'GbM', 'GbM', 'GbM', 'GbM', 'GbM', 'GbM', 'GbM', 'GbM', 'GbM', 'DbM', 'DbM', 'DbM', 'DbM', 'DbM', 'DbM', 'DbM', 'DbM', 'DbM', 'DbM', 'DbM', 'DbM', 'DbM', 'GbM', 'GbM', 'GbM', 'GbM', 'GbM', 'GbM', 'GbM', 'GbM', 'GbM', 'GbM', 'GbM', 'DbM', 'DbM', 'DbM', 'DbM', 'DbM', 'DbM', 'DbM', 'DbM', 'DbM', 'DbM', 'DbM', 'DbM', 'DbM', 'DbM', 'DbM', 'DbM', 'GbM', 'GbM', 'GbM', 'GbM', 'GbM', 'GbM', 'GbM', 'GbM', 'GbM', 'GbM', 'GbM', 'GbM', 'GbM', 'GbM', 'GbM', 'GbM', 'GbM', 'GbM', 'GbM', 'GbM', 'GbM', 'GbM', 'GbM', 'GbM', 'GbM', 'GbM', 'GbM', 'GbM', 'GbM', 'GbM', 'GbM', 'GbM', 'GbM', 'GbM', 'GbM', 'GbM', 'GbM', 'GbM', 'GbM', 'GbM', 'GbM', 'GbM', 'GbM', 'GbM', 'GbM', 'GbM', 'GbM', 'GbM', 'Ebm', 'Ebm', 'Ebm', 'Ebm', 'Ebm', 'Ebm', 'Ebm', 'Ebm', 'Ebm', 'Ebm', 'Ebm', 'Ebm', 'Ebm', 'Ebm', 'Ebm', 'Ebm', 'Ebm', 'Ebm', 'Ebm', 'Ebm', 'Ebm', 'Ebm', 'Ebm', 'Ebm', 'EbM', 'EbM', 'EbM', 'EbM', 'EbM', 'EbM', 'EbM', 'EbM', 'EbM', 'AbM', 'AbM', 'AbM', 'AbM', 'AbM', 'AbM', 'AbM', 'AbM', 'AbM', 'EbM', 'EbM', 'EbM', 'EbM', 'EbM', 'EbM', 'EbM', 'EbM', 'EbM', 'EbM', 'EbM', 'EbM', 'EbM', 'EbM', 'EbM', 'EbM', 'AbM', 'AbM', 'AbM', 'AbM', 'AbM', 'AbM', 'AbM', 'AbM', 'EbM', 'EbM', 'EbM', 'EbM', 'EbM', 'AbM', 'AbM', 'AbM', 'AbM', 'AbM', 'AbM', 'AbM', 'AbM', 'AbM', 'AbM', 'AbM', 'AbM', 'AbM', 'AbM', 'AbM', 'AbM', 'AbM', 'AbM', 'AbM', 'AbM', 'AbM', 'AbM', 'AbM', 'AbM', 'AbM', 'AbM', 'AbM', 'AbM', 'AbM', 'AbM', 'AbM', 'AbM', 'AbM', 'AbM', 'AbM', 'AbM', 'AbM', 'AbM', 'AbM', 'AbM', 'AbM', 'AbM', 'AbM', 'AbM', 'AbM', 'AbM', 'AbM', 'AbM', 'AbM', 'EbM', 'EbM', 'EbM', 'EbM', 'EbM', 'EbM', 'EbM', 'EbM', 'EbM', 'AbM', 'AbM', 'AbM', 'AbM', 'AbM', 'AbM', 'AbM', 'AbM', 'AbM', 'EbM', 'EbM', 'EbM', 'EbM', 'EbM', 'EbM', 'EbM', 'EbM', 'EbM', 'EbM', 'EbM', 'EbM', 'EbM', 'EbM', 'EbM', 'EbM', 'EbM', 'EbM', 'EbM', 'EbM', 'EbM', 'FM', 'FM', 'FM', 'FM', 'AbM', 'AbM', 'AbM', 'AbM', 'AbM', 'EbM', 'EbM', 'EbM', 'EbM', 'EbM', 'EbM', 'EbM', 'EbM', 'EbM', 'EbM', 'EbM', 'EbM', 'EbM', 'EbM', 'EbM', 'EbM', 'EbM', 'EbM', 'EbM', 'EbM', 'EbM', 'EbM', 'EbM', 'EbM', 'AbM', 'AbM', 'AbM', 'AbM', 'AbM', 'AbM', 'AbM', 'AbM', 'AbM', 'AbM', 'AbM', 'AbM', 'AbM', 'AbM', 'AbM', 'AbM', 'AbM', 'AbM', 'EbM', 'EbM', 'EbM', 'EbM', 'EbM', 'EbM', 'EbM', 'EbM', 'EbM', 'EbM', 'EbM', 'EbM', 'EbM', 'EbM', 'EbM', 'EbM', 'EbM', 'EbM', 'EbM', 'EbM', 'EbM', 'EbM', 'EbM', 'EbM', 'EbM', 'AbM', 'AbM', 'AbM', 'DbM', 'BbM', 'EbM', 'EbM', 'EbM', 'EbM', 'EbM', 'EbM', 'EbM', 'EbM', 'EbM', 'EbM', 'EbM', 'EbM', 'EbM', 'EbM', 'EbM', 'EbM', 'AbM', 'AbM', 'AbM', 'AbM', 'AbM', 'AbM', 'AbM', 'AbM', 'AbM', 'AbM', 'AbM', 'AbM', 'AbM', 'AbM', 'EbM', 'EbM', 'EbM', 'EbM', 'EbM', 'EbM', 'EbM', 'EbM', 'EbM', 'EbM', 'EbM', 'EbM', 'EbM', 'EbM', 'EbM', 'EbM', 'EbM', 'EbM', 'EbM', 'EbM', 'EbM', 'EbM', 'EbM', 'EbM', 'EbM', 'EbM', 'EbM', 'EbM', 'EbM', 'EbM', 'EbM', 'EbM', 'EbM', 'EbM', 'EbM', 'EbM', 'EbM', 'EbM', 'EbM', 'EbM', 'EbM', 'EbM', 'EbM', 'EbM', 'EbM', 'EbM', 'EbM', 'EbM', 'EbM', 'EbM', 'EbM', 'EbM', 'Ebm', 'EbM', 'EbM', 'EbM', 'EbM', 'EbM', 'EbM', 'EbM', 'EbM', 'EbM', 'EbM', 'EbM', 'EbM', 'EbM', 'EbM', 'EbM', 'EbM', 'EbM', 'EbM', 'EbM', 'EbM', 'EbM', 'EbM', 'EbM', 'EbM', 'EbM', 'EbM', 'EbM', 'EbM', 'EbM', 'EbM', 'EbM', 'EbM', 'EbM', 'EbM', 'EbM', 'EbM', 'EbM', 'EbM', 'EbM', 'EbM', 'EbM', 'EbM', 'EbM', 'EbM', 'EbM', 'EbM', 'EbM', 'EbM', 'EbM', 'EbM', 'EbM', 'EbM', 'EbM', 'EbM', 'EbM', 'EbM', 'EbM', 'EbM']"
   ]
  },
  {
   "cell_type": "code",
   "execution_count": 8,
   "id": "4b9241f8-3d34-4037-8843-fd5dba8d17b5",
   "metadata": {},
   "outputs": [
    {
     "ename": "NameError",
     "evalue": "name 'i' is not defined",
     "output_type": "error",
     "traceback": [
      "\u001b[1;31m---------------------------------------------------------------------------\u001b[0m",
      "\u001b[1;31mNameError\u001b[0m                                 Traceback (most recent call last)",
      "\u001b[1;32m<ipython-input-8-22b8d02bf95a>\u001b[0m in \u001b[0;36m<module>\u001b[1;34m\u001b[0m\n\u001b[0;32m      8\u001b[0m             \u001b[1;32mif\u001b[0m \u001b[0mprediction_beat\u001b[0m\u001b[1;33m<=\u001b[0m\u001b[0mb\u001b[0m\u001b[1;33m[\u001b[0m\u001b[0mtrace_note_idx\u001b[0m\u001b[1;33m]\u001b[0m\u001b[1;33m[\u001b[0m\u001b[1;36m2\u001b[0m\u001b[1;33m]\u001b[0m\u001b[1;33m:\u001b[0m\u001b[1;33m\u001b[0m\u001b[1;33m\u001b[0m\u001b[0m\n\u001b[0;32m      9\u001b[0m                 \u001b[0mb\u001b[0m\u001b[1;33m[\u001b[0m\u001b[0mtrace_note_idx\u001b[0m\u001b[1;33m]\u001b[0m\u001b[1;33m[\u001b[0m\u001b[1;36m1\u001b[0m\u001b[1;33m]\u001b[0m\u001b[1;33m.\u001b[0m\u001b[0maddLyric\u001b[0m\u001b[1;33m(\u001b[0m\u001b[1;34m'pre:'\u001b[0m\u001b[1;33m+\u001b[0m\u001b[0me\u001b[0m\u001b[1;33m)\u001b[0m\u001b[1;33m\u001b[0m\u001b[1;33m\u001b[0m\u001b[0m\n\u001b[1;32m---> 10\u001b[1;33m                 \u001b[0mb\u001b[0m\u001b[1;33m[\u001b[0m\u001b[0mtrace_note_idx\u001b[0m\u001b[1;33m]\u001b[0m\u001b[1;33m[\u001b[0m\u001b[1;36m1\u001b[0m\u001b[1;33m]\u001b[0m\u001b[1;33m.\u001b[0m\u001b[0maddLyric\u001b[0m\u001b[1;33m(\u001b[0m\u001b[1;34m'beat:'\u001b[0m\u001b[1;33m+\u001b[0m\u001b[0mstr\u001b[0m\u001b[1;33m(\u001b[0m\u001b[0mi\u001b[0m\u001b[1;33m+\u001b[0m\u001b[1;36m1\u001b[0m\u001b[1;33m)\u001b[0m\u001b[1;33m)\u001b[0m\u001b[1;33m\u001b[0m\u001b[1;33m\u001b[0m\u001b[0m\n\u001b[0m\u001b[0;32m     11\u001b[0m                 \u001b[1;32mbreak\u001b[0m\u001b[1;33m\u001b[0m\u001b[1;33m\u001b[0m\u001b[0m\n\u001b[0;32m     12\u001b[0m             \u001b[0mtrace_idx\u001b[0m\u001b[1;33m+=\u001b[0m\u001b[1;36m1\u001b[0m\u001b[1;33m\u001b[0m\u001b[1;33m\u001b[0m\u001b[0m\n",
      "\u001b[1;31mNameError\u001b[0m: name 'i' is not defined"
     ]
    }
   ],
   "source": [
    "#trace from first note\n",
    "trace_note_idx=0\n",
    "\n",
    "#mark every prediction\n",
    "for prediction_beat,e in enumerate(prediction):\n",
    "        #find closest note\n",
    "        while trace_note_idx<len(b):\n",
    "            if prediction_beat<=b[trace_note_idx][2]:\n",
    "                b[trace_note_idx][1].addLyric('pre:'+e)\n",
    "                b[trace_note_idx][1].addLyric('beat:'+str(i+1))\n",
    "                break\n",
    "            trace_idx+=1"
   ]
  },
  {
   "cell_type": "code",
   "execution_count": null,
   "id": "b9c51375-e79b-484b-8d7f-41e609e30b27",
   "metadata": {},
   "outputs": [],
   "source": [
    "c.show()"
   ]
  },
  {
   "cell_type": "code",
   "execution_count": null,
   "id": "2f03248e-8d81-4295-a98e-1c8520dad365",
   "metadata": {},
   "outputs": [],
   "source": [
    "c.write('musicxml','out.mxl')"
   ]
  }
 ],
 "metadata": {
  "kernelspec": {
   "display_name": "Python 3",
   "language": "python",
   "name": "python3"
  },
  "language_info": {
   "codemirror_mode": {
    "name": "ipython",
    "version": 3
   },
   "file_extension": ".py",
   "mimetype": "text/x-python",
   "name": "python",
   "nbconvert_exporter": "python",
   "pygments_lexer": "ipython3",
   "version": "3.8.8"
  }
 },
 "nbformat": 4,
 "nbformat_minor": 5
}
