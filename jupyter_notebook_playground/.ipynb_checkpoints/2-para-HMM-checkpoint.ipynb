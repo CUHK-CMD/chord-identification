{
 "cells": [
  {
   "cell_type": "code",
   "execution_count": 1,
   "metadata": {},
   "outputs": [],
   "source": [
    "import numpy as np\n",
    "import random\n",
    "import itertools\n",
    "import math\n",
    "import tqdm\n",
    "from tqdm import trange"
   ]
  },
  {
   "cell_type": "code",
   "execution_count": 2,
   "metadata": {},
   "outputs": [],
   "source": [
    "key_mapping={\n",
    "    'C':0,\n",
    "    'D':2,\n",
    "    'E':4,\n",
    "    'F':5,\n",
    "    'G':7,\n",
    "    'A':9,\n",
    "    'B':11\n",
    "}\n",
    "\n",
    "#1 by 1 key to number\n",
    "def key2num(key):  \n",
    "  key=key.upper()\n",
    "  num=key_mapping[key[0]]\n",
    "  modifier=len(key)\n",
    "  if modifier==1:\n",
    "    return num\n",
    "  elif key[1]=='#':\n",
    "    return (num+(modifier-1))%12\n",
    "  elif key[1]=='B':\n",
    "    return (num-(modifier-1))%12\n",
    "  elif key[1]=='X':\n",
    "    return (num+(modifier-1)*2)%12\n",
    "\n",
    "# key_list to number_list\n",
    "def keys2num(keys):\n",
    "  if keys[-1]=='-':\n",
    "    return [key2num(key) for key in keys[:-1]]\n",
    "  else:\n",
    "    return [key2num(key) for key in keys]\n"
   ]
  },
  {
   "cell_type": "code",
   "execution_count": 3,
   "metadata": {},
   "outputs": [],
   "source": [
    "# function to distingish whether notes in given timestamp and chord are within or outside the chord (0=outside,1=within)\n",
    "import json\n",
    "with open('../modules/json_files/keychorddict.json') as json_file:\n",
    "    chord_notes = json.load(json_file)\n",
    "  \n",
    "    def note_2_class(chord,notes_at_t,chord_notes=chord_notes):\n",
    "        note_in_chord=chord_notes[chord]['idx']\n",
    "        return [int(note in note_in_chord) for note in notes_at_t]"
   ]
  },
  {
   "cell_type": "code",
   "execution_count": 20,
   "metadata": {
    "tags": []
   },
   "outputs": [],
   "source": [
    "### I threat the total length of time as the length of the observered list\n",
    "\n",
    "class HMM:\n",
    "    def __init__(self,no_of_state,no_of_value,states,values):\n",
    "        #randomize all matrix, each row should sum to 1\n",
    "        #self.emssion_matrix=np.array([ran/ran.sum() for ran in np.array([np.random.rand(no_of_value) for i in range(no_of_state)])]) #b[i][O]  --> probability to emit values[O] from states[i]\n",
    "        \n",
    "\n",
    "        #Modification: 2 parameter for all chord  [note inside chord & note outside chord]\n",
    "        self.emssion_matrix=np.random.rand(no_of_value)\n",
    "        self.emssion_matrix=self.emssion_matrix/self.emssion_matrix.sum()\n",
    "        self.emssion_matrix=np.array([self.emssion_matrix,]*len(states)) # assume same probability to emit \"note within chord\"  for all chords\n",
    "        \n",
    "        self.initial_matrix= np.random.rand(no_of_state) #π[i] --> probability to start at states[i]\n",
    "        self.initial_matrix/= self.initial_matrix.sum()\n",
    "        \n",
    "        self.transition_matrix=np.array([ran/ran.sum() for ran in np.array([np.random.rand(no_of_state) for i in range(no_of_state)])])  #a[i][j] --> probability from states[i] transit to states[j]\n",
    "        \n",
    "        self.states=states\n",
    "        self.values=values\n",
    "        self.observered=None\n",
    "        \n",
    "        self.probit_at_i_table=None\n",
    "        self.probit_transit_i_j_table=None\n",
    "        \n",
    "        #self.prev_initial_matrix=self.initial_matrix\n",
    "        #self.prev_emssion_matrix=self.emssion_matrix\n",
    "        #self.prev_transition_matrix=self.transition_matrix\n",
    "        \n",
    "    def debug(self):\n",
    "        print('initial_matrix\\n',self.initial_matrix)\n",
    "        print('transition_matrix\\n',self.transition_matrix)\n",
    "        print('emission_matrix\\n',self.emssion_matrix)\n",
    "        \n",
    "    def likelihood(self,state,ob_t):\n",
    "        \n",
    "        #Modification: convert observation[t] from notes to 2_classes\n",
    "        chord=self.states[state]  #numeric to chord name\n",
    "        ob_t=note_2_class(chord,ob_t) #2 class\n",
    "        \n",
    "        prob=1\n",
    "        for x in ob_t:\n",
    "            prob*=(self.emssion_matrix[state][x])\n",
    "        return prob\n",
    " \n",
    "    def forward(self,t,j,ob=None,mode=False):\n",
    "        if ob is None:\n",
    "            ob=self.observered\n",
    "        if t==0:\n",
    "            if mode==True:\n",
    "                return self.initial_matrix[j]*self.likelihood(j,ob[t]),0\n",
    "            else:\n",
    "                return self.initial_matrix[j]*self.likelihood(j,ob[t])\n",
    "        else:          \n",
    "            if mode==True:\n",
    "                result=np.array([self.forward(t-1,i,ob,mode)[0]*self.transition_matrix[i][j] for i in range(len(self.states))]) * self.likelihood(j,ob[t])\n",
    "                return np.max(result),np.argmax(result)\n",
    "            else:\n",
    "                return sum([self.forward(t-1,i,ob,mode)*self.transition_matrix[i][j] for i in range(len(self.states))]) * self.likelihood(j,ob[t])\n",
    "\n",
    "    def backward(self,t,i,ob=None,mode=False):\n",
    "        if ob is None:\n",
    "            ob=self.observered\n",
    "        if t==len(ob)-1:\n",
    "            return 1\n",
    "        else:\n",
    "            if mode==True:\n",
    "                return max([self.transition_matrix[i][j]*self.likelihood(j,ob[t+1])*self.backward(t+1,j,ob,mode) for j in range(len(self.states))])\n",
    "            else:\n",
    "                return sum([self.transition_matrix[i][j]*self.likelihood(j,ob[t+1])*self.backward(t+1,j,ob,mode) for j in range(len(self.states))])\n",
    "           \n",
    "    def probit_at_i(self,t,i,ob=None):#Gamma γt(i) = P(qt = i|O,λ)      \n",
    "        if ob is None:\n",
    "            ob=self.observered\n",
    "        numerator=self.forward(t,i,ob)*self.backward(t,i,ob)#sum probability of all path passing through state[i] at time t\n",
    "        denominator=sum([self.forward(t,j,ob)*self.backward(t,j,ob) for j in range(len(self.states))]) #prob of passing through  ALL_state at time t\n",
    "        return numerator/denominator\n",
    "    \n",
    "    def probit_transit_i_j(self,t,i,j,ob=None):#epsilon ξt(i, j) = P(qt = i,qt+1 = j|O,λ)\n",
    "        if ob is None:\n",
    "            ob=self.observered\n",
    "        numerator=self.forward(t,i,ob)*self.transition_matrix[i][j]*self.likelihood(j,ob[t+1])*self.backward(t+1,j,ob)#sum probability of all path transit from state[i] to state[j] at time t\n",
    "        denominator=sum([sum([self.forward(t,m,ob)*self.transition_matrix[m][n]*self.likelihood(n,ob[t+1])*self.backward(t+1,n,ob) for n in range(len(self.states))]) for m in range(len(self.states))]) #prob of ALL transition combination at time t\n",
    "        return (numerator/denominator)\n",
    "    def predict(self,ob):\n",
    "        T1=np.empty((len(self.states),len(ob)),'d')\n",
    "        T2=np.empty((len(self.states),len(ob)),'B')\n",
    "        for idx in range(len(self.states)):\n",
    "            T1[idx,0]=self.forward(0,idx,ob,True)[0]\n",
    "        T2[:,0]=0\n",
    "        \n",
    "        for i in range(1,len(ob)):\n",
    "            for idx in range(len(self.states)):\n",
    "                T1[idx,i],T2[idx,i]=self.forward(i,idx,ob,True)\n",
    "        x = np.empty(len(ob), 'B')\n",
    "        x[-1] = np.argmax(T1[:, len(ob) - 1])\n",
    "        for i in reversed(range(1, len(ob))):\n",
    "            x[i - 1] = T2[x[i], i]\n",
    "        return x\n",
    "        \n",
    "        \n",
    "    def train(self,obs=None,epochs=2):\n",
    "        #O:observed values\n",
    "        #λ:model parameters\n",
    "         \n",
    "        if obs is None:\n",
    "            obs=self.observered\n",
    "        \n",
    "        for epoch in range(epochs):\n",
    "            for ob in obs:\n",
    "                \n",
    "                #initial matrix\n",
    "                for i in range(len(self.states)):\n",
    "                    self.initial_matrix[i]=self.probit_at_i(0,i,ob)\n",
    "                    if self.initial_matrix[i]==0:\n",
    "                        self.initial_matrix[i]=0.000000001\n",
    "                #transition matrix\n",
    "                for i, j in itertools.product(range(len(self.states)),range(len(self.states))):\n",
    "                    self.transition_matrix[i][j]=sum([self.probit_transit_i_j(t,i,j,ob) for t in range(len(ob)-1)])/sum([self.probit_at_i(t,i,ob) for t in range(len(ob)-1)])\n",
    "                    if self.transition_matrix[i][j]==0 or self.transition_matrix[i][j]==nan:\n",
    "                        self.transition_matrix[i][j]=0.000000001\n",
    "                #emission matrix\n",
    "                for j, k in itertools.product(range(len(self.states)),range(len(self.values))):   \n",
    "                    total=0\n",
    "                    \n",
    "                    #Modification: convert notes to 2 classes (outside or inside given chord)\n",
    "                    chord=self.states[j]  #numeric to chord name\n",
    "                    ob_2_class=[note_2_class(chord,ob_t) for ob_t in ob] #2 class\n",
    "\n",
    "                    for t in range(len(ob)):\n",
    "                        if k in ob_2_class[t]:\n",
    "                            #Modification: multiple by how many times do k appear at timestamp t\n",
    "                            total+=self.probit_at_i(t,j,ob)*ob_2_class[t].count(k)  \n",
    "                            \n",
    "                    #Modification: multiple by len(ob[t]), which is the total length of notes at timestamp t                    \n",
    "                    self.emssion_matrix[j][k]=total/sum([self.probit_at_i(t,j,ob)*len(ob[t]) for t in range(len(ob))])  \n",
    "                    \n",
    "                    #smoothing\n",
    "                    if self.emssion_matrix[j][k]==0:\n",
    "                        self.emssion_matrix[j][k]=0.000000001"
   ]
  },
  {
   "cell_type": "code",
   "execution_count": 5,
   "metadata": {},
   "outputs": [],
   "source": [
    "import json\n",
    "with open('../data/training_data.json') as json_file:\n",
    "    data = json.load(json_file)"
   ]
  },
  {
   "cell_type": "code",
   "execution_count": 6,
   "metadata": {},
   "outputs": [],
   "source": [
    "h_states=[\"GbMajorI\",\"GbMajorbII\",\"GbMajorII\",\"GbMajorII7\",\n",
    "         \"GbMajorIII\",\"GbMajorIV\",\"GbMajorV\",\n",
    "         \"GbMajorV7\",\"GbMajorbVI\",\"GbMajorGerVI\",\"GbMajorFreVI\",\"GbMajorItaVI\",\n",
    "         \"GbMajorVI\",\"GbMajorVI7\",\"GbMajorVII\",\"GbMajorVII7\",\"GbMajorDimVII7\",\n",
    "]"
   ]
  },
  {
   "cell_type": "code",
   "execution_count": 7,
   "metadata": {},
   "outputs": [],
   "source": [
    "#Filter for Gb Major\n",
    "select_idx=[]\n",
    "for idx,chord in enumerate(data['Etude_in_Gb_Major.mxl']['chord_seq']):\n",
    "    if chord.startswith('GbM'):\n",
    "        select_idx.append(idx)"
   ]
  },
  {
   "cell_type": "code",
   "execution_count": 55,
   "metadata": {},
   "outputs": [],
   "source": [
    "test=HMM(len(h_states),2,h_states,[\"outside chord\",\"inside chord\"])"
   ]
  },
  {
   "cell_type": "code",
   "execution_count": 61,
   "metadata": {},
   "outputs": [],
   "source": [
    "training=[]\n",
    "training_label=[]\n",
    "for idx in select_idx:\n",
    "    training.append(data['Etude_in_Gb_Major.mxl']['note_seq'][idx])\n",
    "    training_label.append(data['Etude_in_Gb_Major.mxl']['chord_seq'][idx])"
   ]
  },
  {
   "cell_type": "code",
   "execution_count": 62,
   "metadata": {},
   "outputs": [],
   "source": [
    "training=[keys2num(segment)for segment in training]"
   ]
  },
  {
   "cell_type": "code",
   "execution_count": 12,
   "metadata": {
    "collapsed": true,
    "jupyter": {
     "outputs_hidden": true
    }
   },
   "outputs": [
    {
     "data": {
      "text/plain": [
       "dict_keys(['CMajorI', 'CMajorbII', 'CMajorII', 'CMajorII7', 'CMajorIII', 'CMajorIV', 'CMajorV', 'CMajorV7', 'CMajorbVI', 'CMajorGerVI', 'CMajorFreVI', 'CMajorItaVI', 'CMajorVI', 'CMajorVI7', 'CMajorVII', 'CMajorVII7', 'CMajorDimVII7', 'GMajorI', 'GMajorbII', 'GMajorII', 'GMajorII7', 'GMajorIII', 'GMajorIV', 'GMajorV', 'GMajorV7', 'GMajorbVI', 'GMajorGerVI', 'GMajorFreVI', 'GMajorItaVI', 'GMajorVI', 'GMajorVI7', 'GMajorVII', 'GMajorVII7', 'GMajorDimVII7', 'DMajorI', 'DMajorbII', 'DMajorII', 'DMajorII7', 'DMajorIII', 'DMajorIV', 'DMajorV', 'DMajorV7', 'DMajorbVI', 'DMajorGerVI', 'DMajorFreVI', 'DMajorItaVI', 'DMajorVI', 'DMajorVI7', 'DMajorVII', 'DMajorVII7', 'DMajorDimVII7', 'AMajorI', 'AMajorbII', 'AMajorII', 'AMajorII7', 'AMajorIII', 'AMajorIV', 'AMajorV', 'AMajorV7', 'AMajorbVI', 'AMajorGerVI', 'AMajorFreVI', 'AMajorItaVI', 'AMajorVI', 'AMajorVI7', 'AMajorVII', 'AMajorVII7', 'AMajorDimVII7', 'EMajorI', 'EMajorbII', 'EMajorII', 'EMajorII7', 'EMajorIII', 'EMajorIV', 'EMajorV', 'EMajorV7', 'EMajorbVI', 'EMajorGerVI', 'EMajorFreVI', 'EMajorItaVI', 'EMajorVI', 'EMajorVI7', 'EMajorVII', 'EMajorVII7', 'EMajorDimVII7', 'BMajorI', 'BMajorbII', 'BMajorII', 'BMajorII7', 'BMajorIII', 'BMajorIV', 'BMajorV', 'BMajorV7', 'BMajorbVI', 'BMajorGerVI', 'BMajorFreVI', 'BMajorItaVI', 'BMajorVI', 'BMajorVI7', 'BMajorVII', 'BMajorVII7', 'BMajorDimVII7', 'FMajorI', 'FMajorbII', 'FMajorII', 'FMajorII7', 'FMajorIII', 'FMajorIV', 'FMajorV', 'FMajorV7', 'FMajorbVI', 'FMajorGerVI', 'FMajorFreVI', 'FMajorItaVI', 'FMajorVI', 'FMajorVI7', 'FMajorVII', 'FMajorVII7', 'FMajorDimVII7', 'BbMajorI', 'BbMajorbII', 'BbMajorII', 'BbMajorII7', 'BbMajorIII', 'BbMajorIV', 'BbMajorV', 'BbMajorV7', 'BbMajorbVI', 'BbMajorGerVI', 'BbMajorFreVI', 'BbMajorItaVI', 'BbMajorVI', 'BbMajorVI7', 'BbMajorVII', 'BbMajorVII7', 'BbMajorDimVII7', 'EbMajorI', 'EbMajorbII', 'EbMajorII', 'EbMajorII7', 'EbMajorIII', 'EbMajorIV', 'EbMajorV', 'EbMajorV7', 'EbMajorbVI', 'EbMajorGerVI', 'EbMajorFreVI', 'EbMajorItaVI', 'EbMajorVI', 'EbMajorVI7', 'EbMajorVII', 'EbMajorVII7', 'EbMajorDimVII7', 'AbMajorI', 'AbMajorbII', 'AbMajorII', 'AbMajorII7', 'AbMajorIII', 'AbMajorIV', 'AbMajorV', 'AbMajorV7', 'AbMajorbVI', 'AbMajorGerVI', 'AbMajorFreVI', 'AbMajorItaVI', 'AbMajorVI', 'AbMajorVI7', 'AbMajorVII', 'AbMajorVII7', 'AbMajorDimVII7', 'DbMajorI', 'DbMajorbII', 'DbMajorII', 'DbMajorII7', 'DbMajorIII', 'DbMajorIV', 'DbMajorV', 'DbMajorV7', 'DbMajorbVI', 'DbMajorGerVI', 'DbMajorFreVI', 'DbMajorItaVI', 'DbMajorVI', 'DbMajorVI7', 'DbMajorVII', 'DbMajorVII7', 'DbMajorDimVII7', 'GbMajorI', 'GbMajorbII', 'GbMajorII', 'GbMajorII7', 'GbMajorIII', 'GbMajorIV', 'GbMajorV', 'GbMajorV7', 'GbMajorbVI', 'GbMajorGerVI', 'GbMajorFreVI', 'GbMajorItaVI', 'GbMajorVI', 'GbMajorVI7', 'GbMajorVII', 'GbMajorVII7', 'GbMajorDimVII7', 'aMinorI', 'aMinorI+', 'aMinorbII', 'aMinorII', 'aMinorII7', 'aMinorIII', 'aMinorIV', 'aMinorIV+', 'aMinorV', 'aMinorV+', 'aMinorV+7', 'aMinorVI', 'aMinorGerVI', 'aMinorFreVI', 'aMinorItaVI', 'aMinorVII', 'aMinorDimVII', 'aMinorDimVII7', 'eMinorI', 'eMinorI+', 'eMinorbII', 'eMinorII', 'eMinorII7', 'eMinorIII', 'eMinorIV', 'eMinorIV+', 'eMinorV', 'eMinorV+', 'eMinorV+7', 'eMinorVI', 'eMinorGerVI', 'eMinorFreVI', 'eMinorItaVI', 'eMinorVII', 'eMinorDimVII', 'eMinorDimVII7', 'bMinorI', 'bMinorI+', 'bMinorbII', 'bMinorII', 'bMinorII7', 'bMinorIII', 'bMinorIV', 'bMinorIV+', 'bMinorV', 'bMinorV+', 'bMinorV+7', 'bMinorVI', 'bMinorGerVI', 'bMinorFreVI', 'bMinorItaVI', 'bMinorVII', 'bMinorDimVII', 'bMinorDimVII7', 'f#MinorI', 'f#MinorI+', 'f#MinorbII', 'f#MinorII', 'f#MinorII7', 'f#MinorIII', 'f#MinorIV', 'f#MinorIV+', 'f#MinorV', 'f#MinorV+', 'f#MinorV+7', 'f#MinorVI', 'f#MinorGerVI', 'f#MinorFreVI', 'f#MinorItaVI', 'f#MinorVII', 'f#MinorDimVII', 'f#MinorDimVII7', 'c#MinorI', 'c#MinorI+', 'c#MinorbII', 'c#MinorII', 'c#MinorII7', 'c#MinorIII', 'c#MinorIV', 'c#MinorIV+', 'c#MinorV', 'c#MinorV+', 'c#MinorV+7', 'c#MinorVI', 'c#MinorGerVI', 'c#MinorFreVI', 'c#MinorItaVI', 'c#MinorVII', 'c#MinorDimVII', 'c#MinorDimVII7', 'g#MinorI', 'g#MinorI+', 'g#MinorbII', 'g#MinorII', 'g#MinorII7', 'g#MinorIII', 'g#MinorIV', 'g#MinorIV+', 'g#MinorV', 'g#MinorV+', 'g#MinorV+7', 'g#MinorVI', 'g#MinorGerVI', 'g#MinorFreVI', 'g#MinorItaVI', 'g#MinorVII', 'g#MinorDimVII', 'g#MinorDimVII7', 'dMinorI', 'dMinorI+', 'dMinorbII', 'dMinorII', 'dMinorII7', 'dMinorIII', 'dMinorIV', 'dMinorIV+', 'dMinorV', 'dMinorV+', 'dMinorV+7', 'dMinorVI', 'dMinorGerVI', 'dMinorFreVI', 'dMinorItaVI', 'dMinorVII', 'dMinorDimVII', 'dMinorDimVII7', 'gMinorI', 'gMinorI+', 'gMinorbII', 'gMinorII', 'gMinorII7', 'gMinorIII', 'gMinorIV', 'gMinorIV+', 'gMinorV', 'gMinorV+', 'gMinorV+7', 'gMinorVI', 'gMinorGerVI', 'gMinorFreVI', 'gMinorItaVI', 'gMinorVII', 'gMinorDimVII', 'gMinorDimVII7', 'cMinorI', 'cMinorI+', 'cMinorbII', 'cMinorII', 'cMinorII7', 'cMinorIII', 'cMinorIV', 'cMinorIV+', 'cMinorV', 'cMinorV+', 'cMinorV+7', 'cMinorVI', 'cMinorGerVI', 'cMinorFreVI', 'cMinorItaVI', 'cMinorVII', 'cMinorDimVII', 'cMinorDimVII7', 'fMinorI', 'fMinorI+', 'fMinorbII', 'fMinorII', 'fMinorII7', 'fMinorIII', 'fMinorIV', 'fMinorIV+', 'fMinorV', 'fMinorV+', 'fMinorV+7', 'fMinorVI', 'fMinorGerVI', 'fMinorFreVI', 'fMinorItaVI', 'fMinorVII', 'fMinorDimVII', 'fMinorDimVII7', 'bbMinorI', 'bbMinorI+', 'bbMinorbII', 'bbMinorII', 'bbMinorII7', 'bbMinorIII', 'bbMinorIV', 'bbMinorIV+', 'bbMinorV', 'bbMinorV+', 'bbMinorV+7', 'bbMinorVI', 'bbMinorGerVI', 'bbMinorFreVI', 'bbMinorItaVI', 'bbMinorVII', 'bbMinorDimVII', 'bbMinorDimVII7', 'ebMinorI', 'ebMinorI+', 'ebMinorbII', 'ebMinorII', 'ebMinorII7', 'ebMinorIII', 'ebMinorIV', 'ebMinorIV+', 'ebMinorV', 'ebMinorV+', 'ebMinorV+7', 'ebMinorVI', 'ebMinorGerVI', 'ebMinorFreVI', 'ebMinorItaVI', 'ebMinorVII', 'ebMinorDimVII', 'ebMinorDimVII7'])"
      ]
     },
     "execution_count": 12,
     "metadata": {},
     "output_type": "execute_result"
    }
   ],
   "source": [
    "chord_notes.keys()"
   ]
  },
  {
   "cell_type": "code",
   "execution_count": 56,
   "metadata": {
    "tags": []
   },
   "outputs": [],
   "source": [
    "test.train([training],20)"
   ]
  },
  {
   "cell_type": "code",
   "execution_count": 57,
   "metadata": {},
   "outputs": [
    {
     "data": {
      "text/plain": [
       "[[5, 1, 8], [1, 3, 8, 11]]"
      ]
     },
     "execution_count": 57,
     "metadata": {},
     "output_type": "execute_result"
    }
   ],
   "source": [
    "training"
   ]
  },
  {
   "cell_type": "code",
   "execution_count": null,
   "metadata": {
    "tags": []
   },
   "outputs": [],
   "source": [
    "prediction=test.predict(training)\n",
    "prediction=[h_states[idx] for idx in prediction]\n",
    "(prediction,training_label)"
   ]
  },
  {
   "cell_type": "code",
   "execution_count": 59,
   "metadata": {},
   "outputs": [
    {
     "name": "stdout",
     "output_type": "stream",
     "text": [
      "initial_matrix\n",
      " [5.98161198e-19 3.41465387e-01 3.75939113e-27 1.94028280e-18\n",
      " 6.28271927e-28 2.16171174e-01 3.07551193e-06 1.94766167e-04\n",
      " 9.72361243e-02 2.16139566e-01 4.27886343e-18 1.13645315e-01\n",
      " 1.51445918e-02 7.94169373e-19 1.41894438e-18 1.50836718e-18\n",
      " 1.15587666e-18]\n",
      "transition_matrix\n",
      " [[4.38166330e-021 2.21706825e-277 1.42057128e-021 1.97607381e-033\n",
      "  3.31683847e-020 1.00000000e-009 1.00000000e-027 1.00000000e-009\n",
      "  4.87941769e-002 8.57095865e-001 3.87770815e-021 9.41099584e-002\n",
      "  4.43976812e-168 9.79355702e-028 2.19507985e-028 2.10534190e-022\n",
      "  2.32302356e-027]\n",
      " [2.45227245e-021 2.21706825e-277 1.36522095e-021 9.72700822e-034\n",
      "  5.51198744e-020 1.00000000e-009 1.00000000e-027 6.75218210e-315\n",
      "  3.21619136e-001 3.35449178e-001 1.87335891e-021 3.42931686e-001\n",
      "  3.78565812e-136 1.47749273e-027 1.34050137e-027 4.62166663e-023\n",
      "  7.94832813e-028]\n",
      " [2.20134565e-020 2.21706825e-277 4.31899912e-022 3.35871832e-033\n",
      "  4.37260244e-020 1.00000000e-009 1.00000000e-027 1.00000000e-018\n",
      "  7.01323048e-001 2.79114632e-002 1.80549591e-021 2.70765488e-001\n",
      "  4.43976812e-177 8.71130618e-029 6.41342941e-028 3.40134864e-022\n",
      "  7.86089258e-028]\n",
      " [6.97402930e-020 2.21706825e-277 2.83925736e-021 8.92486214e-033\n",
      "  1.03979702e-019 1.00000000e-009 1.00000000e-027 1.00000000e-009\n",
      "  1.59841257e-001 5.93723106e-001 9.41181064e-021 2.46435637e-001\n",
      "  4.43976812e-168 1.58394423e-027 3.91091059e-027 3.08250650e-022\n",
      "  3.56608399e-027]\n",
      " [9.11978482e-021 2.21706825e-277 6.23789198e-022 1.27937247e-034\n",
      "  3.24487097e-020 1.00000000e-009 1.00000000e-027 1.00000000e-018\n",
      "  7.52781014e-001 2.42295820e-001 4.98135156e-021 4.92316549e-003\n",
      "  4.43976812e-177 1.53855053e-027 1.47073475e-027 2.51544303e-022\n",
      "  2.74577439e-027]\n",
      " [2.92019099e-020 2.21706825e-277 2.17095851e-021 2.94873966e-033\n",
      "  2.99554180e-020 1.00000000e-009 1.00000000e-027 6.75218209e-315\n",
      "  2.03649612e-002 2.10878605e-001 3.58498171e-022 7.68756434e-001\n",
      "  3.78565812e-136 6.84105528e-028 3.33397266e-027 2.39266668e-022\n",
      "  2.11404031e-027]\n",
      " [5.18645775e-020 2.21706825e-277 4.29744115e-022 6.36674051e-033\n",
      "  3.49680235e-020 1.00000000e-009 1.00000000e-027 6.75190978e-315\n",
      "  5.03450138e-001 3.17789131e-001 6.50721634e-021 1.78760731e-001\n",
      "  3.78565812e-136 1.70871651e-027 2.39307362e-027 3.59913330e-022\n",
      "  1.49205030e-027]\n",
      " [1.29485049e-020 2.21706825e-277 2.63205552e-022 3.67846783e-033\n",
      "  3.20886908e-021 1.00000000e-009 1.00000000e-027 6.75219427e-315\n",
      "  2.78023456e-001 3.31792414e-001 6.29461831e-021 3.90184130e-001\n",
      "  3.78565812e-136 2.57361590e-027 2.17152013e-027 2.80899766e-022\n",
      "  1.67924395e-027]\n",
      " [1.68559595e-020 2.21706825e-277 3.44732977e-022 3.12508982e-033\n",
      "  2.11638322e-021 1.00000000e-009 1.00000000e-027 6.75218208e-315\n",
      "  5.17212085e-001 2.46105247e-001 7.88996797e-021 2.36682668e-001\n",
      "  3.78565812e-136 9.89158149e-028 1.63163224e-027 1.26802802e-023\n",
      "  1.85693041e-027]\n",
      " [1.16544975e-020 2.21706825e-277 1.29532988e-021 2.30556694e-034\n",
      "  2.06753135e-020 1.00000000e-009 1.00000000e-027 6.75218210e-315\n",
      "  5.56871865e-001 3.31093108e-001 4.97527626e-021 1.12035027e-001\n",
      "  3.78565812e-136 8.92843173e-028 1.82288488e-027 1.19635410e-022\n",
      "  1.82567814e-027]\n",
      " [3.17046551e-020 2.21706825e-277 1.22869439e-021 6.85867987e-033\n",
      "  4.85765732e-020 1.00000000e-009 1.00000000e-027 1.00000000e-009\n",
      "  8.53254028e-001 1.09949600e-001 1.67918492e-023 3.67963721e-002\n",
      "  4.43976812e-168 1.08121027e-027 1.11927413e-027 9.86502219e-023\n",
      "  7.84039070e-028]\n",
      " [2.77676424e-020 2.21706825e-277 7.44688806e-022 1.40615052e-034\n",
      "  4.43102999e-020 1.00000000e-009 1.00000000e-027 6.75218209e-315\n",
      "  3.17622083e-001 5.02326570e-001 5.91470652e-021 1.80051347e-001\n",
      "  3.78565812e-136 2.58005516e-027 2.44200274e-027 6.64136405e-023\n",
      "  3.10747711e-027]\n",
      " [1.99383619e-020 2.21706825e-277 1.50835962e-021 3.53758994e-033\n",
      "  4.15379050e-020 1.00000000e-009 1.00000000e-027 6.75218196e-315\n",
      "  4.06441207e-002 3.80819429e-001 3.47204595e-021 5.78536450e-001\n",
      "  3.78565812e-136 2.58085579e-027 9.90167360e-028 2.47244125e-022\n",
      "  1.54450043e-027]\n",
      " [2.27233581e-021 2.21706825e-277 7.02887144e-022 1.12038467e-033\n",
      "  3.47276466e-021 1.00000000e-009 1.00000000e-027 1.00000000e-009\n",
      "  1.27520404e-001 5.44154895e-001 2.34682386e-021 3.28324701e-001\n",
      "  4.43976812e-168 1.17560199e-027 3.09759469e-027 2.35560540e-022\n",
      "  3.09969183e-027]\n",
      " [4.05582109e-020 2.21706825e-277 2.04425485e-021 1.66499131e-033\n",
      "  9.05918132e-021 1.00000000e-009 1.00000000e-027 1.00000000e-009\n",
      "  6.02701254e-001 1.13546232e-001 1.51245154e-021 2.83752514e-001\n",
      "  4.43976812e-168 2.12956458e-027 3.14963611e-027 5.75157951e-024\n",
      "  2.17756365e-028]\n",
      " [4.46531641e-021 2.21706825e-277 1.25315653e-022 1.91247330e-033\n",
      "  4.08622843e-020 1.00000000e-009 1.00000000e-027 1.00000000e-009\n",
      "  2.60102552e-001 4.98286967e-001 4.04474372e-021 2.41610481e-001\n",
      "  4.43976812e-168 1.21505384e-027 2.56693764e-027 1.99831261e-025\n",
      "  9.26643313e-028]\n",
      " [1.70832693e-020 2.21706825e-277 1.71626443e-021 2.28163869e-033\n",
      "  4.51991936e-020 1.00000000e-009 1.00000000e-027 1.00000000e-009\n",
      "  8.69644204e-001 6.41389237e-002 3.99207652e-021 6.62168727e-002\n",
      "  4.43976812e-168 1.82437965e-027 1.93927744e-027 1.98324497e-022\n",
      "  7.85675661e-028]]\n",
      "emission_matrix\n",
      " [[6.68463230e-001 3.31539039e-001]\n",
      " [1.00000000e+000 2.16426841e-286]\n",
      " [2.50000385e-001 7.49999615e-001]\n",
      " [6.66666667e-001 3.33333333e-001]\n",
      " [7.49999998e-001 2.50000002e-001]\n",
      " [1.00000000e+000 1.00000000e-009]\n",
      " [2.16766080e-040 1.00000000e+000]\n",
      " [2.96516526e-033 1.00000000e+000]\n",
      " [1.00000000e+000 1.00000000e-009]\n",
      " [1.00000000e+000 1.00000000e-009]\n",
      " [6.66723517e-001 3.33276486e-001]\n",
      " [1.00000000e+000 1.00000000e-009]\n",
      " [1.00000000e+000 1.22197939e-221]\n",
      " [6.66666667e-001 3.33333333e-001]\n",
      " [3.33333333e-001 6.66666667e-001]\n",
      " [3.33328131e-001 6.66671869e-001]\n",
      " [3.33333333e-001 6.66666667e-001]]\n"
     ]
    }
   ],
   "source": [
    "test.debug()"
   ]
  },
  {
   "cell_type": "code",
   "execution_count": null,
   "metadata": {},
   "outputs": [],
   "source": []
  }
 ],
 "metadata": {
  "kernelspec": {
   "display_name": "Python 3",
   "language": "python",
   "name": "python3"
  },
  "language_info": {
   "codemirror_mode": {
    "name": "ipython",
    "version": 3
   },
   "file_extension": ".py",
   "mimetype": "text/x-python",
   "name": "python",
   "nbconvert_exporter": "python",
   "pygments_lexer": "ipython3",
   "version": "3.8.3"
  }
 },
 "nbformat": 4,
 "nbformat_minor": 5
}
