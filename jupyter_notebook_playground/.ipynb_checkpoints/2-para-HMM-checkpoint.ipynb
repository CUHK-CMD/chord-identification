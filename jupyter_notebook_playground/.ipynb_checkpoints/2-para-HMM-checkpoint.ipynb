{
 "cells": [
  {
   "cell_type": "code",
   "execution_count": 1,
   "id": "b86d9cfc",
   "metadata": {
    "tags": []
   },
   "outputs": [],
   "source": [
    "import numpy as np\n",
    "import random\n",
    "import itertools\n",
    "import math\n",
    "import tqdm\n",
    "from tqdm import trange\n",
    "import time"
   ]
  },
  {
   "cell_type": "markdown",
   "id": "77e5695e-239c-4b63-a3ad-8158855a82d0",
   "metadata": {},
   "source": [
    "# Helper Function"
   ]
  },
  {
   "cell_type": "code",
   "execution_count": 2,
   "id": "c69cb180",
   "metadata": {
    "tags": []
   },
   "outputs": [],
   "source": [
    "key_mapping={\n",
    "    'C':0,\n",
    "    'D':2,\n",
    "    'E':4,\n",
    "    'F':5,\n",
    "    'G':7,\n",
    "    'A':9,\n",
    "    'B':11\n",
    "}\n",
    "def key2num(key):  \n",
    "  key=key.upper()\n",
    "  num=key_mapping[key[0]]\n",
    "  modifier=len(key)\n",
    "  if modifier==1:\n",
    "    return num\n",
    "  elif key[1]=='#':\n",
    "    return (num+(modifier-1))%12\n",
    "  elif key[1]=='B' or key[1]=='-':\n",
    "    return (num-(modifier-1))%12\n",
    "  elif key[1]=='X':\n",
    "    return (num+(modifier-1)*2)%12\n",
    "\n",
    "# key_list to number_list\n",
    "def keys2num(keys):\n",
    "    return [key2num(key) for key in keys]"
   ]
  },
  {
   "cell_type": "code",
   "execution_count": 3,
   "id": "6388e69d",
   "metadata": {
    "tags": []
   },
   "outputs": [],
   "source": [
    "# function to distingish whether notes in given timestamp and chord are within or outside the chord (0=outside,1=within)\n",
    "import json\n",
    "with open('../modules/json_files/keychorddict.json') as json_file:\n",
    "    chord_notes = json.load(json_file)\n",
    "  \n",
    "    def note_2_class(chord,notes_at_t,chord_notes=chord_notes):\n",
    "        note_in_chord=chord_notes[chord]['idx']\n",
    "        return [int(note in note_in_chord) for note in notes_at_t]"
   ]
  },
  {
   "cell_type": "code",
   "execution_count": 151,
   "id": "3c959984-0d11-43f8-94e4-b12e0e40d30e",
   "metadata": {},
   "outputs": [
    {
     "data": {
      "text/plain": [
       "17"
      ]
     },
     "execution_count": 151,
     "metadata": {},
     "output_type": "execute_result"
    }
   ],
   "source": [
    "h_states.index('MajorI')"
   ]
  },
  {
   "cell_type": "code",
   "execution_count": 152,
   "id": "95cef411-6b62-4c43-8725-53fda8688098",
   "metadata": {},
   "outputs": [
    {
     "data": {
      "text/plain": [
       "0.0694776306723782"
      ]
     },
     "execution_count": 152,
     "metadata": {},
     "output_type": "execute_result"
    }
   ],
   "source": [
    "test.likelihood(1 ,[0, 3, 7], 'cMinor') "
   ]
  },
  {
   "cell_type": "code",
   "execution_count": 154,
   "id": "208ddb5e-4049-4fcf-b04d-f81cfb4cae98",
   "metadata": {},
   "outputs": [
    {
     "data": {
      "text/plain": [
       "[(3.4300564052104254e-21, 17.0),\n",
       " (3.4300564052104254e-21, 17.0),\n",
       " (3.4300564052104254e-21, 17.0),\n",
       " (3.4300564052104254e-21, 17.0),\n",
       " (3.4300564052104254e-21, 17.0),\n",
       " (3.4300564052104254e-21, 17.0),\n",
       " (3.4300564052104254e-21, 17.0),\n",
       " (3.4300564052104254e-21, 17.0),\n",
       " (3.4300564052104254e-21, 17.0),\n",
       " (3.4300564052104254e-21, 17.0),\n",
       " (3.4300564052104254e-21, 17.0),\n",
       " (3.4300564052104254e-21, 17.0),\n",
       " (3.4300564052104254e-21, 17.0),\n",
       " (3.4300564052104254e-21, 17.0),\n",
       " (3.4300564052104254e-21, 17.0),\n",
       " (3.4300564052104254e-21, 17.0),\n",
       " (3.4300564052104254e-21, 17.0),\n",
       " (0.00011625644770959873, 17.0),\n",
       " (1.088906795304897e-15, 17.0),\n",
       " (3.048939026853712e-14, 17.0),\n",
       " (3.4300564052104254e-21, 17.0),\n",
       " (9.800161157744072e-15, 17.0),\n",
       " (5.008971258402526e-14, 17.0),\n",
       " (0.00029872703080263387, 17.0),\n",
       " (4.86433437997341e-12, 17.0),\n",
       " (0.0, 0.0),\n",
       " (0.0, 0.0),\n",
       " (3.4300564052104254e-21, 17.0),\n",
       " (3.4300564052104254e-21, 17.0),\n",
       " (1.3066881543658765e-14, 17.0),\n",
       " (3.4300564052104254e-21, 17.0),\n",
       " (3.4300564052104254e-21, 17.0),\n",
       " (5.444533976524484e-15, 17.0)]"
      ]
     },
     "execution_count": 154,
     "metadata": {},
     "output_type": "execute_result"
    }
   ],
   "source": [
    "test.forward_table=np.empty((2,test.no_of_state,2))\n",
    "test.forward_table[:]= np.NaN\n",
    "test.key=['CMajor','CMajor']\n",
    "[test.forward(1,i,[[0,4,7],[0,3,7]],True) for i in range(len(h_states))]"
   ]
  },
  {
   "cell_type": "markdown",
   "id": "7591c0cc-1db0-42eb-8823-4b324eae7b7b",
   "metadata": {},
   "source": [
    "# HMM"
   ]
  },
  {
   "cell_type": "code",
   "execution_count": 144,
   "id": "98269d3d",
   "metadata": {
    "tags": []
   },
   "outputs": [
    {
     "data": {
      "text/plain": [
       "\"        \\n    def train(self,obs,key_name,epochs=2):\\n        #O:observed values\\n        #λ:model parameters\\n\\n        \\n        for epoch in range(epochs):\\n            for ob_idx,ob in enumerate(obs):\\n                self.update_state_name([key_name[ob_idx].lower()[:-1]+states for states in h_states])\\n                print('running',ob_idx,key_name[ob_idx].lower()[:-1])\\n                self.probit_at_i_table=np.empty((len(ob),self.no_of_state))\\n                self.probit_transit_i_j_table=np.empty((len(ob),self.no_of_state,self.no_of_state))\\n                self.forward_table=np.empty((len(ob),self.no_of_state))\\n                self.backward_table=np.empty((len(ob),self.no_of_state))\\n                self.probit_at_i_table[:]= np.NaN\\n                self.probit_transit_i_j_table[:]=np.NaN\\n                self.forward_table[:]= np.NaN\\n                self.backward_table[:]=np.NaN\\n                self.chord_probit=self.transition_matrix.sum(axis=0)\\n                self.chord_probit/=self.chord_probit.sum()\\n                #initalize DP table\\n                for t, i in tqdm.tqdm(itertools.product(range(len(ob)),range(self.no_of_state))):\\n                    self.forward(t,i,ob)\\n                    self.backward(t,i,ob)\\n                    self.probit_at_i(t,i,ob)\\n                    for j in range(self.no_of_state):\\n                        if t!=len(ob)-1:\\n                            self.probit_transit_i_j(t,i,j,ob)\\n                \\n                \\n                \\n                #initial matrix\\n                for i in range(self.no_of_state):\\n                    self.initial_matrix[i]=self.probit_at_i(0,i,ob)\\n                    if self.initial_matrix[i]==0:\\n                        self.initial_matrix[i]=0.00000001\\n                #transition matrix\\n                for i, j in itertools.product(range(self.no_of_state),range(self.no_of_state)):\\n                    self.transition_matrix[i][j]=sum([self.probit_transit_i_j(t,i,j,ob) for t in range(len(ob)-1)])/sum([self.probit_at_i(t,i,ob) for t in range(len(ob)-1)])\\n                    if self.transition_matrix[i][j]==0 :\\n                        self.transition_matrix[i][j]=0.00000001\\n                #emission matrix\\n                for j, k in itertools.product(range(self.no_of_state),range(len(self.values))):   \\n                    total=0\\n                    \\n                    #Modification: convert notes to 2 classes (outside or inside given chord)\\n                    chord=self.states[j]  #numeric to chord name\\n                    ob_2_class=[note_2_class(chord,ob_t) for ob_t in ob] #2 class\\n\\n                    for t in range(len(ob)):\\n                        if k in ob_2_class[t]:\\n                            #Modification: multiple by how many times do k appear at timestamp t\\n                            total+=self.probit_at_i(t,j,ob)*ob_2_class[t].count(k)  \\n                            \\n                    #Modification: multiple by len(ob[t]), which is the total length of notes at timestamp t                    \\n                    self.emssion_matrix[:,k]=total/sum([self.probit_at_i(t,j,ob)*len(ob[t]) for t in range(len(ob))])  \\n                    \\n                    #smoothing\\n                    \\n                    if self.emssion_matrix[j][k]==0 :\\n                        self.emssion_matrix[:,k]=0.00000001\\n\""
      ]
     },
     "execution_count": 144,
     "metadata": {},
     "output_type": "execute_result"
    }
   ],
   "source": [
    "### I threat the total length of time as the length of the observered list\n",
    "\n",
    "class HMM:\n",
    "    def __init__(self,no_of_state,no_of_value,states,values):\n",
    "        #randomize all matrix, each row should sum to 1\n",
    "        #self.emssion_matrix=np.array([ran/ran.sum() for ran in np.array([np.random.rand(no_of_value) for i in range(no_of_state)])]) #b[i][O]  --> probability to emit values[O] from states[i]\n",
    "        \n",
    "\n",
    "        #Modification: 2 parameter for all chord  [note inside chord & note outside chord]\n",
    "        self.zero=0.00000000001\n",
    "        self.emssion_matrix=np.random.rand(no_of_value)\n",
    "        self.emssion_matrix=self.emssion_matrix/self.emssion_matrix.sum()\n",
    "        if self.emssion_matrix[0]>self.emssion_matrix[1]:\n",
    "            temp=self.emssion_matrix[0]\n",
    "            self.emssion_matrix[0]=self.emssion_matrix[1]\n",
    "            self.emssion_matrix[1]=temp\n",
    "        self.emssion_matrix=np.array([self.emssion_matrix,]*len(states)) \n",
    "        self.emssion_matrix=np.array([[0.2,0.8],]*len(states)) \n",
    "        # assume same probability to emit \"note within chord\"  for all chords\n",
    "        \n",
    "        self.initial_matrix= np.random.rand(no_of_state) #π[i] --> probability to start at states[i]\n",
    "        self.initial_matrix/= self.initial_matrix.sum()\n",
    "        \n",
    "        self.transition_matrix=np.array([ran/ran.sum() for ran in np.array([np.random.rand(no_of_state) for i in range(no_of_state)])])  #a[i][j] --> probability from states[i] transit to states[j]\n",
    "        self.T1=None\n",
    "        self.T2=None\n",
    "        self.no_of_state=no_of_state\n",
    "        self.states=states\n",
    "        self.values=values\n",
    "        self.observered=None\n",
    "        self.key=None\n",
    "        self.t=None\n",
    "        self.MinorMask=np.array([1, 1,\n",
    "          1, 1, 1,\n",
    "          1,\n",
    "          1, 1,\n",
    "          1, 1, 1,\n",
    "          1, 1,1,1,\n",
    "          1, 1,\n",
    "          0,\n",
    "          0,0,0,\n",
    "          0,\n",
    "          0,\n",
    "          0,0,\n",
    "          0,0,0,0,0,\n",
    "          0,0,0\n",
    "        ])\n",
    "        self.MajorMask=(self.MinorMask*-1)+1\n",
    "        \n",
    "        self.probit_at_i_table=None\n",
    "        self.probit_transit_i_j_table=None\n",
    "        self.forward_table=None\n",
    "        self.backward_table=None\n",
    "        \n",
    "        self.chord_probit=None\n",
    "        \n",
    "        \n",
    "\n",
    "        #self.prev_initial_matrix=self.initial_matrix\n",
    "        #self.prev_emssion_matrix=self.emssion_matrix\n",
    "        #self.prev_transition_matrix=self.transition_matrix\n",
    "  #  def update_state_name(self,name):\n",
    "     #   self.states=name\n",
    "        \n",
    "    def debug(self):\n",
    "        print('initial_matrix\\n',self.initial_matrix)\n",
    "        print('transition_matrix\\n',self.transition_matrix)\n",
    "        print('emission_matrix\\n',self.emssion_matrix)\n",
    "    \n",
    "    def likelihood(self,state,ob_t,key):\n",
    "        index_to_pitch_sharp = {\n",
    "            0: \"C\",\n",
    "            1: \"C#\",\n",
    "            2: \"D\",\n",
    "            3: \"D#\",\n",
    "            4: \"E\",\n",
    "            5: \"F\",\n",
    "            6: \"F#\",\n",
    "            7: \"G\",\n",
    "            8: \"G#\",\n",
    "            9: \"A\",\n",
    "            10: \"A#\",\n",
    "            11: \"B\",\n",
    "        }\n",
    "        if key[-5:]!=self.states[state][:5]:\n",
    "            return self.zero\n",
    "        chord=key+self.states[state][5:]\n",
    "        \n",
    "        num2note=[index_to_pitch_sharp[e] for e in ob_t]\n",
    "\n",
    "        a=noteToChord.NoteToChord(num2note,key,5,0)\n",
    "\n",
    "        score = np.array([i['Score'] for i in a])\n",
    "        score=score-min(score)\n",
    "        score/=score.sum()\n",
    "        chords=[i['Chord'] for i in a]\n",
    "\n",
    "        try:\n",
    "            idx=chords.index(chord)\n",
    "        except ValueError:\n",
    "            idx=None\n",
    "            \n",
    "        \n",
    "            \n",
    "        if idx==None:\n",
    "            return self.zero\n",
    "\n",
    "        ob_t=note_2_class(chord,ob_t) #2 class\n",
    "        \n",
    "        prob=1\n",
    "        for x in ob_t:\n",
    "            prob*=(self.emssion_matrix[state][x])\n",
    "        return score[idx]/score.sum()   *prob#/self.chord_probit[state] # assume uniform probability\n",
    "    \"\"\"#original function\n",
    "    def likelihood(self,state,ob_t):\n",
    "        #Modification: convert observation[t] from notes to 2_classes\n",
    "        chord=self.states[state]  #numeric to chord name\n",
    "        ob_t=note_2_class(chord,ob_t) #2 class\n",
    "        \n",
    "        prob=1\n",
    "        for x in ob_t:\n",
    "            prob*=(self.emssion_matrix[state][x])\n",
    "        return prob\n",
    "    \"\"\"\n",
    " \n",
    "    def forward(self,t,j,ob=None,mode=False):\n",
    "        self.t=t\n",
    "        if ob is None:\n",
    "            ob=self.observered\n",
    "        if np.isnan(self.forward_table[t][j]).any():\n",
    "            if t==0:\n",
    "                if mode==True:\n",
    "                    if 'Major' in self.key[t]:\n",
    "                        self.forward_table[t][j]=[(self.initial_matrix*self.MajorMask)[j]*self.likelihood(j,ob[t],self.key[t]),0]\n",
    "                    else:\n",
    "                        self.forward_table[t][j]=[(self.initial_matrix*self.MinorMask)[j]*self.likelihood(j,ob[t],self.key[t]),0]\n",
    "                    return self.forward_table[t][j][0],self.forward_table[t][j][1]\n",
    "                else:\n",
    "                    self.forward_table[t][j]=self.initial_matrix[j]*self.likelihood(j,ob[t])\n",
    "                    return self.forward_table[t][j]\n",
    "            else:          \n",
    "                if mode==True:\n",
    "\n",
    "                    if self.key[t-1][:5]==self.key[t][:5]:\n",
    "            \n",
    "                        if 'Major' in self.key[t]:\n",
    "                            result=np.array([self.forward(t-1,i,ob,mode)[0]*self.transition_matrix[i][j] for i in range(self.no_of_state)])*self.MajorMask* self.likelihood(j,ob[t],self.key[t])\n",
    "                        else:\n",
    "                            result=np.array([self.forward(t-1,i,ob,mode)[0]*self.transition_matrix[i][j] for i in range(self.no_of_state)])*self.MinorMask * self.likelihood(j,ob[t],self.key[t])\n",
    "          \n",
    "                    else:\n",
    "        \n",
    "                        if 'Major' in self.keupp[t]:        \n",
    "                            result=self.MajorMask * self.likelihood(j,ob[t],self.key[t])\n",
    "                        else:\n",
    "                            result=self.MinorMask * self.likelihood(j,ob[t],self.key[t])\n",
    "    \n",
    "        \n",
    "                    self.forward_table[t][j]=[np.max(result),np.argmax(result)]\n",
    "\n",
    "                    return self.forward_table[t][j][0],self.forward_table[t][j][1]\n",
    "                else:\n",
    "                    self.forward_table[t][j]=sum([self.forward(t-1,i,ob,mode)*self.transition_matrix[i][j] for i in range(self.no_of_state)]) * self.likelihood(j,ob[t])\n",
    "                    return self.forward_table[t][j]\n",
    "        else:\n",
    "            return self.forward_table[t][j]\n",
    "\n",
    "    def backward(self,t,i,ob=None,mode=False):\n",
    "        if ob is None:\n",
    "            ob=self.observered\n",
    "        if np.isnan(self.backward_table[t][i]) or mode==True:\n",
    "            if t==len(ob)-1:\n",
    "                self.backward_table[t][i]=1\n",
    "                return self.backward_table[t][i]\n",
    "            else:\n",
    "                if mode==True:\n",
    "                    self.backward_table[t][i]=max([self.transition_matrix[i][j]*self.likelihood(j,ob[t+1])*self.backward(t+1,j,ob,mode) for j in range(self.no_of_state)])\n",
    "                    return self.backward_table[t][i]\n",
    "                else:\n",
    "                    self.backward_table[t][i]=sum([self.transition_matrix[i][j]*self.likelihood(j,ob[t+1])*self.backward(t+1,j,ob,mode) for j in range(self.no_of_state)])\n",
    "                    return self.backward_table[t][i]\n",
    "        else:\n",
    "            return self.backward_table[t][i]\n",
    "            \n",
    "           \n",
    "    def probit_at_i(self,t,i,ob=None):#Gamma γt(i) = P(qt = i|O,λ)      \n",
    "        if ob is None:\n",
    "            ob=self.observered\n",
    "        if np.isnan(self.probit_at_i_table[t][i]):\n",
    "            numerator=self.forward(t,i,ob)*self.backward(t,i,ob)#sum probability of all path passing through state[i] at time t\n",
    "            denominator=sum([self.forward(t,j,ob)*self.backward(t,j,ob) for j in range(self.no_of_state)]) #prob of passing through  ALL_state at time t\n",
    "            self.probit_at_i_table[t][i]=numerator/denominator\n",
    "            return self.probit_at_i_table[t][i]\n",
    "        else:\n",
    "            return self.probit_at_i_table[t][i]\n",
    "    \n",
    "    def probit_transit_i_j(self,t,i,j,ob=None):#epsilon ξt(i, j) = P(qt = i,qt+1 = j|O,λ)\n",
    "        if ob is None:\n",
    "            ob=self.observered\n",
    "        if np.isnan(self.probit_transit_i_j_table[t][i][j]):\n",
    "            numerator=self.forward(t,i,ob)*self.transition_matrix[i][j]*self.likelihood(j,ob[t+1])*self.backward(t+1,j,ob)#sum probability of all path transit from state[i] to state[j] at time t\n",
    "            denominator=sum([sum([self.forward(t,m,ob)*self.transition_matrix[m][n]*self.likelihood(n,ob[t+1])*self.backward(t+1,n,ob) for n in range(self.no_of_state)]) for m in range(self.no_of_state)]) #prob of ALL transition combination at time t\n",
    "            self.probit_transit_i_j_table[t][i][j]=(numerator/denominator)\n",
    "            return self.probit_transit_i_j_table[t][i][j]\n",
    "        else:\n",
    "            return self.probit_transit_i_j_table[t][i][j]\n",
    "        \n",
    "    #modify from https://stackoverflow.com/questions/9729968/python-implementation-of-viterbi-algorithm/9730083 , author RBF06(https://stackoverflow.com/users/3311728/rbf06)\n",
    "    def predict(self,ob,test_key):  \n",
    "        self.forward_table=np.empty((len(ob),self.no_of_state,2))\n",
    "        self.forward_table[:]= np.NaN\n",
    "        self.key=test_key\n",
    "\n",
    "        T1=np.empty((self.no_of_state,len(ob)),'d')\n",
    "        T2=np.empty((self.no_of_state,len(ob)),'B')\n",
    "        for idx in range(self.no_of_state):\n",
    "            T1[idx,0]=self.forward(0,idx,ob,True)[0]\n",
    "        T2[:,0]=0\n",
    "        self.T1=T1\n",
    "        \n",
    "        for i in range(1,len(ob)):\n",
    "            for idx in range(self.no_of_state):\n",
    "                T1[idx,i],T2[idx,i]=self.forward(i,idx,ob,True)\n",
    "\n",
    "        x = np.empty(len(ob), 'B')\n",
    "        x[-1] = np.argmax(T1[:, len(ob) - 1])\n",
    "        \n",
    "        self.T2=x\n",
    "        for i in reversed(range(1, len(ob))):\n",
    "            x[i - 1] = T2[x[i], i]\n",
    "        return x\n",
    "    \n",
    "    def get_detail(self,label):\n",
    "        key='Major' if 'M' in label else 'Minor'\n",
    "        chord=label.split(\"_\")[1]\n",
    "        key_note=label.split('M')[0] if key=='Major' else label.split('m')[0].lower()\n",
    "        if key=='Major':\n",
    "            if key_note=='F#':\n",
    "                key_note='Gb'\n",
    "            elif key_note=='A#':\n",
    "                key_note='Bb'\n",
    "            elif key_note=='C#':\n",
    "                key_note='Db'\n",
    "            elif key_note=='G#':\n",
    "                key_note='Ab'\n",
    "            elif key_note=='D#':\n",
    "                key_note='Eb'\n",
    "        else:\n",
    "            if key_note=='gb':\n",
    "                key_note='f#'\n",
    "            elif key_note=='db':\n",
    "                key_note='c#'\n",
    "            elif key_note=='ab':\n",
    "                key_note='g#'\n",
    "            elif key_note=='d#':\n",
    "                key_note='eb'\n",
    "                \n",
    "        if 'German' in chord:\n",
    "            chord=key+'GerVI'\n",
    "        elif 'Dim7' in chord:\n",
    "            chord=key+'DimVII7'\n",
    "        elif 'FrenchVI' in chord:\n",
    "            chord=key+'FreVI'\n",
    "        else:\n",
    "            chord=key+chord\n",
    "        return chord,key_note\n",
    "    \n",
    "    def train_supervisied(self,obs,labels): # by MLE\n",
    "        initial_matrix= np.zeros(self.no_of_state)\n",
    "        emssion_matrix=np.zeros((2)) \n",
    "        transition_matrix=np.array([np.zeros(self.no_of_state) for i in range(self.no_of_state)])\n",
    "\n",
    "        for idx_1,label in enumerate(labels):\n",
    "        #    self.update_state_name([key_name[idx_1].lower()[:-1]+states for states in h_states])\n",
    "            for idx_2,lab in enumerate(label):\n",
    "                Pre_chord,Pre_key_name=self.get_detail(label[idx_2-1])\n",
    "                chord,key_name=self.get_detail(label[idx_2])\n",
    "                if idx_2==0:\n",
    "                    initial_matrix[self.states.index(chord)]+=1\n",
    "                else:\n",
    "                    if Pre_chord[:5]==chord[:5]: ## ignore key change\n",
    "                        transition_matrix[self.states.index(Pre_chord)][self.states.index(chord)]+=1\n",
    "                        #note_2_class(chord,notes_at_t,chord_notes=chord_notes):\n",
    "                    ob_t=note_2_class(key_name+chord,obs[idx_1][idx_2]) #2 class\n",
    "                    for x in ob_t:\n",
    "                        emssion_matrix[x]+=1\n",
    "                        \n",
    "        #save back to model\n",
    "\n",
    "        self.initial_matrix=np.array([item/initial_matrix.sum() if item >0 else 0.00000001 for item in initial_matrix])\n",
    "        self.transition_matrix=np.array([row/row.sum() if row.sum()>0 else row+0.00000001 for row in transition_matrix])\n",
    "        for row in range(self.transition_matrix.shape[0]):\n",
    "            for col in range(self.transition_matrix.shape[1]):\n",
    "                if self.transition_matrix[row][col]==0:\n",
    "                    self.transition_matrix[row][col]=0.00000001\n",
    "        self.emssion_matrix=np.array([emssion_matrix/emssion_matrix.sum()] *self.no_of_state) \n",
    "\n",
    "        \n",
    "\"\"\"        \n",
    "    def train(self,obs,key_name,epochs=2):\n",
    "        #O:observed values\n",
    "        #λ:model parameters\n",
    "\n",
    "        \n",
    "        for epoch in range(epochs):\n",
    "            for ob_idx,ob in enumerate(obs):\n",
    "                self.update_state_name([key_name[ob_idx].lower()[:-1]+states for states in h_states])\n",
    "                print('running',ob_idx,key_name[ob_idx].lower()[:-1])\n",
    "                self.probit_at_i_table=np.empty((len(ob),self.no_of_state))\n",
    "                self.probit_transit_i_j_table=np.empty((len(ob),self.no_of_state,self.no_of_state))\n",
    "                self.forward_table=np.empty((len(ob),self.no_of_state))\n",
    "                self.backward_table=np.empty((len(ob),self.no_of_state))\n",
    "                self.probit_at_i_table[:]= np.NaN\n",
    "                self.probit_transit_i_j_table[:]=np.NaN\n",
    "                self.forward_table[:]= np.NaN\n",
    "                self.backward_table[:]=np.NaN\n",
    "                self.chord_probit=self.transition_matrix.sum(axis=0)\n",
    "                self.chord_probit/=self.chord_probit.sum()\n",
    "                #initalize DP table\n",
    "                for t, i in tqdm.tqdm(itertools.product(range(len(ob)),range(self.no_of_state))):\n",
    "                    self.forward(t,i,ob)\n",
    "                    self.backward(t,i,ob)\n",
    "                    self.probit_at_i(t,i,ob)\n",
    "                    for j in range(self.no_of_state):\n",
    "                        if t!=len(ob)-1:\n",
    "                            self.probit_transit_i_j(t,i,j,ob)\n",
    "                \n",
    "                \n",
    "                \n",
    "                #initial matrix\n",
    "                for i in range(self.no_of_state):\n",
    "                    self.initial_matrix[i]=self.probit_at_i(0,i,ob)\n",
    "                    if self.initial_matrix[i]==0:\n",
    "                        self.initial_matrix[i]=0.00000001\n",
    "                #transition matrix\n",
    "                for i, j in itertools.product(range(self.no_of_state),range(self.no_of_state)):\n",
    "                    self.transition_matrix[i][j]=sum([self.probit_transit_i_j(t,i,j,ob) for t in range(len(ob)-1)])/sum([self.probit_at_i(t,i,ob) for t in range(len(ob)-1)])\n",
    "                    if self.transition_matrix[i][j]==0 :\n",
    "                        self.transition_matrix[i][j]=0.00000001\n",
    "                #emission matrix\n",
    "                for j, k in itertools.product(range(self.no_of_state),range(len(self.values))):   \n",
    "                    total=0\n",
    "                    \n",
    "                    #Modification: convert notes to 2 classes (outside or inside given chord)\n",
    "                    chord=self.states[j]  #numeric to chord name\n",
    "                    ob_2_class=[note_2_class(chord,ob_t) for ob_t in ob] #2 class\n",
    "\n",
    "                    for t in range(len(ob)):\n",
    "                        if k in ob_2_class[t]:\n",
    "                            #Modification: multiple by how many times do k appear at timestamp t\n",
    "                            total+=self.probit_at_i(t,j,ob)*ob_2_class[t].count(k)  \n",
    "                            \n",
    "                    #Modification: multiple by len(ob[t]), which is the total length of notes at timestamp t                    \n",
    "                    self.emssion_matrix[:,k]=total/sum([self.probit_at_i(t,j,ob)*len(ob[t]) for t in range(len(ob))])  \n",
    "                    \n",
    "                    #smoothing\n",
    "                    \n",
    "                    if self.emssion_matrix[j][k]==0 :\n",
    "                        self.emssion_matrix[:,k]=0.00000001\n",
    "\"\"\"                        "
   ]
  },
  {
   "cell_type": "markdown",
   "id": "9f54ec85-8762-4908-b923-3d7e156aff2f",
   "metadata": {},
   "source": [
    "# Training"
   ]
  },
  {
   "cell_type": "code",
   "execution_count": 164,
   "id": "a485daf6",
   "metadata": {},
   "outputs": [],
   "source": [
    "import json\n",
    "with open('../data/training_data.json') as json_file:\n",
    "    data = json.load(json_file)"
   ]
  },
  {
   "cell_type": "code",
   "execution_count": 165,
   "id": "8132eed1",
   "metadata": {},
   "outputs": [],
   "source": [
    "h_states=['MinorI', 'MinorI+',\n",
    "          'MinorbII', 'MinorII', 'MinorII7',\n",
    "          'MinorIII',\n",
    "          'MinorIV', 'MinorIV+',\n",
    "          'MinorV', 'MinorV+', 'MinorV+7',\n",
    "          'MinorVI', 'MinorGerVI', 'MinorFreVI', 'MinorItaVI',\n",
    "          'MinorVII', 'MinorDimVII7',#, 'MinorDimVII'\n",
    "          'MajorI',\n",
    "          'MajorbII','MajorII','MajorII7',\n",
    "          'MajorIII',\n",
    "          'MajorIV',\n",
    "          'MajorV','MajorV7',\n",
    "          'MajorbVI','MajorGerVI','MajorFreVI','MajorItaVI','MajorVI',\n",
    "          'MajorVII','MajorVII7','MajorDimVII7'\n",
    "]\n",
    "#all possible chordm will add the key to the chord afterward e.g. cMinorI"
   ]
  },
  {
   "cell_type": "code",
   "execution_count": 166,
   "id": "e30a9359-f979-4638-a27f-bdc5ac0de634",
   "metadata": {
    "tags": []
   },
   "outputs": [
    {
     "data": {
      "text/plain": [
       "(array(['notestochord.mxl', 'Nocturne_in_F_Minor.mxl',\n",
       "        'Prelude_in_B_Minor.mxl'], dtype='<U35'),\n",
       " array(['Prelude_in_F_Major.mxl', 'Menuet_in_G_Minor.mxl',\n",
       "        'Nocturne_in_E_Major.mxl', 'Prelude_in_B_Minor_Opus104a.mxl',\n",
       "        'Etude_in_Gb_Major_Opus_25.mxl', 'Nocturne_in_C_Minor.mxl',\n",
       "        'Etude_in_F_Major.mxl', 'Prelude_in_Db_Major.mxl',\n",
       "        'Moonlight_Sonata_1st_Movement.mxl', 'Etude_in_Gb_Major.mxl',\n",
       "        'Piano_Sonata_No._11.mxl', 'Il_Vecchio_Castello.mxl',\n",
       "        'Prelude_in_G_Major.mxl', 'Etude_in_C_Minor.mxl',\n",
       "        'Nocturne_No._20_in_C_Minor.mxl',\n",
       "        'Prlude_Opus_28_No._4_in_E_Minor.mxl', 'Nocturne_in_E_Minor.mxl',\n",
       "        'Prelude_in_A_Major.mxl', 'Nocturne_in_F_Major.mxl',\n",
       "        'Etude_in_F_Minor.mxl', 'Minuet_in_G_Major_2nd.mxl',\n",
       "        'Prelude_in_B_Major.mxl', 'Prelude_in_C_Minor.mxl',\n",
       "        'Minuet_in_F.mxl', 'Nocturne_in_Eb_Major.mxl',\n",
       "        'Nocturne_in_B_Major.mxl'], dtype='<U35'))"
      ]
     },
     "execution_count": 166,
     "metadata": {},
     "output_type": "execute_result"
    }
   ],
   "source": [
    "score=np.array(list(data.keys()))\n",
    "np.random.shuffle(score)\n",
    "test_score=score[-3:]\n",
    "score=score[:-3]\n",
    "test_score,score"
   ]
  },
  {
   "cell_type": "code",
   "execution_count": 167,
   "id": "8eff867f",
   "metadata": {},
   "outputs": [],
   "source": [
    "#prepare train data\n",
    "score_name=score\n",
    "\n",
    "\n",
    "x_train=[]\n",
    "y_train=[]\n",
    "for idx_root,name in enumerate(score_name):\n",
    "    select_idx=[]\n",
    "    #only extract chord in the same key with the score\n",
    "    for idx,chord in enumerate(data[name]['chord_seq']):\n",
    "      #  if chord.startswith(score_key[idx_root]):\n",
    "            select_idx.append(idx)\n",
    "    training=[]\n",
    "    training_label=[]\n",
    "    for idx in select_idx:\n",
    "        training.append(data[name]['note_seq'][idx])\n",
    "  #      tail=data[name+'.mxl']['chord_seq'][idx].split('_')[1]\n",
    "        tail=data[name]['chord_seq'][idx]\n",
    "        #if tail.startswith('German'):\n",
    "            #tail='Ger'+str(tail[6:])\n",
    "        #elif tail=='Dim7':\n",
    "            #tail='DimVII'\n",
    "        #training_label.append(score_key[idx_root][:-1].lower()+'Minor'+tail)\n",
    "        training_label.append(tail)\n",
    "    training=[keys2num(segment)for segment in training]\n",
    "    \n",
    "    x_train.append(training)\n",
    "    y_train.append(training_label)"
   ]
  },
  {
   "cell_type": "code",
   "execution_count": 168,
   "id": "e178042f",
   "metadata": {},
   "outputs": [],
   "source": [
    "test=HMM(len(h_states),2,h_states,[\"outside chord\",\"inside chord\"])"
   ]
  },
  {
   "cell_type": "code",
   "execution_count": 169,
   "id": "22e847c2-1411-46e4-9ca1-92d313707ed4",
   "metadata": {},
   "outputs": [],
   "source": [
    "test.train_supervisied(x_train,y_train)#initialize parameter"
   ]
  },
  {
   "cell_type": "code",
   "execution_count": 170,
   "id": "03321176-695a-4bfc-8a46-a10de6a64b9c",
   "metadata": {
    "tags": []
   },
   "outputs": [
    {
     "name": "stdout",
     "output_type": "stream",
     "text": [
      "initial_matrix\n",
      " [4.61538462e-01 1.00000000e-08 1.00000000e-08 1.00000000e-08\n",
      " 1.00000000e-08 1.00000000e-08 1.00000000e-08 1.00000000e-08\n",
      " 1.00000000e-08 1.00000000e-08 1.00000000e-08 1.00000000e-08\n",
      " 1.00000000e-08 1.00000000e-08 1.00000000e-08 1.00000000e-08\n",
      " 1.00000000e-08 3.46153846e-01 1.00000000e-08 3.84615385e-02\n",
      " 1.00000000e-08 1.00000000e-08 1.00000000e-08 1.53846154e-01\n",
      " 1.00000000e-08 1.00000000e-08 1.00000000e-08 1.00000000e-08\n",
      " 1.00000000e-08 1.00000000e-08 1.00000000e-08 1.00000000e-08\n",
      " 1.00000000e-08]\n",
      "transition_matrix\n",
      " [[2.20385675e-02 3.30578512e-02 1.65289256e-02 ... 1.00000000e-08\n",
      "  1.00000000e-08 1.00000000e-08]\n",
      " [1.39534884e-01 4.65116279e-02 6.97674419e-02 ... 1.00000000e-08\n",
      "  1.00000000e-08 1.00000000e-08]\n",
      " [2.50000000e-01 4.16666667e-02 1.00000000e-08 ... 1.00000000e-08\n",
      "  1.00000000e-08 1.00000000e-08]\n",
      " ...\n",
      " [1.00000000e-08 1.00000000e-08 1.00000000e-08 ... 1.00000000e-08\n",
      "  1.00000000e-08 1.00000000e-08]\n",
      " [1.00000000e-08 1.00000000e-08 1.00000000e-08 ... 1.00000000e-08\n",
      "  1.00000000e-08 1.00000000e-08]\n",
      " [1.00000000e-08 1.00000000e-08 1.00000000e-08 ... 1.00000000e-08\n",
      "  1.00000000e-08 1.00000000e-08]]\n",
      "emission_matrix\n",
      " [[0.36085033 0.63914967]\n",
      " [0.36085033 0.63914967]\n",
      " [0.36085033 0.63914967]\n",
      " [0.36085033 0.63914967]\n",
      " [0.36085033 0.63914967]\n",
      " [0.36085033 0.63914967]\n",
      " [0.36085033 0.63914967]\n",
      " [0.36085033 0.63914967]\n",
      " [0.36085033 0.63914967]\n",
      " [0.36085033 0.63914967]\n",
      " [0.36085033 0.63914967]\n",
      " [0.36085033 0.63914967]\n",
      " [0.36085033 0.63914967]\n",
      " [0.36085033 0.63914967]\n",
      " [0.36085033 0.63914967]\n",
      " [0.36085033 0.63914967]\n",
      " [0.36085033 0.63914967]\n",
      " [0.36085033 0.63914967]\n",
      " [0.36085033 0.63914967]\n",
      " [0.36085033 0.63914967]\n",
      " [0.36085033 0.63914967]\n",
      " [0.36085033 0.63914967]\n",
      " [0.36085033 0.63914967]\n",
      " [0.36085033 0.63914967]\n",
      " [0.36085033 0.63914967]\n",
      " [0.36085033 0.63914967]\n",
      " [0.36085033 0.63914967]\n",
      " [0.36085033 0.63914967]\n",
      " [0.36085033 0.63914967]\n",
      " [0.36085033 0.63914967]\n",
      " [0.36085033 0.63914967]\n",
      " [0.36085033 0.63914967]\n",
      " [0.36085033 0.63914967]]\n"
     ]
    }
   ],
   "source": [
    "test.debug()"
   ]
  },
  {
   "cell_type": "markdown",
   "id": "9bdea6f2-7dd5-4335-a832-01321dcd7fd6",
   "metadata": {},
   "source": [
    "# Evaluation"
   ]
  },
  {
   "cell_type": "code",
   "execution_count": 204,
   "id": "29c09a26-677a-42bb-b148-0c8bb0502ba8",
   "metadata": {},
   "outputs": [],
   "source": [
    "test_key=[]\n",
    "for e in testing_label:\n",
    "    temp_key=e.split('_')[0]\n",
    "    temp_name=temp_key[:-1]\n",
    "    temp_key=temp_key[-1]\n",
    "    if temp_key=='m':\n",
    "        test_key.append(temp_name.lower()+'Minor')\n",
    "    else:\n",
    "        test_key.append(temp_name[0].upper()+temp_name[1:].lower()+'Major')        "
   ]
  },
  {
   "cell_type": "code",
   "execution_count": 205,
   "id": "f803e2df",
   "metadata": {
    "tags": []
   },
   "outputs": [],
   "source": [
    "#prepare test data\n",
    "test_score=test_score\n",
    "#prepare the test data for a specific score (select by index)\n",
    "score_test_choice=0\n",
    "\n",
    "\n",
    "#only extract those chords that are in te same key with the score\n",
    "test_sample=[]\n",
    "select_idx=[]\n",
    "testing_label=[]\n",
    "name=test_score[score_test_choice]\n",
    "for idx,chord in enumerate(data[name]['chord_seq']):\n",
    "   # if chord.startswith(test_key[score_test_choice]):\n",
    "        select_idx.append(idx)\n",
    "training=[]\n",
    "training_label=[]\n",
    "for idx in select_idx:\n",
    "    training.append(data[name]['note_seq'][idx])\n",
    "    training_label.append(data[name]['chord_seq'][idx])\n",
    "    \n",
    "test_note=training\n",
    "training=[keys2num(segment)for segment in training]\n",
    "test_sample=training\n",
    "testing_label=training_label\n"
   ]
  },
  {
   "cell_type": "code",
   "execution_count": 206,
   "id": "c80f1346-3eaf-45b8-8878-8a2d8e3e6294",
   "metadata": {},
   "outputs": [],
   "source": [
    "\n",
    "\n",
    "\n",
    "test_score_key=test_key[score_test_choice]\n",
    "test_states=[test_score_key.lower()[:-1]+states for states in h_states]\n",
    "\n"
   ]
  },
  {
   "cell_type": "code",
   "execution_count": 207,
   "id": "584726b7-369b-4d45-bef7-3226b0906e60",
   "metadata": {},
   "outputs": [
    {
     "data": {
      "text/plain": [
       "233"
      ]
     },
     "execution_count": 207,
     "metadata": {},
     "output_type": "execute_result"
    }
   ],
   "source": [
    "len(test_key)"
   ]
  },
  {
   "cell_type": "code",
   "execution_count": 208,
   "id": "d785861f-ad7d-49ff-a932-3603620c8fb9",
   "metadata": {},
   "outputs": [
    {
     "data": {
      "text/plain": [
       "233"
      ]
     },
     "execution_count": 208,
     "metadata": {},
     "output_type": "execute_result"
    }
   ],
   "source": [
    "len(test_sample)"
   ]
  },
  {
   "cell_type": "code",
   "execution_count": 209,
   "id": "8d9a8a2a-1b53-43de-96e1-0f24227b0abe",
   "metadata": {},
   "outputs": [],
   "source": [
    "import sys\n",
    "sys.path.append('../modules')\n",
    "import noteToChord"
   ]
  },
  {
   "cell_type": "code",
   "execution_count": 210,
   "id": "e553c8f8-9b5a-4779-a6e0-f0454a9b2a18",
   "metadata": {
    "tags": []
   },
   "outputs": [],
   "source": [
    "prediction=test.predict(test_sample,test_key)"
   ]
  },
  {
   "cell_type": "code",
   "execution_count": 211,
   "id": "ed0a04ad-333f-4bad-8b49-4e37b63f8736",
   "metadata": {},
   "outputs": [
    {
     "data": {
      "text/plain": [
       "['MajorVII',\n",
       " 'MajorI',\n",
       " 'MajorI',\n",
       " 'MajorDimVII7',\n",
       " 'MajorGerVI',\n",
       " 'MajorVI',\n",
       " 'MajorI',\n",
       " 'MajorVII',\n",
       " 'MajorI',\n",
       " 'MajorDimVII7']"
      ]
     },
     "execution_count": 211,
     "metadata": {},
     "output_type": "execute_result"
    }
   ],
   "source": [
    "[h_states[i] for i in prediction[:10]]"
   ]
  },
  {
   "cell_type": "code",
   "execution_count": 215,
   "id": "bdbef6b7-7bc9-4473-a217-61ff26019d9f",
   "metadata": {},
   "outputs": [
    {
     "data": {
      "text/plain": [
       "(['EbM_V', 'EbM_I', 'EbM_V'], ['EbMajor', 'EbMajor', 'EbMajor'])"
      ]
     },
     "execution_count": 215,
     "metadata": {},
     "output_type": "execute_result"
    }
   ],
   "source": [
    "testing_label[:3],test_key[:3]"
   ]
  },
  {
   "cell_type": "code",
   "execution_count": 213,
   "id": "ff21b5dc-109f-4e2b-8db9-e6c0c739dcda",
   "metadata": {},
   "outputs": [
    {
     "data": {
      "text/plain": [
       "[[10, 2, 5, 8, 3], [10, 3, 7, 5], [10, 2, 5, 8, 7]]"
      ]
     },
     "execution_count": 213,
     "metadata": {},
     "output_type": "execute_result"
    }
   ],
   "source": [
    "test_sample[:3]"
   ]
  },
  {
   "cell_type": "code",
   "execution_count": 219,
   "id": "ea8071ea-bbf5-48d1-b4f3-76026a5cd38d",
   "metadata": {},
   "outputs": [
    {
     "data": {
      "text/plain": [
       "'MajorDimVII7'"
      ]
     },
     "execution_count": 219,
     "metadata": {},
     "output_type": "execute_result"
    }
   ],
   "source": [
    "h_states[np.argmax(np.array([test.likelihood(i ,[10, 2, 5, 8, 7], 'EbMajor')  for i in range(len(h_states))]))]"
   ]
  },
  {
   "cell_type": "code",
   "execution_count": 224,
   "id": "b43dc440-fe6d-4cee-a42f-087ebfee8af0",
   "metadata": {},
   "outputs": [
    {
     "name": "stdout",
     "output_type": "stream",
     "text": [
      "['A#', 'D#', 'G', 'F']\n"
     ]
    },
    {
     "data": {
      "text/plain": [
       "[{'Chord': 'EbMajorI',\n",
       "  'Score': 3809.0,\n",
       "  'pitch match': 3,\n",
       "  'name match': 3,\n",
       "  'root present': True,\n",
       "  'edit distance': 14,\n",
       "  'length match': False},\n",
       " {'Chord': 'EbMajorV',\n",
       "  'Score': 2727.0,\n",
       "  'pitch match': 2,\n",
       "  'name match': 2,\n",
       "  'root present': True,\n",
       "  'edit distance': 3,\n",
       "  'length match': False},\n",
       " {'Chord': 'EbMajorV7',\n",
       "  'Score': 2717.5714285714284,\n",
       "  'pitch match': 2,\n",
       "  'name match': 2,\n",
       "  'root present': True,\n",
       "  'edit distance': 6,\n",
       "  'length match': True},\n",
       " {'Chord': 'EbMajorIII',\n",
       "  'Score': 2703.75,\n",
       "  'pitch match': 2,\n",
       "  'name match': 2,\n",
       "  'root present': True,\n",
       "  'edit distance': 15,\n",
       "  'length match': False},\n",
       " {'Chord': 'EbMajorII7',\n",
       "  'Score': 2702.0,\n",
       "  'pitch match': 2,\n",
       "  'name match': 2,\n",
       "  'root present': True,\n",
       "  'edit distance': 19,\n",
       "  'length match': True}]"
      ]
     },
     "execution_count": 224,
     "metadata": {},
     "output_type": "execute_result"
    }
   ],
   "source": [
    "num2note=[index_to_pitch_sharp[e] for e in [10, 3, 7, 5]]\n",
    "print(num2note)\n",
    "num2note=['B-','E-','G','F']\n",
    "noteToChord.NoteToChord(num2note,'EbMajor',5,0)"
   ]
  },
  {
   "cell_type": "code",
   "execution_count": 221,
   "id": "94820968-0637-409e-bc50-d67c73364475",
   "metadata": {},
   "outputs": [],
   "source": [
    "index_to_pitch_sharp = {\n",
    "            0: \"C\",\n",
    "            1: \"C#\",\n",
    "            2: \"D\",\n",
    "            3: \"D#\",\n",
    "            4: \"E\",\n",
    "            5: \"F\",\n",
    "            6: \"F#\",\n",
    "            7: \"G\",\n",
    "            8: \"G#\",\n",
    "            9: \"A\",\n",
    "            10: \"A#\",\n",
    "            11: \"B\",\n",
    "        }\n"
   ]
  },
  {
   "cell_type": "code",
   "execution_count": 741,
   "id": "dc9801c0-74f5-48b4-9799-9338073f48ea",
   "metadata": {},
   "outputs": [
    {
     "data": {
      "text/plain": [
       "23"
      ]
     },
     "execution_count": 741,
     "metadata": {},
     "output_type": "execute_result"
    }
   ],
   "source": [
    "h_states.index('MajorV')"
   ]
  },
  {
   "cell_type": "code",
   "execution_count": 742,
   "id": "dd00b199-0e9e-49ae-8647-6506cd20e6de",
   "metadata": {},
   "outputs": [
    {
     "data": {
      "text/plain": [
       "22"
      ]
     },
     "execution_count": 742,
     "metadata": {},
     "output_type": "execute_result"
    }
   ],
   "source": [
    "h_states.index('MajorIV')"
   ]
  },
  {
   "cell_type": "code",
   "execution_count": 743,
   "id": "199e52da-0d2b-47e6-b994-80b32d6fcbf5",
   "metadata": {},
   "outputs": [
    {
     "data": {
      "text/plain": [
       "array([1.00000000e+00, 1.00000000e-08, 3.84615385e-02, 1.00000000e-08,\n",
       "       1.00000000e-08, 1.00000000e-08, 1.92307692e-01, 1.00000000e-08,\n",
       "       1.00000000e-08, 1.00000000e-08, 1.00000000e-08, 1.00000000e-08,\n",
       "       1.00000000e-08, 1.00000000e-08, 1.00000000e-08, 1.00000000e-08])"
      ]
     },
     "execution_count": 743,
     "metadata": {},
     "output_type": "execute_result"
    }
   ],
   "source": [
    "test.initial_matrix[17:]"
   ]
  },
  {
   "cell_type": "code",
   "execution_count": 744,
   "id": "6a1fe632-24d9-49da-9a86-79f346f3dc36",
   "metadata": {},
   "outputs": [
    {
     "data": {
      "text/plain": [
       "['MajorV',\n",
       " 'MajorI',\n",
       " 'MajorV',\n",
       " 'MajorI',\n",
       " 'MajorV',\n",
       " 'MajorI',\n",
       " 'MajorV',\n",
       " 'MajorI',\n",
       " 'MajorV',\n",
       " 'MajorI']"
      ]
     },
     "execution_count": 744,
     "metadata": {},
     "output_type": "execute_result"
    }
   ],
   "source": [
    "[test.states[e] for e in prediction][:10]"
   ]
  },
  {
   "cell_type": "code",
   "execution_count": 607,
   "id": "13eea27c",
   "metadata": {
    "tags": []
   },
   "outputs": [
    {
     "ename": "TypeError",
     "evalue": "list indices must be integers or slices, not str",
     "output_type": "error",
     "traceback": [
      "\u001b[1;31m---------------------------------------------------------------------------\u001b[0m",
      "\u001b[1;31mTypeError\u001b[0m                                 Traceback (most recent call last)",
      "\u001b[1;32m<ipython-input-607-e55e2f18f6ab>\u001b[0m in \u001b[0;36m<module>\u001b[1;34m\u001b[0m\n\u001b[0;32m      1\u001b[0m \u001b[1;31m#rephase prediction to share same format with testinng_label\u001b[0m\u001b[1;33m\u001b[0m\u001b[1;33m\u001b[0m\u001b[1;33m\u001b[0m\u001b[0m\n\u001b[1;32m----> 2\u001b[1;33m \u001b[0mprediction\u001b[0m\u001b[1;33m=\u001b[0m\u001b[1;33m[\u001b[0m\u001b[0mtest_states\u001b[0m\u001b[1;33m[\u001b[0m\u001b[0midx\u001b[0m\u001b[1;33m]\u001b[0m\u001b[1;33m.\u001b[0m\u001b[0msplit\u001b[0m\u001b[1;33m(\u001b[0m\u001b[1;34m'Minor'\u001b[0m\u001b[1;33m)\u001b[0m\u001b[1;33m[\u001b[0m\u001b[1;36m1\u001b[0m\u001b[1;33m]\u001b[0m \u001b[1;32mfor\u001b[0m \u001b[0midx\u001b[0m \u001b[1;32min\u001b[0m \u001b[0mprediction\u001b[0m\u001b[1;33m]\u001b[0m\u001b[1;33m\u001b[0m\u001b[1;33m\u001b[0m\u001b[0m\n\u001b[0m\u001b[0;32m      3\u001b[0m \u001b[0mtesting_label\u001b[0m\u001b[1;33m=\u001b[0m\u001b[1;33m[\u001b[0m\u001b[0mlabel\u001b[0m\u001b[1;33m.\u001b[0m\u001b[0msplit\u001b[0m\u001b[1;33m(\u001b[0m\u001b[1;34m'_'\u001b[0m\u001b[1;33m)\u001b[0m\u001b[1;33m[\u001b[0m\u001b[1;36m1\u001b[0m\u001b[1;33m]\u001b[0m \u001b[1;32mfor\u001b[0m \u001b[0mlabel\u001b[0m \u001b[1;32min\u001b[0m \u001b[0mtesting_label\u001b[0m\u001b[1;33m]\u001b[0m\u001b[1;33m\u001b[0m\u001b[1;33m\u001b[0m\u001b[0m\n\u001b[0;32m      4\u001b[0m \u001b[1;32mfor\u001b[0m \u001b[0midx\u001b[0m\u001b[1;33m,\u001b[0m\u001b[0mlab\u001b[0m \u001b[1;32min\u001b[0m \u001b[0menumerate\u001b[0m\u001b[1;33m(\u001b[0m\u001b[0mtesting_label\u001b[0m\u001b[1;33m)\u001b[0m\u001b[1;33m:\u001b[0m\u001b[1;33m\u001b[0m\u001b[1;33m\u001b[0m\u001b[0m\n\u001b[0;32m      5\u001b[0m     \u001b[1;32mif\u001b[0m \u001b[0mlab\u001b[0m\u001b[1;33m.\u001b[0m\u001b[0mstartswith\u001b[0m\u001b[1;33m(\u001b[0m\u001b[1;34m'German'\u001b[0m\u001b[1;33m)\u001b[0m\u001b[1;33m:\u001b[0m\u001b[1;33m\u001b[0m\u001b[1;33m\u001b[0m\u001b[0m\n",
      "\u001b[1;32m<ipython-input-607-e55e2f18f6ab>\u001b[0m in \u001b[0;36m<listcomp>\u001b[1;34m(.0)\u001b[0m\n\u001b[0;32m      1\u001b[0m \u001b[1;31m#rephase prediction to share same format with testinng_label\u001b[0m\u001b[1;33m\u001b[0m\u001b[1;33m\u001b[0m\u001b[1;33m\u001b[0m\u001b[0m\n\u001b[1;32m----> 2\u001b[1;33m \u001b[0mprediction\u001b[0m\u001b[1;33m=\u001b[0m\u001b[1;33m[\u001b[0m\u001b[0mtest_states\u001b[0m\u001b[1;33m[\u001b[0m\u001b[0midx\u001b[0m\u001b[1;33m]\u001b[0m\u001b[1;33m.\u001b[0m\u001b[0msplit\u001b[0m\u001b[1;33m(\u001b[0m\u001b[1;34m'Minor'\u001b[0m\u001b[1;33m)\u001b[0m\u001b[1;33m[\u001b[0m\u001b[1;36m1\u001b[0m\u001b[1;33m]\u001b[0m \u001b[1;32mfor\u001b[0m \u001b[0midx\u001b[0m \u001b[1;32min\u001b[0m \u001b[0mprediction\u001b[0m\u001b[1;33m]\u001b[0m\u001b[1;33m\u001b[0m\u001b[1;33m\u001b[0m\u001b[0m\n\u001b[0m\u001b[0;32m      3\u001b[0m \u001b[0mtesting_label\u001b[0m\u001b[1;33m=\u001b[0m\u001b[1;33m[\u001b[0m\u001b[0mlabel\u001b[0m\u001b[1;33m.\u001b[0m\u001b[0msplit\u001b[0m\u001b[1;33m(\u001b[0m\u001b[1;34m'_'\u001b[0m\u001b[1;33m)\u001b[0m\u001b[1;33m[\u001b[0m\u001b[1;36m1\u001b[0m\u001b[1;33m]\u001b[0m \u001b[1;32mfor\u001b[0m \u001b[0mlabel\u001b[0m \u001b[1;32min\u001b[0m \u001b[0mtesting_label\u001b[0m\u001b[1;33m]\u001b[0m\u001b[1;33m\u001b[0m\u001b[1;33m\u001b[0m\u001b[0m\n\u001b[0;32m      4\u001b[0m \u001b[1;32mfor\u001b[0m \u001b[0midx\u001b[0m\u001b[1;33m,\u001b[0m\u001b[0mlab\u001b[0m \u001b[1;32min\u001b[0m \u001b[0menumerate\u001b[0m\u001b[1;33m(\u001b[0m\u001b[0mtesting_label\u001b[0m\u001b[1;33m)\u001b[0m\u001b[1;33m:\u001b[0m\u001b[1;33m\u001b[0m\u001b[1;33m\u001b[0m\u001b[0m\n\u001b[0;32m      5\u001b[0m     \u001b[1;32mif\u001b[0m \u001b[0mlab\u001b[0m\u001b[1;33m.\u001b[0m\u001b[0mstartswith\u001b[0m\u001b[1;33m(\u001b[0m\u001b[1;34m'German'\u001b[0m\u001b[1;33m)\u001b[0m\u001b[1;33m:\u001b[0m\u001b[1;33m\u001b[0m\u001b[1;33m\u001b[0m\u001b[0m\n",
      "\u001b[1;31mTypeError\u001b[0m: list indices must be integers or slices, not str"
     ]
    }
   ],
   "source": [
    "\n",
    "\n",
    "#rephase prediction to share same format with testinng_label\n",
    "prediction=[test_states[idx].split('Minor')[1] for idx in prediction]\n",
    "testing_label=[label.split('_')[1] for label in testing_label]\n",
    "for idx,lab in enumerate(testing_label):\n",
    "    if lab.startswith('German'):\n",
    "        testing_label[idx]='Ger'+str(lab[6:])\n",
    "\n",
    "\n",
    "\n",
    "#evaluation\n",
    "correct=0\n",
    "wrong=0\n",
    "for idx,label in enumerate(prediction):\n",
    "    if label==testing_label[idx]:\n",
    "        correct+=1\n",
    "    else:\n",
    "        wrong+=1\n",
    "print('acc',correct/(correct+wrong),correct,wrong)"
   ]
  },
  {
   "cell_type": "code",
   "execution_count": 608,
   "id": "502ac86d-f48e-4889-86cb-c309852224a5",
   "metadata": {},
   "outputs": [
    {
     "ename": "ValueError",
     "evalue": "not enough values to unpack (expected 7, got 0)",
     "output_type": "error",
     "traceback": [
      "\u001b[1;31m---------------------------------------------------------------------------\u001b[0m",
      "\u001b[1;31mValueError\u001b[0m                                Traceback (most recent call last)",
      "\u001b[1;32m<ipython-input-608-d22855c12a85>\u001b[0m in \u001b[0;36m<module>\u001b[1;34m\u001b[0m\n\u001b[0;32m      1\u001b[0m \u001b[0mnote2chord_ans\u001b[0m\u001b[1;33m=\u001b[0m\u001b[1;33m[\u001b[0m\u001b[1;33m]\u001b[0m\u001b[1;33m\u001b[0m\u001b[1;33m\u001b[0m\u001b[0m\n\u001b[0;32m      2\u001b[0m \u001b[1;32mfor\u001b[0m \u001b[0mnotes\u001b[0m \u001b[1;32min\u001b[0m \u001b[0mtest_note\u001b[0m\u001b[1;33m:\u001b[0m\u001b[1;33m\u001b[0m\u001b[1;33m\u001b[0m\u001b[0m\n\u001b[1;32m----> 3\u001b[1;33m     \u001b[0mnote2chord_ans\u001b[0m\u001b[1;33m.\u001b[0m\u001b[0mappend\u001b[0m\u001b[1;33m(\u001b[0m\u001b[0mnoteToChord\u001b[0m\u001b[1;33m.\u001b[0m\u001b[0mNoteToChord\u001b[0m\u001b[1;33m(\u001b[0m\u001b[0mlist\u001b[0m\u001b[1;33m(\u001b[0m\u001b[0mnotes\u001b[0m\u001b[1;33m.\u001b[0m\u001b[0mkeys\u001b[0m\u001b[1;33m(\u001b[0m\u001b[1;33m)\u001b[0m\u001b[1;33m)\u001b[0m\u001b[1;33m,\u001b[0m\u001b[0mtest_score_key\u001b[0m\u001b[1;33m[\u001b[0m\u001b[1;33m:\u001b[0m\u001b[1;33m-\u001b[0m\u001b[1;36m1\u001b[0m\u001b[1;33m]\u001b[0m\u001b[1;33m+\u001b[0m\u001b[1;34m'Minor'\u001b[0m\u001b[1;33m,\u001b[0m\u001b[1;36m1\u001b[0m\u001b[1;33m,\u001b[0m\u001b[1;36m0\u001b[0m\u001b[1;33m)\u001b[0m\u001b[1;33m[\u001b[0m\u001b[1;36m0\u001b[0m\u001b[1;33m]\u001b[0m\u001b[1;33m[\u001b[0m\u001b[1;34m'Chord'\u001b[0m\u001b[1;33m]\u001b[0m\u001b[1;33m.\u001b[0m\u001b[0msplit\u001b[0m\u001b[1;33m(\u001b[0m\u001b[1;34m'Minor'\u001b[0m\u001b[1;33m)\u001b[0m\u001b[1;33m[\u001b[0m\u001b[1;36m1\u001b[0m\u001b[1;33m]\u001b[0m\u001b[1;33m)\u001b[0m\u001b[1;33m\u001b[0m\u001b[1;33m\u001b[0m\u001b[0m\n\u001b[0m\u001b[0;32m      4\u001b[0m \u001b[1;31m#evaluation\u001b[0m\u001b[1;33m\u001b[0m\u001b[1;33m\u001b[0m\u001b[1;33m\u001b[0m\u001b[0m\n\u001b[0;32m      5\u001b[0m \u001b[0mcorrect\u001b[0m\u001b[1;33m=\u001b[0m\u001b[1;36m0\u001b[0m\u001b[1;33m\u001b[0m\u001b[1;33m\u001b[0m\u001b[0m\n",
      "\u001b[1;32m~\\OneDrive - The Chinese University of Hong Kong\\fyp\\fyp-chord-identification\\modules\\noteToChord.py\u001b[0m in \u001b[0;36mNoteToChord\u001b[1;34m(keys_name, key, numOut, threshold)\u001b[0m\n\u001b[0;32m    177\u001b[0m             \u001b[0mnumOk\u001b[0m \u001b[1;33m+=\u001b[0m \u001b[1;36m1\u001b[0m\u001b[1;33m\u001b[0m\u001b[1;33m\u001b[0m\u001b[0m\n\u001b[0;32m    178\u001b[0m \u001b[1;33m\u001b[0m\u001b[0m\n\u001b[1;32m--> 179\u001b[1;33m     rscore, rchord, ridxMatch, rnameMatch, rrootMatch, reditdist, rlengthMatch = zip(\n\u001b[0m\u001b[0;32m    180\u001b[0m         *sorted(\n\u001b[0;32m    181\u001b[0m             zip(\n",
      "\u001b[1;31mValueError\u001b[0m: not enough values to unpack (expected 7, got 0)"
     ]
    }
   ],
   "source": [
    "\n",
    "note2chord_ans=[]\n",
    "for notes in test_note:\n",
    "    note2chord_ans.append(noteToChord.NoteToChord(list(notes.keys()),test_score_key[:-1]+'Minor',1,0)[0]['Chord'].split('Minor')[1])\n",
    "#evaluation\n",
    "correct=0\n",
    "wrong=0\n",
    "for idx,label in enumerate(note2chord_ans):\n",
    "    if label==testing_label[idx]:\n",
    "        correct+=1\n",
    "    else:\n",
    "        wrong+=1\n",
    "print('acc',correct/(correct+wrong),correct,wrong)   "
   ]
  },
  {
   "cell_type": "code",
   "execution_count": 609,
   "id": "51c8caac-f77c-41b7-8434-8ba5f5c4f074",
   "metadata": {},
   "outputs": [
    {
     "name": "stdout",
     "output_type": "stream",
     "text": [
      "acc 0.0 0 28\n"
     ]
    }
   ],
   "source": [
    "#remove 7 HMM\n",
    "prediction=[each[:-1] if '7' in each else each for each in prediction]\n",
    "testing_label=[each[:-1] if '7' in each else each for each in testing_label]\n",
    "#evaluation\n",
    "correct=0\n",
    "wrong=0\n",
    "for idx,label in enumerate(prediction):\n",
    "    if label==testing_label[idx]:\n",
    "        correct+=1\n",
    "    else:\n",
    "        wrong+=1\n",
    "print('acc',correct/(correct+wrong),correct,wrong) "
   ]
  },
  {
   "cell_type": "code",
   "execution_count": 610,
   "id": "35723739-71c3-4521-b911-d9bdc84afc9d",
   "metadata": {},
   "outputs": [
    {
     "ename": "ZeroDivisionError",
     "evalue": "division by zero",
     "output_type": "error",
     "traceback": [
      "\u001b[1;31m---------------------------------------------------------------------------\u001b[0m",
      "\u001b[1;31mZeroDivisionError\u001b[0m                         Traceback (most recent call last)",
      "\u001b[1;32m<ipython-input-610-da2807ffdbf9>\u001b[0m in \u001b[0;36m<module>\u001b[1;34m\u001b[0m\n\u001b[0;32m     10\u001b[0m     \u001b[1;32melse\u001b[0m\u001b[1;33m:\u001b[0m\u001b[1;33m\u001b[0m\u001b[1;33m\u001b[0m\u001b[0m\n\u001b[0;32m     11\u001b[0m         \u001b[0mwrong\u001b[0m\u001b[1;33m+=\u001b[0m\u001b[1;36m1\u001b[0m\u001b[1;33m\u001b[0m\u001b[1;33m\u001b[0m\u001b[0m\n\u001b[1;32m---> 12\u001b[1;33m \u001b[0mprint\u001b[0m\u001b[1;33m(\u001b[0m\u001b[1;34m'acc'\u001b[0m\u001b[1;33m,\u001b[0m\u001b[0mcorrect\u001b[0m\u001b[1;33m/\u001b[0m\u001b[1;33m(\u001b[0m\u001b[0mcorrect\u001b[0m\u001b[1;33m+\u001b[0m\u001b[0mwrong\u001b[0m\u001b[1;33m)\u001b[0m\u001b[1;33m,\u001b[0m\u001b[0mcorrect\u001b[0m\u001b[1;33m,\u001b[0m\u001b[0mwrong\u001b[0m\u001b[1;33m)\u001b[0m\u001b[1;33m\u001b[0m\u001b[1;33m\u001b[0m\u001b[0m\n\u001b[0m",
      "\u001b[1;31mZeroDivisionError\u001b[0m: division by zero"
     ]
    }
   ],
   "source": [
    "#remove 7 note2chord\n",
    "note2chord_ans=[each[:-1] if '7' in each else each for each in note2chord_ans]\n",
    "testing_label=[each[:-1] if '7' in each else each for each in testing_label]\n",
    "#evaluation\n",
    "correct=0\n",
    "wrong=0\n",
    "for idx,label in enumerate(note2chord_ans):\n",
    "    if label==testing_label[idx]:\n",
    "        correct+=1\n",
    "    else:\n",
    "        wrong+=1\n",
    "print('acc',correct/(correct+wrong),correct,wrong) "
   ]
  },
  {
   "cell_type": "markdown",
   "id": "bc89e2f3-5b6d-494e-981b-e451002f9387",
   "metadata": {},
   "source": [
    "# Debug"
   ]
  },
  {
   "cell_type": "code",
   "execution_count": 18,
   "id": "b401f465",
   "metadata": {
    "tags": []
   },
   "outputs": [
    {
     "name": "stdout",
     "output_type": "stream",
     "text": [
      "initial_matrix\n",
      " [1.e+00 1.e-08 1.e-08 1.e-08 1.e-08 1.e-08 1.e-08 1.e-08 1.e-08 1.e-08\n",
      " 1.e-08 1.e-08 1.e-08 1.e-08 1.e-08 1.e-08 1.e-08 1.e-08]\n",
      "transition_matrix\n",
      " [[1.00000000e-08 1.00000000e-08 8.33333333e-02 5.83333333e-01\n",
      "  1.00000000e-08 1.00000000e-08 1.00000000e-08 1.00000000e-08\n",
      "  1.00000000e-08 2.50000000e-01 1.00000000e-08 8.33333333e-02\n",
      "  1.00000000e-08 1.00000000e-08 1.00000000e-08 1.00000000e-08\n",
      "  1.00000000e-08 1.00000000e-08]\n",
      " [1.00000000e-08 1.00000000e-08 2.00000000e-01 1.00000000e-08\n",
      "  1.00000000e-08 1.00000000e-08 1.00000000e-08 1.00000000e-08\n",
      "  1.00000000e-08 6.00000000e-01 1.00000000e-08 2.00000000e-01\n",
      "  1.00000000e-08 1.00000000e-08 1.00000000e-08 1.00000000e-08\n",
      "  1.00000000e-08 1.00000000e-08]\n",
      " [1.00000000e-08 1.00000000e-08 1.00000000e-08 1.00000000e-08\n",
      "  1.00000000e-08 1.00000000e-08 1.00000000e-08 1.00000000e-08\n",
      "  1.00000000e-08 5.00000000e-01 5.00000000e-01 1.00000000e-08\n",
      "  1.00000000e-08 1.00000000e-08 1.00000000e-08 1.00000000e-08\n",
      "  1.00000000e-08 1.00000000e-08]\n",
      " [3.84615385e-01 7.69230769e-02 1.00000000e-08 1.00000000e-08\n",
      "  1.00000000e-08 1.00000000e-08 3.07692308e-01 1.00000000e-08\n",
      "  1.00000000e-08 7.69230769e-02 7.69230769e-02 1.00000000e-08\n",
      "  1.00000000e-08 1.00000000e-08 1.00000000e-08 1.00000000e-08\n",
      "  7.69230769e-02 1.00000000e-08]\n",
      " [1.00000000e-08 1.00000000e-08 1.00000000e-08 1.00000000e-08\n",
      "  1.00000000e-08 1.00000000e-08 1.00000000e-08 1.00000000e-08\n",
      "  1.00000000e-08 1.00000000e-08 1.00000000e-08 1.00000000e-08\n",
      "  1.00000000e-08 1.00000000e-08 1.00000000e-08 1.00000000e-08\n",
      "  1.00000000e-08 1.00000000e-08]\n",
      " [1.00000000e-08 1.00000000e-08 1.00000000e-08 1.00000000e-08\n",
      "  1.00000000e-08 1.00000000e-08 1.00000000e-08 1.00000000e-08\n",
      "  1.00000000e-08 1.00000000e-08 1.00000000e-08 1.00000000e-08\n",
      "  1.00000000e-08 1.00000000e-08 1.00000000e-08 1.00000000e-08\n",
      "  1.00000000e-08 1.00000000e-08]\n",
      " [2.50000000e-01 2.50000000e-01 1.00000000e-08 2.50000000e-01\n",
      "  1.00000000e-08 1.00000000e-08 1.00000000e-08 1.00000000e-08\n",
      "  1.00000000e-08 1.00000000e-08 1.00000000e-08 1.25000000e-01\n",
      "  1.00000000e-08 1.00000000e-08 1.00000000e-08 1.00000000e-08\n",
      "  1.25000000e-01 1.00000000e-08]\n",
      " [1.00000000e-08 1.00000000e-08 1.00000000e-08 1.00000000e-08\n",
      "  1.00000000e-08 1.00000000e-08 6.66666667e-01 1.00000000e-08\n",
      "  1.00000000e-08 3.33333333e-01 1.00000000e-08 1.00000000e-08\n",
      "  1.00000000e-08 1.00000000e-08 1.00000000e-08 1.00000000e-08\n",
      "  1.00000000e-08 1.00000000e-08]\n",
      " [1.00000000e-08 1.00000000e-08 1.00000000e-08 1.00000000e-08\n",
      "  1.00000000e-08 1.00000000e-08 1.00000000e-08 1.00000000e+00\n",
      "  1.00000000e-08 1.00000000e-08 1.00000000e-08 1.00000000e-08\n",
      "  1.00000000e-08 1.00000000e-08 1.00000000e-08 1.00000000e-08\n",
      "  1.00000000e-08 1.00000000e-08]\n",
      " [1.11111111e-01 2.22222222e-01 1.00000000e-08 1.11111111e-01\n",
      "  1.00000000e-08 1.00000000e-08 1.11111111e-01 2.22222222e-01\n",
      "  1.11111111e-01 1.00000000e-08 1.00000000e-08 1.00000000e-08\n",
      "  1.00000000e-08 1.00000000e-08 1.00000000e-08 1.00000000e-08\n",
      "  1.11111111e-01 1.00000000e-08]\n",
      " [2.50000000e-01 2.50000000e-01 1.00000000e-08 2.50000000e-01\n",
      "  1.00000000e-08 1.00000000e-08 1.00000000e-08 1.00000000e-08\n",
      "  1.00000000e-08 1.00000000e-08 1.00000000e-08 2.50000000e-01\n",
      "  1.00000000e-08 1.00000000e-08 1.00000000e-08 1.00000000e-08\n",
      "  1.00000000e-08 1.00000000e-08]\n",
      " [1.00000000e-08 1.00000000e-08 1.00000000e-08 5.00000000e-01\n",
      "  1.00000000e-08 1.00000000e-08 1.00000000e-08 1.00000000e-08\n",
      "  1.00000000e-08 1.00000000e-08 5.00000000e-01 1.00000000e-08\n",
      "  1.00000000e-08 1.00000000e-08 1.00000000e-08 1.00000000e-08\n",
      "  1.00000000e-08 1.00000000e-08]\n",
      " [1.00000000e-08 1.00000000e-08 1.00000000e-08 1.00000000e-08\n",
      "  1.00000000e-08 1.00000000e-08 1.00000000e-08 1.00000000e-08\n",
      "  1.00000000e-08 1.00000000e-08 1.00000000e-08 1.00000000e-08\n",
      "  1.00000000e-08 1.00000000e-08 1.00000000e-08 1.00000000e-08\n",
      "  1.00000000e-08 1.00000000e-08]\n",
      " [1.00000000e-08 1.00000000e-08 1.00000000e-08 1.00000000e-08\n",
      "  1.00000000e-08 1.00000000e-08 1.00000000e-08 1.00000000e-08\n",
      "  1.00000000e-08 1.00000000e-08 1.00000000e-08 1.00000000e-08\n",
      "  1.00000000e-08 1.00000000e-08 1.00000000e-08 1.00000000e-08\n",
      "  1.00000000e-08 1.00000000e-08]\n",
      " [1.00000000e-08 1.00000000e-08 1.00000000e-08 1.00000000e-08\n",
      "  1.00000000e-08 1.00000000e-08 1.00000000e-08 1.00000000e-08\n",
      "  1.00000000e-08 1.00000000e-08 1.00000000e-08 1.00000000e-08\n",
      "  1.00000000e-08 1.00000000e-08 1.00000000e-08 1.00000000e-08\n",
      "  1.00000000e-08 1.00000000e-08]\n",
      " [1.00000000e-08 1.00000000e-08 1.00000000e-08 1.00000000e-08\n",
      "  1.00000000e-08 1.00000000e-08 1.00000000e-08 1.00000000e-08\n",
      "  1.00000000e-08 1.00000000e-08 1.00000000e-08 1.00000000e-08\n",
      "  1.00000000e-08 1.00000000e-08 1.00000000e-08 1.00000000e-08\n",
      "  1.00000000e-08 1.00000000e-08]\n",
      " [6.66666667e-01 1.00000000e-08 1.00000000e-08 1.00000000e-08\n",
      "  1.00000000e-08 1.00000000e-08 3.33333333e-01 1.00000000e-08\n",
      "  1.00000000e-08 1.00000000e-08 1.00000000e-08 1.00000000e-08\n",
      "  1.00000000e-08 1.00000000e-08 1.00000000e-08 1.00000000e-08\n",
      "  1.00000000e-08 1.00000000e-08]\n",
      " [1.00000000e-08 1.00000000e-08 1.00000000e-08 1.00000000e-08\n",
      "  1.00000000e-08 1.00000000e-08 1.00000000e-08 1.00000000e-08\n",
      "  1.00000000e-08 1.00000000e-08 1.00000000e-08 1.00000000e-08\n",
      "  1.00000000e-08 1.00000000e-08 1.00000000e-08 1.00000000e-08\n",
      "  1.00000000e-08 1.00000000e-08]]\n",
      "emission_matrix\n",
      " [[0.25896414 0.74103586]\n",
      " [0.25896414 0.74103586]\n",
      " [0.25896414 0.74103586]\n",
      " [0.25896414 0.74103586]\n",
      " [0.25896414 0.74103586]\n",
      " [0.25896414 0.74103586]\n",
      " [0.25896414 0.74103586]\n",
      " [0.25896414 0.74103586]\n",
      " [0.25896414 0.74103586]\n",
      " [0.25896414 0.74103586]\n",
      " [0.25896414 0.74103586]\n",
      " [0.25896414 0.74103586]\n",
      " [0.25896414 0.74103586]\n",
      " [0.25896414 0.74103586]\n",
      " [0.25896414 0.74103586]\n",
      " [0.25896414 0.74103586]\n",
      " [0.25896414 0.74103586]\n",
      " [0.25896414 0.74103586]]\n"
     ]
    }
   ],
   "source": [
    "test.debug()"
   ]
  },
  {
   "cell_type": "code",
   "execution_count": 19,
   "id": "88e77256-8a02-4de6-bb9d-0ebb97a81988",
   "metadata": {},
   "outputs": [
    {
     "data": {
      "text/plain": [
       "array(['I', 'V', 'II', 'V+', 'VI', 'V+', 'GerVI', 'III', 'V+', 'I', 'V',\n",
       "       'II', 'II', 'IV', 'VII', 'III', 'VI', 'I', 'IV', 'I', 'DimVII',\n",
       "       'I', 'I', 'IV', 'III', 'II', 'I', 'I'], dtype='<U6')"
      ]
     },
     "execution_count": 19,
     "metadata": {},
     "output_type": "execute_result"
    }
   ],
   "source": [
    "np.array(note2chord_ans)"
   ]
  },
  {
   "cell_type": "code",
   "execution_count": 20,
   "id": "e332812a-e897-49a1-8f9b-7ec5259ab872",
   "metadata": {},
   "outputs": [
    {
     "data": {
      "text/plain": [
       "array(['I', 'V+', 'II', 'V+', 'VI', 'V+', 'I+', 'VI', 'V+', 'I+', 'V+',\n",
       "       'IV', 'I+', 'bII', 'V+', 'I', 'VI', 'V+', 'I+', 'V+', 'DimVII',\n",
       "       'I', 'V+', 'IV', 'I', 'II', 'V+', 'I'], dtype='<U6')"
      ]
     },
     "execution_count": 20,
     "metadata": {},
     "output_type": "execute_result"
    }
   ],
   "source": [
    "np.array(prediction)"
   ]
  },
  {
   "cell_type": "code",
   "execution_count": 21,
   "id": "246e057a",
   "metadata": {},
   "outputs": [
    {
     "data": {
      "text/plain": [
       "array(['I', 'V', 'VI', 'V', 'VI', 'VII', 'III', 'IV', 'V+', 'I', 'V',\n",
       "       'VI', 'I+', 'IV', 'VII', 'I', 'VI', 'I+', 'IV', 'I', 'V+', 'I',\n",
       "       'V+', 'IV', 'I', 'II', 'V+', 'I'], dtype='<U3')"
      ]
     },
     "execution_count": 21,
     "metadata": {},
     "output_type": "execute_result"
    }
   ],
   "source": [
    "np.array(testing_label)"
   ]
  },
  {
   "cell_type": "code",
   "execution_count": null,
   "id": "f9d6a80d-c4ee-4766-8522-f83eddc6a160",
   "metadata": {},
   "outputs": [],
   "source": []
  }
 ],
 "metadata": {
  "kernelspec": {
   "display_name": "Python 3",
   "language": "python",
   "name": "python3"
  },
  "language_info": {
   "codemirror_mode": {
    "name": "ipython",
    "version": 3
   },
   "file_extension": ".py",
   "mimetype": "text/x-python",
   "name": "python",
   "nbconvert_exporter": "python",
   "pygments_lexer": "ipython3",
   "version": "3.8.8"
  }
 },
 "nbformat": 4,
 "nbformat_minor": 5
}
