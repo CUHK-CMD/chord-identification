{
 "cells": [
  {
   "cell_type": "code",
   "execution_count": 108,
   "id": "00030869",
   "metadata": {},
   "outputs": [],
   "source": [
    "import math\n",
    "from itertools import combinations\n",
    "def roughness(notes):\n",
    "    def roughness_calculation(f1,f2,a1,a2):\n",
    "        fmin = min(f1,f2)\n",
    "        fmax = max(f1,f2)\n",
    "        amin = min(a1,a2)\n",
    "        amax = max(a1,a2)\n",
    "        X = amin*amax\n",
    "        Y = 2*amin/(amin+amax)\n",
    "        b1 = 3.5\n",
    "        b2 = 5.75\n",
    "        s1 = 0.0207\n",
    "        s2=18.96\n",
    "        s = 0.24/(s1*fmin+s2)\n",
    "        Z = math.exp(-b1*s*(fmax-fmin)) - math.exp(-b2*s*(fmax-fmin))\n",
    "        return 100*(X**0.1)*0.5*(Y**3.11)*Z\n",
    "    def keys2freq(keys):\n",
    "    # 1 by 1 key to number\n",
    "        key_mapping = {\"C\": 0, \"D\": 2, \"E\": 4, \"F\": 5, \"G\": 7, \"A\": 9, \"B\": 11}\n",
    "        def halfsteps(key):\n",
    "            ans = 0\n",
    "            try:\n",
    "                octave = int(key[-1])\n",
    "            except:\n",
    "                print(\"You must provide the octave.\")\n",
    "                return 0\n",
    "            key = key.upper()[:-1]\n",
    "            num = key_mapping[key[0]]\n",
    "            modifier = len(key)\n",
    "            if modifier == 1:\n",
    "                ans = (octave-1)*12 +num\n",
    "            elif key[1] == \"#\":\n",
    "                ans =  (octave-1)*12 + (num + (modifier - 1)) % 12\n",
    "            elif key[1] == \"B\" or key[1] == \"-\":\n",
    "                ans = (octave-1)*12 +(num - (modifier - 1)) % 12\n",
    "            elif key[1] == \"X\":\n",
    "                ans = (octave-1)*12 +(num + (modifier - 1) * 2) % 12\n",
    "            return ans - 45\n",
    "        a = 2 ** (1/12)\n",
    "        f0 = 440 #A4\n",
    "        return [round(f0*(a**halfsteps(key)),3) for key in keys]\n",
    "    frequencies = keys2freq(notes)\n",
    "    frequencies.sort()\n",
    "    ans = 0\n",
    "    count = 0\n",
    "    for combo in combinations(frequencies,2):\n",
    "        count += 1\n",
    "        ans += roughness_calculation(combo[0],combo[1],1,1)\n",
    "#     for i in range(1,len(frequencies)):\n",
    "#         ans += roughness_calculation(frequencies[1],frequencies[0],1,1)\n",
    "    return ans/count\n",
    "    "
   ]
  },
  {
   "cell_type": "code",
   "execution_count": 109,
   "id": "318e778b",
   "metadata": {
    "scrolled": true
   },
   "outputs": [
    {
     "data": {
      "text/plain": [
       "(19.05554456831978, 24.12970487852886, 0.30775484111978496, 25.588765105965702)"
      ]
     },
     "execution_count": 109,
     "metadata": {},
     "output_type": "execute_result"
    }
   ],
   "source": [
    "roughness([\"C3\",\"E3\",\"G3\"]),roughness([\"C3\",\"E3\",\"G3\",\"C4\"]),roughness([\"C3\",\"C4\",\"C5\"]),roughness([\"C4\",\"C#4\",\"D4\"])"
   ]
  },
  {
   "cell_type": "code",
   "execution_count": 105,
   "id": "59bc5abd",
   "metadata": {},
   "outputs": [
    {
     "data": {
      "text/plain": [
       "(12.159843179163385, 3.8179287691608614, 2.172140754653356)"
      ]
     },
     "execution_count": 105,
     "metadata": {},
     "output_type": "execute_result"
    }
   ],
   "source": [
    "roughness([\"C3\",\"F3\",\"A3\"]),roughness([\"G3\",\"D4\",\"F4\",\"G4\"]),roughness([\"A4\",\"C4\",\"F#4\"])"
   ]
  },
  {
   "cell_type": "code",
   "execution_count": 107,
   "id": "0701db6f",
   "metadata": {},
   "outputs": [
    {
     "data": {
      "text/plain": [
       "(7.6471649145129605, 3.2077791882002957)"
      ]
     },
     "execution_count": 107,
     "metadata": {},
     "output_type": "execute_result"
    }
   ],
   "source": [
    "roughness([\"C3\",\"E3\"]),roughness([\"C3\",\"G3\"])"
   ]
  },
  {
   "cell_type": "code",
   "execution_count": null,
   "id": "91105010",
   "metadata": {},
   "outputs": [],
   "source": [
    "'''\n",
    "R = X0.1*0.5(Y3.11)*Z      where\n",
    "\n",
    "X = Amin*Amax\n",
    "The term X0.1 represents the dependence of roughness on intensity (related to the amplitude of the added sines). It is based on Terhardt (1974), adjusted (Vassilakis, 2000, 2001) to account for the quantitative difference between modulation depth (used in Terhardt, 1974) and amplitude fluctuation degree (the signal parameter influencing roughness). \n",
    "\n",
    "Y = 2Amin / (Amin+Amax )\n",
    "The term Y3.11 represents the dependence of roughness on amplitude fluctuation degree (related to the amplitude difference of the added sines). It, too, is based on Terhard (1974), adjusted (Vassilakis, 2000, 2001) to account for the quantitative difference between modulation depth and amplitude fluctuation degree.\n",
    "\n",
    "Z = e-b1s(fmax - fmin) - e-b2s(fmax - fmin), \n",
    "[b1 = 3.5;  b2 = 5.75;  s = 0.24/(s1fmin + s2);  s1 = 0.0207;  s2 = 18.96]\n",
    "The term Z represents the dependence of roughness on amplitude fluctuation rate (frequency difference of the added sines) and register (frequency of the lower sine). It is based on Sethares's (1998) modeling of the roughness curves in Figure 1, below, curves that have been derived from multiple perceptual experiments examining the roughness of pairs of sines (Plomp & Levelt, 1965; Kameoka & Kuriyagawa, 1969a&b).'''"
   ]
  }
 ],
 "metadata": {
  "kernelspec": {
   "display_name": "Python 3 (ipykernel)",
   "language": "python",
   "name": "python3"
  },
  "language_info": {
   "codemirror_mode": {
    "name": "ipython",
    "version": 3
   },
   "file_extension": ".py",
   "mimetype": "text/x-python",
   "name": "python",
   "nbconvert_exporter": "python",
   "pygments_lexer": "ipython3",
   "version": "3.8.10"
  }
 },
 "nbformat": 4,
 "nbformat_minor": 5
}
