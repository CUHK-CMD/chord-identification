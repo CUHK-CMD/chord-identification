{
 "cells": [
  {
   "cell_type": "code",
   "execution_count": 1,
   "id": "508632c1-0e52-4932-bc75-1361f9270672",
   "metadata": {},
   "outputs": [],
   "source": [
    "#required library\n",
    "from music21 import *\n",
    "import music21\n",
    "import os\n",
    "import glob\n",
    "import re\n",
    "import numpy as np\n",
    "import json"
   ]
  },
  {
   "cell_type": "code",
   "execution_count": 2,
   "id": "13caa182-f806-4499-b11d-fcf6e8302a63",
   "metadata": {},
   "outputs": [],
   "source": [
    "#key transpose profile\n",
    "MtoC={\n",
    "    'Gb':-6,\n",
    "    'F':-5,\n",
    "    'E':-4,\n",
    "    'D#':-3,\n",
    "    'Eb':-3,\n",
    "    'D':-2,\n",
    "    'C#':-1,\n",
    "    'Db':-1,\n",
    "    'C':0,    \n",
    "    'B':1,\n",
    "    'A#':2,\n",
    "    'Bb':2,\n",
    "    'A':3,\n",
    "    'G#':4,\n",
    "    'Ab':4,\n",
    "    'G':5,\n",
    "    'F#':6\n",
    "}\n",
    "mtoA={\n",
    "    'D#':6,\n",
    "    'G#':5,\n",
    "    'Ab':5,\n",
    "    'C#':4,\n",
    "    'F#':3,\n",
    "    'B':2,\n",
    "    'E':1,\n",
    "    'A':0,\n",
    "    'D':-1,\n",
    "    'G':-2,\n",
    "    'C':-3,\n",
    "    'F':-4,\n",
    "    'Bb':-5,\n",
    "    'Eb':-6\n",
    "}"
   ]
  },
  {
   "cell_type": "code",
   "execution_count": 3,
   "id": "caf61e44-ba71-4ae4-b6f3-a9f1d7c4fd4e",
   "metadata": {},
   "outputs": [],
   "source": [
    "#read file\n",
    "c = converter.parse('./Minuet_in_F.mxl')"
   ]
  },
  {
   "cell_type": "code",
   "execution_count": 4,
   "id": "c1141260-4664-4b54-9812-6ea8bbda1bde",
   "metadata": {},
   "outputs": [],
   "source": [
    "#remove key signature\n",
    "for e in c.recurse().getElementsByClass(key.KeySignature):\n",
    "    while e.sharps!=0:\n",
    "        e.transpose(-1,inPlace=True)"
   ]
  },
  {
   "cell_type": "code",
   "execution_count": 5,
   "id": "dc2eabec-8769-46a0-b082-cba317d9b1a3",
   "metadata": {},
   "outputs": [],
   "source": [
    "#remove key signature\n",
    "for e in c.recurse().getElementsByClass(stream):\n",
    "    print(e)"
   ]
  },
  {
   "cell_type": "code",
   "execution_count": 6,
   "id": "d7bb48e7-8a86-4aa9-9543-925db231e915",
   "metadata": {},
   "outputs": [],
   "source": [
    "def cal_offset(e):\n",
    "    if e is None:\n",
    "        return 0\n",
    "    return e.offset+cal_offset(e.activeSite)"
   ]
  },
  {
   "cell_type": "code",
   "execution_count": 7,
   "id": "a74e6c30-1218-458c-b02c-2b7172b5abdd",
   "metadata": {},
   "outputs": [],
   "source": [
    "#extract notes\n",
    "all_notes=[]\n",
    "for el in c.recurse().notes:\n",
    "    if el.lyric is not None:\n",
    "        el.lyric=el.lyric.replace('♭','b')\n",
    "    \n",
    "    #print(el)\n",
    "    #print([el.getOffsetBySite(c),el.lyric, el, el.activeSite,el.offset, el.activeSite.offset])\n",
    "    all_notes.append([el.lyric, el, cal_offset(el)])\n",
    "    \n",
    "    #DEBUG\n",
    "    #print([el.lyric, el, cal_offset(el)])"
   ]
  },
  {
   "cell_type": "code",
   "execution_count": 8,
   "id": "b72159b7-a956-4c75-81f5-75b5410cd10d",
   "metadata": {},
   "outputs": [],
   "source": [
    "#sort by first occurence\n",
    "b=sorted(all_notes,key=lambda x: x[-1])\n",
    "\n",
    "\n",
    "#DEBUG\n",
    "#for e in b:\n",
    "#    print(e)"
   ]
  },
  {
   "cell_type": "code",
   "execution_count": 9,
   "id": "363f2e2a-783f-4be9-9175-dabbf95e64f2",
   "metadata": {},
   "outputs": [
    {
     "name": "stdout",
     "output_type": "stream",
     "text": [
      "start\n",
      "change key\n",
      "change key\n",
      "change key\n",
      "change key\n",
      "change key\n",
      "change key\n",
      "change key\n",
      "change key\n",
      "change key\n",
      "change key\n",
      "change key\n",
      "change key\n",
      "change key\n",
      "change key\n",
      "change key\n",
      "change key\n",
      "change key\n",
      "change key\n",
      "change key\n",
      "change key\n",
      "change key\n",
      "change key\n",
      "change key\n",
      "change key\n",
      "change key\n",
      "change key\n",
      "change key\n",
      "change key\n",
      "change key\n",
      "change key\n",
      "change key\n",
      "change key\n"
     ]
    }
   ],
   "source": [
    "#main\n",
    "current_key=None\n",
    "Major=None\n",
    "for e in b:\n",
    "    if current_key is None:\n",
    "        #fail-safe\n",
    "        if e[1].lyric is None:\n",
    "            continue\n",
    "        print('start')\n",
    "        e[1].addLyric('start')#every score should veriyf its start***\n",
    "        current_key=e[1].lyric\n",
    "        \n",
    "        #identify major or minor\n",
    "        if 'M' in current_key:\n",
    "            Major=True        \n",
    "        else:\n",
    "            Major=False\n",
    "                        \n",
    "        #identify key name\n",
    "        if Major:\n",
    "            e[1].addLyric('trans->CM')\n",
    "            current_key=current_key.split('M')[0]\n",
    "        else:\n",
    "            e[1].addLyric('trans->Am')\n",
    "            current_key=current_key.split('m')[0]\n",
    "         \n",
    "    #check if key change\n",
    "    elif e[1].lyric is not None and ('m' in e[1].lyric or 'M' in e[1].lyric) and '(' in e[1].lyric:  # '(' --> is just to make sure it is key change        \n",
    "            \n",
    "        #DEBUG\n",
    "        #print(current_key,Major)\n",
    "        #print(e[1].lyric)\n",
    "        #print('----------------------')\n",
    "        \n",
    "        #check if key is different from previous key        \n",
    "        if not((Major and 'M' in e[1].lyric and current_key==e[1].lyric.split('M')[0]) or (not Major and 'm' in e[1].lyric and current_key==e[1].lyric.split('m')[0])):\n",
    "            #update key\n",
    "            print('change key')\n",
    "            current_key=e[1].lyric\n",
    "            \n",
    "            #identify major or minor\n",
    "            if 'M' in current_key:\n",
    "                Major=True\n",
    "            else:\n",
    "                Major=False\n",
    "                \n",
    "            #identify key name\n",
    "            if Major:\n",
    "                current_key=current_key.split('M')[0]\n",
    "                e[1].addLyric('trans->CM')\n",
    "            else:\n",
    "                current_key=current_key.split('m')[0]\n",
    "                e[1].addLyric('trans->Am')\n",
    "            \n",
    "            \n",
    "    if Major:\n",
    "        e[1].transpose(MtoC[current_key], inPlace=True)\n",
    "    else:\n",
    "        e[1].transpose(mtoA[current_key], inPlace=True)"
   ]
  },
  {
   "cell_type": "code",
   "execution_count": 10,
   "id": "c7861be6-b093-4929-b5dd-f661b2c38ff0",
   "metadata": {},
   "outputs": [
    {
     "ename": "DurationException",
     "evalue": "Cannot return types smaller than 2048th; qLen was: 1/960",
     "output_type": "error",
     "traceback": [
      "\u001b[1;31m---------------------------------------------------------------------------\u001b[0m",
      "\u001b[1;31mDurationException\u001b[0m                         Traceback (most recent call last)",
      "\u001b[1;32m<ipython-input-10-44a690f32d33>\u001b[0m in \u001b[0;36m<module>\u001b[1;34m\u001b[0m\n\u001b[0;32m      1\u001b[0m \u001b[1;31m#save\u001b[0m\u001b[1;33m\u001b[0m\u001b[1;33m\u001b[0m\u001b[1;33m\u001b[0m\u001b[0m\n\u001b[0;32m      2\u001b[0m \u001b[0mGEX\u001b[0m \u001b[1;33m=\u001b[0m \u001b[0mmusicxml\u001b[0m\u001b[1;33m.\u001b[0m\u001b[0mm21ToXml\u001b[0m\u001b[1;33m.\u001b[0m\u001b[0mGeneralObjectExporter\u001b[0m\u001b[1;33m(\u001b[0m\u001b[0mc\u001b[0m\u001b[1;33m)\u001b[0m\u001b[1;33m\u001b[0m\u001b[1;33m\u001b[0m\u001b[0m\n\u001b[1;32m----> 3\u001b[1;33m \u001b[0mout\u001b[0m \u001b[1;33m=\u001b[0m \u001b[0mGEX\u001b[0m\u001b[1;33m.\u001b[0m\u001b[0mparse\u001b[0m\u001b[1;33m(\u001b[0m\u001b[1;33m)\u001b[0m\u001b[1;33m\u001b[0m\u001b[1;33m\u001b[0m\u001b[0m\n\u001b[0m\u001b[0;32m      4\u001b[0m \u001b[1;32mwith\u001b[0m \u001b[0mopen\u001b[0m\u001b[1;33m(\u001b[0m\u001b[1;34m\"test.musicxml\"\u001b[0m\u001b[1;33m,\u001b[0m \u001b[1;34m\"wb\"\u001b[0m\u001b[1;33m)\u001b[0m \u001b[1;32mas\u001b[0m \u001b[0mf\u001b[0m\u001b[1;33m:\u001b[0m\u001b[1;33m\u001b[0m\u001b[1;33m\u001b[0m\u001b[0m\n\u001b[0;32m      5\u001b[0m         \u001b[0mf\u001b[0m\u001b[1;33m.\u001b[0m\u001b[0mwrite\u001b[0m\u001b[1;33m(\u001b[0m\u001b[0mout\u001b[0m\u001b[1;33m)\u001b[0m\u001b[1;33m\u001b[0m\u001b[1;33m\u001b[0m\u001b[0m\n",
      "\u001b[1;32mD:\\anacnda\\lib\\site-packages\\music21\\musicxml\\m21ToXml.py\u001b[0m in \u001b[0;36mparse\u001b[1;34m(self, obj)\u001b[0m\n\u001b[0;32m    373\u001b[0m         \u001b[1;32mif\u001b[0m \u001b[0mobj\u001b[0m \u001b[1;32mis\u001b[0m \u001b[1;32mNone\u001b[0m\u001b[1;33m:\u001b[0m\u001b[1;33m\u001b[0m\u001b[1;33m\u001b[0m\u001b[0m\n\u001b[0;32m    374\u001b[0m             \u001b[0mobj\u001b[0m \u001b[1;33m=\u001b[0m \u001b[0mself\u001b[0m\u001b[1;33m.\u001b[0m\u001b[0mgeneralObj\u001b[0m\u001b[1;33m\u001b[0m\u001b[1;33m\u001b[0m\u001b[0m\n\u001b[1;32m--> 375\u001b[1;33m         \u001b[0moutObj\u001b[0m \u001b[1;33m=\u001b[0m \u001b[0mself\u001b[0m\u001b[1;33m.\u001b[0m\u001b[0mfromGeneralObject\u001b[0m\u001b[1;33m(\u001b[0m\u001b[0mobj\u001b[0m\u001b[1;33m)\u001b[0m\u001b[1;33m\u001b[0m\u001b[1;33m\u001b[0m\u001b[0m\n\u001b[0m\u001b[0;32m    376\u001b[0m         \u001b[1;31m# TODO: set whether to do an additional score copy in submethods.\u001b[0m\u001b[1;33m\u001b[0m\u001b[1;33m\u001b[0m\u001b[1;33m\u001b[0m\u001b[0m\n\u001b[0;32m    377\u001b[0m         \u001b[1;32mreturn\u001b[0m \u001b[0mself\u001b[0m\u001b[1;33m.\u001b[0m\u001b[0mparseWellformedObject\u001b[0m\u001b[1;33m(\u001b[0m\u001b[0moutObj\u001b[0m\u001b[1;33m)\u001b[0m\u001b[1;33m\u001b[0m\u001b[1;33m\u001b[0m\u001b[0m\n",
      "\u001b[1;32mD:\\anacnda\\lib\\site-packages\\music21\\musicxml\\m21ToXml.py\u001b[0m in \u001b[0;36mfromGeneralObject\u001b[1;34m(self, obj)\u001b[0m\n\u001b[0;32m    409\u001b[0m             \u001b[1;32mif\u001b[0m \u001b[0mcM\u001b[0m \u001b[1;32min\u001b[0m \u001b[0mclasses\u001b[0m\u001b[1;33m:\u001b[0m\u001b[1;33m\u001b[0m\u001b[1;33m\u001b[0m\u001b[0m\n\u001b[0;32m    410\u001b[0m                 \u001b[0mmeth\u001b[0m \u001b[1;33m=\u001b[0m \u001b[0mgetattr\u001b[0m\u001b[1;33m(\u001b[0m\u001b[0mself\u001b[0m\u001b[1;33m,\u001b[0m \u001b[0mmethName\u001b[0m\u001b[1;33m)\u001b[0m\u001b[1;33m\u001b[0m\u001b[1;33m\u001b[0m\u001b[0m\n\u001b[1;32m--> 411\u001b[1;33m                 \u001b[0moutObj\u001b[0m \u001b[1;33m=\u001b[0m \u001b[0mmeth\u001b[0m\u001b[1;33m(\u001b[0m\u001b[0mobj\u001b[0m\u001b[1;33m)\u001b[0m\u001b[1;33m\u001b[0m\u001b[1;33m\u001b[0m\u001b[0m\n\u001b[0m\u001b[0;32m    412\u001b[0m                 \u001b[1;32mbreak\u001b[0m\u001b[1;33m\u001b[0m\u001b[1;33m\u001b[0m\u001b[0m\n\u001b[0;32m    413\u001b[0m         \u001b[1;32mif\u001b[0m \u001b[0moutObj\u001b[0m \u001b[1;32mis\u001b[0m \u001b[1;32mNone\u001b[0m\u001b[1;33m:\u001b[0m\u001b[1;33m\u001b[0m\u001b[1;33m\u001b[0m\u001b[0m\n",
      "\u001b[1;32mD:\\anacnda\\lib\\site-packages\\music21\\musicxml\\m21ToXml.py\u001b[0m in \u001b[0;36mfromScore\u001b[1;34m(self, sc)\u001b[0m\n\u001b[0;32m    422\u001b[0m         \u001b[0mthe\u001b[0m \u001b[0mbest\u001b[0m \u001b[0mone\u001b[0m \u001b[0mof\u001b[0m \u001b[0mall\u001b[0m \u001b[1;33m-\u001b[0m\u001b[1;33m-\u001b[0m \u001b[0ma\u001b[0m \u001b[0mperfectly\u001b[0m \u001b[0mmade\u001b[0m \u001b[0mScore\u001b[0m \u001b[1;33m(\u001b[0m\u001b[1;32mor\u001b[0m \u001b[0msomething\u001b[0m \u001b[0mlike\u001b[0m \u001b[0mthat\u001b[0m\u001b[1;33m)\u001b[0m\u001b[1;33m\u001b[0m\u001b[1;33m\u001b[0m\u001b[0m\n\u001b[0;32m    423\u001b[0m         '''\n\u001b[1;32m--> 424\u001b[1;33m         \u001b[0mscOut\u001b[0m \u001b[1;33m=\u001b[0m \u001b[0msc\u001b[0m\u001b[1;33m.\u001b[0m\u001b[0mmakeNotation\u001b[0m\u001b[1;33m(\u001b[0m\u001b[0minPlace\u001b[0m\u001b[1;33m=\u001b[0m\u001b[1;32mFalse\u001b[0m\u001b[1;33m)\u001b[0m\u001b[1;33m\u001b[0m\u001b[1;33m\u001b[0m\u001b[0m\n\u001b[0m\u001b[0;32m    425\u001b[0m         \u001b[1;31m# scOut.makeImmutable()\u001b[0m\u001b[1;33m\u001b[0m\u001b[1;33m\u001b[0m\u001b[1;33m\u001b[0m\u001b[0m\n\u001b[0;32m    426\u001b[0m         \u001b[1;32mreturn\u001b[0m \u001b[0mscOut\u001b[0m\u001b[1;33m\u001b[0m\u001b[1;33m\u001b[0m\u001b[0m\n",
      "\u001b[1;32mD:\\anacnda\\lib\\site-packages\\music21\\stream\\__init__.py\u001b[0m in \u001b[0;36mmakeNotation\u001b[1;34m(self, meterStream, refStreamOrTimeRange, inPlace, bestClef, **subroutineKeywords)\u001b[0m\n\u001b[0;32m  13367\u001b[0m             \u001b[1;32mfor\u001b[0m \u001b[0ms\u001b[0m \u001b[1;32min\u001b[0m \u001b[0mreturnStream\u001b[0m\u001b[1;33m.\u001b[0m\u001b[0miter\u001b[0m\u001b[1;33m.\u001b[0m\u001b[0mgetElementsByClass\u001b[0m\u001b[1;33m(\u001b[0m\u001b[1;34m'Stream'\u001b[0m\u001b[1;33m)\u001b[0m\u001b[1;33m:\u001b[0m\u001b[1;33m\u001b[0m\u001b[1;33m\u001b[0m\u001b[0m\n\u001b[0;32m  13368\u001b[0m                 \u001b[1;31m# process all component Streams inPlace\u001b[0m\u001b[1;33m\u001b[0m\u001b[1;33m\u001b[0m\u001b[1;33m\u001b[0m\u001b[0m\n\u001b[1;32m> 13369\u001b[1;33m                 s.makeNotation(meterStream=meterStream,\n\u001b[0m\u001b[0;32m  13370\u001b[0m                                \u001b[0mrefStreamOrTimeRange\u001b[0m\u001b[1;33m=\u001b[0m\u001b[0mrefStreamOrTimeRange\u001b[0m\u001b[1;33m,\u001b[0m\u001b[1;33m\u001b[0m\u001b[1;33m\u001b[0m\u001b[0m\n\u001b[0;32m  13371\u001b[0m                                \u001b[0minPlace\u001b[0m\u001b[1;33m=\u001b[0m\u001b[1;32mTrue\u001b[0m\u001b[1;33m,\u001b[0m\u001b[1;33m\u001b[0m\u001b[1;33m\u001b[0m\u001b[0m\n",
      "\u001b[1;32mD:\\anacnda\\lib\\site-packages\\music21\\stream\\__init__.py\u001b[0m in \u001b[0;36mmakeNotation\u001b[1;34m(self, meterStream, refStreamOrTimeRange, inPlace, bestClef, **subroutineKeywords)\u001b[0m\n\u001b[0;32m   6298\u001b[0m \u001b[1;33m\u001b[0m\u001b[0m\n\u001b[0;32m   6299\u001b[0m         \u001b[1;31m# retrieve necessary spanners; insert only if making a copy\u001b[0m\u001b[1;33m\u001b[0m\u001b[1;33m\u001b[0m\u001b[1;33m\u001b[0m\u001b[0m\n\u001b[1;32m-> 6300\u001b[1;33m         \u001b[0mreturnStream\u001b[0m\u001b[1;33m.\u001b[0m\u001b[0mcoreGatherMissingSpanners\u001b[0m\u001b[1;33m(\u001b[0m\u001b[0minsert\u001b[0m\u001b[1;33m=\u001b[0m\u001b[1;32mnot\u001b[0m \u001b[0minPlace\u001b[0m\u001b[1;33m)\u001b[0m\u001b[1;33m\u001b[0m\u001b[1;33m\u001b[0m\u001b[0m\n\u001b[0m\u001b[0;32m   6301\u001b[0m         \u001b[1;31m# only use inPlace arg on first usage\u001b[0m\u001b[1;33m\u001b[0m\u001b[1;33m\u001b[0m\u001b[1;33m\u001b[0m\u001b[0m\n\u001b[0;32m   6302\u001b[0m         \u001b[1;32mif\u001b[0m \u001b[1;32mnot\u001b[0m \u001b[0mself\u001b[0m\u001b[1;33m.\u001b[0m\u001b[0mhasMeasures\u001b[0m\u001b[1;33m(\u001b[0m\u001b[1;33m)\u001b[0m\u001b[1;33m:\u001b[0m\u001b[1;33m\u001b[0m\u001b[1;33m\u001b[0m\u001b[0m\n",
      "\u001b[1;32mD:\\anacnda\\lib\\site-packages\\music21\\stream\\core.py\u001b[0m in \u001b[0;36mcoreGatherMissingSpanners\u001b[1;34m(self, recurse, requireAllPresent, insert)\u001b[0m\n\u001b[0;32m    613\u001b[0m                     \u001b[0mallFound\u001b[0m \u001b[1;33m=\u001b[0m \u001b[1;32mTrue\u001b[0m\u001b[1;33m\u001b[0m\u001b[1;33m\u001b[0m\u001b[0m\n\u001b[0;32m    614\u001b[0m                     \u001b[1;32mfor\u001b[0m \u001b[0mspannedElement\u001b[0m \u001b[1;32min\u001b[0m \u001b[0msp\u001b[0m\u001b[1;33m.\u001b[0m\u001b[0mgetSpannedElements\u001b[0m\u001b[1;33m(\u001b[0m\u001b[1;33m)\u001b[0m\u001b[1;33m:\u001b[0m\u001b[1;33m\u001b[0m\u001b[1;33m\u001b[0m\u001b[0m\n\u001b[1;32m--> 615\u001b[1;33m                         \u001b[1;32mif\u001b[0m \u001b[0mspannedElement\u001b[0m \u001b[1;32mnot\u001b[0m \u001b[1;32min\u001b[0m \u001b[0msIter\u001b[0m\u001b[1;33m:\u001b[0m\u001b[1;33m\u001b[0m\u001b[1;33m\u001b[0m\u001b[0m\n\u001b[0m\u001b[0;32m    616\u001b[0m                             \u001b[0mallFound\u001b[0m \u001b[1;33m=\u001b[0m \u001b[1;32mFalse\u001b[0m\u001b[1;33m\u001b[0m\u001b[1;33m\u001b[0m\u001b[0m\n\u001b[0;32m    617\u001b[0m                             \u001b[1;32mbreak\u001b[0m\u001b[1;33m\u001b[0m\u001b[1;33m\u001b[0m\u001b[0m\n",
      "\u001b[1;32mD:\\anacnda\\lib\\site-packages\\music21\\chord\\__init__.py\u001b[0m in \u001b[0;36m__eq__\u001b[1;34m(self, other)\u001b[0m\n\u001b[0;32m    275\u001b[0m         \u001b[1;32mTrue\u001b[0m\u001b[1;33m\u001b[0m\u001b[1;33m\u001b[0m\u001b[0m\n\u001b[0;32m    276\u001b[0m         '''\n\u001b[1;32m--> 277\u001b[1;33m         \u001b[1;32mif\u001b[0m \u001b[1;32mnot\u001b[0m \u001b[0msuper\u001b[0m\u001b[1;33m(\u001b[0m\u001b[1;33m)\u001b[0m\u001b[1;33m.\u001b[0m\u001b[0m__eq__\u001b[0m\u001b[1;33m(\u001b[0m\u001b[0mother\u001b[0m\u001b[1;33m)\u001b[0m\u001b[1;33m:\u001b[0m\u001b[1;33m\u001b[0m\u001b[1;33m\u001b[0m\u001b[0m\n\u001b[0m\u001b[0;32m    278\u001b[0m             \u001b[1;32mreturn\u001b[0m \u001b[1;32mFalse\u001b[0m\u001b[1;33m\u001b[0m\u001b[1;33m\u001b[0m\u001b[0m\n\u001b[0;32m    279\u001b[0m         \u001b[1;32mif\u001b[0m \u001b[1;32mnot\u001b[0m \u001b[0misinstance\u001b[0m\u001b[1;33m(\u001b[0m\u001b[0mother\u001b[0m\u001b[1;33m,\u001b[0m \u001b[0mself\u001b[0m\u001b[1;33m.\u001b[0m\u001b[0m__class__\u001b[0m\u001b[1;33m)\u001b[0m\u001b[1;33m:\u001b[0m\u001b[1;33m\u001b[0m\u001b[1;33m\u001b[0m\u001b[0m\n",
      "\u001b[1;32mD:\\anacnda\\lib\\site-packages\\music21\\note.py\u001b[0m in \u001b[0;36m__eq__\u001b[1;34m(self, other)\u001b[0m\n\u001b[0;32m    902\u001b[0m     \u001b[1;31m# ==============================================================================================\u001b[0m\u001b[1;33m\u001b[0m\u001b[1;33m\u001b[0m\u001b[1;33m\u001b[0m\u001b[0m\n\u001b[0;32m    903\u001b[0m     \u001b[1;32mdef\u001b[0m \u001b[0m__eq__\u001b[0m\u001b[1;33m(\u001b[0m\u001b[0mself\u001b[0m\u001b[1;33m,\u001b[0m \u001b[0mother\u001b[0m\u001b[1;33m)\u001b[0m\u001b[1;33m:\u001b[0m\u001b[1;33m\u001b[0m\u001b[1;33m\u001b[0m\u001b[0m\n\u001b[1;32m--> 904\u001b[1;33m         \u001b[1;32mif\u001b[0m \u001b[1;32mnot\u001b[0m \u001b[0msuper\u001b[0m\u001b[1;33m(\u001b[0m\u001b[1;33m)\u001b[0m\u001b[1;33m.\u001b[0m\u001b[0m__eq__\u001b[0m\u001b[1;33m(\u001b[0m\u001b[0mother\u001b[0m\u001b[1;33m)\u001b[0m\u001b[1;33m:\u001b[0m\u001b[1;33m\u001b[0m\u001b[1;33m\u001b[0m\u001b[0m\n\u001b[0m\u001b[0;32m    905\u001b[0m             \u001b[1;32mreturn\u001b[0m \u001b[1;32mFalse\u001b[0m\u001b[1;33m\u001b[0m\u001b[1;33m\u001b[0m\u001b[0m\n\u001b[0;32m    906\u001b[0m         \u001b[1;32mif\u001b[0m \u001b[1;32mnot\u001b[0m \u001b[0misinstance\u001b[0m\u001b[1;33m(\u001b[0m\u001b[0mother\u001b[0m\u001b[1;33m,\u001b[0m \u001b[0mNotRest\u001b[0m\u001b[1;33m)\u001b[0m\u001b[1;33m:\u001b[0m\u001b[1;33m\u001b[0m\u001b[1;33m\u001b[0m\u001b[0m\n",
      "\u001b[1;32mD:\\anacnda\\lib\\site-packages\\music21\\note.py\u001b[0m in \u001b[0;36m__eq__\u001b[1;34m(self, other)\u001b[0m\n\u001b[0;32m    554\u001b[0m             \u001b[1;32mreturn\u001b[0m \u001b[0mNotImplemented\u001b[0m\u001b[1;33m\u001b[0m\u001b[1;33m\u001b[0m\u001b[0m\n\u001b[0;32m    555\u001b[0m         \u001b[1;31m# checks type, dots, tuplets, quarterLength, uses Pitch.__eq__\u001b[0m\u001b[1;33m\u001b[0m\u001b[1;33m\u001b[0m\u001b[1;33m\u001b[0m\u001b[0m\n\u001b[1;32m--> 556\u001b[1;33m         \u001b[1;32mif\u001b[0m \u001b[0mself\u001b[0m\u001b[1;33m.\u001b[0m\u001b[0mduration\u001b[0m \u001b[1;33m!=\u001b[0m \u001b[0mother\u001b[0m\u001b[1;33m.\u001b[0m\u001b[0mduration\u001b[0m\u001b[1;33m:\u001b[0m\u001b[1;33m\u001b[0m\u001b[1;33m\u001b[0m\u001b[0m\n\u001b[0m\u001b[0;32m    557\u001b[0m             \u001b[1;32mreturn\u001b[0m \u001b[1;32mFalse\u001b[0m\u001b[1;33m\u001b[0m\u001b[1;33m\u001b[0m\u001b[0m\n\u001b[0;32m    558\u001b[0m         \u001b[1;31m# articulations are a list of Articulation objects\u001b[0m\u001b[1;33m\u001b[0m\u001b[1;33m\u001b[0m\u001b[1;33m\u001b[0m\u001b[0m\n",
      "\u001b[1;32mD:\\anacnda\\lib\\site-packages\\music21\\duration.py\u001b[0m in \u001b[0;36m__eq__\u001b[1;34m(self, other)\u001b[0m\n\u001b[0;32m   1567\u001b[0m             \u001b[1;32mreturn\u001b[0m \u001b[1;32mFalse\u001b[0m\u001b[1;33m\u001b[0m\u001b[1;33m\u001b[0m\u001b[0m\n\u001b[0;32m   1568\u001b[0m \u001b[1;33m\u001b[0m\u001b[0m\n\u001b[1;32m-> 1569\u001b[1;33m         \u001b[1;32mif\u001b[0m \u001b[0mself\u001b[0m\u001b[1;33m.\u001b[0m\u001b[0misComplex\u001b[0m \u001b[1;33m!=\u001b[0m \u001b[0mother\u001b[0m\u001b[1;33m.\u001b[0m\u001b[0misComplex\u001b[0m\u001b[1;33m:\u001b[0m\u001b[1;33m\u001b[0m\u001b[1;33m\u001b[0m\u001b[0m\n\u001b[0m\u001b[0;32m   1570\u001b[0m             \u001b[1;32mreturn\u001b[0m \u001b[1;32mFalse\u001b[0m\u001b[1;33m\u001b[0m\u001b[1;33m\u001b[0m\u001b[0m\n\u001b[0;32m   1571\u001b[0m         \u001b[1;32mif\u001b[0m \u001b[0mlen\u001b[0m\u001b[1;33m(\u001b[0m\u001b[0mself\u001b[0m\u001b[1;33m.\u001b[0m\u001b[0mcomponents\u001b[0m\u001b[1;33m)\u001b[0m \u001b[1;33m!=\u001b[0m \u001b[0mlen\u001b[0m\u001b[1;33m(\u001b[0m\u001b[0mother\u001b[0m\u001b[1;33m.\u001b[0m\u001b[0mcomponents\u001b[0m\u001b[1;33m)\u001b[0m\u001b[1;33m:\u001b[0m\u001b[1;33m\u001b[0m\u001b[1;33m\u001b[0m\u001b[0m\n",
      "\u001b[1;32mD:\\anacnda\\lib\\site-packages\\music21\\duration.py\u001b[0m in \u001b[0;36misComplex\u001b[1;34m(self)\u001b[0m\n\u001b[0;32m   2579\u001b[0m         \u001b[1;36m1\u001b[0m\u001b[1;33m\u001b[0m\u001b[1;33m\u001b[0m\u001b[0m\n\u001b[0;32m   2580\u001b[0m         '''\n\u001b[1;32m-> 2581\u001b[1;33m         \u001b[1;32mif\u001b[0m \u001b[0mlen\u001b[0m\u001b[1;33m(\u001b[0m\u001b[0mself\u001b[0m\u001b[1;33m.\u001b[0m\u001b[0mcomponents\u001b[0m\u001b[1;33m)\u001b[0m \u001b[1;33m>\u001b[0m \u001b[1;36m1\u001b[0m\u001b[1;33m:\u001b[0m\u001b[1;33m\u001b[0m\u001b[1;33m\u001b[0m\u001b[0m\n\u001b[0m\u001b[0;32m   2582\u001b[0m             \u001b[1;32mreturn\u001b[0m \u001b[1;32mTrue\u001b[0m\u001b[1;33m\u001b[0m\u001b[1;33m\u001b[0m\u001b[0m\n\u001b[0;32m   2583\u001b[0m         \u001b[1;32melse\u001b[0m\u001b[1;33m:\u001b[0m\u001b[1;33m\u001b[0m\u001b[1;33m\u001b[0m\u001b[0m\n",
      "\u001b[1;32mD:\\anacnda\\lib\\site-packages\\music21\\duration.py\u001b[0m in \u001b[0;36mcomponents\u001b[1;34m(self)\u001b[0m\n\u001b[0;32m   2297\u001b[0m     \u001b[1;32mdef\u001b[0m \u001b[0mcomponents\u001b[0m\u001b[1;33m(\u001b[0m\u001b[0mself\u001b[0m\u001b[1;33m)\u001b[0m\u001b[1;33m:\u001b[0m\u001b[1;33m\u001b[0m\u001b[1;33m\u001b[0m\u001b[0m\n\u001b[0;32m   2298\u001b[0m         \u001b[1;32mif\u001b[0m \u001b[0mself\u001b[0m\u001b[1;33m.\u001b[0m\u001b[0m_componentsNeedUpdating\u001b[0m\u001b[1;33m:\u001b[0m\u001b[1;33m\u001b[0m\u001b[1;33m\u001b[0m\u001b[0m\n\u001b[1;32m-> 2299\u001b[1;33m             \u001b[0mself\u001b[0m\u001b[1;33m.\u001b[0m\u001b[0m_updateComponents\u001b[0m\u001b[1;33m(\u001b[0m\u001b[1;33m)\u001b[0m\u001b[1;33m\u001b[0m\u001b[1;33m\u001b[0m\u001b[0m\n\u001b[0m\u001b[0;32m   2300\u001b[0m         \u001b[1;32mreturn\u001b[0m \u001b[0mtuple\u001b[0m\u001b[1;33m(\u001b[0m\u001b[0mself\u001b[0m\u001b[1;33m.\u001b[0m\u001b[0m_components\u001b[0m\u001b[1;33m)\u001b[0m\u001b[1;33m\u001b[0m\u001b[1;33m\u001b[0m\u001b[0m\n\u001b[0;32m   2301\u001b[0m \u001b[1;33m\u001b[0m\u001b[0m\n",
      "\u001b[1;32mD:\\anacnda\\lib\\site-packages\\music21\\duration.py\u001b[0m in \u001b[0;36m_updateComponents\u001b[1;34m(self)\u001b[0m\n\u001b[0;32m   1646\u001b[0m         \u001b[1;32mif\u001b[0m \u001b[0mself\u001b[0m\u001b[1;33m.\u001b[0m\u001b[0mlinked\u001b[0m\u001b[1;33m:\u001b[0m\u001b[1;33m\u001b[0m\u001b[1;33m\u001b[0m\u001b[0m\n\u001b[0;32m   1647\u001b[0m             \u001b[1;32mtry\u001b[0m\u001b[1;33m:\u001b[0m\u001b[1;33m\u001b[0m\u001b[1;33m\u001b[0m\u001b[0m\n\u001b[1;32m-> 1648\u001b[1;33m                 \u001b[0mqlc\u001b[0m \u001b[1;33m=\u001b[0m \u001b[0mquarterConversion\u001b[0m\u001b[1;33m(\u001b[0m\u001b[0mself\u001b[0m\u001b[1;33m.\u001b[0m\u001b[0m_qtrLength\u001b[0m\u001b[1;33m)\u001b[0m\u001b[1;33m\u001b[0m\u001b[1;33m\u001b[0m\u001b[0m\n\u001b[0m\u001b[0;32m   1649\u001b[0m                 \u001b[0mself\u001b[0m\u001b[1;33m.\u001b[0m\u001b[0mcomponents\u001b[0m \u001b[1;33m=\u001b[0m \u001b[0mlist\u001b[0m\u001b[1;33m(\u001b[0m\u001b[0mqlc\u001b[0m\u001b[1;33m.\u001b[0m\u001b[0mcomponents\u001b[0m\u001b[1;33m)\u001b[0m\u001b[1;33m\u001b[0m\u001b[1;33m\u001b[0m\u001b[0m\n\u001b[0;32m   1650\u001b[0m                 \u001b[1;32mif\u001b[0m \u001b[0mqlc\u001b[0m\u001b[1;33m.\u001b[0m\u001b[0mtuplet\u001b[0m \u001b[1;32mis\u001b[0m \u001b[1;32mnot\u001b[0m \u001b[1;32mNone\u001b[0m\u001b[1;33m:\u001b[0m\u001b[1;33m\u001b[0m\u001b[1;33m\u001b[0m\u001b[0m\n",
      "\u001b[1;32mD:\\anacnda\\lib\\site-packages\\music21\\duration.py\u001b[0m in \u001b[0;36mquarterConversion\u001b[1;34m(qLen)\u001b[0m\n\u001b[0;32m    688\u001b[0m     \u001b[1;31m# 8 tied components was not enough.\u001b[0m\u001b[1;33m\u001b[0m\u001b[1;33m\u001b[0m\u001b[1;33m\u001b[0m\u001b[0m\n\u001b[0;32m    689\u001b[0m     \u001b[1;31m# last resort: put one giant tuplet over it.\u001b[0m\u001b[1;33m\u001b[0m\u001b[1;33m\u001b[0m\u001b[1;33m\u001b[0m\u001b[0m\n\u001b[1;32m--> 690\u001b[1;33m     \u001b[0mtuplet\u001b[0m\u001b[1;33m,\u001b[0m \u001b[0mcomponent\u001b[0m \u001b[1;33m=\u001b[0m \u001b[0mquarterLengthToNonPowerOf2Tuplet\u001b[0m\u001b[1;33m(\u001b[0m\u001b[0mqLen\u001b[0m\u001b[1;33m)\u001b[0m\u001b[1;33m\u001b[0m\u001b[1;33m\u001b[0m\u001b[0m\n\u001b[0m\u001b[0;32m    691\u001b[0m     \u001b[1;32mreturn\u001b[0m \u001b[0mQuarterLengthConversion\u001b[0m\u001b[1;33m(\u001b[0m\u001b[1;33m(\u001b[0m\u001b[0mcomponent\u001b[0m\u001b[1;33m,\u001b[0m\u001b[1;33m)\u001b[0m\u001b[1;33m,\u001b[0m \u001b[0mtuplet\u001b[0m\u001b[1;33m)\u001b[0m\u001b[1;33m\u001b[0m\u001b[1;33m\u001b[0m\u001b[0m\n\u001b[0;32m    692\u001b[0m \u001b[1;33m\u001b[0m\u001b[0m\n",
      "\u001b[1;32mD:\\anacnda\\lib\\site-packages\\music21\\duration.py\u001b[0m in \u001b[0;36mquarterLengthToNonPowerOf2Tuplet\u001b[1;34m(qLen)\u001b[0m\n\u001b[0;32m    394\u001b[0m     \u001b[1;31m# qFrac will always be in lowest terms\u001b[0m\u001b[1;33m\u001b[0m\u001b[1;33m\u001b[0m\u001b[1;33m\u001b[0m\u001b[0m\n\u001b[0;32m    395\u001b[0m \u001b[1;33m\u001b[0m\u001b[0m\n\u001b[1;32m--> 396\u001b[1;33m     \u001b[0mclosestSmallerType\u001b[0m\u001b[1;33m,\u001b[0m \u001b[0munused_match\u001b[0m \u001b[1;33m=\u001b[0m \u001b[0mquarterLengthToClosestType\u001b[0m\u001b[1;33m(\u001b[0m\u001b[0mqLen\u001b[0m \u001b[1;33m/\u001b[0m \u001b[0mqFrac\u001b[0m\u001b[1;33m.\u001b[0m\u001b[0mdenominator\u001b[0m\u001b[1;33m)\u001b[0m\u001b[1;33m\u001b[0m\u001b[1;33m\u001b[0m\u001b[0m\n\u001b[0m\u001b[0;32m    397\u001b[0m \u001b[1;33m\u001b[0m\u001b[0m\n\u001b[0;32m    398\u001b[0m     \u001b[0mtupletDuration\u001b[0m \u001b[1;33m=\u001b[0m \u001b[0mDuration\u001b[0m\u001b[1;33m(\u001b[0m\u001b[0mtype\u001b[0m\u001b[1;33m=\u001b[0m\u001b[0mclosestSmallerType\u001b[0m\u001b[1;33m)\u001b[0m\u001b[1;33m\u001b[0m\u001b[1;33m\u001b[0m\u001b[0m\n",
      "\u001b[1;32mD:\\anacnda\\lib\\site-packages\\music21\\duration.py\u001b[0m in \u001b[0;36mquarterLengthToClosestType\u001b[1;34m(qLen)\u001b[0m\n\u001b[0;32m    293\u001b[0m             \u001b[1;32mreturn\u001b[0m \u001b[1;33m(\u001b[0m\u001b[1;34m'duplex-maxima'\u001b[0m\u001b[1;33m,\u001b[0m \u001b[1;32mFalse\u001b[0m\u001b[1;33m)\u001b[0m\u001b[1;33m\u001b[0m\u001b[1;33m\u001b[0m\u001b[0m\n\u001b[0;32m    294\u001b[0m \u001b[1;33m\u001b[0m\u001b[0m\n\u001b[1;32m--> 295\u001b[1;33m         raise DurationException('Cannot return types smaller than 2048th; '\n\u001b[0m\u001b[0;32m    296\u001b[0m                                 + f'qLen was: {qLen}')\n\u001b[0;32m    297\u001b[0m \u001b[1;33m\u001b[0m\u001b[0m\n",
      "\u001b[1;31mDurationException\u001b[0m: Cannot return types smaller than 2048th; qLen was: 1/960"
     ]
    }
   ],
   "source": [
    "#save\n",
    "GEX = musicxml.m21ToXml.GeneralObjectExporter(c)\n",
    "out = GEX.parse()\n",
    "with open(\"test.musicxml\", \"wb\") as f:\n",
    "        f.write(out)"
   ]
  }
 ],
 "metadata": {
  "kernelspec": {
   "display_name": "Python 3",
   "language": "python",
   "name": "python3"
  },
  "language_info": {
   "codemirror_mode": {
    "name": "ipython",
    "version": 3
   },
   "file_extension": ".py",
   "mimetype": "text/x-python",
   "name": "python",
   "nbconvert_exporter": "python",
   "pygments_lexer": "ipython3",
   "version": "3.8.8"
  }
 },
 "nbformat": 4,
 "nbformat_minor": 5
}
