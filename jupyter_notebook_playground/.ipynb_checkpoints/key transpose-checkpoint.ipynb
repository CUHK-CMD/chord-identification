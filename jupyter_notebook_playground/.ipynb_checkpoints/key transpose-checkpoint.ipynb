{
 "cells": [
  {
   "cell_type": "code",
   "execution_count": 1,
   "id": "508632c1-0e52-4932-bc75-1361f9270672",
   "metadata": {},
   "outputs": [],
   "source": [
    "from music21 import *\n",
    "import music21\n",
    "import os\n",
    "import glob\n",
    "import re\n",
    "import numpy as np\n",
    "import json"
   ]
  },
  {
   "cell_type": "code",
   "execution_count": 2,
   "id": "13caa182-f806-4499-b11d-fcf6e8302a63",
   "metadata": {},
   "outputs": [],
   "source": [
    "MtoC={\n",
    "    'Gb':6,\n",
    "    'F':5,\n",
    "    'E':4,\n",
    "    'D#':3,\n",
    "    'Eb':3,\n",
    "    'D':2,\n",
    "    'C#':1,\n",
    "    'Db':1,\n",
    "    'C':0,    \n",
    "    'B':-1,\n",
    "    'A#':-2,\n",
    "    'Bb':-2,\n",
    "    'A':-3,\n",
    "    'G#':-4,\n",
    "    'Ab':-4,\n",
    "    'G':-5,\n",
    "    'F#':-6\n",
    "}\n",
    "mtoA={\n",
    "    'D#':6,\n",
    "    'G#':5,\n",
    "    'C#':4,\n",
    "    'F#':3,\n",
    "    'B':2,\n",
    "    'E':1,\n",
    "    'A':0,\n",
    "    'D':-1,\n",
    "    'G':-2,\n",
    "    'C':-3,\n",
    "    'F':-4,\n",
    "    'Bb':-5,\n",
    "    'Eb':-6\n",
    "}\n",
    "\n",
    "all_notes=[]"
   ]
  },
  {
   "cell_type": "code",
   "execution_count": 3,
   "id": "caf61e44-ba71-4ae4-b6f3-a9f1d7c4fd4e",
   "metadata": {},
   "outputs": [],
   "source": [
    "c = converter.parse('./scale.musicxml')"
   ]
  },
  {
   "cell_type": "code",
   "execution_count": 4,
   "id": "c1141260-4664-4b54-9812-6ea8bbda1bde",
   "metadata": {},
   "outputs": [],
   "source": [
    "for e in c.recurse().getElementsByClass(key.KeySignature):\n",
    "    while e.sharps!=0:\n",
    "        e.transpose(-1,inPlace=True)"
   ]
  },
  {
   "cell_type": "code",
   "execution_count": 5,
   "id": "a74e6c30-1218-458c-b02c-2b7172b5abdd",
   "metadata": {},
   "outputs": [
    {
     "name": "stdout",
     "output_type": "stream",
     "text": [
      "['FM(I)', <music21.note.Note F>, <music21.stream.Measure 1 offset=0.0>, 0.0, 0.0]\n",
      "[None, <music21.note.Note G>, <music21.stream.Measure 1 offset=0.0>, 1.0, 0.0]\n",
      "[None, <music21.note.Note A>, <music21.stream.Measure 1 offset=0.0>, 2.0, 0.0]\n",
      "[None, <music21.note.Note B->, <music21.stream.Measure 1 offset=0.0>, 3.0, 0.0]\n",
      "[None, <music21.note.Note C>, <music21.stream.Measure 2 offset=4.0>, 0.0, 4.0]\n",
      "[None, <music21.note.Note D>, <music21.stream.Measure 2 offset=4.0>, 1.0, 4.0]\n",
      "[None, <music21.note.Note E>, <music21.stream.Measure 2 offset=4.0>, 2.0, 4.0]\n",
      "[None, <music21.note.Note F>, <music21.stream.Measure 2 offset=4.0>, 3.0, 4.0]\n",
      "[None, <music21.harmony.NoChord N.C.>, <music21.stream.Measure 3 offset=8.0>, 0.0, 8.0]\n",
      "['Cm(I)', <music21.note.Note C>, <music21.stream.Measure 3 offset=8.0>, 0.0, 8.0]\n",
      "[None, <music21.note.Note D>, <music21.stream.Measure 3 offset=8.0>, 1.0, 8.0]\n",
      "[None, <music21.note.Note E->, <music21.stream.Measure 3 offset=8.0>, 2.0, 8.0]\n",
      "[None, <music21.note.Note F>, <music21.stream.Measure 3 offset=8.0>, 3.0, 8.0]\n",
      "[None, <music21.note.Note G>, <music21.stream.Measure 4 offset=12.0>, 0.0, 12.0]\n",
      "[None, <music21.note.Note A->, <music21.stream.Measure 4 offset=12.0>, 1.0, 12.0]\n",
      "[None, <music21.note.Note B>, <music21.stream.Measure 4 offset=12.0>, 2.0, 12.0]\n",
      "[None, <music21.note.Note C>, <music21.stream.Measure 4 offset=12.0>, 3.0, 12.0]\n",
      "[None, <music21.note.Note B>, <music21.stream.Measure 5 offset=16.0>, 0.0, 16.0]\n",
      "[None, <music21.note.Note A->, <music21.stream.Measure 5 offset=16.0>, 1.0, 16.0]\n",
      "[None, <music21.note.Note G>, <music21.stream.Measure 5 offset=16.0>, 2.0, 16.0]\n",
      "[None, <music21.note.Note F>, <music21.stream.Measure 5 offset=16.0>, 3.0, 16.0]\n",
      "[None, <music21.note.Note E->, <music21.stream.Measure 6 offset=20.0>, 0.0, 20.0]\n",
      "[None, <music21.note.Note D>, <music21.stream.Measure 6 offset=20.0>, 1.0, 20.0]\n",
      "[None, <music21.note.Note C>, <music21.stream.Measure 6 offset=20.0>, 2.0, 20.0]\n",
      "[None, <music21.note.Note F>, <music21.stream.Measure 1 offset=0.0>, 0.0, 0.0]\n",
      "[None, <music21.note.Note G>, <music21.stream.Measure 1 offset=0.0>, 1.0, 0.0]\n",
      "[None, <music21.note.Note A>, <music21.stream.Measure 1 offset=0.0>, 2.0, 0.0]\n",
      "[None, <music21.note.Note B->, <music21.stream.Measure 1 offset=0.0>, 3.0, 0.0]\n",
      "[None, <music21.note.Note C>, <music21.stream.Measure 2 offset=4.0>, 0.0, 4.0]\n",
      "[None, <music21.note.Note D>, <music21.stream.Measure 2 offset=4.0>, 1.0, 4.0]\n",
      "[None, <music21.note.Note E>, <music21.stream.Measure 2 offset=4.0>, 2.0, 4.0]\n",
      "[None, <music21.note.Note F>, <music21.stream.Measure 2 offset=4.0>, 3.0, 4.0]\n",
      "[None, <music21.harmony.NoChord N.C.>, <music21.stream.Measure 3 offset=8.0>, 0.0, 8.0]\n"
     ]
    }
   ],
   "source": [
    "for el in c.recurse().notes:\n",
    "    print([el.lyric, el, el.activeSite,el.offset, el.activeSite.offset])\n",
    "    all_notes.append([el.lyric, el, el.activeSite,el.offset, el.activeSite.offset])"
   ]
  },
  {
   "cell_type": "code",
   "execution_count": 6,
   "id": "b72159b7-a956-4c75-81f5-75b5410cd10d",
   "metadata": {},
   "outputs": [
    {
     "name": "stdout",
     "output_type": "stream",
     "text": [
      "['FM(I)', <music21.note.Note F>, <music21.stream.Measure 1 offset=0.0>, 0.0, 0.0]\n",
      "[None, <music21.note.Note F>, <music21.stream.Measure 1 offset=0.0>, 0.0, 0.0]\n",
      "[None, <music21.note.Note G>, <music21.stream.Measure 1 offset=0.0>, 1.0, 0.0]\n",
      "[None, <music21.note.Note G>, <music21.stream.Measure 1 offset=0.0>, 1.0, 0.0]\n",
      "[None, <music21.note.Note A>, <music21.stream.Measure 1 offset=0.0>, 2.0, 0.0]\n",
      "[None, <music21.note.Note A>, <music21.stream.Measure 1 offset=0.0>, 2.0, 0.0]\n",
      "[None, <music21.note.Note B->, <music21.stream.Measure 1 offset=0.0>, 3.0, 0.0]\n",
      "[None, <music21.note.Note B->, <music21.stream.Measure 1 offset=0.0>, 3.0, 0.0]\n",
      "[None, <music21.note.Note C>, <music21.stream.Measure 2 offset=4.0>, 0.0, 4.0]\n",
      "[None, <music21.note.Note C>, <music21.stream.Measure 2 offset=4.0>, 0.0, 4.0]\n",
      "[None, <music21.note.Note D>, <music21.stream.Measure 2 offset=4.0>, 1.0, 4.0]\n",
      "[None, <music21.note.Note D>, <music21.stream.Measure 2 offset=4.0>, 1.0, 4.0]\n",
      "[None, <music21.note.Note E>, <music21.stream.Measure 2 offset=4.0>, 2.0, 4.0]\n",
      "[None, <music21.note.Note E>, <music21.stream.Measure 2 offset=4.0>, 2.0, 4.0]\n",
      "[None, <music21.note.Note F>, <music21.stream.Measure 2 offset=4.0>, 3.0, 4.0]\n",
      "[None, <music21.note.Note F>, <music21.stream.Measure 2 offset=4.0>, 3.0, 4.0]\n",
      "['Cm(I)', <music21.note.Note C>, <music21.stream.Measure 3 offset=8.0>, 0.0, 8.0]\n",
      "[None, <music21.harmony.NoChord N.C.>, <music21.stream.Measure 3 offset=8.0>, 0.0, 8.0]\n",
      "[None, <music21.harmony.NoChord N.C.>, <music21.stream.Measure 3 offset=8.0>, 0.0, 8.0]\n",
      "[None, <music21.note.Note D>, <music21.stream.Measure 3 offset=8.0>, 1.0, 8.0]\n",
      "[None, <music21.note.Note E->, <music21.stream.Measure 3 offset=8.0>, 2.0, 8.0]\n",
      "[None, <music21.note.Note F>, <music21.stream.Measure 3 offset=8.0>, 3.0, 8.0]\n",
      "[None, <music21.note.Note G>, <music21.stream.Measure 4 offset=12.0>, 0.0, 12.0]\n",
      "[None, <music21.note.Note A->, <music21.stream.Measure 4 offset=12.0>, 1.0, 12.0]\n",
      "[None, <music21.note.Note B>, <music21.stream.Measure 4 offset=12.0>, 2.0, 12.0]\n",
      "[None, <music21.note.Note C>, <music21.stream.Measure 4 offset=12.0>, 3.0, 12.0]\n",
      "[None, <music21.note.Note B>, <music21.stream.Measure 5 offset=16.0>, 0.0, 16.0]\n",
      "[None, <music21.note.Note A->, <music21.stream.Measure 5 offset=16.0>, 1.0, 16.0]\n",
      "[None, <music21.note.Note G>, <music21.stream.Measure 5 offset=16.0>, 2.0, 16.0]\n",
      "[None, <music21.note.Note F>, <music21.stream.Measure 5 offset=16.0>, 3.0, 16.0]\n",
      "[None, <music21.note.Note E->, <music21.stream.Measure 6 offset=20.0>, 0.0, 20.0]\n",
      "[None, <music21.note.Note D>, <music21.stream.Measure 6 offset=20.0>, 1.0, 20.0]\n",
      "[None, <music21.note.Note C>, <music21.stream.Measure 6 offset=20.0>, 2.0, 20.0]\n"
     ]
    }
   ],
   "source": [
    "b=sorted(all_notes,key=lambda x:  'Z' if x[0] is None else(x[0]))\n",
    "b=sorted(b,key=lambda x: (x[-2]))\n",
    "b=sorted(b,key=lambda x: (x[-1]))\n",
    "\n",
    "for e in b:\n",
    "    print(e)"
   ]
  },
  {
   "cell_type": "code",
   "execution_count": 7,
   "id": "363f2e2a-783f-4be9-9175-dabbf95e64f2",
   "metadata": {},
   "outputs": [
    {
     "name": "stdout",
     "output_type": "stream",
     "text": [
      "-1\n",
      "-1\n",
      "-1\n",
      "-1\n",
      "-1\n",
      "-1\n",
      "-1\n",
      "-1\n",
      "-1\n",
      "-1\n",
      "-1\n",
      "-1\n",
      "-1\n",
      "-1\n",
      "-1\n",
      "-1\n",
      "change key\n",
      "-3\n",
      "-3\n",
      "-3\n",
      "-3\n",
      "-3\n",
      "-3\n",
      "-3\n",
      "-3\n",
      "-3\n",
      "-3\n",
      "-3\n",
      "-3\n",
      "-3\n",
      "-3\n",
      "-3\n",
      "-3\n",
      "-3\n"
     ]
    }
   ],
   "source": [
    "\n",
    "current_key=None\n",
    "Major=None\n",
    "for e in b:\n",
    "    if current_key is None:\n",
    "        assert(e[1].lyric is not None) #every score shor mark its start key clearly\n",
    "        current_key=e[1].lyric\n",
    "        if 'M' in current_key:\n",
    "            Major=True\n",
    "        else:\n",
    "            Major=False\n",
    "        if Major:\n",
    "            current_key=current_key.split('M')[0]\n",
    "        else:\n",
    "            current_key=current_key.split('m')[0]\n",
    "            \n",
    "    if e[1].lyric is not None and ('m' in e[1].lyric or 'M' in e[1].lyric):\n",
    "        if not((Major and 'M' in e[1].lyric and current_key==e[1].lyric.split('M')[0]) or (not Major and 'm' in e[1].lyric and current_key==e[1].lyric.split('m')[0])):\n",
    "            current_key=e[1].lyric\n",
    "            if 'M' in current_key:\n",
    "                Major=True\n",
    "            else:\n",
    "                Major=False\n",
    "            if Major:\n",
    "                current_key=current_key.split('M')[0]\n",
    "            else:\n",
    "                current_key=current_key.split('m')[0]\n",
    "            print('change key')\n",
    "            \n",
    "    if Major:\n",
    "        print(MtoC[current_key])\n",
    "        e[1].transpose(MtoC[current_key], inPlace=True)\n",
    "    else:\n",
    "        print(mtoA[current_key])\n",
    "        e[1].transpose(mtoA[current_key], inPlace=True)"
   ]
  },
  {
   "cell_type": "code",
   "execution_count": 8,
   "id": "c7861be6-b093-4929-b5dd-f661b2c38ff0",
   "metadata": {},
   "outputs": [],
   "source": [
    "GEX = musicxml.m21ToXml.GeneralObjectExporter(c)\n",
    "out = GEX.parse()\n",
    "with open(\"test.musicxml\", \"wb\") as f:\n",
    "        f.write(out)"
   ]
  }
 ],
 "metadata": {
  "kernelspec": {
   "display_name": "Python 3",
   "language": "python",
   "name": "python3"
  },
  "language_info": {
   "codemirror_mode": {
    "name": "ipython",
    "version": 3
   },
   "file_extension": ".py",
   "mimetype": "text/x-python",
   "name": "python",
   "nbconvert_exporter": "python",
   "pygments_lexer": "ipython3",
   "version": "3.8.8"
  }
 },
 "nbformat": 4,
 "nbformat_minor": 5
}
