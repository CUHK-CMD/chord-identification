{
 "cells": [
  {
   "cell_type": "code",
   "execution_count": 179,
   "id": "20cc9d97",
   "metadata": {},
   "outputs": [],
   "source": [
    "import math\n",
    "from itertools import combinations\n",
    "from music21 import *"
   ]
  },
  {
   "cell_type": "code",
   "execution_count": 206,
   "id": "96140491",
   "metadata": {},
   "outputs": [],
   "source": [
    "def roughness(notes):\n",
    "    '''\n",
    "    Calculate the Roughness of notes according to (Vassilakis, 2001, 2005)\n",
    "    Reference: http://www.acousticslab.org/learnmoresra/moremodel.html\n",
    "    '''\n",
    "    def roughness_calculation(f1,f2,a1,a2):\n",
    "        fmin = min(f1,f2)\n",
    "        fmax = max(f1,f2)\n",
    "        amin = min(a1,a2)\n",
    "        amax = max(a1,a2)\n",
    "        X = amin*amax\n",
    "        Y = 2*amin/(amin+amax)\n",
    "        b1 = 3.5\n",
    "        b2 = 5.75\n",
    "        s1 = 0.0207\n",
    "        s2=18.96\n",
    "        s = 0.24/(s1*fmin+s2)\n",
    "        Z = math.exp(-b1*s*(fmax-fmin)) - math.exp(-b2*s*(fmax-fmin))\n",
    "        return 100*(X**0.1)*0.5*(Y**3.11)*Z\n",
    "    def keys2freq(keys):\n",
    "    # 1 by 1 key to number\n",
    "        key_mapping = {\"C\": 0, \"D\": 2, \"E\": 4, \"F\": 5, \"G\": 7, \"A\": 9, \"B\": 11}\n",
    "        def halfsteps(key):\n",
    "            ans = 0\n",
    "            try:\n",
    "                octave = int(key[-1])\n",
    "            except:\n",
    "                print(\"You must provide the octave.\")\n",
    "                return 0\n",
    "            key = key.upper()[:-1]\n",
    "            num = key_mapping[key[0]]\n",
    "            modifier = len(key)\n",
    "            if modifier == 1:\n",
    "                ans = (octave-1)*12 +num\n",
    "            elif key[1] == \"#\":\n",
    "                ans =  (octave-1)*12 + (num + (modifier - 1)) % 12\n",
    "            elif key[1] == \"B\" or key[1] == \"-\":\n",
    "                ans = (octave-1)*12 +(num - (modifier - 1)) % 12\n",
    "            elif key[1] == \"X\":\n",
    "                ans = (octave-1)*12 +(num + (modifier - 1) * 2) % 12\n",
    "            return ans - 45\n",
    "        a = 2 ** (1/12)\n",
    "        f0 = 440 #A4\n",
    "        return [round(f0*(a**halfsteps(key)),3) for key in keys]\n",
    "    frequencies = keys2freq(notes)\n",
    "    frequencies.sort()\n",
    "    ans = 0\n",
    "    count = 0\n",
    "    for combo in combinations(frequencies,2):\n",
    "        count += 1\n",
    "        ans += roughness_calculation(combo[0],combo[1],1,1)\n",
    "#     for i in range(1,len(frequencies)):\n",
    "#         ans += roughness_calculation(frequencies[1],frequencies[0],1,1)\n",
    "    return ans"
   ]
  },
  {
   "cell_type": "code",
   "execution_count": 208,
   "id": "1a373491",
   "metadata": {},
   "outputs": [],
   "source": [
    "def roughness2(notes):\n",
    "    '''\n",
    "    Calculate the Roughness of notes according to sum of ideal ratio N+M\n",
    "    Reference: https://www.researchgate.net/publication/276905584_Measuring_Musical_Consonance_and_Dissonance\n",
    "    '''\n",
    "    def interval_to_ratio(interval):\n",
    "        interval_ratio_mapping = {\n",
    "            0:1+1,\n",
    "            1:18+17,\n",
    "            2:9+8,\n",
    "            3:6+5,\n",
    "            4:5+4,\n",
    "            5:4+3,\n",
    "            6:17+12,\n",
    "            7:3+2,\n",
    "            8:8+5,\n",
    "            9:5+3,\n",
    "            10:16+9,\n",
    "            11:17+9,\n",
    "            12:2+1\n",
    "        }\n",
    "        interval_pitch_mapping = {\n",
    "            1:0,\n",
    "            2:2,\n",
    "            3:4,\n",
    "            4:5,\n",
    "            5:7,\n",
    "            6:9,\n",
    "            7:11,\n",
    "            8:12\n",
    "        }\n",
    "        ans = interval_pitch_mapping[int(interval[-1])]\n",
    "        if int(interval[-1]) in [4,5,8]:\n",
    "            intname = interval[:-1]\n",
    "            if intname == \"dd\":\n",
    "                ans -= 2\n",
    "            elif intname == \"d\":\n",
    "                ans -= 1\n",
    "            elif intname == \"A\":\n",
    "                ans += 1\n",
    "            elif intname == \"AA\":\n",
    "                ans += 2\n",
    "        else:\n",
    "            intname = interval[:-1]\n",
    "            if intname == \"m\":\n",
    "                ans -= 1\n",
    "            elif intname == \"d\":\n",
    "                ans -= 2\n",
    "            elif intname == \"A\":\n",
    "                ans += 1\n",
    "            elif intname == \"AA\":\n",
    "                ans += 2\n",
    "        return interval_ratio_mapping[ans]\n",
    "    ans = 0\n",
    "    for combo in combinations(notes,2):\n",
    "        n1 = note.Note(combo[0])\n",
    "        n2 = note.Note(combo[1])\n",
    "        xinterval = interval.Interval(noteStart=n1,noteEnd=n2)\n",
    "        ans += interval_to_ratio(xinterval.semiSimpleName)\n",
    "    return ans/len(notes)\n",
    "    "
   ]
  },
  {
   "cell_type": "code",
   "execution_count": 200,
   "id": "40599fa9",
   "metadata": {
    "scrolled": true
   },
   "outputs": [
    {
     "data": {
      "text/plain": [
       "(6.351848189439927, 6.032426219632215, 0.10258494703992832, 8.529588368655235)"
      ]
     },
     "execution_count": 200,
     "metadata": {},
     "output_type": "execute_result"
    }
   ],
   "source": [
    "roughness([\"C3\",\"E3\",\"G3\"]),roughness([\"C3\",\"E3\",\"G3\",\"C4\"]),roughness([\"C3\",\"C4\",\"C5\"]),roughness([\"C4\",\"C#4\",\"D4\"])"
   ]
  },
  {
   "cell_type": "code",
   "execution_count": 201,
   "id": "7e0dd366",
   "metadata": {},
   "outputs": [
    {
     "data": {
      "text/plain": [
       "(8.333333333333334, 12.0, 3.0, 29.0)"
      ]
     },
     "execution_count": 201,
     "metadata": {},
     "output_type": "execute_result"
    }
   ],
   "source": [
    "roughness2([\"C3\",\"E3\",\"G3\"]),roughness2([\"C3\",\"E3\",\"G3\",\"C4\"]),roughness2([\"C3\",\"C4\",\"C5\"]),roughness2([\"C4\",\"C#4\",\"D4\"])"
   ]
  },
  {
   "cell_type": "code",
   "execution_count": 202,
   "id": "1486ab96",
   "metadata": {},
   "outputs": [
    {
     "data": {
      "text/plain": [
       "(8.469185954260134, 6.351848189439927)"
      ]
     },
     "execution_count": 202,
     "metadata": {},
     "output_type": "execute_result"
    }
   ],
   "source": [
    "roughness([\"C2\",\"E2\",\"G2\"]),roughness([\"C3\",\"E3\",\"G3\"])"
   ]
  },
  {
   "cell_type": "code",
   "execution_count": 203,
   "id": "59873de4",
   "metadata": {},
   "outputs": [
    {
     "data": {
      "text/plain": [
       "(8.333333333333334, 8.333333333333334)"
      ]
     },
     "execution_count": 203,
     "metadata": {},
     "output_type": "execute_result"
    }
   ],
   "source": [
    "roughness2([\"C2\",\"E2\",\"G2\"]),roughness2([\"C3\",\"E3\",\"G3\"])"
   ]
  },
  {
   "cell_type": "code",
   "execution_count": 204,
   "id": "12e6f65e",
   "metadata": {},
   "outputs": [
    {
     "data": {
      "text/plain": [
       "(4.534158477238603, 3.9907928013063, 2.757033511807754)"
      ]
     },
     "execution_count": 204,
     "metadata": {},
     "output_type": "execute_result"
    }
   ],
   "source": [
    "roughness([\"C3\",\"F3\",\"A3\"]),roughness([\"G3\",\"D4\",\"F4\",\"G4\"]),roughness([\"A3\",\"C4\",\"F#4\"])"
   ]
  },
  {
   "cell_type": "code",
   "execution_count": 205,
   "id": "9136d8f7",
   "metadata": {},
   "outputs": [
    {
     "data": {
      "text/plain": [
       "(8.0, 17.0, 16.0)"
      ]
     },
     "execution_count": 205,
     "metadata": {},
     "output_type": "execute_result"
    }
   ],
   "source": [
    "roughness2([\"C3\",\"F3\",\"A3\"]),roughness2([\"G3\",\"D4\",\"F4\",\"G4\"]),roughness2([\"A3\",\"C4\",\"F#4\"])"
   ]
  },
  {
   "cell_type": "code",
   "execution_count": 193,
   "id": "4ca3ef08",
   "metadata": {},
   "outputs": [
    {
     "data": {
      "text/plain": [
       "(7.6471649145129605, 8.817537907843318)"
      ]
     },
     "execution_count": 193,
     "metadata": {},
     "output_type": "execute_result"
    }
   ],
   "source": [
    "roughness([\"C3\",\"E3\"]),roughness([\"C3\",\"Eb3\"])"
   ]
  },
  {
   "cell_type": "code",
   "execution_count": 194,
   "id": "042966ca",
   "metadata": {},
   "outputs": [
    {
     "data": {
      "text/plain": [
       "(4.5, 5.5)"
      ]
     },
     "execution_count": 194,
     "metadata": {},
     "output_type": "execute_result"
    }
   ],
   "source": [
    "roughness2([\"C3\",\"E3\"]),roughness2([\"C3\",\"Eb3\"])"
   ]
  }
 ],
 "metadata": {
  "kernelspec": {
   "display_name": "Python 3 (ipykernel)",
   "language": "python",
   "name": "python3"
  },
  "language_info": {
   "codemirror_mode": {
    "name": "ipython",
    "version": 3
   },
   "file_extension": ".py",
   "mimetype": "text/x-python",
   "name": "python",
   "nbconvert_exporter": "python",
   "pygments_lexer": "ipython3",
   "version": "3.8.10"
  }
 },
 "nbformat": 4,
 "nbformat_minor": 5
}
