{
 "cells": [
  {
   "cell_type": "code",
   "execution_count": 1,
   "id": "20cc9d97",
   "metadata": {},
   "outputs": [],
   "source": [
    "import math\n",
    "from itertools import combinations\n",
    "from music21 import *"
   ]
  },
  {
   "cell_type": "code",
   "execution_count": 2,
   "id": "96140491",
   "metadata": {},
   "outputs": [],
   "source": [
    "def roughness(notes):\n",
    "    '''\n",
    "    Calculate the Roughness of notes according to (Vassilakis, 2001, 2005)\n",
    "    Reference: http://www.acousticslab.org/learnmoresra/moremodel.html\n",
    "    '''\n",
    "    def roughness_calculation(f1,f2,a1,a2):\n",
    "        fmin = min(f1,f2)\n",
    "        fmax = max(f1,f2)\n",
    "        amin = min(a1,a2)\n",
    "        amax = max(a1,a2)\n",
    "        X = amin*amax\n",
    "        Y = 2*amin/(amin+amax)\n",
    "        b1 = 3.5\n",
    "        b2 = 5.75\n",
    "        s1 = 0.0207\n",
    "        s2=18.96\n",
    "        s = 0.24/(s1*fmin+s2)\n",
    "        Z = math.exp(-b1*s*(fmax-fmin)) - math.exp(-b2*s*(fmax-fmin))\n",
    "        return 100*(X**0.1)*0.5*(Y**3.11)*Z\n",
    "    def keys2freq(keys):\n",
    "    # 1 by 1 key to number\n",
    "        key_mapping = {\"C\": 0, \"D\": 2, \"E\": 4, \"F\": 5, \"G\": 7, \"A\": 9, \"B\": 11}\n",
    "        def halfsteps(key):\n",
    "            ans = 0\n",
    "            try:\n",
    "                octave = int(key[-1])\n",
    "            except:\n",
    "                print(\"You must provide the octave.\")\n",
    "                return 0\n",
    "            key = key.upper()[:-1]\n",
    "            num = key_mapping[key[0]]\n",
    "            modifier = len(key)\n",
    "            if modifier == 1:\n",
    "                ans = (octave-1)*12 +num\n",
    "            elif key[1] == \"#\":\n",
    "                ans =  (octave-1)*12 + (num + (modifier - 1)) % 12\n",
    "            elif key[1] == \"B\" or key[1] == \"-\":\n",
    "                ans = (octave-1)*12 +(num - (modifier - 1)) % 12\n",
    "            elif key[1] == \"X\":\n",
    "                ans = (octave-1)*12 +(num + (modifier - 1) * 2) % 12\n",
    "            return ans - 45\n",
    "        a = 2 ** (1/12)\n",
    "        f0 = 440 #A4\n",
    "        return [round(f0*(a**halfsteps(key)),3) for key in keys]\n",
    "    frequencies = keys2freq(notes)\n",
    "    frequencies.sort()\n",
    "    ans = 0\n",
    "    count = 0\n",
    "    for combo in combinations(frequencies,2):\n",
    "        count += 1\n",
    "        ans += roughness_calculation(combo[0],combo[1],1,1)\n",
    "#     for i in range(1,len(frequencies)):\n",
    "#         ans += roughness_calculation(frequencies[1],frequencies[0],1,1)\n",
    "    return ans"
   ]
  },
  {
   "cell_type": "code",
   "execution_count": 3,
   "id": "1a373491",
   "metadata": {},
   "outputs": [],
   "source": [
    "def roughness2(notes):\n",
    "    '''\n",
    "    Calculate the Roughness of notes according to sum of ideal ratio N+M\n",
    "    Reference: https://www.researchgate.net/publication/276905584_Measuring_Musical_Consonance_and_Dissonance\n",
    "    '''\n",
    "    def interval_to_ratio(interval):\n",
    "        interval_ratio_mapping = {\n",
    "            0:1+1,\n",
    "            1:18+17,\n",
    "            2:9+8,\n",
    "            3:6+5,\n",
    "            4:5+4,\n",
    "            5:4+3,\n",
    "            6:17+12,\n",
    "            7:3+2,\n",
    "            8:8+5,\n",
    "            9:5+3,\n",
    "            10:16+9,\n",
    "            11:17+9,\n",
    "            12:2+1\n",
    "        }\n",
    "        interval_pitch_mapping = {\n",
    "            1:0,\n",
    "            2:2,\n",
    "            3:4,\n",
    "            4:5,\n",
    "            5:7,\n",
    "            6:9,\n",
    "            7:11,\n",
    "            8:12\n",
    "        }\n",
    "        ans = interval_pitch_mapping[int(interval[-1])]\n",
    "        if int(interval[-1]) in [4,5,8]:\n",
    "            intname = interval[:-1]\n",
    "            if intname == \"dd\":\n",
    "                ans -= 2\n",
    "            elif intname == \"d\":\n",
    "                ans -= 1\n",
    "            elif intname == \"A\":\n",
    "                ans += 1\n",
    "            elif intname == \"AA\":\n",
    "                ans += 2\n",
    "        else:\n",
    "            intname = interval[:-1]\n",
    "            if intname == \"m\":\n",
    "                ans -= 1\n",
    "            elif intname == \"d\":\n",
    "                ans -= 2\n",
    "            elif intname == \"A\":\n",
    "                ans += 1\n",
    "            elif intname == \"AA\":\n",
    "                ans += 2\n",
    "        return interval_ratio_mapping[ans]\n",
    "    ans = 0\n",
    "    for combo in combinations(notes,2):\n",
    "        n1 = note.Note(combo[0])\n",
    "        n2 = note.Note(combo[1])\n",
    "        xinterval = interval.Interval(noteStart=n1,noteEnd=n2)\n",
    "        ans += interval_to_ratio(xinterval.semiSimpleName)\n",
    "    return ans/len(notes)\n",
    "    "
   ]
  },
  {
   "cell_type": "code",
   "execution_count": 47,
   "id": "5727c4ff-60f3-4891-987f-d02fdd680574",
   "metadata": {},
   "outputs": [
    {
     "data": {
      "text/html": [
       "<div>\n",
       "<style scoped>\n",
       "    .dataframe tbody tr th:only-of-type {\n",
       "        vertical-align: middle;\n",
       "    }\n",
       "\n",
       "    .dataframe tbody tr th {\n",
       "        vertical-align: top;\n",
       "    }\n",
       "\n",
       "    .dataframe thead th {\n",
       "        text-align: right;\n",
       "    }\n",
       "</style>\n",
       "<table border=\"1\" class=\"dataframe\">\n",
       "  <thead>\n",
       "    <tr style=\"text-align: right;\">\n",
       "      <th></th>\n",
       "      <th>0</th>\n",
       "      <th>1</th>\n",
       "      <th>2</th>\n",
       "    </tr>\n",
       "  </thead>\n",
       "  <tbody>\n",
       "    <tr>\n",
       "      <th>0</th>\n",
       "      <td>0.000000</td>\n",
       "      <td>0.000000</td>\n",
       "      <td>[E-4]</td>\n",
       "    </tr>\n",
       "    <tr>\n",
       "      <th>1</th>\n",
       "      <td>5.500000</td>\n",
       "      <td>5.500000</td>\n",
       "      <td>[E-4, C3]</td>\n",
       "    </tr>\n",
       "    <tr>\n",
       "      <th>2</th>\n",
       "      <td>4.833333</td>\n",
       "      <td>10.333333</td>\n",
       "      <td>[E-4, C3, G2]</td>\n",
       "    </tr>\n",
       "    <tr>\n",
       "      <th>3</th>\n",
       "      <td>14.166667</td>\n",
       "      <td>24.500000</td>\n",
       "      <td>[E-4, C3, G2, D2]</td>\n",
       "    </tr>\n",
       "    <tr>\n",
       "      <th>4</th>\n",
       "      <td>2.300000</td>\n",
       "      <td>26.800000</td>\n",
       "      <td>[E-4, C3, G2, D2, C2]</td>\n",
       "    </tr>\n",
       "    <tr>\n",
       "      <th>5</th>\n",
       "      <td>11.700000</td>\n",
       "      <td>38.500000</td>\n",
       "      <td>[E-4, C3, G2, D2, C2, A-4]</td>\n",
       "    </tr>\n",
       "    <tr>\n",
       "      <th>6</th>\n",
       "      <td>5.642857</td>\n",
       "      <td>44.142857</td>\n",
       "      <td>[E-4, C3, G2, D2, C2, A-4, F4]</td>\n",
       "    </tr>\n",
       "    <tr>\n",
       "      <th>7</th>\n",
       "      <td>-44.142857</td>\n",
       "      <td>0.000000</td>\n",
       "      <td>[C3]</td>\n",
       "    </tr>\n",
       "    <tr>\n",
       "      <th>8</th>\n",
       "      <td>3.500000</td>\n",
       "      <td>3.500000</td>\n",
       "      <td>[C3, G2]</td>\n",
       "    </tr>\n",
       "    <tr>\n",
       "      <th>9</th>\n",
       "      <td>9.500000</td>\n",
       "      <td>13.000000</td>\n",
       "      <td>[C3, G2, D2]</td>\n",
       "    </tr>\n",
       "    <tr>\n",
       "      <th>10</th>\n",
       "      <td>3.000000</td>\n",
       "      <td>16.000000</td>\n",
       "      <td>[C3, G2, D2, C2]</td>\n",
       "    </tr>\n",
       "    <tr>\n",
       "      <th>11</th>\n",
       "      <td>14.800000</td>\n",
       "      <td>30.800000</td>\n",
       "      <td>[C3, G2, D2, C2, A-4]</td>\n",
       "    </tr>\n",
       "    <tr>\n",
       "      <th>12</th>\n",
       "      <td>5.033333</td>\n",
       "      <td>35.833333</td>\n",
       "      <td>[C3, G2, D2, C2, A-4, F4]</td>\n",
       "    </tr>\n",
       "    <tr>\n",
       "      <th>13</th>\n",
       "      <td>-35.833333</td>\n",
       "      <td>0.000000</td>\n",
       "      <td>[G2]</td>\n",
       "    </tr>\n",
       "    <tr>\n",
       "      <th>14</th>\n",
       "      <td>3.500000</td>\n",
       "      <td>3.500000</td>\n",
       "      <td>[G2, D2]</td>\n",
       "    </tr>\n",
       "    <tr>\n",
       "      <th>15</th>\n",
       "      <td>6.166667</td>\n",
       "      <td>9.666667</td>\n",
       "      <td>[G2, D2, C2]</td>\n",
       "    </tr>\n",
       "    <tr>\n",
       "      <th>16</th>\n",
       "      <td>16.833333</td>\n",
       "      <td>26.500000</td>\n",
       "      <td>[G2, D2, C2, A-4]</td>\n",
       "    </tr>\n",
       "    <tr>\n",
       "      <th>17</th>\n",
       "      <td>5.500000</td>\n",
       "      <td>32.000000</td>\n",
       "      <td>[G2, D2, C2, A-4, F4]</td>\n",
       "    </tr>\n",
       "    <tr>\n",
       "      <th>18</th>\n",
       "      <td>-32.000000</td>\n",
       "      <td>0.000000</td>\n",
       "      <td>[D2]</td>\n",
       "    </tr>\n",
       "    <tr>\n",
       "      <th>19</th>\n",
       "      <td>8.500000</td>\n",
       "      <td>8.500000</td>\n",
       "      <td>[D2, C2]</td>\n",
       "    </tr>\n",
       "    <tr>\n",
       "      <th>20</th>\n",
       "      <td>11.166667</td>\n",
       "      <td>19.666667</td>\n",
       "      <td>[D2, C2, A-4]</td>\n",
       "    </tr>\n",
       "    <tr>\n",
       "      <th>21</th>\n",
       "      <td>2.333333</td>\n",
       "      <td>22.000000</td>\n",
       "      <td>[D2, C2, A-4, F4]</td>\n",
       "    </tr>\n",
       "    <tr>\n",
       "      <th>22</th>\n",
       "      <td>-22.000000</td>\n",
       "      <td>0.000000</td>\n",
       "      <td>[C2]</td>\n",
       "    </tr>\n",
       "    <tr>\n",
       "      <th>23</th>\n",
       "      <td>6.500000</td>\n",
       "      <td>6.500000</td>\n",
       "      <td>[C2, A-4]</td>\n",
       "    </tr>\n",
       "    <tr>\n",
       "      <th>24</th>\n",
       "      <td>3.833333</td>\n",
       "      <td>10.333333</td>\n",
       "      <td>[C2, A-4, F4]</td>\n",
       "    </tr>\n",
       "    <tr>\n",
       "      <th>25</th>\n",
       "      <td>-10.333333</td>\n",
       "      <td>0.000000</td>\n",
       "      <td>[A-4]</td>\n",
       "    </tr>\n",
       "    <tr>\n",
       "      <th>26</th>\n",
       "      <td>5.500000</td>\n",
       "      <td>5.500000</td>\n",
       "      <td>[A-4, F4]</td>\n",
       "    </tr>\n",
       "    <tr>\n",
       "      <th>27</th>\n",
       "      <td>-5.500000</td>\n",
       "      <td>0.000000</td>\n",
       "      <td>[F4]</td>\n",
       "    </tr>\n",
       "  </tbody>\n",
       "</table>\n",
       "</div>"
      ],
      "text/plain": [
       "            0          1                               2\n",
       "0    0.000000   0.000000                           [E-4]\n",
       "1    5.500000   5.500000                       [E-4, C3]\n",
       "2    4.833333  10.333333                   [E-4, C3, G2]\n",
       "3   14.166667  24.500000               [E-4, C3, G2, D2]\n",
       "4    2.300000  26.800000           [E-4, C3, G2, D2, C2]\n",
       "5   11.700000  38.500000      [E-4, C3, G2, D2, C2, A-4]\n",
       "6    5.642857  44.142857  [E-4, C3, G2, D2, C2, A-4, F4]\n",
       "7  -44.142857   0.000000                            [C3]\n",
       "8    3.500000   3.500000                        [C3, G2]\n",
       "9    9.500000  13.000000                    [C3, G2, D2]\n",
       "10   3.000000  16.000000                [C3, G2, D2, C2]\n",
       "11  14.800000  30.800000           [C3, G2, D2, C2, A-4]\n",
       "12   5.033333  35.833333       [C3, G2, D2, C2, A-4, F4]\n",
       "13 -35.833333   0.000000                            [G2]\n",
       "14   3.500000   3.500000                        [G2, D2]\n",
       "15   6.166667   9.666667                    [G2, D2, C2]\n",
       "16  16.833333  26.500000               [G2, D2, C2, A-4]\n",
       "17   5.500000  32.000000           [G2, D2, C2, A-4, F4]\n",
       "18 -32.000000   0.000000                            [D2]\n",
       "19   8.500000   8.500000                        [D2, C2]\n",
       "20  11.166667  19.666667                   [D2, C2, A-4]\n",
       "21   2.333333  22.000000               [D2, C2, A-4, F4]\n",
       "22 -22.000000   0.000000                            [C2]\n",
       "23   6.500000   6.500000                       [C2, A-4]\n",
       "24   3.833333  10.333333                   [C2, A-4, F4]\n",
       "25 -10.333333   0.000000                           [A-4]\n",
       "26   5.500000   5.500000                       [A-4, F4]\n",
       "27  -5.500000   0.000000                            [F4]"
      ]
     },
     "execution_count": 47,
     "metadata": {},
     "output_type": "execute_result"
    }
   ],
   "source": [
    "notes=[\"E-4\",\"C3\",\"G2\",\"D2\",\"C2\",\"A-4\",\"F4\"]\n",
    "substring = [notes[i: j] for i in range(len(notes)) for j in range(i + 1, len(notes) + 1)]\n",
    "analysis=[]\n",
    "for idx,e in enumerate(substring):\n",
    "    if idx==0:\n",
    "        analysis.append([roughness2(e)-0,roughness2(e),e])\n",
    "    else:\n",
    "        analysis.append([roughness2(e)-roughness2(substring[idx-1]),roughness2(e),e])\n",
    "import pandas as pd\n",
    "pd.DataFrame(analysis)"
   ]
  },
  {
   "cell_type": "code",
   "execution_count": 4,
   "id": "40599fa9",
   "metadata": {
    "scrolled": true
   },
   "outputs": [
    {
     "data": {
      "text/plain": [
       "(19.05554456831978, 24.12970487852886, 0.30775484111978496, 25.588765105965702)"
      ]
     },
     "execution_count": 4,
     "metadata": {},
     "output_type": "execute_result"
    }
   ],
   "source": [
    "roughness([\"C3\",\"E3\",\"G3\"]),roughness([\"C3\",\"E3\",\"G3\",\"C4\"]),roughness([\"C3\",\"C4\",\"C5\"]),roughness([\"C4\",\"C#4\",\"D4\"])"
   ]
  },
  {
   "cell_type": "code",
   "execution_count": 5,
   "id": "7e0dd366",
   "metadata": {},
   "outputs": [
    {
     "data": {
      "text/plain": [
       "(8.333333333333334, 12.0, 3.0, 29.0)"
      ]
     },
     "execution_count": 5,
     "metadata": {},
     "output_type": "execute_result"
    }
   ],
   "source": [
    "roughness2([\"C3\",\"E3\",\"G3\"]),roughness2([\"C3\",\"E3\",\"G3\",\"C4\"]),roughness2([\"C3\",\"C4\",\"C5\"]),roughness2([\"C4\",\"C#4\",\"D4\"])"
   ]
  },
  {
   "cell_type": "code",
   "execution_count": 6,
   "id": "1486ab96",
   "metadata": {},
   "outputs": [
    {
     "data": {
      "text/plain": [
       "(25.4075578627804, 19.05554456831978)"
      ]
     },
     "execution_count": 6,
     "metadata": {},
     "output_type": "execute_result"
    }
   ],
   "source": [
    "roughness([\"C2\",\"E2\",\"G2\"]),roughness([\"C3\",\"E3\",\"G3\"])"
   ]
  },
  {
   "cell_type": "code",
   "execution_count": 7,
   "id": "59873de4",
   "metadata": {},
   "outputs": [
    {
     "data": {
      "text/plain": [
       "(8.333333333333334, 8.333333333333334)"
      ]
     },
     "execution_count": 7,
     "metadata": {},
     "output_type": "execute_result"
    }
   ],
   "source": [
    "roughness2([\"C2\",\"E2\",\"G2\"]),roughness2([\"C3\",\"E3\",\"G3\"])"
   ]
  },
  {
   "cell_type": "code",
   "execution_count": 8,
   "id": "12e6f65e",
   "metadata": {},
   "outputs": [
    {
     "data": {
      "text/plain": [
       "(13.60247543171581, 15.9631712052252, 8.271100535423262)"
      ]
     },
     "execution_count": 8,
     "metadata": {},
     "output_type": "execute_result"
    }
   ],
   "source": [
    "roughness([\"C3\",\"F3\",\"A3\"]),roughness([\"G3\",\"D4\",\"F4\",\"G4\"]),roughness([\"A3\",\"C4\",\"F#4\"])"
   ]
  },
  {
   "cell_type": "code",
   "execution_count": 9,
   "id": "9136d8f7",
   "metadata": {},
   "outputs": [
    {
     "data": {
      "text/plain": [
       "(8.0, 17.0, 16.0)"
      ]
     },
     "execution_count": 9,
     "metadata": {},
     "output_type": "execute_result"
    }
   ],
   "source": [
    "roughness2([\"C3\",\"F3\",\"A3\"]),roughness2([\"G3\",\"D4\",\"F4\",\"G4\"]),roughness2([\"A3\",\"C4\",\"F#4\"])"
   ]
  },
  {
   "cell_type": "code",
   "execution_count": 10,
   "id": "4ca3ef08",
   "metadata": {},
   "outputs": [
    {
     "data": {
      "text/plain": [
       "(7.6471649145129605, 8.817537907843318)"
      ]
     },
     "execution_count": 10,
     "metadata": {},
     "output_type": "execute_result"
    }
   ],
   "source": [
    "roughness([\"C3\",\"E3\"]),roughness([\"C3\",\"Eb3\"])"
   ]
  },
  {
   "cell_type": "code",
   "execution_count": 11,
   "id": "042966ca",
   "metadata": {},
   "outputs": [
    {
     "data": {
      "text/plain": [
       "(4.5, 5.5)"
      ]
     },
     "execution_count": 11,
     "metadata": {},
     "output_type": "execute_result"
    }
   ],
   "source": [
    "roughness2([\"C3\",\"E3\"]),roughness2([\"C3\",\"Eb3\"])"
   ]
  },
  {
   "cell_type": "code",
   "execution_count": null,
   "id": "3962bf7f-4394-4794-9e3e-9a84cc954781",
   "metadata": {},
   "outputs": [],
   "source": []
  }
 ],
 "metadata": {
  "kernelspec": {
   "display_name": "Python 3 (ipykernel)",
   "language": "python",
   "name": "python3"
  },
  "language_info": {
   "codemirror_mode": {
    "name": "ipython",
    "version": 3
   },
   "file_extension": ".py",
   "mimetype": "text/x-python",
   "name": "python",
   "nbconvert_exporter": "python",
   "pygments_lexer": "ipython3",
   "version": "3.8.10"
  }
 },
 "nbformat": 4,
 "nbformat_minor": 5
}
