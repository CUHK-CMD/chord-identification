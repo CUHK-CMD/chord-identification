{
  "nbformat": 4,
  "nbformat_minor": 0,
  "metadata": {
    "colab": {
      "name": "General segmentation",
      "provenance": [],
      "authorship_tag": "ABX9TyO0t6/67BHReN2mlWrc93UP",
      "include_colab_link": true
    },
    "kernelspec": {
      "name": "python3",
      "display_name": "Python 3"
    },
    "language_info": {
      "name": "python"
    },
    "accelerator": "GPU"
  },
  "cells": [
    {
      "cell_type": "markdown",
      "metadata": {
        "id": "view-in-github",
        "colab_type": "text"
      },
      "source": [
        "<a href=\"https://colab.research.google.com/github/tpmmthomas/fyp-chord-identification/blob/tokaho/jupyter_notebook_playground/General_segmentation.ipynb\" target=\"_parent\"><img src=\"https://colab.research.google.com/assets/colab-badge.svg\" alt=\"Open In Colab\"/></a>"
      ]
    },
    {
      "cell_type": "code",
      "metadata": {
        "colab": {
          "base_uri": "https://localhost:8080/"
        },
        "id": "gXjsjdp9WLaD",
        "outputId": "c13f67f7-6ee6-4291-ebf0-7f2ede3eefdf"
      },
      "source": [
        "!pip install music21"
      ],
      "execution_count": null,
      "outputs": [
        {
          "output_type": "stream",
          "name": "stdout",
          "text": [
            "Requirement already satisfied: music21 in /usr/local/lib/python3.7/dist-packages (5.5.0)\n"
          ]
        }
      ]
    },
    {
      "cell_type": "code",
      "metadata": {
        "colab": {
          "base_uri": "https://localhost:8080/"
        },
        "id": "71ANcCqMXzYU",
        "outputId": "eb7d0d9a-b54e-4137-9152-9d7061f714c1"
      },
      "source": [
        "from google.colab import drive\n",
        "drive.mount('/gdrive')"
      ],
      "execution_count": null,
      "outputs": [
        {
          "output_type": "stream",
          "name": "stdout",
          "text": [
            "Mounted at /gdrive\n"
          ]
        }
      ]
    },
    {
      "cell_type": "code",
      "metadata": {
        "colab": {
          "base_uri": "https://localhost:8080/"
        },
        "id": "Dc8rOhfUXzYU",
        "outputId": "c80cd5f2-1933-4fe0-c481-6ccb65e55670"
      },
      "source": [
        "with open('/gdrive/My Drive/foo.txt', 'w') as f:\n",
        "  f.write('Hello Google Drive!')\n",
        "!cat '/gdrive/My Drive/foo.txt'"
      ],
      "execution_count": null,
      "outputs": [
        {
          "output_type": "stream",
          "name": "stdout",
          "text": [
            "Hello Google Drive!"
          ]
        }
      ]
    },
    {
      "cell_type": "code",
      "metadata": {
        "id": "NCWN0mU1LLJ9"
      },
      "source": [
        "from music21 import *\n",
        "import music21\n",
        "import os\n",
        "import glob\n",
        "import re\n",
        "import numpy as np\n",
        "import math"
      ],
      "execution_count": null,
      "outputs": []
    },
    {
      "cell_type": "code",
      "metadata": {
        "id": "3TZkyOPAK9o0"
      },
      "source": [
        "def cal_offset(e):\n",
        "    if e is None:\n",
        "        return 0\n",
        "    return e.offset+cal_offset(e.activeSite)"
      ],
      "execution_count": null,
      "outputs": []
    },
    {
      "cell_type": "code",
      "metadata": {
        "id": "U2dBknN8WRqy"
      },
      "source": [
        "class Score_in_beat:\n",
        "    \n",
        "    def __init__(self):\n",
        "        self.beat_list=[Beat()]\n",
        "        \n",
        "    #extract info from note and add to corrsponding beat\n",
        "    def add_note(self,note):\n",
        "        length=note.quarterLength\n",
        "        start=cal_offset(note)\n",
        "        end=start+length\n",
        "        rounded_floor_start=math.floor(start)\n",
        "        #loop until the note played to its end\n",
        "        while start<end-0.000000000001:\n",
        "            if len(self.beat_list)-1<rounded_floor_start:\n",
        "                new_beat=rounded_floor_start-(len(self.beat_list)-1)\n",
        "                #the input note maybe is a chord -> recurse all pitch inside\n",
        "                for _ in range(new_beat):\n",
        "                    self.beat_list.append(Beat())\n",
        "            self.beat_list[rounded_floor_start].add_note(note,min(rounded_floor_start+1-start,end-start))\n",
        "            start+=min(rounded_floor_start+1-start,end-start)\n",
        "            rounded_floor_start=int(start)\n",
        "            \n",
        "    #add key to the first occurence of beat\n",
        "    def add_key(self,note):\n",
        "        key_change_beat=cal_offset(note)\n",
        "        rounded_floor_key_change_beat=math.floor(key_change_beat)\n",
        "        self.beat_list[rounded_floor_key_change_beat].add_key(note.lyric.split('(')[0])\n",
        "        \n",
        "    #onyl call once\n",
        "    def infer_key(self):\n",
        "        for e in self.beat_list:\n",
        "            if e.key_full is not None:\n",
        "                e.key_full=1\n",
        "                e.key_in_num=1\n",
        "                e.major=1\n",
        "            else:\n",
        "                e.key_full=0\n",
        "                e.key_in_num=0\n",
        "                e.major=0"
      ],
      "execution_count": null,
      "outputs": []
    },
    {
      "cell_type": "code",
      "metadata": {
        "id": "VS3NlEUrWS1x"
      },
      "source": [
        "key_mapping={\n",
        "    'C':0,\n",
        "    'D':2,\n",
        "    'E':4,\n",
        "    'F':5,\n",
        "    'G':7,\n",
        "    'A':9,\n",
        "    'B':11\n",
        "}\n",
        "def key2num(k):  \n",
        "    k=k.upper()\n",
        "    num=key_mapping[k[0]]\n",
        "    modifier=len(k)\n",
        "    if modifier==1:\n",
        "        return num\n",
        "    elif k[1]=='#':\n",
        "        return (num+(modifier-1))%12\n",
        "    elif k[1]=='B' or k[1]=='-' or k[1]=='♭':\n",
        "        return (num-(modifier-1))%12\n",
        "    elif k[1]=='X':\n",
        "        return (num+(modifier-1)*2)%12"
      ],
      "execution_count": null,
      "outputs": []
    },
    {
      "cell_type": "code",
      "metadata": {
        "id": "lrcIv42NWT3i"
      },
      "source": [
        "class Beat:\n",
        "    def __init__(self):\n",
        "        self.notes = np.zeros((12,7))  #from C1 to C7\n",
        "        self.total_duration = np.zeros((12,7))\n",
        "        self.notes_occurences_count= np.zeros((12,7))\n",
        "        self.key_full=None\n",
        "        self.major=None\n",
        "        self.key_in_num=None\n",
        "        \n",
        "    def add_note(self,note,duration):\n",
        "        assert(duration<=1)\n",
        "        pitches=note.pitches\n",
        "        for pitch in pitches:\n",
        "            pitch_idx=key2num(pitch.nameWithOctave[:-1])\n",
        "            octave=int(pitch.nameWithOctave[-1])-1\n",
        "            if octave<0:\n",
        "                octave=0\n",
        "            elif octave>6:\n",
        "                octave=6\n",
        "            self.notes[pitch_idx,octave]=1\n",
        "            self.total_duration[pitch_idx,octave]+=duration\n",
        "            self.notes_occurences_count[pitch_idx,octave]+=1\n",
        "            \n",
        "    def add_key(self,k):\n",
        "        self.key_full=k\n",
        "        self.key_in_num=1"
      ],
      "execution_count": null,
      "outputs": []
    },
    {
      "cell_type": "code",
      "metadata": {
        "colab": {
          "base_uri": "https://localhost:8080/"
        },
        "id": "trDx92pfWVFa",
        "outputId": "30851c7a-a08a-4c2e-e6f7-4ea8f13e1a59"
      },
      "source": [
        "#piece='./Chopin_F._Nocturne_in_E_Major,_Op.26_No.2.mxl'\n",
        "all_score=[]\n",
        "for piece in glob.glob(\"/gdrive/MyDrive/fyp/musicxml(notated)/*.mxl\"):\n",
        "    all_beat=Score_in_beat()\n",
        "    all_score.append(all_beat)\n",
        "    print(piece)\n",
        "    chords = []\n",
        "    notes = []\n",
        "    c = converter.parse(piece)\n",
        "    post = c.flat\n",
        "\n",
        "    #extract note\n",
        "    all_notes=[]\n",
        "    for note in post.notes:\n",
        "        all_notes.append(note)\n",
        "        all_beat.add_note(note)\n",
        "        if note.lyric is not None:\n",
        "            all_beat.add_key(note)\n",
        "        #print(note,note.pitches,note.pitches[0].nameWithOctave,note.quarterLength,cal_offset(note))\n",
        "\n",
        "    all_beat.infer_key()"
      ],
      "execution_count": null,
      "outputs": [
        {
          "output_type": "stream",
          "name": "stdout",
          "text": [
            "/gdrive/MyDrive/fyp/musicxml(notated)/Prlude_Opus_28_No._4_in_E_Minor.mxl\n",
            "/gdrive/MyDrive/fyp/musicxml(notated)/Waltz_in_Eb_Major.mxl\n",
            "/gdrive/MyDrive/fyp/musicxml(notated)/E╠ütude_in_F_Minor.mxl\n",
            "/gdrive/MyDrive/fyp/musicxml(notated)/Sonatina_in_G.mxl\n",
            "/gdrive/MyDrive/fyp/musicxml(notated)/E╠ütude_in_F_Major.mxl\n",
            "/gdrive/MyDrive/fyp/musicxml(notated)/Nocturne_in_F#_Major.mxl\n",
            "/gdrive/MyDrive/fyp/musicxml(notated)/Twinkle-Twinkle.mxl\n",
            "/gdrive/MyDrive/fyp/musicxml(notated)/E╠ütude_in_C_Minor.mxl\n",
            "/gdrive/MyDrive/fyp/musicxml(notated)/Sonate_No._28_2nd_mov.mxl\n",
            "/gdrive/MyDrive/fyp/musicxml(notated)/Sonate_No._28.mxl\n",
            "/gdrive/MyDrive/fyp/musicxml(notated)/Nocturne_in_B_Major.mxl\n",
            "/gdrive/MyDrive/fyp/musicxml(notated)/Waltz_in_A_Minor.mxl\n",
            "/gdrive/MyDrive/fyp/musicxml(notated)/Il_Vecchio_Castello.mxl\n",
            "/gdrive/MyDrive/fyp/musicxml(notated)/Nocturne_in_Eb_Major.mxl\n",
            "/gdrive/MyDrive/fyp/musicxml(notated)/Pre╠ülude_in_B_Major.mxl\n",
            "/gdrive/MyDrive/fyp/musicxml(notated)/Pre╠ülude_in_B_Minor.mxl\n",
            "/gdrive/MyDrive/fyp/musicxml(notated)/Pre╠ülude_in_B_Minor_Opus104a.mxl\n",
            "/gdrive/MyDrive/fyp/musicxml(notated)/Pre╠ülude_in_Db_Major.mxl\n",
            "/gdrive/MyDrive/fyp/musicxml(notated)/Pre╠ülude_in_A_Major.mxl\n",
            "/gdrive/MyDrive/fyp/musicxml(notated)/Pre╠ülude_in_F#_Major.mxl\n",
            "/gdrive/MyDrive/fyp/musicxml(notated)/Moonlight_Sonata_1st_Movement.mxl\n",
            "/gdrive/MyDrive/fyp/musicxml(notated)/Pre╠ülude_in_C_Minor.mxl\n",
            "/gdrive/MyDrive/fyp/musicxml(notated)/notes-to-chord.mxl\n",
            "/gdrive/MyDrive/fyp/musicxml(notated)/E╠ütude_in_Gb_Major_Opus_25.mxl\n",
            "/gdrive/MyDrive/fyp/musicxml(notated)/Pre╠ülude_in_G_Major.mxl\n",
            "/gdrive/MyDrive/fyp/musicxml(notated)/Nocturne_in_E_Minor.mxl\n",
            "/gdrive/MyDrive/fyp/musicxml(notated)/Minuet_in_F.mxl\n",
            "/gdrive/MyDrive/fyp/musicxml(notated)/Piano_Sonata_No._11.mxl\n",
            "/gdrive/MyDrive/fyp/musicxml(notated)/Sonate_No._31.mxl\n",
            "/gdrive/MyDrive/fyp/musicxml(notated)/Nocturne_in_F_Minor.mxl\n",
            "/gdrive/MyDrive/fyp/musicxml(notated)/E╠ütude_in_Gb_Major.mxl\n",
            "/gdrive/MyDrive/fyp/musicxml(notated)/Waltz_in_A_Major_Op.39_No.15_by_Johannes_Brahms.mxl\n",
            "/gdrive/MyDrive/fyp/musicxml(notated)/Minuet_in_G_Major_2nd.mxl\n",
            "/gdrive/MyDrive/fyp/musicxml(notated)/Menuet_in_G_Minor.mxl\n"
          ]
        }
      ]
    },
    {
      "cell_type": "code",
      "metadata": {
        "id": "9eqAhQwTWXLK"
      },
      "source": [
        "from sklearn.model_selection import train_test_split"
      ],
      "execution_count": null,
      "outputs": []
    },
    {
      "cell_type": "code",
      "metadata": {
        "id": "QBWqkKO9WYNa"
      },
      "source": [
        "X=[]\n",
        "Y=[]\n",
        "weight=[1.35,1.25,1.1,1,0.9,0.8,0.7]\n",
        "for e in all_score:\n",
        "    tempX=[]\n",
        "    tempY=[]\n",
        "    count=0\n",
        "    for beat in e.beat_list:\n",
        "        value=beat.total_duration*beat.notes_occurences_count\n",
        "        if np.sum(value)!=0:\n",
        "            #value/=np.sum(value)\n",
        "            #value*=weight\n",
        "            #value=value.sum(axis=1)\n",
        "            value=value.reshape((-1))\n",
        "            value/=value.sum()\n",
        "        else:\n",
        "            value=np.zeros((84))\n",
        "            \n",
        "        assert(len(value)==84)\n",
        "        tempX.append(value)\n",
        "        \n",
        "        prepare_y=beat.key_full\n",
        "        tempY.append(prepare_y)\n",
        "        count+=1\n",
        "    X.append(tempX)\n",
        "    Y.append(tempY)"
      ],
      "execution_count": null,
      "outputs": []
    },
    {
      "cell_type": "code",
      "metadata": {
        "id": "KseP4qOaWY9C"
      },
      "source": [
        "look_forward=10\n",
        "look_after=10\n",
        "dataX,dataY=[],[]\n",
        "for idx_p,piece in enumerate(X):\n",
        "    for idx_b,beat in enumerate(piece):\n",
        "        tempX=[]\n",
        "        for i in reversed(range(1,look_forward+1)):\n",
        "            if(idx_b-i)<0:\n",
        "                tempX.append(np.zeros(84))\n",
        "            else:\n",
        "                tempX.append(piece[idx_b-i])\n",
        "        tempX.append(piece[idx_b])\n",
        "        for i in range(1,look_after+1):\n",
        "            if(idx_b+i)>len(piece)-1:\n",
        "                tempX.append(np.zeros(84))\n",
        "            else:\n",
        "                tempX.append(piece[idx_b+i])\n",
        "        dataX.append(tempX)\n",
        "        dataY.append(Y[idx_p][idx_b])"
      ],
      "execution_count": null,
      "outputs": []
    },
    {
      "cell_type": "code",
      "metadata": {
        "id": "4tnI17FSWZri"
      },
      "source": [
        "dataX=np.array(dataX)\n",
        "dataY=np.array(dataY)"
      ],
      "execution_count": null,
      "outputs": []
    },
    {
      "cell_type": "code",
      "metadata": {
        "id": "x5Zhfwq1WaYy"
      },
      "source": [
        "dataY=dataY.reshape((-1,1))"
      ],
      "execution_count": null,
      "outputs": []
    },
    {
      "cell_type": "code",
      "metadata": {
        "colab": {
          "base_uri": "https://localhost:8080/"
        },
        "id": "eHsq9XlQWcCB",
        "outputId": "c00896c6-34ec-4603-80e1-e339474be7d8"
      },
      "source": [
        "dataX.shape,dataY.shape"
      ],
      "execution_count": null,
      "outputs": [
        {
          "output_type": "execute_result",
          "data": {
            "text/plain": [
              "((8690, 21, 84), (8690, 1))"
            ]
          },
          "metadata": {},
          "execution_count": 15
        }
      ]
    },
    {
      "cell_type": "code",
      "metadata": {
        "id": "80K-XAU7Wc0K"
      },
      "source": [
        "X_train, X_test, y_train, y_test = train_test_split(dataX, dataY, test_size=0.2, random_state=2104)"
      ],
      "execution_count": null,
      "outputs": []
    },
    {
      "cell_type": "code",
      "metadata": {
        "id": "nqhRCzDWWdbq"
      },
      "source": [
        "import numpy\n",
        "from keras.models import Sequential\n",
        "from keras.layers import Dense\n",
        "from keras.layers import LSTM\n",
        "from keras.layers.embeddings import Embedding\n",
        "from keras.preprocessing import sequence"
      ],
      "execution_count": null,
      "outputs": []
    },
    {
      "cell_type": "code",
      "metadata": {
        "id": "2LxAkFAAWeMq"
      },
      "source": [
        "from keras.layers import Flatten\n",
        "from keras.layers import Input\n",
        "from keras.models import Model\n",
        "from keras.callbacks import EarlyStopping\n",
        "from keras.layers import Bidirectional\n",
        "import tensorflow as tf"
      ],
      "execution_count": null,
      "outputs": []
    },
    {
      "cell_type": "code",
      "metadata": {
        "id": "zX9zt_icqnNr"
      },
      "source": [
        "a,b=numpy.unique(dataY, return_counts=True)"
      ],
      "execution_count": null,
      "outputs": []
    },
    {
      "cell_type": "code",
      "metadata": {
        "id": "ycN8xZrWqmo8"
      },
      "source": [
        "sample_weight=np.array([b[1],b[0]])\n",
        "sample_weight=sample_weight/sample_weight.sum()\n",
        "classweight={0:sample_weight[0],\n",
        "             1:sample_weight[1]}"
      ],
      "execution_count": null,
      "outputs": []
    },
    {
      "cell_type": "code",
      "metadata": {
        "id": "ufyJxwzWkMiY"
      },
      "source": [
        "def get_model():\n",
        "  in_data = Input(shape=(1+look_forward+look_after,84))\n",
        "\n",
        "  lstm = Bidirectional(LSTM(256,return_sequences=True))(in_data)\n",
        "  lstm = Flatten()(lstm)\n",
        "\n",
        "\n",
        "  lstm_2 = Dense(12,activation='relu')(lstm)\n",
        " # lstm_2 = Dense(4,activation='relu')(lstm_2)\n",
        "  output2=Dense(1,activation='sigmoid',name='majorPrediction')(lstm_2)\n",
        "\n",
        "  model = Model(inputs=in_data, outputs=output2)\n",
        "\n",
        "  losses ={\n",
        "        #  'keyPrediction':'categorical_crossentropy',\n",
        "          'majorPrediction':tf.keras.losses.Huber()    #'binary_crossentropy'#\n",
        "        }\n",
        "\n",
        "  lossWeights={\n",
        "        #  'keyPrediction':0.7,\n",
        "          'majorPrediction':1  \n",
        "        }\n",
        "      \n",
        "  model.compile(  loss=losses,\n",
        "                loss_weights= lossWeights,\n",
        "                optimizer='adam',\n",
        "\n",
        "                metrics=['accuracy'])\n",
        "  return model"
      ],
      "execution_count": null,
      "outputs": []
    },
    {
      "cell_type": "code",
      "metadata": {
        "id": "YANNB3vYWh3y"
      },
      "source": [
        "callback=EarlyStopping(\n",
        "    monitor='val_loss', min_delta=0, patience=30, verbose=2, mode='auto',\n",
        "    baseline=None, restore_best_weights=True)"
      ],
      "execution_count": null,
      "outputs": []
    },
    {
      "cell_type": "code",
      "metadata": {
        "id": "WiFjhsa7jNsv"
      },
      "source": [
        "from sklearn.model_selection import KFold"
      ],
      "execution_count": null,
      "outputs": []
    },
    {
      "cell_type": "code",
      "metadata": {
        "id": "M7nB6LtHtjP8",
        "colab": {
          "base_uri": "https://localhost:8080/"
        },
        "outputId": "c62c8fda-38fb-484c-afff-0d9fa1f60b7f"
      },
      "source": [
        "sample_weight"
      ],
      "execution_count": null,
      "outputs": [
        {
          "output_type": "execute_result",
          "data": {
            "text/plain": [
              "array([0.35339471, 0.64660529])"
            ]
          },
          "metadata": {},
          "execution_count": 115
        }
      ]
    },
    {
      "cell_type": "code",
      "metadata": {
        "colab": {
          "base_uri": "https://localhost:8080/"
        },
        "id": "hIP28ZTujOzY",
        "outputId": "bf6035a1-c3d1-4ee2-a49e-33a3bd4743cc"
      },
      "source": [
        "num_folds=5\n",
        "kfold = KFold(n_splits=num_folds, shuffle=True)\n",
        "fold_no = 1\n",
        "acc_per_fold = []\n",
        "loss_per_fold = []\n",
        "acc2_per_fold=[]\n",
        "acc3_per_fold=[]\n",
        "k_fold_x=dataX\n",
        "k_fold_y=dataY\n",
        "for train, test in kfold.split(k_fold_x, k_fold_y):\n",
        "\n",
        "  model=get_model()\n",
        "\n",
        "\n",
        "  # Generate a print\n",
        "  print('------------------------------------------------------------------------')\n",
        "  print(f'Training for fold {fold_no} ...')\n",
        "\n",
        "  # Fit data to model\n",
        "  history = model.fit(k_fold_x[train], k_fold_y[train],\n",
        "                      validation_data=(k_fold_x[test], k_fold_y[test]),\n",
        "                      verbose=0, \n",
        "                      epochs=1000,\n",
        "                      callbacks=[callback],  \n",
        "                      batch_size=512,\n",
        "                      class_weight=classweight,\n",
        "                      shuffle=True)\n",
        "\n",
        "  # Generate generalization metrics\n",
        "  scores = model.evaluate(k_fold_x[test], k_fold_y[test], verbose=0)\n",
        "  print(f'Score for fold {fold_no}: {model.metrics_names[0]} of {scores[0]}; {model.metrics_names[1]} of {scores[1]*100}%')\n",
        "\n",
        "  \n",
        "\n",
        "\n",
        "  acc_per_fold.append(scores[1])\n",
        "  loss_per_fold.append(scores[0])\n",
        "\n",
        "  # Increase fold number\n",
        "  fold_no = fold_no + 1"
      ],
      "execution_count": null,
      "outputs": [
        {
          "output_type": "stream",
          "name": "stdout",
          "text": [
            "------------------------------------------------------------------------\n",
            "Training for fold 1 ...\n",
            "Restoring model weights from the end of the best epoch.\n",
            "Epoch 00076: early stopping\n",
            "Score for fold 1: loss of 0.08702141791582108; accuracy of 73.30264449119568%\n",
            "------------------------------------------------------------------------\n",
            "Training for fold 2 ...\n",
            "Restoring model weights from the end of the best epoch.\n",
            "Epoch 00103: early stopping\n",
            "Score for fold 2: loss of 0.08015640079975128; accuracy of 77.96317338943481%\n",
            "------------------------------------------------------------------------\n",
            "Training for fold 3 ...\n",
            "Restoring model weights from the end of the best epoch.\n",
            "Epoch 00118: early stopping\n",
            "Score for fold 3: loss of 0.08208134025335312; accuracy of 79.63175773620605%\n",
            "------------------------------------------------------------------------\n",
            "Training for fold 4 ...\n",
            "Restoring model weights from the end of the best epoch.\n",
            "Epoch 00079: early stopping\n",
            "Score for fold 4: loss of 0.09377017617225647; accuracy of 70.77100276947021%\n",
            "------------------------------------------------------------------------\n",
            "Training for fold 5 ...\n",
            "Restoring model weights from the end of the best epoch.\n",
            "Epoch 00077: early stopping\n",
            "Score for fold 5: loss of 0.09879381209611893; accuracy of 70.71346640586853%\n"
          ]
        }
      ]
    },
    {
      "cell_type": "code",
      "metadata": {
        "colab": {
          "base_uri": "https://localhost:8080/"
        },
        "id": "7QmhAlj5oI7x",
        "outputId": "70490a8e-6fce-4cc5-b32e-6bfd4cc550bf"
      },
      "source": [
        "# == Provide average scores ==\n",
        "print('------------------------------------------------------------------------')\n",
        "print('Score per fold')\n",
        "for i in range(0, len(acc_per_fold)):\n",
        "  print('------------------------------------------------------------------------')\n",
        "  print(f'> Fold {i+1} - Loss: {loss_per_fold[i]} - Accuracy: {acc_per_fold[i]}% ')\n",
        "print('------------------------------------------------------------------------')\n",
        "print('Average scores for all folds:')\n",
        "print(f'> Total Accuracy: {np.mean(acc_per_fold)} (+- {np.std(acc_per_fold)})')\n",
        "print(f'> Total Loss: {np.mean(loss_per_fold)}')\n",
        "print('------------------------------------------------------------------------')"
      ],
      "execution_count": null,
      "outputs": [
        {
          "output_type": "stream",
          "name": "stdout",
          "text": [
            "------------------------------------------------------------------------\n",
            "Score per fold\n",
            "------------------------------------------------------------------------\n",
            "> Fold 1 - Loss: 0.08702141791582108 - Accuracy: 0.7330264449119568% \n",
            "------------------------------------------------------------------------\n",
            "> Fold 2 - Loss: 0.08015640079975128 - Accuracy: 0.7796317338943481% \n",
            "------------------------------------------------------------------------\n",
            "> Fold 3 - Loss: 0.08208134025335312 - Accuracy: 0.7963175773620605% \n",
            "------------------------------------------------------------------------\n",
            "> Fold 4 - Loss: 0.09377017617225647 - Accuracy: 0.7077100276947021% \n",
            "------------------------------------------------------------------------\n",
            "> Fold 5 - Loss: 0.09879381209611893 - Accuracy: 0.7071346640586853% \n",
            "------------------------------------------------------------------------\n",
            "Average scores for all folds:\n",
            "> Total Accuracy: 0.7447640895843506 (+- 0.0368788942137474)\n",
            "> Total Loss: 0.08836462944746018\n",
            "------------------------------------------------------------------------\n"
          ]
        }
      ]
    },
    {
      "cell_type": "code",
      "metadata": {
        "id": "zn7Y0gTTWilK"
      },
      "source": [
        "#model.fit(X_train, [y_train[:,:-1],y_train[:,-1]],validation_data=(X_test, [y_test[:,:-1],y_test[:,-1]]), verbose=2, epochs=1000,callbacks=[callback],  batch_size=1024,)"
      ],
      "execution_count": null,
      "outputs": []
    },
    {
      "cell_type": "code",
      "metadata": {
        "id": "-jJgC4wX0Ode"
      },
      "source": [
        "y_val_cat_prob=model.predict(k_fold_x[test])"
      ],
      "execution_count": null,
      "outputs": []
    },
    {
      "cell_type": "code",
      "metadata": {
        "id": "a-xkMM9Ut3hk"
      },
      "source": [
        "from sklearn.metrics import roc_curve,roc_auc_score\n",
        "\n",
        "fpr , tpr , thresholds = roc_curve (k_fold_y[test] , y_val_cat_prob)"
      ],
      "execution_count": null,
      "outputs": []
    },
    {
      "cell_type": "code",
      "metadata": {
        "id": "LaBvREzIuccL"
      },
      "source": [
        "import matplotlib.pyplot as plt"
      ],
      "execution_count": null,
      "outputs": []
    },
    {
      "cell_type": "code",
      "metadata": {
        "id": "TRhsYfofuLCz",
        "colab": {
          "base_uri": "https://localhost:8080/",
          "height": 282
        },
        "outputId": "5a4bd264-c422-4731-f5dd-57edfa0413ce"
      },
      "source": [
        "def plot_roc_curve(fpr,tpr): \n",
        "  plt.plot(fpr,tpr) \n",
        "  plt.axis([0,1,0,1]) \n",
        "  plt.xlabel('False Positive Rate') \n",
        "  plt.ylabel('True Positive Rate') \n",
        "  plt.show()    \n",
        "  \n",
        "plot_roc_curve (fpr,tpr) "
      ],
      "execution_count": null,
      "outputs": [
        {
          "output_type": "display_data",
          "data": {
            "image/png": "[encoded data removed]",
            "text/plain": [
              "<Figure size 432x288 with 1 Axes>"
            ]
          },
          "metadata": {
            "image/png": {
              "width": 393,
              "height": 265
            },
            "needs_background": "light"
          }
        }
      ]
    },
    {
      "cell_type": "code",
      "metadata": {
        "id": "fUd7zIc3uM2c"
      },
      "source": [
        "auc_score=roc_auc_score(k_fold_y[test],y_val_cat_prob)"
      ],
      "execution_count": null,
      "outputs": []
    },
    {
      "cell_type": "code",
      "metadata": {
        "id": "iz6i4EJAulXE",
        "colab": {
          "base_uri": "https://localhost:8080/"
        },
        "outputId": "ab399344-3eca-46d5-d45a-f05529ca8457"
      },
      "source": [
        "auc_score"
      ],
      "execution_count": null,
      "outputs": [
        {
          "output_type": "execute_result",
          "data": {
            "text/plain": [
              "0.7755746576168286"
            ]
          },
          "metadata": {},
          "execution_count": 124
        }
      ]
    },
    {
      "cell_type": "code",
      "metadata": {
        "id": "uM_EB8lTuwaM"
      },
      "source": [
        "from sklearn.metrics import confusion_matrix"
      ],
      "execution_count": null,
      "outputs": []
    },
    {
      "cell_type": "code",
      "metadata": {
        "id": "uPQpXwuau0yM"
      },
      "source": [
        "y_pred=[1 if e >=0.5 else 0 for e in y_val_cat_prob]"
      ],
      "execution_count": null,
      "outputs": []
    },
    {
      "cell_type": "code",
      "metadata": {
        "id": "MZe_k4rFuxvd",
        "colab": {
          "base_uri": "https://localhost:8080/"
        },
        "outputId": "f4755965-8e79-4372-962d-6dfff1efcdc8"
      },
      "source": [
        "confusion_matrix(k_fold_y[test], y_pred)"
      ],
      "execution_count": null,
      "outputs": [
        {
          "output_type": "execute_result",
          "data": {
            "text/plain": [
              "array([[810, 283],\n",
              "       [226, 419]])"
            ]
          },
          "metadata": {},
          "execution_count": 127
        }
      ]
    },
    {
      "cell_type": "code",
      "metadata": {
        "id": "CT1j6wmXvxDx",
        "colab": {
          "base_uri": "https://localhost:8080/"
        },
        "outputId": "598f7c0e-a565-4b08-9ae0-fe850d320e42"
      },
      "source": [
        "from sklearn.metrics import f1_score\n",
        "f1_score(k_fold_y[test], y_pred, average='binary')"
      ],
      "execution_count": null,
      "outputs": [
        {
          "output_type": "execute_result",
          "data": {
            "text/plain": [
              "0.6221232368225685"
            ]
          },
          "metadata": {},
          "execution_count": 128
        }
      ]
    },
    {
      "cell_type": "code",
      "metadata": {
        "id": "7yZpPQSx2Rio"
      },
      "source": [
        ""
      ],
      "execution_count": null,
      "outputs": []
    }
  ]
}