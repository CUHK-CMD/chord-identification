{
 "cells": [
  {
   "cell_type": "markdown",
   "metadata": {
    "colab_type": "text",
    "id": "view-in-github"
   },
   "source": [
    "<a href=\"https://colab.research.google.com/github/tpmmthomas/fyp-chord-identification/blob/tokaho/jupyter_notebook_playground/key_identification_%26_segmentation.ipynb\" target=\"_parent\"><img src=\"https://colab.research.google.com/assets/colab-badge.svg\" alt=\"Open In Colab\"/></a>"
   ]
  },
  {
   "cell_type": "code",
   "execution_count": null,
   "metadata": {
    "colab": {
     "base_uri": "https://localhost:8080/"
    },
    "id": "gXjsjdp9WLaD",
    "outputId": "9ed1ac91-9ef6-43cb-caed-dac8d549726a"
   },
   "outputs": [
    {
     "name": "stdout",
     "output_type": "stream",
     "text": [
      "Requirement already satisfied: music21 in /usr/local/lib/python3.7/dist-packages (5.5.0)\n"
     ]
    }
   ],
   "source": [
    "!pip install music21"
   ]
  },
  {
   "cell_type": "code",
   "execution_count": null,
   "metadata": {
    "colab": {
     "base_uri": "https://localhost:8080/"
    },
    "id": "71ANcCqMXzYU",
    "outputId": "9baf3d2a-e834-43c6-bd54-0c79148fab60"
   },
   "outputs": [
    {
     "name": "stdout",
     "output_type": "stream",
     "text": [
      "Drive already mounted at /gdrive; to attempt to forcibly remount, call drive.mount(\"/gdrive\", force_remount=True).\n"
     ]
    }
   ],
   "source": [
    "from google.colab import drive\n",
    "drive.mount('/gdrive')"
   ]
  },
  {
   "cell_type": "code",
   "execution_count": null,
   "metadata": {
    "colab": {
     "base_uri": "https://localhost:8080/"
    },
    "id": "Dc8rOhfUXzYU",
    "outputId": "970c2b9c-baad-464b-e75e-a693cb6b03fe"
   },
   "outputs": [
    {
     "name": "stdout",
     "output_type": "stream",
     "text": [
      "Hello Google Drive!"
     ]
    }
   ],
   "source": [
    "with open('/gdrive/My Drive/foo.txt', 'w') as f:\n",
    "  f.write('Hello Google Drive!')\n",
    "!cat '/gdrive/My Drive/foo.txt'"
   ]
  },
  {
   "cell_type": "code",
   "execution_count": null,
   "metadata": {
    "id": "NCWN0mU1LLJ9"
   },
   "outputs": [],
   "source": [
    "from music21 import *\n",
    "import music21\n",
    "import os\n",
    "import glob\n",
    "import re\n",
    "import numpy as np\n",
    "import math"
   ]
  },
  {
   "cell_type": "code",
   "execution_count": null,
   "metadata": {
    "id": "3TZkyOPAK9o0"
   },
   "outputs": [],
   "source": [
    "def cal_offset(e):\n",
    "    if e is None:\n",
    "        return 0\n",
    "    return e.offset+cal_offset(e.activeSite)"
   ]
  },
  {
   "cell_type": "code",
   "execution_count": null,
   "metadata": {
    "id": "U2dBknN8WRqy"
   },
   "outputs": [],
   "source": [
    "class Score_in_beat:\n",
    "    \n",
    "    def __init__(self):\n",
    "        self.beat_list=[Beat()]\n",
    "        \n",
    "    #extract info from note and add to corrsponding beat\n",
    "    def add_note(self,note):\n",
    "        length=note.quarterLength\n",
    "        start=cal_offset(note)\n",
    "        end=start+length\n",
    "        rounded_floor_start=math.floor(start)\n",
    "        #loop until the note played to its end\n",
    "        while start<end-0.000000000001:\n",
    "            if len(self.beat_list)-1<rounded_floor_start:\n",
    "                new_beat=rounded_floor_start-(len(self.beat_list)-1)\n",
    "                #the input note maybe is a chord -> recurse all pitch inside\n",
    "                for _ in range(new_beat):\n",
    "                    self.beat_list.append(Beat())\n",
    "            self.beat_list[rounded_floor_start].add_note(note,min(rounded_floor_start+1-start,end-start))\n",
    "            start+=min(rounded_floor_start+1-start,end-start)\n",
    "            rounded_floor_start=int(start)\n",
    "            \n",
    "    #add key to the first occurence of beat\n",
    "    def add_key(self,note):\n",
    "        assert(note.lyric is not None and '(' in note.lyric)\n",
    "        key_change_beat=cal_offset(note)\n",
    "        rounded_floor_key_change_beat=math.floor(key_change_beat)\n",
    "        self.beat_list[rounded_floor_key_change_beat].add_key(note.lyric.split('(')[0])\n",
    "        \n",
    "    #onyl call once\n",
    "    def infer_key(self):\n",
    "        first_key_in_num=None\n",
    "        first_key_full=None\n",
    "        first_key_major=None\n",
    "        #backtrack\n",
    "        for e in self.beat_list:\n",
    "            if e.key_full is not None:\n",
    "                first_key_full=e.key_full\n",
    "                first_key_in_num=e.key_in_num\n",
    "                first_key_major=e.major\n",
    "                break\n",
    "        #bring forward\n",
    "        for e in self.beat_list:\n",
    "            if e.key_full is None:\n",
    "                e.key_full=first_key_full\n",
    "                e.key_in_num=first_key_in_num\n",
    "                e.major=first_key_major\n",
    "            else:\n",
    "                first_key_full=e.key_full\n",
    "                first_key_in_num=e.key_in_num\n",
    "                first_key_major=e.major"
   ]
  },
  {
   "cell_type": "code",
   "execution_count": null,
   "metadata": {
    "id": "VS3NlEUrWS1x"
   },
   "outputs": [],
   "source": [
    "key_mapping={\n",
    "    'C':0,\n",
    "    'D':2,\n",
    "    'E':4,\n",
    "    'F':5,\n",
    "    'G':7,\n",
    "    'A':9,\n",
    "    'B':11\n",
    "}\n",
    "def key2num(k):  \n",
    "    k=k.upper()\n",
    "    num=key_mapping[k[0]]\n",
    "    modifier=len(k)\n",
    "    if modifier==1:\n",
    "        return num\n",
    "    elif k[1]=='#':\n",
    "        return (num+(modifier-1))%12\n",
    "    elif k[1]=='B' or k[1]=='-' or k[1]=='♭':\n",
    "        return (num-(modifier-1))%12\n",
    "    elif k[1]=='X':\n",
    "        return (num+(modifier-1)*2)%12"
   ]
  },
  {
   "cell_type": "code",
   "execution_count": null,
   "metadata": {
    "id": "lrcIv42NWT3i"
   },
   "outputs": [],
   "source": [
    "class Beat:\n",
    "    def __init__(self):\n",
    "        self.notes = np.zeros((12,7))  #from C1 to C7\n",
    "        self.total_duration = np.zeros((12,7))\n",
    "        self.notes_occurences_count= np.zeros((12,7))\n",
    "        self.key_full=None\n",
    "        self.major=None\n",
    "        self.key_in_num=None\n",
    "        \n",
    "    def add_note(self,note,duration):\n",
    "        assert(duration<=1)\n",
    "        pitches=note.pitches\n",
    "        for pitch in pitches:\n",
    "            pitch_idx=key2num(pitch.nameWithOctave[:-1])\n",
    "            octave=int(pitch.nameWithOctave[-1])-1\n",
    "            if octave<0:\n",
    "                octave=0\n",
    "            elif octave>6:\n",
    "                octave=6\n",
    "            self.notes[pitch_idx,octave]=1\n",
    "            self.total_duration[pitch_idx,octave]+=duration\n",
    "            self.notes_occurences_count[pitch_idx,octave]+=1\n",
    "            \n",
    "    def add_key(self,k):\n",
    "        self.major = 'M' in k\n",
    "        self.key_full=k\n",
    "        k=k[:-1]\n",
    "        self.key_in_num=key2num(k)"
   ]
  },
  {
   "cell_type": "code",
   "execution_count": null,
   "metadata": {
    "colab": {
     "base_uri": "https://localhost:8080/"
    },
    "id": "trDx92pfWVFa",
    "outputId": "42453a1f-7045-4ddb-f964-39401095c7a0"
   },
   "outputs": [
    {
     "name": "stdout",
     "output_type": "stream",
     "text": [
      "/gdrive/MyDrive/fyp/musicxml(notated)/Prlude_Opus_28_No._4_in_E_Minor.mxl\n",
      "/gdrive/MyDrive/fyp/musicxml(notated)/Waltz_in_Eb_Major.mxl\n",
      "/gdrive/MyDrive/fyp/musicxml(notated)/E╠ütude_in_F_Minor.mxl\n",
      "/gdrive/MyDrive/fyp/musicxml(notated)/Sonatina_in_G.mxl\n",
      "/gdrive/MyDrive/fyp/musicxml(notated)/E╠ütude_in_F_Major.mxl\n",
      "/gdrive/MyDrive/fyp/musicxml(notated)/Nocturne_in_F#_Major.mxl\n",
      "/gdrive/MyDrive/fyp/musicxml(notated)/Twinkle-Twinkle.mxl\n",
      "/gdrive/MyDrive/fyp/musicxml(notated)/E╠ütude_in_C_Minor.mxl\n",
      "/gdrive/MyDrive/fyp/musicxml(notated)/Sonate_No._28_2nd_mov.mxl\n",
      "/gdrive/MyDrive/fyp/musicxml(notated)/Sonate_No._28.mxl\n",
      "/gdrive/MyDrive/fyp/musicxml(notated)/Nocturne_in_B_Major.mxl\n",
      "/gdrive/MyDrive/fyp/musicxml(notated)/Waltz_in_A_Minor.mxl\n",
      "/gdrive/MyDrive/fyp/musicxml(notated)/Il_Vecchio_Castello.mxl\n",
      "/gdrive/MyDrive/fyp/musicxml(notated)/Nocturne_in_Eb_Major.mxl\n",
      "/gdrive/MyDrive/fyp/musicxml(notated)/Pre╠ülude_in_B_Major.mxl\n",
      "/gdrive/MyDrive/fyp/musicxml(notated)/Pre╠ülude_in_B_Minor.mxl\n",
      "/gdrive/MyDrive/fyp/musicxml(notated)/Pre╠ülude_in_B_Minor_Opus104a.mxl\n",
      "/gdrive/MyDrive/fyp/musicxml(notated)/Pre╠ülude_in_Db_Major.mxl\n",
      "/gdrive/MyDrive/fyp/musicxml(notated)/Pre╠ülude_in_A_Major.mxl\n",
      "/gdrive/MyDrive/fyp/musicxml(notated)/Pre╠ülude_in_F#_Major.mxl\n",
      "/gdrive/MyDrive/fyp/musicxml(notated)/Moonlight_Sonata_1st_Movement.mxl\n",
      "/gdrive/MyDrive/fyp/musicxml(notated)/Pre╠ülude_in_C_Minor.mxl\n",
      "/gdrive/MyDrive/fyp/musicxml(notated)/notes-to-chord.mxl\n",
      "/gdrive/MyDrive/fyp/musicxml(notated)/E╠ütude_in_Gb_Major_Opus_25.mxl\n",
      "/gdrive/MyDrive/fyp/musicxml(notated)/Pre╠ülude_in_G_Major.mxl\n",
      "/gdrive/MyDrive/fyp/musicxml(notated)/Nocturne_in_E_Minor.mxl\n",
      "/gdrive/MyDrive/fyp/musicxml(notated)/Minuet_in_F.mxl\n",
      "/gdrive/MyDrive/fyp/musicxml(notated)/Piano_Sonata_No._11.mxl\n",
      "/gdrive/MyDrive/fyp/musicxml(notated)/Sonate_No._31.mxl\n",
      "/gdrive/MyDrive/fyp/musicxml(notated)/Nocturne_in_F_Minor.mxl\n",
      "/gdrive/MyDrive/fyp/musicxml(notated)/E╠ütude_in_Gb_Major.mxl\n",
      "/gdrive/MyDrive/fyp/musicxml(notated)/Waltz_in_A_Major_Op.39_No.15_by_Johannes_Brahms.mxl\n",
      "/gdrive/MyDrive/fyp/musicxml(notated)/Minuet_in_G_Major_2nd.mxl\n",
      "/gdrive/MyDrive/fyp/musicxml(notated)/Menuet_in_G_Minor.mxl\n"
     ]
    }
   ],
   "source": [
    "#piece='./Chopin_F._Nocturne_in_E_Major,_Op.26_No.2.mxl'\n",
    "all_score=[]\n",
    "for piece in glob.glob(\"/gdrive/MyDrive/fyp/musicxml(notated)/*.mxl\"):\n",
    "    all_beat=Score_in_beat()\n",
    "    all_score.append(all_beat)\n",
    "    print(piece)\n",
    "    chords = []\n",
    "    notes = []\n",
    "    c = converter.parse(piece)\n",
    "    post = c.flat\n",
    "\n",
    "    #extract note\n",
    "    all_notes=[]\n",
    "    for note in post.notes:\n",
    "        all_notes.append(note)\n",
    "        all_beat.add_note(note)\n",
    "        if note.lyric is not None and '(' in note.lyric:\n",
    "            all_beat.add_key(note)\n",
    "        #print(note,note.pitches,note.pitches[0].nameWithOctave,note.quarterLength,cal_offset(note))\n",
    "\n",
    "    all_beat.infer_key()"
   ]
  },
  {
   "cell_type": "code",
   "execution_count": null,
   "metadata": {
    "id": "9eqAhQwTWXLK"
   },
   "outputs": [],
   "source": [
    "from sklearn.model_selection import train_test_split"
   ]
  },
  {
   "cell_type": "code",
   "execution_count": null,
   "metadata": {
    "id": "QBWqkKO9WYNa"
   },
   "outputs": [],
   "source": [
    "X=[]\n",
    "Y=[]\n",
    "weight=[1.35,1.25,1.1,1,0.9,0.8,0.7]\n",
    "for e in all_score:\n",
    "    tempX=[]\n",
    "    tempY=[]\n",
    "    count=0\n",
    "    for beat in e.beat_list:\n",
    "        value=beat.total_duration*beat.notes_occurences_count\n",
    "        if np.sum(value)!=0:\n",
    "            value/=np.sum(value)\n",
    "            value*=weight\n",
    "            value=value.sum(axis=1)\n",
    "            #value=value.reshape((-1))\n",
    "            value/=value.sum()\n",
    "        else:\n",
    "            value=np.zeros((12))\n",
    "            \n",
    "        assert(len(value)==12)\n",
    "        tempX.append(value)\n",
    "        \n",
    "        prepare_y=np.zeros((13,1))\n",
    "        prepare_y[-1]=beat.major*1\n",
    "        prepare_y[beat.key_in_num]=1\n",
    "        assert(len(prepare_y)==13)\n",
    "        tempY.append(prepare_y)\n",
    "        count+=1\n",
    "    X.append(tempX)\n",
    "    Y.append(tempY)"
   ]
  },
  {
   "cell_type": "code",
   "execution_count": null,
   "metadata": {
    "id": "KseP4qOaWY9C"
   },
   "outputs": [],
   "source": [
    "look_forward=3\n",
    "look_after=5\n",
    "dataX,dataY=[],[]\n",
    "for idx_p,piece in enumerate(X):\n",
    "    for idx_b,beat in enumerate(piece):\n",
    "        tempX=[]\n",
    "        for i in reversed(range(1,look_forward+1)):\n",
    "            if(idx_b-i)<0:\n",
    "                tempX.append(np.zeros(12))\n",
    "            else:\n",
    "                tempX.append(piece[idx_b-i])\n",
    "        tempX.append(piece[idx_b])\n",
    "        for i in range(1,look_after+1):\n",
    "            if(idx_b+i)>len(piece)-1:\n",
    "                tempX.append(np.zeros(12))\n",
    "            else:\n",
    "                tempX.append(piece[idx_b+i])\n",
    "        dataX.append(tempX)\n",
    "        dataY.append(Y[idx_p][idx_b])"
   ]
  },
  {
   "cell_type": "code",
   "execution_count": null,
   "metadata": {
    "id": "4tnI17FSWZri"
   },
   "outputs": [],
   "source": [
    "dataX=np.array(dataX)\n",
    "dataY=np.array(dataY)"
   ]
  },
  {
   "cell_type": "code",
   "execution_count": null,
   "metadata": {
    "id": "x5Zhfwq1WaYy"
   },
   "outputs": [],
   "source": [
    "dataY=dataY.reshape((-1,13))"
   ]
  },
  {
   "cell_type": "code",
   "execution_count": null,
   "metadata": {
    "colab": {
     "base_uri": "https://localhost:8080/"
    },
    "id": "eHsq9XlQWcCB",
    "outputId": "bd1e51d4-f6c3-46aa-aa2d-c0c0af9197ec"
   },
   "outputs": [
    {
     "data": {
      "text/plain": [
       "((8690, 9, 12), (8690, 13))"
      ]
     },
     "execution_count": 173,
     "metadata": {},
     "output_type": "execute_result"
    }
   ],
   "source": [
    "dataX.shape,dataY.shape"
   ]
  },
  {
   "cell_type": "code",
   "execution_count": null,
   "metadata": {
    "id": "80K-XAU7Wc0K"
   },
   "outputs": [],
   "source": [
    "X_train, X_test, y_train, y_test = train_test_split(dataX, dataY, test_size=0.2, random_state=2104)"
   ]
  },
  {
   "cell_type": "code",
   "execution_count": null,
   "metadata": {
    "id": "nqhRCzDWWdbq"
   },
   "outputs": [],
   "source": [
    "import numpy\n",
    "from keras.models import Sequential\n",
    "from keras.layers import Dense\n",
    "from keras.layers import LSTM\n",
    "from keras.layers.embeddings import Embedding\n",
    "from keras.preprocessing import sequence"
   ]
  },
  {
   "cell_type": "code",
   "execution_count": null,
   "metadata": {
    "id": "2LxAkFAAWeMq"
   },
   "outputs": [],
   "source": [
    "from keras.layers import Flatten\n",
    "from keras.layers import Input\n",
    "from keras.models import Model\n",
    "from keras.callbacks import EarlyStopping\n",
    "from keras.layers import Bidirectional"
   ]
  },
  {
   "cell_type": "code",
   "execution_count": null,
   "metadata": {
    "id": "ufyJxwzWkMiY"
   },
   "outputs": [],
   "source": [
    "def get_model():\n",
    "  in_data = Input(shape=(1+look_forward+look_after,12))\n",
    "\n",
    "  lstm = LSTM(128,return_sequences=True)(in_data)\n",
    "  lstm = Flatten()(lstm)\n",
    "\n",
    "  output=Dense(12,activation='softmax',name='keyPrediction')(lstm)\n",
    "\n",
    "\n",
    "  lstm_2 = Dense(4,activation='relu')(lstm)\n",
    "  lstm_2 = Dense(2,activation='relu')(lstm_2)\n",
    "  output2=Dense(1,activation='sigmoid',name='majorPrediction')(lstm_2)\n",
    "\n",
    "  model = Model(inputs=in_data, outputs=[output,output2])\n",
    "\n",
    "  losses ={\n",
    "          'keyPrediction':'categorical_crossentropy',\n",
    "          'majorPrediction':'binary_crossentropy'    \n",
    "        }\n",
    "\n",
    "  lossWeights={\n",
    "          'keyPrediction':0.7,\n",
    "          'majorPrediction':0.3  \n",
    "        }\n",
    "      \n",
    "  model.compile(  loss=losses,\n",
    "                loss_weights= lossWeights,\n",
    "                optimizer='adam',\n",
    "\n",
    "                metrics=['accuracy'])\n",
    "  return model"
   ]
  },
  {
   "cell_type": "code",
   "execution_count": null,
   "metadata": {
    "id": "YANNB3vYWh3y"
   },
   "outputs": [],
   "source": [
    "callback=EarlyStopping(\n",
    "    monitor='val_loss', min_delta=0, patience=50, verbose=2, mode='auto',\n",
    "    baseline=None, restore_best_weights=True)"
   ]
  },
  {
   "cell_type": "code",
   "execution_count": null,
   "metadata": {
    "id": "WiFjhsa7jNsv"
   },
   "outputs": [],
   "source": [
    "from sklearn.model_selection import KFold"
   ]
  },
  {
   "cell_type": "code",
   "execution_count": null,
   "metadata": {
    "colab": {
     "base_uri": "https://localhost:8080/"
    },
    "id": "hIP28ZTujOzY",
    "outputId": "4b4b82d4-eec6-4aa0-c089-63df4c1b4958"
   },
   "outputs": [
    {
     "name": "stdout",
     "output_type": "stream",
     "text": [
      "------------------------------------------------------------------------\n",
      "Training for fold 1 ...\n",
      "Restoring model weights from the end of the best epoch.\n",
      "Epoch 00180: early stopping\n",
      "Score for fold 1: keyPrediction_accuracy of 92.69275069236755%; majorPrediction_accuracy of 95.79976797103882%\n",
      "167 1571 0.9039125431530495\n",
      "------------------------------------------------------------------------\n",
      "Training for fold 2 ...\n",
      "Restoring model weights from the end of the best epoch.\n",
      "Epoch 00183: early stopping\n",
      "Score for fold 2: keyPrediction_accuracy of 92.69275069236755%; majorPrediction_accuracy of 92.40506291389465%\n",
      "215 1523 0.8762945914844649\n",
      "------------------------------------------------------------------------\n",
      "Training for fold 3 ...\n",
      "Restoring model weights from the end of the best epoch.\n",
      "Epoch 00194: early stopping\n",
      "Score for fold 3: keyPrediction_accuracy of 90.62140583992004%; majorPrediction_accuracy of 95.16685605049133%\n",
      "220 1518 0.8734177215189873\n",
      "------------------------------------------------------------------------\n",
      "Training for fold 4 ...\n",
      "Restoring model weights from the end of the best epoch.\n",
      "Epoch 00163: early stopping\n",
      "Score for fold 4: keyPrediction_accuracy of 92.86535978317261%; majorPrediction_accuracy of 95.33947110176086%\n",
      "170 1568 0.9021864211737629\n",
      "------------------------------------------------------------------------\n",
      "Training for fold 5 ...\n",
      "Restoring model weights from the end of the best epoch.\n",
      "Epoch 00188: early stopping\n",
      "Score for fold 5: keyPrediction_accuracy of 91.081702709198%; majorPrediction_accuracy of 93.90103816986084%\n",
      "224 1514 0.8711162255466053\n"
     ]
    }
   ],
   "source": [
    "num_folds=5\n",
    "kfold = KFold(n_splits=num_folds, shuffle=True)\n",
    "fold_no = 1\n",
    "acc_per_fold = []\n",
    "loss_per_fold = []\n",
    "acc2_per_fold=[]\n",
    "acc3_per_fold=[]\n",
    "k_fold_x=dataX\n",
    "k_fold_y=dataY\n",
    "for train, test in kfold.split(k_fold_x, k_fold_y):\n",
    "\n",
    "  model=get_model()\n",
    "\n",
    "\n",
    "  # Generate a print\n",
    "  print('------------------------------------------------------------------------')\n",
    "  print(f'Training for fold {fold_no} ...')\n",
    "\n",
    "  # Fit data to model\n",
    "  history = model.fit(k_fold_x[train], [k_fold_y[train][:,:-1],k_fold_y[train][:,-1]],\n",
    "                      validation_data=(k_fold_x[test], [k_fold_y[test][:,:-1],k_fold_y[test][:,-1]]),\n",
    "                      verbose=0, \n",
    "                      epochs=1000,\n",
    "                      callbacks=[callback],  \n",
    "                      batch_size=512,\n",
    "                      shuffle=True)\n",
    "\n",
    "  # Generate generalization metrics\n",
    "  scores = model.evaluate(k_fold_x[test], [k_fold_y[test][:,:-1],k_fold_y[test][:,-1]], verbose=0)\n",
    "  print(f'Score for fold {fold_no}: {model.metrics_names[3]} of {scores[3]*100}%; {model.metrics_names[4]} of {scores[4]*100}%')\n",
    "\n",
    "  a,b=(model.predict(k_fold_x[test]))\n",
    "  wrong=0\n",
    "  correct=0\n",
    "  for idx,e in enumerate(k_fold_y[test]):\n",
    "      if np.argmax(k_fold_y[test][idx][:-1])==np.argmax(a[idx]) and k_fold_y[test][idx][-1]==(1 if b[idx]>=0.5 else 0):\n",
    "          correct+=1\n",
    "      else:\n",
    "          wrong+=1\n",
    "  print(wrong,correct,correct/(wrong+correct))\n",
    "\n",
    "\n",
    "  acc_per_fold.append(correct/(wrong+correct)* 100)\n",
    "  acc2_per_fold.append(scores[3]* 100)\n",
    "  acc3_per_fold.append(scores[4]* 100)\n",
    "  loss_per_fold.append(scores[0])\n",
    "\n",
    "  # Increase fold number\n",
    "  fold_no = fold_no + 1"
   ]
  },
  {
   "cell_type": "code",
   "execution_count": null,
   "metadata": {
    "colab": {
     "base_uri": "https://localhost:8080/"
    },
    "id": "7QmhAlj5oI7x",
    "outputId": "1e924dab-40dd-4da5-ee98-1a9008290df2"
   },
   "outputs": [
    {
     "name": "stdout",
     "output_type": "stream",
     "text": [
      "------------------------------------------------------------------------\n",
      "Score per fold\n",
      "------------------------------------------------------------------------\n",
      "> Fold 1 - Loss: 0.23288655281066895 - Key&Maj Accuracy: 90.39125431530495% - Key Accuracy: 92.69275069236755% - Maj Accuracy: 95.79976797103882%\n",
      "------------------------------------------------------------------------\n",
      "> Fold 2 - Loss: 0.2709534764289856 - Key&Maj Accuracy: 87.62945914844649% - Key Accuracy: 92.69275069236755% - Maj Accuracy: 92.40506291389465%\n",
      "------------------------------------------------------------------------\n",
      "> Fold 3 - Loss: 0.3064614236354828 - Key&Maj Accuracy: 87.34177215189874% - Key Accuracy: 90.62140583992004% - Maj Accuracy: 95.16685605049133%\n",
      "------------------------------------------------------------------------\n",
      "> Fold 4 - Loss: 0.22238092124462128 - Key&Maj Accuracy: 90.21864211737629% - Key Accuracy: 92.86535978317261% - Maj Accuracy: 95.33947110176086%\n",
      "------------------------------------------------------------------------\n",
      "> Fold 5 - Loss: 0.28874850273132324 - Key&Maj Accuracy: 87.11162255466053% - Key Accuracy: 91.081702709198% - Maj Accuracy: 93.90103816986084%\n",
      "------------------------------------------------------------------------\n",
      "Average scores for all folds:\n",
      "> Total Accuracy: 88.53855005753739 (+- 1.4525885949687696)\n",
      "> KeyAccuracy: 91.99079394340515 (+- 0.9436124853979743)\n",
      "> MajAccuracy: 94.5224392414093 (+- 1.2315684773681854)\n",
      "> Total Loss: 0.26428617537021637\n",
      "------------------------------------------------------------------------\n"
     ]
    }
   ],
   "source": [
    "# == Provide average scores ==\n",
    "print('------------------------------------------------------------------------')\n",
    "print('Score per fold')\n",
    "for i in range(0, len(acc_per_fold)):\n",
    "  print('------------------------------------------------------------------------')\n",
    "  print(f'> Fold {i+1} - Loss: {loss_per_fold[i]} - Key&Maj Accuracy: {acc_per_fold[i]}% - Key Accuracy: {acc2_per_fold[i]}% - Maj Accuracy: {acc3_per_fold[i]}%')\n",
    "print('------------------------------------------------------------------------')\n",
    "print('Average scores for all folds:')\n",
    "print(f'> Total Accuracy: {np.mean(acc_per_fold)} (+- {np.std(acc_per_fold)})')\n",
    "print(f'> KeyAccuracy: {np.mean(acc2_per_fold)} (+- {np.std(acc2_per_fold)})')\n",
    "print(f'> MajAccuracy: {np.mean(acc3_per_fold)} (+- {np.std(acc3_per_fold)})')\n",
    "print(f'> Total Loss: {np.mean(loss_per_fold)}')\n",
    "print('------------------------------------------------------------------------')"
   ]
  },
  {
   "cell_type": "code",
   "execution_count": null,
   "metadata": {
    "id": "zn7Y0gTTWilK"
   },
   "outputs": [],
   "source": [
    "#model.fit(X_train, [y_train[:,:-1],y_train[:,-1]],validation_data=(X_test, [y_test[:,:-1],y_test[:,-1]]), verbose=2, epochs=1000,callbacks=[callback],  batch_size=1024,)"
   ]
  },
  {
   "cell_type": "code",
   "execution_count": null,
   "metadata": {
    "id": "-jJgC4wX0Ode"
   },
   "outputs": [],
   "source": []
  }
 ],
 "metadata": {
  "accelerator": "GPU",
  "colab": {
   "authorship_tag": "ABX9TyNBhPbz6OMASIiNvEGgoTRg",
   "include_colab_link": true,
   "name": "key identification & segmentation.ipynb",
   "provenance": []
  },
  "kernelspec": {
   "display_name": "Python 3",
   "name": "python3"
  },
  "language_info": {
   "name": "python"
  }
 },
 "nbformat": 4,
 "nbformat_minor": 0
}
