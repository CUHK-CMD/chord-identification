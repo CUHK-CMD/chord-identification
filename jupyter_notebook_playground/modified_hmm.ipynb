{
 "cells": [
  {
   "cell_type": "code",
   "execution_count": 1,
   "id": "735021f7-00ef-445a-be5c-58e56b696739",
   "metadata": {},
   "outputs": [],
   "source": [
    "import numpy as np\n",
    "import random\n",
    "import itertools\n",
    "import math"
   ]
  },
  {
   "cell_type": "code",
   "execution_count": 91,
   "id": "f98c73ef-9739-4825-b601-f05a9534c4a7",
   "metadata": {},
   "outputs": [],
   "source": [
    "### I threat the total length of time as the length of the observered list\n",
    "\n",
    "class HMM:\n",
    "    def __init__(self,no_of_state,no_of_value,states,values):\n",
    "        #randomize all matrix, each row should sum to 1\n",
    "        self.emssion_matrix=np.array([ran/ran.sum() for ran in np.array([np.random.rand(no_of_value) for i in range(no_of_state)])]) #b[i][O]  --> probability to emit values[O] from states[i]\n",
    "        \n",
    "        self.initial_matrix= np.random.rand(no_of_state) #π[i] --> probability to start at states[i]\n",
    "        self.initial_matrix/= self.initial_matrix.sum()\n",
    "        \n",
    "        self.transition_matrix=np.array([ran/ran.sum() for ran in np.array([np.random.rand(no_of_state) for i in range(no_of_state)])])  #a[i][j] --> probability from states[i] transit to states[j]\n",
    "        \n",
    "        self.states=states\n",
    "        self.values=values\n",
    "        self.observered=None\n",
    "        \n",
    "        #self.prev_initial_matrix=self.initial_matrix\n",
    "        #self.prev_emssion_matrix=self.emssion_matrix\n",
    "        #self.prev_transition_matrix=self.transition_matrix\n",
    "        \n",
    "    def debug(self):\n",
    "        print('initial_matrix\\n',self.initial_matrix)\n",
    "        print('transition_matrix\\n',self.transition_matrix)\n",
    "        print('emission_matrix\\n',self.emssion_matrix)\n",
    "        \n",
    "    def likelihood(self,state,ob):\n",
    "        if ob is None:\n",
    "            ob=self.observered\n",
    "        prob=1\n",
    "        for x in ob:\n",
    "            prob*=(self.emssion_matrix[state][x])\n",
    "        return prob\n",
    " \n",
    "    def forward(self,t,j,ob=None):\n",
    "        if ob is None:\n",
    "            ob=self.observered\n",
    "        if t==0:\n",
    "            return self.initial_matrix[j]*self.likelihood(j,ob[t])\n",
    "        else:          \n",
    "            return sum([self.forward(t-1,i,ob)*self.transition_matrix[i][j] for i in range(len(self.states))]) * self.likelihood(j,ob[t])\n",
    "          \n",
    "            \n",
    "    def backward(self,t,i,ob=None):\n",
    "        if ob is None:\n",
    "            ob=self.observered\n",
    "        if t==len(ob)-1:\n",
    "            return 1\n",
    "        else:\n",
    "            return sum([self.transition_matrix[i][j]*self.likelihood(j,ob[t+1])*self.backward(t+1,j,ob) for j in range(len(self.states))])\n",
    "           \n",
    "    def probit_at_i(self,t,i,ob=None):#Gamma γt(i) = P(qt = i|O,λ)      \n",
    "        if ob is None:\n",
    "            ob=self.observered\n",
    "        numerator=self.forward(t,i,ob)*self.backward(t,i,ob)#sum probability of all path passing through state[i] at time t\n",
    "        denominator=sum([self.forward(t,j,ob)*self.backward(t,j,ob) for j in range(len(self.states))]) #prob of passing through  ALL_state at time t\n",
    "        return numerator/denominator\n",
    "    \n",
    "    def probit_transit_i_j(self,t,i,j,ob=None):#epsilon ξt(i, j) = P(qt = i,qt+1 = j|O,λ)\n",
    "        if ob is None:\n",
    "            ob=self.observered\n",
    "        numerator=self.forward(t,i,ob)*self.transition_matrix[i][j]*self.likelihood(j,ob[t+1])*self.backward(t+1,j,ob)#sum probability of all path transit from state[i] to state[j] at time t\n",
    "        denominator=sum([sum([self.forward(t,m,ob)*self.transition_matrix[m][n]*self.likelihood(n,ob[t+1])*self.backward(t+1,n,ob) for n in range(len(self.states))]) for m in range(len(self.states))]) #prob of ALL transition combination at time t\n",
    "        return (numerator/denominator)\n",
    "            \n",
    "    def train(self,obs=None,epochs=2):\n",
    "        #O:observed values\n",
    "        #λ:model parameters\n",
    "         \n",
    "        if obs is None:\n",
    "            obs=self.observered\n",
    "        \n",
    "        for epoch in range(epochs):\n",
    "            for ob in obs:\n",
    "                #initial matrix\n",
    "                for i in range(len(self.states)):\n",
    "                    self.initial_matrix[i]=self.probit_at_i(0,i,ob)\n",
    "                #transition matrix\n",
    "                for i, j in itertools.product(range(len(self.states)),range(len(self.states))):\n",
    "                    self.transition_matrix[i][j]=sum([self.probit_transit_i_j(t,i,j,ob) for t in range(len(ob)-1)])/sum([self.probit_at_i(t,i,ob) for t in range(len(ob)-1)])\n",
    "                #emission matrix\n",
    "                for j, k in itertools.product(range(len(self.states)),range(len(self.values))):   \n",
    "                    total=0\n",
    "                    for t in range(len(ob)):\n",
    "                        if k in ob[t]:\n",
    "                            total+=self.probit_at_i(t,j,ob)\n",
    "                    self.emssion_matrix[j][k]=total/sum([self.probit_at_i(t,j,ob) for t in range(len(ob))])\n",
    "                    #smoothing\n",
    "                    if self.emssion_matrix[j][k]==0:\n",
    "                        self.emssion_matrix[j][k]=0.0000000001"
   ]
  },
  {
   "cell_type": "code",
   "execution_count": 92,
   "id": "6466e00d-4ec6-40e8-80cc-f75f17069466",
   "metadata": {},
   "outputs": [],
   "source": [
    "test=HMM(2,4,[\"Rainy\", \"Sunny\"],[\"walk\", \"shop\", \"clean\",\"sleep\"])"
   ]
  },
  {
   "cell_type": "code",
   "execution_count": 93,
   "id": "d6512227-d7b9-497b-b725-8633133cb858",
   "metadata": {
    "tags": []
   },
   "outputs": [],
   "source": [
    "test.train([[[0], [1,0], [3,2], [0], [1], [0,1]],[[0], [0,1], [3,2], [0], [3,2], [1]],[[3], [0], [1], [2], [1], [0]]],10)"
   ]
  },
  {
   "cell_type": "code",
   "execution_count": 94,
   "id": "36d78a57-2ee3-42ec-aff4-7f3739a8c7e4",
   "metadata": {},
   "outputs": [
    {
     "name": "stdout",
     "output_type": "stream",
     "text": [
      "initial_matrix\n",
      " [1. 0.]\n",
      "transition_matrix\n",
      " [[0.34747371 0.64853439]\n",
      " [1.         0.        ]]\n",
      "emssion_matrix\n",
      " [[4.62790474e-001 3.36054960e-002 2.48911899e-001 2.48911899e-001]\n",
      " [4.49816733e-002 9.96764423e-001 9.27745040e-239 1.00000000e-010]]\n"
     ]
    }
   ],
   "source": [
    "test.debug()"
   ]
  },
  {
   "cell_type": "markdown",
   "id": "866ce681-9471-45de-9d57-e8b9a3ca767e",
   "metadata": {},
   "source": [
    "## possible modification:\n",
    "Different segentation method \n",
    "and\n",
    "different emission calculation"
   ]
  }
 ],
 "metadata": {
  "kernelspec": {
   "display_name": "Python 3",
   "language": "python",
   "name": "python3"
  },
  "language_info": {
   "codemirror_mode": {
    "name": "ipython",
    "version": 3
   },
   "file_extension": ".py",
   "mimetype": "text/x-python",
   "name": "python",
   "nbconvert_exporter": "python",
   "pygments_lexer": "ipython3",
   "version": "3.8.8"
  }
 },
 "nbformat": 4,
 "nbformat_minor": 5
}
