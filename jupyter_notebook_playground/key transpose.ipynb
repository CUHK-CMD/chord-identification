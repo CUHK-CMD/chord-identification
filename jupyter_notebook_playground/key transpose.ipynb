{
 "cells": [
  {
   "cell_type": "code",
   "execution_count": 1,
   "id": "508632c1-0e52-4932-bc75-1361f9270672",
   "metadata": {},
   "outputs": [],
   "source": [
    "#required library\n",
    "from music21 import *\n",
    "import music21\n",
    "import os\n",
    "import glob\n",
    "import re\n",
    "import numpy as np\n",
    "import json"
   ]
  },
  {
   "cell_type": "code",
   "execution_count": 2,
   "id": "13caa182-f806-4499-b11d-fcf6e8302a63",
   "metadata": {},
   "outputs": [],
   "source": [
    "#key transpose profile\n",
    "MtoC={\n",
    "    'Gb':-6,\n",
    "    'F':-5,\n",
    "    'E':-4,\n",
    "    'D#':-3,\n",
    "    'Eb':-3,\n",
    "    'D':-2,\n",
    "    'C#':-1,\n",
    "    'Db':-1,\n",
    "    'C':0,    \n",
    "    'B':1,\n",
    "    'A#':2,\n",
    "    'Bb':2,\n",
    "    'A':3,\n",
    "    'G#':4,\n",
    "    'Ab':4,\n",
    "    'G':5,\n",
    "    'F#':6\n",
    "}\n",
    "mtoA={\n",
    "    'D#':6,\n",
    "    'G#':5,\n",
    "    'Ab':5,\n",
    "    'C#':4,\n",
    "    'F#':3,\n",
    "    'B':2,\n",
    "    'E':1,\n",
    "    'A':0,\n",
    "    'D':-1,\n",
    "    'G':-2,\n",
    "    'C':-3,\n",
    "    'F':-4,\n",
    "    'Bb':-5,\n",
    "    'Eb':-6\n",
    "}"
   ]
  },
  {
   "cell_type": "code",
   "execution_count": 3,
   "id": "caf61e44-ba71-4ae4-b6f3-a9f1d7c4fd4e",
   "metadata": {},
   "outputs": [],
   "source": [
    "#read file\n",
    "c = converter.parse('./E╠ütude_in_Gb_Major.mxl')"
   ]
  },
  {
   "cell_type": "code",
   "execution_count": 4,
   "id": "c1141260-4664-4b54-9812-6ea8bbda1bde",
   "metadata": {},
   "outputs": [],
   "source": [
    "#remove key signature\n",
    "for e in c.recurse().getElementsByClass(key.KeySignature):\n",
    "    while e.sharps!=0:\n",
    "        e.transpose(-1,inPlace=True)"
   ]
  },
  {
   "cell_type": "code",
   "execution_count": 5,
   "id": "dc2eabec-8769-46a0-b082-cba317d9b1a3",
   "metadata": {},
   "outputs": [],
   "source": [
    "#remove key signature\n",
    "for e in c.recurse().getElementsByClass(stream):\n",
    "    print(e)"
   ]
  },
  {
   "cell_type": "code",
   "execution_count": 6,
   "id": "d7bb48e7-8a86-4aa9-9543-925db231e915",
   "metadata": {},
   "outputs": [],
   "source": [
    "def cal_offset(e):\n",
    "    if e is None:\n",
    "        return 0\n",
    "    return e.offset+cal_offset(e.activeSite)"
   ]
  },
  {
   "cell_type": "code",
   "execution_count": 7,
   "id": "a74e6c30-1218-458c-b02c-2b7172b5abdd",
   "metadata": {},
   "outputs": [],
   "source": [
    "#extract notes\n",
    "all_notes=[]\n",
    "for el in c.recurse().notes:\n",
    "    if el.lyric is not None:\n",
    "        el.lyric=el.lyric.replace('♭','b')\n",
    "    \n",
    "    #print(el)\n",
    "    #print([el.getOffsetBySite(c),el.lyric, el, el.activeSite,el.offset, el.activeSite.offset])\n",
    "    all_notes.append([el.lyric, el, cal_offset(el)])\n",
    "    \n",
    "    #DEBUG\n",
    "    #print([el.lyric, el, cal_offset(el)])"
   ]
  },
  {
   "cell_type": "code",
   "execution_count": 8,
   "id": "b72159b7-a956-4c75-81f5-75b5410cd10d",
   "metadata": {},
   "outputs": [],
   "source": [
    "#sort by first occurence\n",
    "b=sorted(all_notes,key=lambda x: x[-1])\n",
    "\n",
    "\n",
    "#DEBUG\n",
    "#for e in b:\n",
    "#    print(e)"
   ]
  },
  {
   "cell_type": "code",
   "execution_count": 9,
   "id": "363f2e2a-783f-4be9-9175-dabbf95e64f2",
   "metadata": {},
   "outputs": [
    {
     "name": "stdout",
     "output_type": "stream",
     "text": [
      "start\n",
      "change key\n",
      "change key\n"
     ]
    }
   ],
   "source": [
    "#main\n",
    "current_key=None\n",
    "Major=None\n",
    "for e in b:\n",
    "    if current_key is None:\n",
    "        #fail-safe\n",
    "        if e[1].lyric is None:\n",
    "            continue\n",
    "        print('start')\n",
    "        e[1].addLyric('start')#every score should veriyf its start***\n",
    "        current_key=e[1].lyric\n",
    "        \n",
    "        #identify major or minor\n",
    "        if 'M' in current_key:\n",
    "            Major=True        \n",
    "        else:\n",
    "            Major=False\n",
    "                        \n",
    "        #identify key name\n",
    "        if Major:\n",
    "            e[1].addLyric('trans->CM')\n",
    "            current_key=current_key.split('M')[0]\n",
    "        else:\n",
    "            e[1].addLyric('trans->Am')\n",
    "            current_key=current_key.split('m')[0]\n",
    "         \n",
    "    #check if key change\n",
    "    elif e[1].lyric is not None and ('m' in e[1].lyric or 'M' in e[1].lyric) and '(' in e[1].lyric:  # '(' --> is just to make sure it is key change        \n",
    "            \n",
    "        #DEBUG\n",
    "        #print(current_key,Major)\n",
    "        #print(e[1].lyric)\n",
    "        #print('----------------------')\n",
    "        \n",
    "        #check if key is different from previous key        \n",
    "        if not((Major and 'M' in e[1].lyric and current_key==e[1].lyric.split('M')[0]) or (not Major and 'm' in e[1].lyric and current_key==e[1].lyric.split('m')[0])):\n",
    "            #update key\n",
    "            print('change key')\n",
    "            current_key=e[1].lyric\n",
    "            \n",
    "            #identify major or minor\n",
    "            if 'M' in current_key:\n",
    "                Major=True\n",
    "            else:\n",
    "                Major=False\n",
    "                \n",
    "            #identify key name\n",
    "            if Major:\n",
    "                current_key=current_key.split('M')[0]\n",
    "                e[1].addLyric('trans->CM')\n",
    "            else:\n",
    "                current_key=current_key.split('m')[0]\n",
    "                e[1].addLyric('trans->Am')\n",
    "            \n",
    "            \n",
    "    if Major:\n",
    "        e[1].transpose(MtoC[current_key], inPlace=True)\n",
    "    else:\n",
    "        e[1].transpose(mtoA[current_key], inPlace=True)"
   ]
  },
  {
   "cell_type": "code",
   "execution_count": 10,
   "id": "c7861be6-b093-4929-b5dd-f661b2c38ff0",
   "metadata": {},
   "outputs": [],
   "source": [
    "#save\n",
    "GEX = musicxml.m21ToXml.GeneralObjectExporter(c)\n",
    "out = GEX.parse()\n",
    "with open(\"test.musicxml\", \"wb\") as f:\n",
    "        f.write(out)"
   ]
  }
 ],
 "metadata": {
  "kernelspec": {
   "display_name": "Python 3",
   "language": "python",
   "name": "python3"
  },
  "language_info": {
   "codemirror_mode": {
    "name": "ipython",
    "version": 3
   },
   "file_extension": ".py",
   "mimetype": "text/x-python",
   "name": "python",
   "nbconvert_exporter": "python",
   "pygments_lexer": "ipython3",
   "version": "3.8.8"
  }
 },
 "nbformat": 4,
 "nbformat_minor": 5
}
