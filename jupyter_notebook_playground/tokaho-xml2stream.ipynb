{
 "cells": [
  {
   "cell_type": "code",
   "execution_count": 1,
   "id": "6c6e77d7-8825-4d4e-bb26-f2d6c3021206",
   "metadata": {},
   "outputs": [],
   "source": [
    "from music21 import *\n",
    "import music21\n",
    "import os\n",
    "import glob\n",
    "import re\n",
    "import numpy as np\n",
    "import math"
   ]
  },
  {
   "cell_type": "code",
   "execution_count": 2,
   "id": "de7dfa53",
   "metadata": {
    "jupyter": {
     "source_hidden": true
    },
    "tags": []
   },
   "outputs": [],
   "source": [
    "def demonopolize(notelist):\n",
    "    if len(notelist) <=2:\n",
    "        return notelist\n",
    "    other_values = np.array(list(notelist.values()))\n",
    "    other_values = other_values[other_values < 0.5]\n",
    "    maxval = np.max(other_values)\n",
    "    if len(notelist) <=2:\n",
    "        return notelist\n",
    "    hasChanged = True\n",
    "    dontchange = []\n",
    "    totalredist = 1\n",
    "    for note in notelist:\n",
    "        if notelist[note] >= 0.5:\n",
    "            notelist[note] = maxval\n",
    "    return notelist\n",
    "            \n",
    "\n",
    "def importance_score(notelist,noteduration,noteoctave):\n",
    "    allnotes = {}\n",
    "    for i in range(len(notelist)):\n",
    "        if not notelist[i] in allnotes:\n",
    "            allnotes[notelist[i]] = {\"occ\":1,\"durlist\":[noteduration[i]],\"octavelist\":[noteoctave[i]]}\n",
    "        else:\n",
    "            allnotes[notelist[i]]['occ'] += 1\n",
    "            allnotes[notelist[i]]['durlist'].append(noteduration[i])\n",
    "            allnotes[notelist[i]]['octavelist'].append(noteoctave[i])\n",
    "    returnnote = {}\n",
    "    totalscore = 0\n",
    "    for note in allnotes:\n",
    "        returnnote[note] = int(allnotes[note]['occ'] * (np.sum(allnotes[note]['durlist'])) * (21-2*np.min(allnotes[note]['octavelist'])))\n",
    "        if returnnote[note] == 0:\n",
    "            returnnote[note] = 1\n",
    "        totalscore += returnnote[note]\n",
    "    for note in allnotes:\n",
    "        returnnote[note] = round(returnnote[note]/totalscore,3)\n",
    "    retunnote = demonopolize(returnnote)\n",
    "    return returnnote"
   ]
  },
  {
   "cell_type": "code",
   "execution_count": 3,
   "id": "2ae5f781-c139-4cb9-a56d-3ccc2c0e7bd4",
   "metadata": {},
   "outputs": [],
   "source": [
    "def cal_offset(e):\n",
    "    if e is None:\n",
    "        return 0\n",
    "    return e.offset+cal_offset(e.activeSite)"
   ]
  },
  {
   "cell_type": "code",
   "execution_count": 4,
   "id": "0a76d82b-7bb5-4155-b5ad-40808816f2cc",
   "metadata": {},
   "outputs": [],
   "source": [
    "class Score_in_beat:\n",
    "    \n",
    "    def __init__(self):\n",
    "        self.beat_list=[Beat()]\n",
    "        \n",
    "    #extract info from note and add to corrsponding beat\n",
    "    def add_note(self,note):\n",
    "        length=note.quarterLength\n",
    "        start=cal_offset(note)\n",
    "        end=start+length\n",
    "        rounded_floor_start=math.floor(start)\n",
    "        #loop until the note played to its end\n",
    "        while start<end-0.000000000001:\n",
    "            if len(self.beat_list)-1<rounded_floor_start:\n",
    "                new_beat=rounded_floor_start-(len(self.beat_list)-1)\n",
    "                #the input note maybe is a chord -> recurse all pitch inside\n",
    "                for _ in range(new_beat):\n",
    "                    self.beat_list.append(Beat())\n",
    "            self.beat_list[rounded_floor_start].add_note(note,min(rounded_floor_start+1-start,end-start))\n",
    "            start+=min(rounded_floor_start+1-start,end-start)\n",
    "            rounded_floor_start=int(start)\n",
    "            \n",
    "    #add key to the first occurence of beat\n",
    "    def add_key(self,note):\n",
    "        assert(note.lyric is not None and '(' in note.lyric)\n",
    "        key_change_beat=cal_offset(note)\n",
    "        rounded_floor_key_change_beat=math.floor(key_change_beat)\n",
    "        self.beat_list[rounded_floor_key_change_beat].add_key(note.lyric.split('(')[0])\n",
    "        \n",
    "    #onyl call once\n",
    "    def infer_key(self):\n",
    "        first_key_in_num=None\n",
    "        first_key_full=None\n",
    "        first_key_major=None\n",
    "        #backtrack\n",
    "        for e in self.beat_list:\n",
    "            if e.key_full is not None:\n",
    "                first_key_full=e.key_full\n",
    "                first_key_in_num=e.key_in_num\n",
    "                first_key_major=e.major\n",
    "                break\n",
    "        #bring forward\n",
    "        for e in self.beat_list:\n",
    "            if e.key_full is None:\n",
    "                e.key_full=first_key_full\n",
    "                e.key_in_num=first_key_in_num\n",
    "                e.major=first_key_major\n",
    "            else:\n",
    "                first_key_full=e.key_full\n",
    "                first_key_in_num=e.key_in_num\n",
    "                first_key_major=e.major"
   ]
  },
  {
   "cell_type": "code",
   "execution_count": 5,
   "id": "0f90f301-76d3-41dd-b390-9de5f0f9fc1e",
   "metadata": {},
   "outputs": [],
   "source": [
    "key_mapping={\n",
    "    'C':0,\n",
    "    'D':2,\n",
    "    'E':4,\n",
    "    'F':5,\n",
    "    'G':7,\n",
    "    'A':9,\n",
    "    'B':11\n",
    "}\n",
    "def key2num(k):  \n",
    "    k=k.upper()\n",
    "    num=key_mapping[k[0]]\n",
    "    modifier=len(k)\n",
    "    if modifier==1:\n",
    "        return num\n",
    "    elif k[1]=='#':\n",
    "        return (num+(modifier-1))%12\n",
    "    elif k[1]=='B' or k[1]=='-' or k[1]=='♭':\n",
    "        return (num-(modifier-1))%12\n",
    "    elif k[1]=='X':\n",
    "        return (num+(modifier-1)*2)%12"
   ]
  },
  {
   "cell_type": "code",
   "execution_count": 6,
   "id": "8bc308cd-6388-4cde-a670-9e7838cc932b",
   "metadata": {},
   "outputs": [],
   "source": [
    "class Beat:\n",
    "    def __init__(self):\n",
    "        self.notes = np.zeros((12,7))  #from C1 to C7\n",
    "        self.total_duration = np.zeros((12,7))\n",
    "        self.notes_occurences_count= np.zeros((12,7))\n",
    "        self.key_full=None\n",
    "        self.major=None\n",
    "        self.key_in_num=None\n",
    "        \n",
    "    def add_note(self,note,duration):\n",
    "        assert(duration<=1)\n",
    "        pitches=note.pitches\n",
    "        for pitch in pitches:\n",
    "            pitch_idx=key2num(pitch.nameWithOctave[:-1])\n",
    "            octave=int(pitch.nameWithOctave[-1])-1\n",
    "            if octave<0:\n",
    "                octave=0\n",
    "            elif octave>6:\n",
    "                octave=6\n",
    "            self.notes[pitch_idx,octave]=1\n",
    "            self.total_duration[pitch_idx,octave]+=duration\n",
    "            self.notes_occurences_count[pitch_idx,octave]+=1\n",
    "            \n",
    "    def add_key(self,k):\n",
    "        self.major = 'M' in k\n",
    "        self.key_full=k\n",
    "        k=k[:-1]\n",
    "        self.key_in_num=key2num(k)"
   ]
  },
  {
   "cell_type": "code",
   "execution_count": 7,
   "id": "6c6e77d7-8825-4d4e-bb26-f2d6c3021203",
   "metadata": {
    "tags": []
   },
   "outputs": [
    {
     "name": "stdout",
     "output_type": "stream",
     "text": [
      "../musicxml(notated)\\E╠ütude_in_C_Minor.mxl\n",
      "../musicxml(notated)\\E╠ütude_in_F_Major.mxl\n",
      "../musicxml(notated)\\E╠ütude_in_F_Minor.mxl\n",
      "../musicxml(notated)\\E╠ütude_in_Gb_Major.mxl\n",
      "../musicxml(notated)\\E╠ütude_in_Gb_Major_Opus_25.mxl\n",
      "../musicxml(notated)\\Il_Vecchio_Castello.mxl\n",
      "../musicxml(notated)\\Menuet_in_G_Minor.mxl\n",
      "../musicxml(notated)\\Minuet_in_F.mxl\n",
      "../musicxml(notated)\\Minuet_in_G_Major_2nd.mxl\n",
      "../musicxml(notated)\\Moonlight_Sonata_1st_Movement.mxl\n",
      "../musicxml(notated)\\Nocturne_in_B_Major.mxl\n",
      "../musicxml(notated)\\Nocturne_in_C#_Minor.mxl\n",
      "../musicxml(notated)\\Nocturne_in_Eb_Major.mxl\n",
      "../musicxml(notated)\\Nocturne_in_E_Minor.mxl\n",
      "../musicxml(notated)\\Nocturne_in_F#_Major.mxl\n",
      "../musicxml(notated)\\Nocturne_in_F_Minor.mxl\n",
      "../musicxml(notated)\\Nocturne_No._20_in_C#_Minor.mxl\n",
      "../musicxml(notated)\\notes-to-chord.mxl\n",
      "../musicxml(notated)\\Piano_Sonata_No._11.mxl\n",
      "../musicxml(notated)\\Pre╠ülude_in_A_Major.mxl\n",
      "../musicxml(notated)\\Pre╠ülude_in_B_Major.mxl\n",
      "../musicxml(notated)\\Pre╠ülude_in_B_Minor.mxl\n",
      "../musicxml(notated)\\Pre╠ülude_in_B_Minor_Opus104a.mxl\n",
      "../musicxml(notated)\\Pre╠ülude_in_C_Minor.mxl\n",
      "../musicxml(notated)\\Pre╠ülude_in_Db_Major.mxl\n",
      "../musicxml(notated)\\Pre╠ülude_in_F#_Major.mxl\n",
      "../musicxml(notated)\\Pre╠ülude_in_G_Major.mxl\n",
      "../musicxml(notated)\\Prlude_Opus_28_No._4_in_E_Minor.mxl\n",
      "../musicxml(notated)\\Sonata_No._1.mxl\n",
      "../musicxml(notated)\\Sonate_No._28.mxl\n",
      "../musicxml(notated)\\Sonate_No._28_2nd_mov.mxl\n",
      "../musicxml(notated)\\Sonate_No._31.mxl\n",
      "../musicxml(notated)\\Sonatina_in_G.mxl\n",
      "../musicxml(notated)\\Twinkle-Twinkle.mxl\n",
      "../musicxml(notated)\\Waltz_in_A_Major_Op.39_No.15_by_Johannes_Brahms.mxl\n",
      "../musicxml(notated)\\Waltz_in_A_Minor.mxl\n",
      "../musicxml(notated)\\Waltz_in_Eb_Major.mxl\n"
     ]
    }
   ],
   "source": [
    "#piece='./Chopin_F._Nocturne_in_E_Major,_Op.26_No.2.mxl'\n",
    "all_score=[]\n",
    "for piece in glob.glob(\"../musicxml(notated)/*.mxl\"):\n",
    "    all_beat=Score_in_beat()\n",
    "    all_score.append(all_beat)\n",
    "    print(piece)\n",
    "    chords = []\n",
    "    notes = []\n",
    "    c = converter.parse(piece)\n",
    "    post = c.flat\n",
    "\n",
    "    #extract note\n",
    "    all_notes=[]\n",
    "    for note in post.notes:\n",
    "        all_notes.append(note)\n",
    "        all_beat.add_note(note)\n",
    "        if note.lyric is not None and '(' in note.lyric:\n",
    "            all_beat.add_key(note)\n",
    "        #print(note,note.pitches,note.pitches[0].nameWithOctave,note.quarterLength,cal_offset(note))\n",
    "\n",
    "    all_beat.infer_key()"
   ]
  },
  {
   "cell_type": "code",
   "execution_count": 8,
   "id": "f21becbd-d584-4dd5-ac2a-c8ac0b4db4f6",
   "metadata": {},
   "outputs": [
    {
     "name": "stdout",
     "output_type": "stream",
     "text": [
      "0 Cm\n",
      "1 FM\n",
      "2 Fm\n",
      "3 G♭M\n",
      "4 G♭M\n",
      "5 G#m\n",
      "6 Gm\n",
      "7 FM\n",
      "8 GM\n",
      "9 C#m\n",
      "10 BM\n",
      "11 C#m\n",
      "12 E♭M\n",
      "13 Em\n",
      "14 F#M\n",
      "15 Fm\n",
      "16 C#m\n",
      "17 E♭M\n",
      "18 Am\n",
      "19 AM\n",
      "20 BM\n",
      "21 Bm\n",
      "22 Bm\n",
      "23 Cm\n",
      "24 D♭M\n",
      "25 F#M\n",
      "26 DM\n",
      "27 Em\n",
      "28 E♭M\n",
      "29 AM\n",
      "30 FM\n",
      "31 Fm\n",
      "32 GM\n",
      "33 CM\n",
      "34 A♭M\n",
      "35 Am\n",
      "36 E♭M\n"
     ]
    }
   ],
   "source": [
    "for i in range(len(all_score)):\n",
    "    print(i,all_score[i].beat_list[0].key_full)"
   ]
  },
  {
   "cell_type": "raw",
   "id": "8e2f81c9-ec70-4de0-8b57-ced609b31d60",
   "metadata": {},
   "source": [
    "-----------------------------------------------------------------------------------------------------asg-----------------------"
   ]
  },
  {
   "cell_type": "code",
   "execution_count": 9,
   "id": "2d3484dc-3734-4806-8d3d-1e497622f790",
   "metadata": {},
   "outputs": [],
   "source": [
    "#prepare train and test data"
   ]
  },
  {
   "cell_type": "code",
   "execution_count": 10,
   "id": "2e956ce3-b45e-4579-bdc2-45e862bdd53f",
   "metadata": {},
   "outputs": [],
   "source": [
    "from sklearn.model_selection import train_test_split"
   ]
  },
  {
   "cell_type": "code",
   "execution_count": 11,
   "id": "787161e9-c900-46b3-84ca-e7ee0cc7abae",
   "metadata": {},
   "outputs": [
    {
     "data": {
      "text/plain": [
       "935"
      ]
     },
     "execution_count": 11,
     "metadata": {},
     "output_type": "execute_result"
    }
   ],
   "source": [
    "max([len(e.beat_list) for e in all_score])"
   ]
  },
  {
   "cell_type": "code",
   "execution_count": null,
   "id": "9230e9f5-69ec-44f1-a5f2-824d866dd793",
   "metadata": {},
   "outputs": [],
   "source": []
  },
  {
   "cell_type": "code",
   "execution_count": 12,
   "id": "f1b79f55-dd57-424c-9ca4-4604af751dbf",
   "metadata": {},
   "outputs": [],
   "source": [
    "X=[]\n",
    "Y=[]\n",
    "weight=[1.35,1.25,1.1,1,0.9,0.8,0.7]\n",
    "for e in all_score:\n",
    "    tempX=[]\n",
    "    tempY=[]\n",
    "    count=0\n",
    "    for beat in e.beat_list:\n",
    "        value=beat.total_duration*beat.notes_occurences_count\n",
    "        if np.sum(value)!=0:\n",
    "            #value/=np.sum(value)\n",
    "            #value*=weight\n",
    "            #value=value.sum(axis=1)\n",
    "            value=value.reshape((-1))\n",
    "            value/=value.sum()\n",
    "        else:\n",
    "            value=np.zeros((84))\n",
    "            \n",
    "        assert(len(value)==84)\n",
    "        tempX.append(value)\n",
    "        \n",
    "        prepare_y=np.zeros((13,1))\n",
    "        prepare_y[-1]=beat.major*1\n",
    "        prepare_y[beat.key_in_num]=1\n",
    "        assert(len(prepare_y)==13)\n",
    "        tempY.append(prepare_y)\n",
    "        count+=1\n",
    "    X.append(tempX)\n",
    "    Y.append(tempY)"
   ]
  },
  {
   "cell_type": "code",
   "execution_count": 13,
   "id": "26e7ee48-a061-41ff-b71b-c36c8c592b69",
   "metadata": {},
   "outputs": [],
   "source": [
    "look_forward=1\n",
    "look_after=2\n",
    "dataX,dataY=[],[]\n",
    "for idx_p,piece in enumerate(X):\n",
    "    for idx_b,beat in enumerate(piece):\n",
    "        tempX=[]\n",
    "        for i in reversed(range(1,look_forward+1)):\n",
    "            if(idx_b-i)<0:\n",
    "                tempX.append(np.zeros(84))\n",
    "            else:\n",
    "                tempX.append(piece[idx_b-i])\n",
    "        tempX.append(piece[idx_b])\n",
    "        for i in range(1,look_after+1):\n",
    "            if(idx_b+i)>len(piece)-1:\n",
    "                tempX.append(np.zeros(84))\n",
    "            else:\n",
    "                tempX.append(piece[idx_b+i])\n",
    "        dataX.append(tempX)\n",
    "        dataY.append(Y[idx_p][idx_b])"
   ]
  },
  {
   "cell_type": "code",
   "execution_count": 14,
   "id": "0bfcb592-4142-4eb5-be45-d075b17c1c44",
   "metadata": {},
   "outputs": [],
   "source": [
    "dataX=np.array(dataX)\n",
    "dataY=np.array(dataY)"
   ]
  },
  {
   "cell_type": "code",
   "execution_count": 15,
   "id": "b97279dd-9b83-4864-bf52-b6364f9f5b85",
   "metadata": {},
   "outputs": [],
   "source": [
    "dataY=dataY.reshape((-1,13))"
   ]
  },
  {
   "cell_type": "code",
   "execution_count": 16,
   "id": "c0fd2d49-e715-493b-9166-602c200c223f",
   "metadata": {},
   "outputs": [
    {
     "data": {
      "text/plain": [
       "((9560, 4, 84), (9560, 13))"
      ]
     },
     "execution_count": 16,
     "metadata": {},
     "output_type": "execute_result"
    }
   ],
   "source": [
    "dataX.shape,dataY.shape"
   ]
  },
  {
   "cell_type": "code",
   "execution_count": 17,
   "id": "76bf992b-96b7-4a48-a7c4-e77f0ab5f0b7",
   "metadata": {},
   "outputs": [],
   "source": [
    "X_train, X_test, y_train, y_test = train_test_split(dataX, dataY, test_size=0.2, random_state=2104)"
   ]
  },
  {
   "cell_type": "code",
   "execution_count": 18,
   "id": "580d2a1a-8a40-4bd5-857b-881ab66401f8",
   "metadata": {},
   "outputs": [],
   "source": [
    "#train"
   ]
  },
  {
   "cell_type": "code",
   "execution_count": 19,
   "id": "eb6c82ad",
   "metadata": {
    "tags": []
   },
   "outputs": [],
   "source": [
    "import numpy\n",
    "from keras.models import Sequential\n",
    "from keras.layers import Dense\n",
    "from keras.layers import LSTM\n",
    "from keras.layers.embeddings import Embedding\n",
    "from keras.preprocessing import sequence"
   ]
  },
  {
   "cell_type": "code",
   "execution_count": 20,
   "id": "86637742-2dd2-45a9-a629-4cafd96a8ef4",
   "metadata": {},
   "outputs": [],
   "source": [
    "from keras.layers import Flatten\n",
    "from keras.layers import Input\n",
    "from keras.models import Model\n",
    "from keras.callbacks import EarlyStopping\n",
    "from keras.layers import Bidirectional"
   ]
  },
  {
   "cell_type": "code",
   "execution_count": 21,
   "id": "aaa8625b-4979-47cb-83a8-7ee8999805e7",
   "metadata": {},
   "outputs": [],
   "source": [
    "in_data = Input(shape=(1+look_forward+look_after,84))\n",
    "\n",
    "lstm = LSTM(64,return_sequences=True)(in_data)\n",
    "lstm = Flatten()(lstm)\n",
    "\n",
    "output=Dense(12,activation='softmax',name='keyPrediction')(lstm)\n",
    "\n",
    "\n",
    "lstm_2 = Dense(4,activation='relu')(lstm)\n",
    "lstm_2 = Dense(4,activation='relu')(lstm_2)\n",
    "output2=Dense(1,activation='sigmoid',name='majorPrediction')(lstm_2)\n",
    "\n",
    "model = Model(inputs=in_data, outputs=[output,output2])"
   ]
  },
  {
   "cell_type": "code",
   "execution_count": 22,
   "id": "840336a8-73f7-4ece-892f-f73940d37f65",
   "metadata": {},
   "outputs": [],
   "source": [
    "losses ={\n",
    "          'keyPrediction':'categorical_crossentropy',\n",
    "          'majorPrediction':'binary_crossentropy'    \n",
    "        }"
   ]
  },
  {
   "cell_type": "code",
   "execution_count": 23,
   "id": "bfb963e1-773b-41d0-8524-483c3fa8a60a",
   "metadata": {},
   "outputs": [],
   "source": [
    "lossWeights={\n",
    "          'keyPrediction':0.7,\n",
    "          'majorPrediction':0.3  \n",
    "        }"
   ]
  },
  {
   "cell_type": "code",
   "execution_count": 24,
   "id": "c60c16b9-3ef3-4282-8046-801ad0f522cf",
   "metadata": {},
   "outputs": [
    {
     "name": "stdout",
     "output_type": "stream",
     "text": [
      "Model: \"model\"\n",
      "__________________________________________________________________________________________________\n",
      "Layer (type)                    Output Shape         Param #     Connected to                     \n",
      "==================================================================================================\n",
      "input_1 (InputLayer)            [(None, 4, 84)]      0                                            \n",
      "__________________________________________________________________________________________________\n",
      "lstm (LSTM)                     (None, 4, 64)        38144       input_1[0][0]                    \n",
      "__________________________________________________________________________________________________\n",
      "flatten (Flatten)               (None, 256)          0           lstm[0][0]                       \n",
      "__________________________________________________________________________________________________\n",
      "dense (Dense)                   (None, 4)            1028        flatten[0][0]                    \n",
      "__________________________________________________________________________________________________\n",
      "dense_1 (Dense)                 (None, 4)            20          dense[0][0]                      \n",
      "__________________________________________________________________________________________________\n",
      "keyPrediction (Dense)           (None, 12)           3084        flatten[0][0]                    \n",
      "__________________________________________________________________________________________________\n",
      "majorPrediction (Dense)         (None, 1)            5           dense_1[0][0]                    \n",
      "==================================================================================================\n",
      "Total params: 42,281\n",
      "Trainable params: 42,281\n",
      "Non-trainable params: 0\n",
      "__________________________________________________________________________________________________\n"
     ]
    }
   ],
   "source": [
    "model.compile(  loss=losses,\n",
    "                loss_weights= lossWeights,\n",
    "                optimizer='adam',\n",
    "\n",
    "                metrics=['accuracy'])\n",
    "model.summary()"
   ]
  },
  {
   "cell_type": "code",
   "execution_count": 25,
   "id": "c1f3a875-dd76-4d6d-924a-138af5b8666a",
   "metadata": {},
   "outputs": [],
   "source": [
    "callback=EarlyStopping(\n",
    "    monitor='val_loss', min_delta=0, patience=100, verbose=2, mode='auto',\n",
    "    baseline=None, restore_best_weights=True)"
   ]
  },
  {
   "cell_type": "code",
   "execution_count": 26,
   "id": "518d3977-6a41-4200-be58-bc749c34293e",
   "metadata": {},
   "outputs": [
    {
     "name": "stdout",
     "output_type": "stream",
     "text": [
      "Restoring model weights from the end of the best epoch.\n",
      "Epoch 00116: early stopping\n"
     ]
    },
    {
     "data": {
      "text/plain": [
       "<keras.callbacks.History at 0x24f97973550>"
      ]
     },
     "execution_count": 26,
     "metadata": {},
     "output_type": "execute_result"
    }
   ],
   "source": [
    "model.fit(X_train, [y_train[:,:-1],y_train[:,-1]],validation_data=(X_test, [y_test[:,:-1],y_test[:,-1]]), verbose=0, epochs=1000,callbacks=[callback],  batch_size=1,)"
   ]
  },
  {
   "cell_type": "code",
   "execution_count": 27,
   "id": "f0a7d96f-625d-4326-ac2e-f1917006a0dc",
   "metadata": {},
   "outputs": [
    {
     "name": "stdout",
     "output_type": "stream",
     "text": [
      "60/60 [==============================] - 1s 3ms/step - loss: 0.3607 - keyPrediction_loss: 0.3921 - majorPrediction_loss: 0.2873 - keyPrediction_accuracy: 0.8928 - majorPrediction_accuracy: 0.9121\n"
     ]
    },
    {
     "data": {
      "text/plain": [
       "[0.3606802225112915,\n",
       " 0.392138808965683,\n",
       " 0.2872767448425293,\n",
       " 0.89278244972229,\n",
       " 0.9121338725090027]"
      ]
     },
     "execution_count": 27,
     "metadata": {},
     "output_type": "execute_result"
    }
   ],
   "source": [
    "model.evaluate(X_test,[y_test[:,:-1],y_test[:,-1]])"
   ]
  },
  {
   "cell_type": "code",
   "execution_count": 28,
   "id": "e181fb75-f422-449c-b149-44774a96e12f",
   "metadata": {},
   "outputs": [],
   "source": [
    "a,b=(model.predict(X_test))"
   ]
  },
  {
   "cell_type": "code",
   "execution_count": 29,
   "id": "a2108c7f-65da-4089-87d2-ad3d2dfd98f6",
   "metadata": {},
   "outputs": [
    {
     "data": {
      "text/plain": [
       "(328, 1584, 0.8284518828451883)"
      ]
     },
     "execution_count": 29,
     "metadata": {},
     "output_type": "execute_result"
    }
   ],
   "source": [
    "wrong=0\n",
    "correct=0\n",
    "for idx,e in enumerate(y_test):\n",
    "    if np.argmax(y_test[idx][:-1])==np.argmax(a[idx]) and y_test[idx][-1]==(1 if b[idx]>=0.5 else 0):\n",
    "        correct+=1\n",
    "    else:\n",
    "        wrong+=1\n",
    "wrong,correct,correct/(wrong+correct)"
   ]
  },
  {
   "cell_type": "code",
   "execution_count": 30,
   "id": "95fb14a6-7798-4f65-b57d-103683162389",
   "metadata": {},
   "outputs": [
    {
     "data": {
      "text/plain": [
       "(425, 1487, 0.7777196652719666)"
      ]
     },
     "execution_count": 30,
     "metadata": {},
     "output_type": "execute_result"
    }
   ],
   "source": [
    "(425, 1487, 0.7777196652719666)"
   ]
  }
 ],
 "metadata": {
  "kernelspec": {
   "display_name": "Python 3",
   "language": "python",
   "name": "python3"
  },
  "language_info": {
   "codemirror_mode": {
    "name": "ipython",
    "version": 3
   },
   "file_extension": ".py",
   "mimetype": "text/x-python",
   "name": "python",
   "nbconvert_exporter": "python",
   "pygments_lexer": "ipython3",
   "version": "3.8.8"
  }
 },
 "nbformat": 4,
 "nbformat_minor": 5
}
