{
 "cells": [
  {
   "cell_type": "code",
   "execution_count": 1,
   "id": "6c6e77d7-8825-4d4e-bb26-f2d6c3021206",
   "metadata": {},
   "outputs": [],
   "source": [
    "from music21 import *\n",
    "import music21\n",
    "import os\n",
    "import glob\n",
    "import re\n",
    "import numpy as np\n",
    "import math"
   ]
  },
  {
   "cell_type": "code",
   "execution_count": 2,
   "id": "de7dfa53",
   "metadata": {
    "jupyter": {
     "source_hidden": true
    },
    "tags": []
   },
   "outputs": [],
   "source": [
    "def demonopolize(notelist):\n",
    "    if len(notelist) <=2:\n",
    "        return notelist\n",
    "    other_values = np.array(list(notelist.values()))\n",
    "    other_values = other_values[other_values < 0.5]\n",
    "    maxval = np.max(other_values)\n",
    "    if len(notelist) <=2:\n",
    "        return notelist\n",
    "    hasChanged = True\n",
    "    dontchange = []\n",
    "    totalredist = 1\n",
    "    for note in notelist:\n",
    "        if notelist[note] >= 0.5:\n",
    "            notelist[note] = maxval\n",
    "    return notelist\n",
    "            \n",
    "\n",
    "def importance_score(notelist,noteduration,noteoctave):\n",
    "    allnotes = {}\n",
    "    for i in range(len(notelist)):\n",
    "        if not notelist[i] in allnotes:\n",
    "            allnotes[notelist[i]] = {\"occ\":1,\"durlist\":[noteduration[i]],\"octavelist\":[noteoctave[i]]}\n",
    "        else:\n",
    "            allnotes[notelist[i]]['occ'] += 1\n",
    "            allnotes[notelist[i]]['durlist'].append(noteduration[i])\n",
    "            allnotes[notelist[i]]['octavelist'].append(noteoctave[i])\n",
    "    returnnote = {}\n",
    "    totalscore = 0\n",
    "    for note in allnotes:\n",
    "        returnnote[note] = int(allnotes[note]['occ'] * (np.sum(allnotes[note]['durlist'])) * (21-2*np.min(allnotes[note]['octavelist'])))\n",
    "        if returnnote[note] == 0:\n",
    "            returnnote[note] = 1\n",
    "        totalscore += returnnote[note]\n",
    "    for note in allnotes:\n",
    "        returnnote[note] = round(returnnote[note]/totalscore,3)\n",
    "    retunnote = demonopolize(returnnote)\n",
    "    return returnnote"
   ]
  },
  {
   "cell_type": "code",
   "execution_count": 3,
   "id": "2ae5f781-c139-4cb9-a56d-3ccc2c0e7bd4",
   "metadata": {},
   "outputs": [],
   "source": [
    "def cal_offset(e):\n",
    "    if e is None:\n",
    "        return 0\n",
    "    return e.offset+cal_offset(e.activeSite)"
   ]
  },
  {
   "cell_type": "code",
   "execution_count": 4,
   "id": "0a76d82b-7bb5-4155-b5ad-40808816f2cc",
   "metadata": {},
   "outputs": [],
   "source": [
    "class Score_in_beat:\n",
    "    \n",
    "    def __init__(self):\n",
    "        self.beat_list=[Beat()]\n",
    "        \n",
    "    #extract info from note and add to corrsponding beat\n",
    "    def add_note(self,note):\n",
    "        length=note.quarterLength\n",
    "        start=cal_offset(note)\n",
    "        end=start+length\n",
    "        rounded_floor_start=math.floor(start)\n",
    "        #loop until the note played to its end\n",
    "        while start<end-0.000000000001:\n",
    "            if len(self.beat_list)-1<rounded_floor_start:\n",
    "                new_beat=rounded_floor_start-(len(self.beat_list)-1)\n",
    "                #the input note maybe is a chord -> recurse all pitch inside\n",
    "                for _ in range(new_beat):\n",
    "                    self.beat_list.append(Beat())\n",
    "            self.beat_list[rounded_floor_start].add_note(note,min(rounded_floor_start+1-start,end-start))\n",
    "            start+=min(rounded_floor_start+1-start,end-start)\n",
    "            rounded_floor_start=int(start)\n",
    "            \n",
    "    #add key to the first occurence of beat\n",
    "    def add_key(self,note):\n",
    "        assert(note.lyric is not None and '(' in note.lyric)\n",
    "        key_change_beat=cal_offset(note)\n",
    "        rounded_floor_key_change_beat=math.floor(key_change_beat)\n",
    "        self.beat_list[rounded_floor_key_change_beat].add_key(note.lyric.split('(')[0])\n",
    "        \n",
    "    #onyl call once\n",
    "    def infer_key(self):\n",
    "        first_key_in_num=None\n",
    "        first_key_full=None\n",
    "        first_key_major=None\n",
    "        #backtrack\n",
    "        for e in self.beat_list:\n",
    "            if e.key_full is not None:\n",
    "                first_key_full=e.key_full\n",
    "                first_key_in_num=e.key_in_num\n",
    "                first_key_major=e.major\n",
    "                break\n",
    "        #bring forward\n",
    "        for e in self.beat_list:\n",
    "            if e.key_full is None:\n",
    "                e.key_full=first_key_full\n",
    "                e.key_in_num=first_key_in_num\n",
    "                e.major=first_key_major\n",
    "            else:\n",
    "                first_key_full=e.key_full\n",
    "                first_key_in_num=e.key_in_num\n",
    "                first_key_major=e.major"
   ]
  },
  {
   "cell_type": "code",
   "execution_count": 5,
   "id": "0f90f301-76d3-41dd-b390-9de5f0f9fc1e",
   "metadata": {},
   "outputs": [],
   "source": [
    "key_mapping={\n",
    "    'C':0,\n",
    "    'D':2,\n",
    "    'E':4,\n",
    "    'F':5,\n",
    "    'G':7,\n",
    "    'A':9,\n",
    "    'B':11\n",
    "}\n",
    "def key2num(k):  \n",
    "    k=k.upper()\n",
    "    num=key_mapping[k[0]]\n",
    "    modifier=len(k)\n",
    "    if modifier==1:\n",
    "        return num\n",
    "    elif k[1]=='#':\n",
    "        return (num+(modifier-1))%12\n",
    "    elif k[1]=='B' or k[1]=='-' or k[1]=='♭':\n",
    "        return (num-(modifier-1))%12\n",
    "    elif k[1]=='X':\n",
    "        return (num+(modifier-1)*2)%12"
   ]
  },
  {
   "cell_type": "code",
   "execution_count": 6,
   "id": "8bc308cd-6388-4cde-a670-9e7838cc932b",
   "metadata": {},
   "outputs": [],
   "source": [
    "class Beat:\n",
    "    def __init__(self):\n",
    "        self.notes = np.zeros((12,7))  #from C1 to C7\n",
    "        self.total_duration = np.zeros((12,7))\n",
    "        self.notes_occurences_count= np.zeros((12,7))\n",
    "        self.key_full=None\n",
    "        self.major=None\n",
    "        self.key_in_num=None\n",
    "        \n",
    "    def add_note(self,note,duration):\n",
    "        assert(duration<=1)\n",
    "        pitches=note.pitches\n",
    "        for pitch in pitches:\n",
    "            pitch_idx=key2num(pitch.nameWithOctave[:-1])\n",
    "            octave=int(pitch.nameWithOctave[-1])-1\n",
    "            if octave<0:\n",
    "                octave=0\n",
    "            elif octave>6:\n",
    "                octave=6\n",
    "            self.notes[pitch_idx,octave]=1\n",
    "            self.total_duration[pitch_idx,octave]+=duration\n",
    "            self.notes_occurences_count[pitch_idx,octave]+=1\n",
    "            \n",
    "    def add_key(self,k):\n",
    "        self.major = 'M' in k\n",
    "        self.key_full=k\n",
    "        k=k[:-1]\n",
    "        self.key_in_num=key2num(k)"
   ]
  },
  {
   "cell_type": "code",
   "execution_count": 7,
   "id": "6c6e77d7-8825-4d4e-bb26-f2d6c3021203",
   "metadata": {
    "tags": []
   },
   "outputs": [
    {
     "name": "stdout",
     "output_type": "stream",
     "text": [
      "../musicxml(notated)\\E╠ütude_in_C_Minor.mxl\n",
      "../musicxml(notated)\\E╠ütude_in_F_Major.mxl\n",
      "../musicxml(notated)\\E╠ütude_in_F_Minor.mxl\n",
      "../musicxml(notated)\\E╠ütude_in_Gb_Major.mxl\n",
      "../musicxml(notated)\\E╠ütude_in_Gb_Major_Opus_25.mxl\n",
      "../musicxml(notated)\\Il_Vecchio_Castello.mxl\n",
      "../musicxml(notated)\\Menuet_in_G_Minor.mxl\n",
      "../musicxml(notated)\\Minuet_in_F.mxl\n",
      "../musicxml(notated)\\Minuet_in_G_Major_2nd.mxl\n",
      "../musicxml(notated)\\Moonlight_Sonata_1st_Movement.mxl\n",
      "../musicxml(notated)\\Nocturne_in_B_Major.mxl\n",
      "../musicxml(notated)\\Nocturne_in_C#_Minor.mxl\n",
      "../musicxml(notated)\\Nocturne_in_Eb_Major.mxl\n",
      "../musicxml(notated)\\Nocturne_in_E_Minor.mxl\n",
      "../musicxml(notated)\\Nocturne_in_F#_Major.mxl\n",
      "../musicxml(notated)\\Nocturne_in_F_Minor.mxl\n",
      "../musicxml(notated)\\Nocturne_No._20_in_C#_Minor.mxl\n",
      "../musicxml(notated)\\notes-to-chord.mxl\n",
      "../musicxml(notated)\\Piano_Sonata_No._11.mxl\n",
      "../musicxml(notated)\\Pre╠ülude_in_A_Major.mxl\n",
      "../musicxml(notated)\\Pre╠ülude_in_B_Major.mxl\n",
      "../musicxml(notated)\\Pre╠ülude_in_B_Minor.mxl\n",
      "../musicxml(notated)\\Pre╠ülude_in_B_Minor_Opus104a.mxl\n",
      "../musicxml(notated)\\Pre╠ülude_in_C_Minor.mxl\n",
      "../musicxml(notated)\\Pre╠ülude_in_Db_Major.mxl\n",
      "../musicxml(notated)\\Pre╠ülude_in_F#_Major.mxl\n",
      "../musicxml(notated)\\Pre╠ülude_in_G_Major.mxl\n",
      "../musicxml(notated)\\Prlude_Opus_28_No._4_in_E_Minor.mxl\n",
      "../musicxml(notated)\\Sonata_No._1.mxl\n",
      "../musicxml(notated)\\Sonate_No._28.mxl\n",
      "../musicxml(notated)\\Sonate_No._28_2nd_mov.mxl\n",
      "../musicxml(notated)\\Sonate_No._31.mxl\n",
      "../musicxml(notated)\\Sonatina_in_G.mxl\n",
      "../musicxml(notated)\\Twinkle-Twinkle.mxl\n",
      "../musicxml(notated)\\Waltz_in_A_Major_Op.39_No.15_by_Johannes_Brahms.mxl\n",
      "../musicxml(notated)\\Waltz_in_A_Minor.mxl\n",
      "../musicxml(notated)\\Waltz_in_Eb_Major.mxl\n"
     ]
    }
   ],
   "source": [
    "#piece='./Chopin_F._Nocturne_in_E_Major,_Op.26_No.2.mxl'\n",
    "all_score=[]\n",
    "for piece in glob.glob(\"../musicxml(notated)/*.mxl\"):\n",
    "    all_beat=Score_in_beat()\n",
    "    all_score.append(all_beat)\n",
    "    print(piece)\n",
    "    chords = []\n",
    "    notes = []\n",
    "    c = converter.parse(piece)\n",
    "    post = c.flat\n",
    "\n",
    "    #extract note\n",
    "    all_notes=[]\n",
    "    for note in post.notes:\n",
    "        all_notes.append(note)\n",
    "        all_beat.add_note(note)\n",
    "        if note.lyric is not None and '(' in note.lyric:\n",
    "            all_beat.add_key(note)\n",
    "        #print(note,note.pitches,note.pitches[0].nameWithOctave,note.quarterLength,cal_offset(note))\n",
    "\n",
    "    all_beat.infer_key()"
   ]
  },
  {
   "cell_type": "code",
   "execution_count": 8,
   "id": "f21becbd-d584-4dd5-ac2a-c8ac0b4db4f6",
   "metadata": {},
   "outputs": [
    {
     "name": "stdout",
     "output_type": "stream",
     "text": [
      "0 Cm\n",
      "1 FM\n",
      "2 Fm\n",
      "3 G♭M\n",
      "4 G♭M\n",
      "5 G#m\n",
      "6 Gm\n",
      "7 FM\n",
      "8 GM\n",
      "9 C#m\n",
      "10 BM\n",
      "11 C#m\n",
      "12 E♭M\n",
      "13 Em\n",
      "14 F#M\n",
      "15 Fm\n",
      "16 C#m\n",
      "17 E♭M\n",
      "18 Am\n",
      "19 AM\n",
      "20 BM\n",
      "21 Bm\n",
      "22 Bm\n",
      "23 Cm\n",
      "24 D♭M\n",
      "25 F#M\n",
      "26 DM\n",
      "27 Em\n",
      "28 E♭M\n",
      "29 AM\n",
      "30 FM\n",
      "31 Fm\n",
      "32 GM\n",
      "33 CM\n",
      "34 A♭M\n",
      "35 Am\n",
      "36 E♭M\n"
     ]
    }
   ],
   "source": [
    "for i in range(len(all_score)):\n",
    "    print(i,all_score[i].beat_list[0].key_full)"
   ]
  },
  {
   "cell_type": "code",
   "execution_count": 9,
   "id": "b3fa894d-70ff-4af7-b82c-d4a612e0b289",
   "metadata": {},
   "outputs": [
    {
     "ename": "SyntaxError",
     "evalue": "invalid syntax (<ipython-input-9-4f6fca2f5360>, line 1)",
     "output_type": "error",
     "traceback": [
      "\u001b[1;36m  File \u001b[1;32m\"<ipython-input-9-4f6fca2f5360>\"\u001b[1;36m, line \u001b[1;32m1\u001b[0m\n\u001b[1;33m    -----------------------------------------------------------------------------------------------------asg-----------------------\u001b[0m\n\u001b[1;37m                                                                                                                                   ^\u001b[0m\n\u001b[1;31mSyntaxError\u001b[0m\u001b[1;31m:\u001b[0m invalid syntax\n"
     ]
    }
   ],
   "source": [
    "-----------------------------------------------------------------------------------------------------asg-----------------------"
   ]
  },
  {
   "cell_type": "code",
   "execution_count": null,
   "id": "eb6c82ad",
   "metadata": {
    "tags": []
   },
   "outputs": [],
   "source": [
    "print(chord_sequence)\n",
    "import json\n",
    "with open('../data/training_data2.json','w') as f:\n",
    "    d = json.dumps(chord_sequence)\n",
    "    f.write(d)"
   ]
  }
 ],
 "metadata": {
  "kernelspec": {
   "display_name": "Python 3",
   "language": "python",
   "name": "python3"
  },
  "language_info": {
   "codemirror_mode": {
    "name": "ipython",
    "version": 3
   },
   "file_extension": ".py",
   "mimetype": "text/x-python",
   "name": "python",
   "nbconvert_exporter": "python",
   "pygments_lexer": "ipython3",
   "version": "3.8.8"
  }
 },
 "nbformat": 4,
 "nbformat_minor": 5
}
