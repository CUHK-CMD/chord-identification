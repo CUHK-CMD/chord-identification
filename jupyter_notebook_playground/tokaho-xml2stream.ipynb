{
 "cells": [
  {
   "cell_type": "code",
   "execution_count": 1,
   "id": "6c6e77d7-8825-4d4e-bb26-f2d6c3021206",
   "metadata": {},
   "outputs": [],
   "source": [
    "from music21 import *\n",
    "import music21\n",
    "import os\n",
    "import glob\n",
    "import re\n",
    "import numpy as np\n",
    "import math"
   ]
  },
  {
   "cell_type": "code",
   "execution_count": 2,
   "id": "de7dfa53",
   "metadata": {
    "jupyter": {
     "source_hidden": true
    },
    "tags": []
   },
   "outputs": [],
   "source": [
    "def demonopolize(notelist):\n",
    "    if len(notelist) <=2:\n",
    "        return notelist\n",
    "    other_values = np.array(list(notelist.values()))\n",
    "    other_values = other_values[other_values < 0.5]\n",
    "    maxval = np.max(other_values)\n",
    "    if len(notelist) <=2:\n",
    "        return notelist\n",
    "    hasChanged = True\n",
    "    dontchange = []\n",
    "    totalredist = 1\n",
    "    for note in notelist:\n",
    "        if notelist[note] >= 0.5:\n",
    "            notelist[note] = maxval\n",
    "    return notelist\n",
    "            \n",
    "\n",
    "def importance_score(notelist,noteduration,noteoctave):\n",
    "    allnotes = {}\n",
    "    for i in range(len(notelist)):\n",
    "        if not notelist[i] in allnotes:\n",
    "            allnotes[notelist[i]] = {\"occ\":1,\"durlist\":[noteduration[i]],\"octavelist\":[noteoctave[i]]}\n",
    "        else:\n",
    "            allnotes[notelist[i]]['occ'] += 1\n",
    "            allnotes[notelist[i]]['durlist'].append(noteduration[i])\n",
    "            allnotes[notelist[i]]['octavelist'].append(noteoctave[i])\n",
    "    returnnote = {}\n",
    "    totalscore = 0\n",
    "    for note in allnotes:\n",
    "        returnnote[note] = int(allnotes[note]['occ'] * (np.sum(allnotes[note]['durlist'])) * (21-2*np.min(allnotes[note]['octavelist'])))\n",
    "        if returnnote[note] == 0:\n",
    "            returnnote[note] = 1\n",
    "        totalscore += returnnote[note]\n",
    "    for note in allnotes:\n",
    "        returnnote[note] = round(returnnote[note]/totalscore,3)\n",
    "    retunnote = demonopolize(returnnote)\n",
    "    return returnnote"
   ]
  },
  {
   "cell_type": "code",
   "execution_count": 3,
   "id": "2ae5f781-c139-4cb9-a56d-3ccc2c0e7bd4",
   "metadata": {},
   "outputs": [],
   "source": [
    "def cal_offset(e):\n",
    "    if e is None:\n",
    "        return 0\n",
    "    return e.offset+cal_offset(e.activeSite)"
   ]
  },
  {
   "cell_type": "code",
   "execution_count": 4,
   "id": "0a76d82b-7bb5-4155-b5ad-40808816f2cc",
   "metadata": {},
   "outputs": [],
   "source": [
    "class Score_in_beat:\n",
    "    \n",
    "    def __init__(self):\n",
    "        self.beat_list=[Beat()]\n",
    "        \n",
    "    #extract info from note and add to corrsponding beat\n",
    "    def add_note(self,note):\n",
    "        length=note.quarterLength\n",
    "        start=cal_offset(note)\n",
    "        end=start+length\n",
    "        rounded_floor_start=math.floor(start)\n",
    "        #loop until the note played to its end\n",
    "        while start<end-0.000000000001:\n",
    "            if len(self.beat_list)-1<rounded_floor_start:\n",
    "                new_beat=rounded_floor_start-(len(self.beat_list)-1)\n",
    "                #the input note maybe is a chord -> recurse all pitch inside\n",
    "                for _ in range(new_beat):\n",
    "                    self.beat_list.append(Beat())\n",
    "            self.beat_list[rounded_floor_start].add_note(note,min(rounded_floor_start+1-start,end-start))\n",
    "            start+=min(rounded_floor_start+1-start,end-start)\n",
    "            rounded_floor_start=int(start)\n",
    "            \n",
    "    #add key to the first occurence of beat\n",
    "    def add_key(self,note):\n",
    "        assert(note.lyric is not None and '(' in note.lyric)\n",
    "        key_change_beat=cal_offset(note)\n",
    "        rounded_floor_key_change_beat=math.floor(key_change_beat)\n",
    "        self.beat_list[rounded_floor_key_change_beat].add_key(note.lyric.split('(')[0])\n",
    "        \n",
    "    #onyl call once\n",
    "    def infer_key(self):\n",
    "        first_key_in_num=None\n",
    "        first_key_full=None\n",
    "        first_key_major=None\n",
    "        #backtrack\n",
    "        for e in self.beat_list:\n",
    "            if e.key_full is not None:\n",
    "                first_key_full=e.key_full\n",
    "                first_key_in_num=e.key_in_num\n",
    "                first_key_major=e.major\n",
    "                break\n",
    "        #bring forward\n",
    "        for e in self.beat_list:\n",
    "            if e.key_full is None:\n",
    "                e.key_full=first_key_full\n",
    "                e.key_in_num=first_key_in_num\n",
    "                e.major=first_key_major\n",
    "            else:\n",
    "                first_key_full=e.key_full\n",
    "                first_key_in_num=e.key_in_num\n",
    "                first_key_major=e.major"
   ]
  },
  {
   "cell_type": "code",
   "execution_count": 5,
   "id": "0f90f301-76d3-41dd-b390-9de5f0f9fc1e",
   "metadata": {},
   "outputs": [],
   "source": [
    "key_mapping={\n",
    "    'C':0,\n",
    "    'D':2,\n",
    "    'E':4,\n",
    "    'F':5,\n",
    "    'G':7,\n",
    "    'A':9,\n",
    "    'B':11\n",
    "}\n",
    "def key2num(k):  \n",
    "    k=k.upper()\n",
    "    num=key_mapping[k[0]]\n",
    "    modifier=len(k)\n",
    "    if modifier==1:\n",
    "        return num\n",
    "    elif k[1]=='#':\n",
    "        return (num+(modifier-1))%12\n",
    "    elif k[1]=='B' or k[1]=='-' or k[1]=='♭':\n",
    "        return (num-(modifier-1))%12\n",
    "    elif k[1]=='X':\n",
    "        return (num+(modifier-1)*2)%12"
   ]
  },
  {
   "cell_type": "code",
   "execution_count": 6,
   "id": "8bc308cd-6388-4cde-a670-9e7838cc932b",
   "metadata": {},
   "outputs": [],
   "source": [
    "class Beat:\n",
    "    def __init__(self):\n",
    "        self.notes = np.zeros((12,7))  #from C1 to C7\n",
    "        self.total_duration = np.zeros((12,7))\n",
    "        self.notes_occurences_count= np.zeros((12,7))\n",
    "        self.key_full=None\n",
    "        self.major=None\n",
    "        self.key_in_num=None\n",
    "        \n",
    "    def add_note(self,note,duration):\n",
    "        assert(duration<=1)\n",
    "        pitches=note.pitches\n",
    "        for pitch in pitches:\n",
    "            pitch_idx=key2num(pitch.nameWithOctave[:-1])\n",
    "            octave=int(pitch.nameWithOctave[-1])-1\n",
    "            if octave<0:\n",
    "                octave=0\n",
    "            elif octave>6:\n",
    "                octave=6\n",
    "            self.notes[pitch_idx,octave]=1\n",
    "            self.total_duration[pitch_idx,octave]+=duration\n",
    "            self.notes_occurences_count[pitch_idx,octave]+=1\n",
    "            \n",
    "    def add_key(self,k):\n",
    "        self.major = 'M' in k\n",
    "        self.key_full=k\n",
    "        k=k[:-1]\n",
    "        self.key_in_num=key2num(k)"
   ]
  },
  {
   "cell_type": "code",
   "execution_count": 7,
   "id": "6c6e77d7-8825-4d4e-bb26-f2d6c3021203",
   "metadata": {
    "tags": []
   },
   "outputs": [
    {
     "name": "stdout",
     "output_type": "stream",
     "text": [
      "../musicxml(notated)\\E╠ütude_in_C_Minor.mxl\n",
      "../musicxml(notated)\\E╠ütude_in_F_Major.mxl\n",
      "../musicxml(notated)\\E╠ütude_in_F_Minor.mxl\n",
      "../musicxml(notated)\\E╠ütude_in_Gb_Major.mxl\n",
      "../musicxml(notated)\\E╠ütude_in_Gb_Major_Opus_25.mxl\n",
      "../musicxml(notated)\\Il_Vecchio_Castello.mxl\n",
      "../musicxml(notated)\\Menuet_in_G_Minor.mxl\n",
      "../musicxml(notated)\\Minuet_in_F.mxl\n",
      "../musicxml(notated)\\Minuet_in_G_Major_2nd.mxl\n",
      "../musicxml(notated)\\Moonlight_Sonata_1st_Movement.mxl\n",
      "../musicxml(notated)\\Nocturne_in_B_Major.mxl\n",
      "../musicxml(notated)\\Nocturne_in_C#_Minor.mxl\n",
      "../musicxml(notated)\\Nocturne_in_Eb_Major.mxl\n",
      "../musicxml(notated)\\Nocturne_in_E_Minor.mxl\n",
      "../musicxml(notated)\\Nocturne_in_F#_Major.mxl\n",
      "../musicxml(notated)\\Nocturne_in_F_Minor.mxl\n",
      "../musicxml(notated)\\Nocturne_No._20_in_C#_Minor.mxl\n",
      "../musicxml(notated)\\notes-to-chord.mxl\n",
      "../musicxml(notated)\\Piano_Sonata_No._11.mxl\n",
      "../musicxml(notated)\\Pre╠ülude_in_A_Major.mxl\n",
      "../musicxml(notated)\\Pre╠ülude_in_B_Major.mxl\n",
      "../musicxml(notated)\\Pre╠ülude_in_B_Minor.mxl\n",
      "../musicxml(notated)\\Pre╠ülude_in_B_Minor_Opus104a.mxl\n",
      "../musicxml(notated)\\Pre╠ülude_in_C_Minor.mxl\n",
      "../musicxml(notated)\\Pre╠ülude_in_Db_Major.mxl\n",
      "../musicxml(notated)\\Pre╠ülude_in_F#_Major.mxl\n",
      "../musicxml(notated)\\Pre╠ülude_in_G_Major.mxl\n",
      "../musicxml(notated)\\Prlude_Opus_28_No._4_in_E_Minor.mxl\n",
      "../musicxml(notated)\\Sonata_No._1.mxl\n",
      "../musicxml(notated)\\Sonate_No._28.mxl\n",
      "../musicxml(notated)\\Sonate_No._28_2nd_mov.mxl\n",
      "../musicxml(notated)\\Sonate_No._31.mxl\n",
      "../musicxml(notated)\\Sonatina_in_G.mxl\n",
      "../musicxml(notated)\\Twinkle-Twinkle.mxl\n",
      "../musicxml(notated)\\Waltz_in_A_Major_Op.39_No.15_by_Johannes_Brahms.mxl\n",
      "../musicxml(notated)\\Waltz_in_A_Minor.mxl\n",
      "../musicxml(notated)\\Waltz_in_Eb_Major.mxl\n"
     ]
    }
   ],
   "source": [
    "#piece='./Chopin_F._Nocturne_in_E_Major,_Op.26_No.2.mxl'\n",
    "all_score=[]\n",
    "for piece in glob.glob(\"../musicxml(notated)/*.mxl\"):\n",
    "    all_beat=Score_in_beat()\n",
    "    all_score.append(all_beat)\n",
    "    print(piece)\n",
    "    chords = []\n",
    "    notes = []\n",
    "    c = converter.parse(piece)\n",
    "    post = c.flat\n",
    "\n",
    "    #extract note\n",
    "    all_notes=[]\n",
    "    for note in post.notes:\n",
    "        all_notes.append(note)\n",
    "        all_beat.add_note(note)\n",
    "        if note.lyric is not None and '(' in note.lyric:\n",
    "            all_beat.add_key(note)\n",
    "        #print(note,note.pitches,note.pitches[0].nameWithOctave,note.quarterLength,cal_offset(note))\n",
    "\n",
    "    all_beat.infer_key()"
   ]
  },
  {
   "cell_type": "code",
   "execution_count": 8,
   "id": "f21becbd-d584-4dd5-ac2a-c8ac0b4db4f6",
   "metadata": {},
   "outputs": [
    {
     "name": "stdout",
     "output_type": "stream",
     "text": [
      "0 Cm\n",
      "1 FM\n",
      "2 Fm\n",
      "3 G♭M\n",
      "4 G♭M\n",
      "5 G#m\n",
      "6 Gm\n",
      "7 FM\n",
      "8 GM\n",
      "9 C#m\n",
      "10 BM\n",
      "11 C#m\n",
      "12 E♭M\n",
      "13 Em\n",
      "14 F#M\n",
      "15 Fm\n",
      "16 C#m\n",
      "17 E♭M\n",
      "18 Am\n",
      "19 AM\n",
      "20 BM\n",
      "21 Bm\n",
      "22 Bm\n",
      "23 Cm\n",
      "24 D♭M\n",
      "25 F#M\n",
      "26 DM\n",
      "27 Em\n",
      "28 E♭M\n",
      "29 AM\n",
      "30 FM\n",
      "31 Fm\n",
      "32 GM\n",
      "33 CM\n",
      "34 A♭M\n",
      "35 Am\n",
      "36 E♭M\n"
     ]
    }
   ],
   "source": [
    "for i in range(len(all_score)):\n",
    "    print(i,all_score[i].beat_list[0].key_full)"
   ]
  },
  {
   "cell_type": "code",
   "execution_count": 9,
   "id": "b3fa894d-70ff-4af7-b82c-d4a612e0b289",
   "metadata": {},
   "outputs": [
    {
     "ename": "SyntaxError",
     "evalue": "invalid syntax (<ipython-input-9-4f6fca2f5360>, line 1)",
     "output_type": "error",
     "traceback": [
      "\u001b[1;36m  File \u001b[1;32m\"<ipython-input-9-4f6fca2f5360>\"\u001b[1;36m, line \u001b[1;32m1\u001b[0m\n\u001b[1;33m    -----------------------------------------------------------------------------------------------------asg-----------------------\u001b[0m\n\u001b[1;37m                                                                                                                                   ^\u001b[0m\n\u001b[1;31mSyntaxError\u001b[0m\u001b[1;31m:\u001b[0m invalid syntax\n"
     ]
    }
   ],
   "source": [
    "-----------------------------------------------------------------------------------------------------asg-----------------------"
   ]
  },
  {
   "cell_type": "code",
   "execution_count": null,
   "id": "2d3484dc-3734-4806-8d3d-1e497622f790",
   "metadata": {},
   "outputs": [],
   "source": [
    "#prepare train and test data"
   ]
  },
  {
   "cell_type": "code",
   "execution_count": 305,
   "id": "2e956ce3-b45e-4579-bdc2-45e862bdd53f",
   "metadata": {},
   "outputs": [],
   "source": [
    "from sklearn.model_selection import train_test_split"
   ]
  },
  {
   "cell_type": "code",
   "execution_count": 306,
   "id": "787161e9-c900-46b3-84ca-e7ee0cc7abae",
   "metadata": {},
   "outputs": [
    {
     "data": {
      "text/plain": [
       "935"
      ]
     },
     "execution_count": 306,
     "metadata": {},
     "output_type": "execute_result"
    }
   ],
   "source": [
    "max([len(e.beat_list) for e in all_score])"
   ]
  },
  {
   "cell_type": "code",
   "execution_count": 436,
   "id": "f1b79f55-dd57-424c-9ca4-4604af751dbf",
   "metadata": {},
   "outputs": [],
   "source": [
    "X=[]\n",
    "Y=[]\n",
    "weight=[1.3,1.2,1.1,1,0.9,0.8,0.7]\n",
    "for e in all_score:\n",
    "    tempX=[]\n",
    "    tempY=[]\n",
    "    count=0\n",
    "    for beat in e.beat_list:\n",
    "        value=beat.total_duration*beat.notes_occurences_count\n",
    "        if np.sum(value)!=0:\n",
    "            value/=np.sum(value)\n",
    "            value*=weight\n",
    "            value=value.sum(axis=1)\n",
    "            value/=value.sum()\n",
    "        else:\n",
    "            value=np.zeros((12))\n",
    "            \n",
    "        assert(len(value)==12)\n",
    "        tempX.append(value)\n",
    "        \n",
    "        prepare_y=np.zeros((13,1))\n",
    "        prepare_y[-1]=beat.major*1\n",
    "        prepare_y[beat.key_in_num]=1\n",
    "        assert(len(prepare_y)==13)\n",
    "        tempY.append(prepare_y)\n",
    "        count+=1\n",
    "    X.append(tempX)\n",
    "    Y.append(tempY)"
   ]
  },
  {
   "cell_type": "code",
   "execution_count": 437,
   "id": "26e7ee48-a061-41ff-b71b-c36c8c592b69",
   "metadata": {},
   "outputs": [],
   "source": [
    "look_forward=1\n",
    "look_after=1\n",
    "dataX,dataY=[],[]\n",
    "for idx_p,piece in enumerate(X):\n",
    "    for idx_b,beat in enumerate(piece):\n",
    "        tempX=[]\n",
    "        for i in reversed(range(1,look_forward+1)):\n",
    "            if(idx_b-i)<0:\n",
    "                tempX.append(np.zeros(12))\n",
    "            else:\n",
    "                tempX.append(piece[idx_b-i])\n",
    "        tempX.append(piece[idx_b])\n",
    "        for i in range(1,look_after+1):\n",
    "            if(idx_b+i)>len(piece)-1:\n",
    "                tempX.append(np.zeros(12))\n",
    "            else:\n",
    "                tempX.append(piece[idx_b+i])\n",
    "        dataX.append(tempX)\n",
    "        dataY.append(Y[idx_p][idx_b])"
   ]
  },
  {
   "cell_type": "code",
   "execution_count": 438,
   "id": "0bfcb592-4142-4eb5-be45-d075b17c1c44",
   "metadata": {},
   "outputs": [],
   "source": [
    "dataX=np.array(dataX)\n",
    "dataY=np.array(dataY)"
   ]
  },
  {
   "cell_type": "code",
   "execution_count": 439,
   "id": "b97279dd-9b83-4864-bf52-b6364f9f5b85",
   "metadata": {},
   "outputs": [],
   "source": [
    "dataY=dataY.reshape((-1,13))"
   ]
  },
  {
   "cell_type": "code",
   "execution_count": 440,
   "id": "c0fd2d49-e715-493b-9166-602c200c223f",
   "metadata": {},
   "outputs": [
    {
     "data": {
      "text/plain": [
       "((9560, 3, 12), (9560, 13))"
      ]
     },
     "execution_count": 440,
     "metadata": {},
     "output_type": "execute_result"
    }
   ],
   "source": [
    "dataX.shape,dataY.shape"
   ]
  },
  {
   "cell_type": "code",
   "execution_count": 441,
   "id": "76bf992b-96b7-4a48-a7c4-e77f0ab5f0b7",
   "metadata": {},
   "outputs": [],
   "source": [
    "X_train, X_test, y_train, y_test = train_test_split(dataX, dataY, test_size=0.2, random_state=42)"
   ]
  },
  {
   "cell_type": "code",
   "execution_count": 442,
   "id": "580d2a1a-8a40-4bd5-857b-881ab66401f8",
   "metadata": {},
   "outputs": [],
   "source": [
    "#train"
   ]
  },
  {
   "cell_type": "code",
   "execution_count": 463,
   "id": "eb6c82ad",
   "metadata": {
    "tags": []
   },
   "outputs": [],
   "source": [
    "import numpy\n",
    "from keras.models import Sequential\n",
    "from keras.layers import Dense\n",
    "from keras.layers import LSTM\n",
    "from keras.layers.embeddings import Embedding\n",
    "from keras.preprocessing import sequence"
   ]
  },
  {
   "cell_type": "code",
   "execution_count": 464,
   "id": "86637742-2dd2-45a9-a629-4cafd96a8ef4",
   "metadata": {},
   "outputs": [],
   "source": [
    "from keras.layers import Flatten\n",
    "from keras.layers import Input\n",
    "from keras.models import Model\n",
    "from keras.callbacks import EarlyStopping\n",
    "from keras.layers import Bidirectional"
   ]
  },
  {
   "cell_type": "code",
   "execution_count": 540,
   "id": "aaa8625b-4979-47cb-83a8-7ee8999805e7",
   "metadata": {},
   "outputs": [],
   "source": [
    "in_data = Input(shape=(1+look_forward+look_after,12))\n",
    "lstm = LSTM(128, return_sequences=True)(in_data)\n",
    "lstm = LSTM(256)(lstm)\n",
    "lstm = Dense(128,activation='relu')(lstm)\n",
    "\n",
    "output=Dense(12,activation='softmax',name='keyPrediction')(lstm)\n",
    "output2=Dense(1,activation='sigmoid',name='majorPrediction')(lstm)\n",
    "model = Model(inputs=in_data, outputs=[output,output2])"
   ]
  },
  {
   "cell_type": "code",
   "execution_count": 541,
   "id": "840336a8-73f7-4ece-892f-f73940d37f65",
   "metadata": {},
   "outputs": [],
   "source": [
    "losses ={\n",
    "          'keyPrediction':'categorical_crossentropy',\n",
    "          'majorPrediction':'binary_crossentropy'    \n",
    "        }"
   ]
  },
  {
   "cell_type": "code",
   "execution_count": 542,
   "id": "bfb963e1-773b-41d0-8524-483c3fa8a60a",
   "metadata": {},
   "outputs": [],
   "source": [
    "lossWeights={\n",
    "          'keyPrediction':0.3,\n",
    "          'majorPrediction':0.7  \n",
    "        }"
   ]
  },
  {
   "cell_type": "code",
   "execution_count": 543,
   "id": "c60c16b9-3ef3-4282-8046-801ad0f522cf",
   "metadata": {},
   "outputs": [
    {
     "name": "stdout",
     "output_type": "stream",
     "text": [
      "Model: \"model_55\"\n",
      "__________________________________________________________________________________________________\n",
      "Layer (type)                    Output Shape         Param #     Connected to                     \n",
      "==================================================================================================\n",
      "input_78 (InputLayer)           [(None, 3, 12)]      0                                            \n",
      "__________________________________________________________________________________________________\n",
      "lstm_116 (LSTM)                 (None, 3, 128)       72192       input_78[0][0]                   \n",
      "__________________________________________________________________________________________________\n",
      "lstm_117 (LSTM)                 (None, 256)          394240      lstm_116[0][0]                   \n",
      "__________________________________________________________________________________________________\n",
      "dense_54 (Dense)                (None, 128)          32896       lstm_117[0][0]                   \n",
      "__________________________________________________________________________________________________\n",
      "keyPrediction (Dense)           (None, 12)           1548        dense_54[0][0]                   \n",
      "__________________________________________________________________________________________________\n",
      "majorPrediction (Dense)         (None, 1)            129         dense_54[0][0]                   \n",
      "==================================================================================================\n",
      "Total params: 501,005\n",
      "Trainable params: 501,005\n",
      "Non-trainable params: 0\n",
      "__________________________________________________________________________________________________\n"
     ]
    }
   ],
   "source": [
    "model.compile(  loss=losses,\n",
    "                loss_weights= lossWeights,\n",
    "                optimizer='adam',\n",
    "                metrics=['accuracy'])\n",
    "model.summary()"
   ]
  },
  {
   "cell_type": "code",
   "execution_count": 544,
   "id": "c1f3a875-dd76-4d6d-924a-138af5b8666a",
   "metadata": {},
   "outputs": [],
   "source": [
    "callback=EarlyStopping(\n",
    "    monitor='val_loss', min_delta=0, patience=30, verbose=2, mode='auto',\n",
    "    baseline=None, restore_best_weights=True)"
   ]
  },
  {
   "cell_type": "code",
   "execution_count": 545,
   "id": "518d3977-6a41-4200-be58-bc749c34293e",
   "metadata": {},
   "outputs": [
    {
     "name": "stdout",
     "output_type": "stream",
     "text": [
      "Epoch 1/1000\n",
      "239/239 - 4s - loss: 0.9017 - keyPrediction_loss: 1.5330 - majorPrediction_loss: 0.6311 - keyPrediction_accuracy: 0.4922 - majorPrediction_accuracy: 0.6377 - val_loss: 0.7703 - val_keyPrediction_loss: 1.2170 - val_majorPrediction_loss: 0.5788 - val_keyPrediction_accuracy: 0.5858 - val_majorPrediction_accuracy: 0.6783\n",
      "Epoch 2/1000\n",
      "239/239 - 2s - loss: 0.7407 - keyPrediction_loss: 1.1521 - majorPrediction_loss: 0.5643 - keyPrediction_accuracy: 0.6098 - majorPrediction_accuracy: 0.7105 - val_loss: 0.7126 - val_keyPrediction_loss: 1.1400 - val_majorPrediction_loss: 0.5294 - val_keyPrediction_accuracy: 0.6203 - val_majorPrediction_accuracy: 0.7359\n",
      "Epoch 3/1000\n",
      "239/239 - 2s - loss: 0.6765 - keyPrediction_loss: 1.0482 - majorPrediction_loss: 0.5172 - keyPrediction_accuracy: 0.6423 - majorPrediction_accuracy: 0.7479 - val_loss: 0.6885 - val_keyPrediction_loss: 1.1034 - val_majorPrediction_loss: 0.5106 - val_keyPrediction_accuracy: 0.6318 - val_majorPrediction_accuracy: 0.7505\n",
      "Epoch 4/1000\n",
      "239/239 - 2s - loss: 0.6269 - keyPrediction_loss: 0.9675 - majorPrediction_loss: 0.4810 - keyPrediction_accuracy: 0.6760 - majorPrediction_accuracy: 0.7734 - val_loss: 0.6200 - val_keyPrediction_loss: 0.9649 - val_majorPrediction_loss: 0.4722 - val_keyPrediction_accuracy: 0.6925 - val_majorPrediction_accuracy: 0.7777\n",
      "Epoch 5/1000\n",
      "239/239 - 2s - loss: 0.5944 - keyPrediction_loss: 0.9031 - majorPrediction_loss: 0.4621 - keyPrediction_accuracy: 0.6994 - majorPrediction_accuracy: 0.7835 - val_loss: 0.6093 - val_keyPrediction_loss: 0.9546 - val_majorPrediction_loss: 0.4614 - val_keyPrediction_accuracy: 0.6956 - val_majorPrediction_accuracy: 0.7835\n",
      "Epoch 6/1000\n",
      "239/239 - 2s - loss: 0.5617 - keyPrediction_loss: 0.8541 - majorPrediction_loss: 0.4363 - keyPrediction_accuracy: 0.7151 - majorPrediction_accuracy: 0.8007 - val_loss: 0.5640 - val_keyPrediction_loss: 0.9022 - val_majorPrediction_loss: 0.4191 - val_keyPrediction_accuracy: 0.7155 - val_majorPrediction_accuracy: 0.8018\n",
      "Epoch 7/1000\n",
      "239/239 - 2s - loss: 0.5359 - keyPrediction_loss: 0.8037 - majorPrediction_loss: 0.4211 - keyPrediction_accuracy: 0.7305 - majorPrediction_accuracy: 0.8078 - val_loss: 0.5399 - val_keyPrediction_loss: 0.8503 - val_majorPrediction_loss: 0.4069 - val_keyPrediction_accuracy: 0.7233 - val_majorPrediction_accuracy: 0.8154\n",
      "Epoch 8/1000\n",
      "239/239 - 2s - loss: 0.5126 - keyPrediction_loss: 0.7719 - majorPrediction_loss: 0.4015 - keyPrediction_accuracy: 0.7420 - majorPrediction_accuracy: 0.8203 - val_loss: 0.5429 - val_keyPrediction_loss: 0.8386 - val_majorPrediction_loss: 0.4162 - val_keyPrediction_accuracy: 0.7286 - val_majorPrediction_accuracy: 0.7971\n",
      "Epoch 9/1000\n",
      "239/239 - 2s - loss: 0.4985 - keyPrediction_loss: 0.7474 - majorPrediction_loss: 0.3919 - keyPrediction_accuracy: 0.7501 - majorPrediction_accuracy: 0.8244 - val_loss: 0.5070 - val_keyPrediction_loss: 0.7977 - val_majorPrediction_loss: 0.3824 - val_keyPrediction_accuracy: 0.7469 - val_majorPrediction_accuracy: 0.8196\n",
      "Epoch 10/1000\n",
      "239/239 - 2s - loss: 0.4771 - keyPrediction_loss: 0.7155 - majorPrediction_loss: 0.3750 - keyPrediction_accuracy: 0.7623 - majorPrediction_accuracy: 0.8324 - val_loss: 0.5189 - val_keyPrediction_loss: 0.8201 - val_majorPrediction_loss: 0.3898 - val_keyPrediction_accuracy: 0.7432 - val_majorPrediction_accuracy: 0.8122\n",
      "Epoch 11/1000\n",
      "239/239 - 2s - loss: 0.4634 - keyPrediction_loss: 0.6906 - majorPrediction_loss: 0.3660 - keyPrediction_accuracy: 0.7684 - majorPrediction_accuracy: 0.8410 - val_loss: 0.4943 - val_keyPrediction_loss: 0.7838 - val_majorPrediction_loss: 0.3702 - val_keyPrediction_accuracy: 0.7626 - val_majorPrediction_accuracy: 0.8295\n",
      "Epoch 12/1000\n",
      "239/239 - 2s - loss: 0.4432 - keyPrediction_loss: 0.6637 - majorPrediction_loss: 0.3488 - keyPrediction_accuracy: 0.7747 - majorPrediction_accuracy: 0.8494 - val_loss: 0.4938 - val_keyPrediction_loss: 0.7815 - val_majorPrediction_loss: 0.3706 - val_keyPrediction_accuracy: 0.7641 - val_majorPrediction_accuracy: 0.8389\n",
      "Epoch 13/1000\n",
      "239/239 - 2s - loss: 0.4320 - keyPrediction_loss: 0.6444 - majorPrediction_loss: 0.3409 - keyPrediction_accuracy: 0.7835 - majorPrediction_accuracy: 0.8500 - val_loss: 0.4919 - val_keyPrediction_loss: 0.7839 - val_majorPrediction_loss: 0.3668 - val_keyPrediction_accuracy: 0.7505 - val_majorPrediction_accuracy: 0.8347\n",
      "Epoch 14/1000\n",
      "239/239 - 2s - loss: 0.4095 - keyPrediction_loss: 0.6160 - majorPrediction_loss: 0.3210 - keyPrediction_accuracy: 0.7929 - majorPrediction_accuracy: 0.8651 - val_loss: 0.4776 - val_keyPrediction_loss: 0.7636 - val_majorPrediction_loss: 0.3551 - val_keyPrediction_accuracy: 0.7615 - val_majorPrediction_accuracy: 0.8400\n",
      "Epoch 15/1000\n",
      "239/239 - 2s - loss: 0.3944 - keyPrediction_loss: 0.5919 - majorPrediction_loss: 0.3098 - keyPrediction_accuracy: 0.7985 - majorPrediction_accuracy: 0.8673 - val_loss: 0.4917 - val_keyPrediction_loss: 0.7425 - val_majorPrediction_loss: 0.3842 - val_keyPrediction_accuracy: 0.7688 - val_majorPrediction_accuracy: 0.8305\n",
      "Epoch 16/1000\n",
      "239/239 - 2s - loss: 0.3801 - keyPrediction_loss: 0.5679 - majorPrediction_loss: 0.2996 - keyPrediction_accuracy: 0.8073 - majorPrediction_accuracy: 0.8736 - val_loss: 0.4804 - val_keyPrediction_loss: 0.7518 - val_majorPrediction_loss: 0.3640 - val_keyPrediction_accuracy: 0.7777 - val_majorPrediction_accuracy: 0.8295\n",
      "Epoch 17/1000\n",
      "239/239 - 2s - loss: 0.3608 - keyPrediction_loss: 0.5401 - majorPrediction_loss: 0.2839 - keyPrediction_accuracy: 0.8155 - majorPrediction_accuracy: 0.8832 - val_loss: 0.4652 - val_keyPrediction_loss: 0.7449 - val_majorPrediction_loss: 0.3453 - val_keyPrediction_accuracy: 0.7756 - val_majorPrediction_accuracy: 0.8436\n",
      "Epoch 18/1000\n",
      "239/239 - 2s - loss: 0.3474 - keyPrediction_loss: 0.5200 - majorPrediction_loss: 0.2735 - keyPrediction_accuracy: 0.8192 - majorPrediction_accuracy: 0.8845 - val_loss: 0.4679 - val_keyPrediction_loss: 0.7519 - val_majorPrediction_loss: 0.3462 - val_keyPrediction_accuracy: 0.7746 - val_majorPrediction_accuracy: 0.8567\n",
      "Epoch 19/1000\n",
      "239/239 - 2s - loss: 0.3261 - keyPrediction_loss: 0.4935 - majorPrediction_loss: 0.2544 - keyPrediction_accuracy: 0.8286 - majorPrediction_accuracy: 0.8975 - val_loss: 0.4621 - val_keyPrediction_loss: 0.7445 - val_majorPrediction_loss: 0.3410 - val_keyPrediction_accuracy: 0.7798 - val_majorPrediction_accuracy: 0.8499\n",
      "Epoch 20/1000\n",
      "239/239 - 2s - loss: 0.3060 - keyPrediction_loss: 0.4576 - majorPrediction_loss: 0.2410 - keyPrediction_accuracy: 0.8407 - majorPrediction_accuracy: 0.9013 - val_loss: 0.4443 - val_keyPrediction_loss: 0.6918 - val_majorPrediction_loss: 0.3382 - val_keyPrediction_accuracy: 0.7924 - val_majorPrediction_accuracy: 0.8598\n",
      "Epoch 21/1000\n",
      "239/239 - 2s - loss: 0.2877 - keyPrediction_loss: 0.4382 - majorPrediction_loss: 0.2232 - keyPrediction_accuracy: 0.8477 - majorPrediction_accuracy: 0.9083 - val_loss: 0.4457 - val_keyPrediction_loss: 0.6887 - val_majorPrediction_loss: 0.3415 - val_keyPrediction_accuracy: 0.7955 - val_majorPrediction_accuracy: 0.8556\n",
      "Epoch 22/1000\n",
      "239/239 - 2s - loss: 0.2698 - keyPrediction_loss: 0.4095 - majorPrediction_loss: 0.2099 - keyPrediction_accuracy: 0.8584 - majorPrediction_accuracy: 0.9142 - val_loss: 0.4482 - val_keyPrediction_loss: 0.7200 - val_majorPrediction_loss: 0.3317 - val_keyPrediction_accuracy: 0.7835 - val_majorPrediction_accuracy: 0.8635\n",
      "Epoch 23/1000\n",
      "239/239 - 2s - loss: 0.2557 - keyPrediction_loss: 0.3979 - majorPrediction_loss: 0.1947 - keyPrediction_accuracy: 0.8640 - majorPrediction_accuracy: 0.9218 - val_loss: 0.4562 - val_keyPrediction_loss: 0.7401 - val_majorPrediction_loss: 0.3345 - val_keyPrediction_accuracy: 0.7772 - val_majorPrediction_accuracy: 0.8677\n",
      "Epoch 24/1000\n",
      "239/239 - 2s - loss: 0.2299 - keyPrediction_loss: 0.3529 - majorPrediction_loss: 0.1773 - keyPrediction_accuracy: 0.8768 - majorPrediction_accuracy: 0.9310 - val_loss: 0.4479 - val_keyPrediction_loss: 0.6836 - val_majorPrediction_loss: 0.3469 - val_keyPrediction_accuracy: 0.8133 - val_majorPrediction_accuracy: 0.8672\n",
      "Epoch 25/1000\n",
      "239/239 - 2s - loss: 0.2179 - keyPrediction_loss: 0.3341 - majorPrediction_loss: 0.1681 - keyPrediction_accuracy: 0.8864 - majorPrediction_accuracy: 0.9337 - val_loss: 0.4559 - val_keyPrediction_loss: 0.7034 - val_majorPrediction_loss: 0.3498 - val_keyPrediction_accuracy: 0.8033 - val_majorPrediction_accuracy: 0.8724\n",
      "Epoch 26/1000\n",
      "239/239 - 2s - loss: 0.2080 - keyPrediction_loss: 0.3158 - majorPrediction_loss: 0.1617 - keyPrediction_accuracy: 0.8928 - majorPrediction_accuracy: 0.9353 - val_loss: 0.4738 - val_keyPrediction_loss: 0.7355 - val_majorPrediction_loss: 0.3617 - val_keyPrediction_accuracy: 0.7913 - val_majorPrediction_accuracy: 0.8656\n",
      "Epoch 27/1000\n",
      "239/239 - 2s - loss: 0.1858 - keyPrediction_loss: 0.2832 - majorPrediction_loss: 0.1441 - keyPrediction_accuracy: 0.8997 - majorPrediction_accuracy: 0.9433 - val_loss: 0.4960 - val_keyPrediction_loss: 0.7636 - val_majorPrediction_loss: 0.3814 - val_keyPrediction_accuracy: 0.7939 - val_majorPrediction_accuracy: 0.8713\n",
      "Epoch 28/1000\n",
      "239/239 - 2s - loss: 0.1680 - keyPrediction_loss: 0.2614 - majorPrediction_loss: 0.1279 - keyPrediction_accuracy: 0.9116 - majorPrediction_accuracy: 0.9520 - val_loss: 0.4641 - val_keyPrediction_loss: 0.7420 - val_majorPrediction_loss: 0.3450 - val_keyPrediction_accuracy: 0.7965 - val_majorPrediction_accuracy: 0.8813\n",
      "Epoch 29/1000\n",
      "239/239 - 2s - loss: 0.1530 - keyPrediction_loss: 0.2458 - majorPrediction_loss: 0.1132 - keyPrediction_accuracy: 0.9127 - majorPrediction_accuracy: 0.9570 - val_loss: 0.4607 - val_keyPrediction_loss: 0.7286 - val_majorPrediction_loss: 0.3458 - val_keyPrediction_accuracy: 0.8070 - val_majorPrediction_accuracy: 0.8844\n",
      "Epoch 30/1000\n",
      "239/239 - 2s - loss: 0.1356 - keyPrediction_loss: 0.2231 - majorPrediction_loss: 0.0980 - keyPrediction_accuracy: 0.9184 - majorPrediction_accuracy: 0.9651 - val_loss: 0.4928 - val_keyPrediction_loss: 0.7387 - val_majorPrediction_loss: 0.3875 - val_keyPrediction_accuracy: 0.8070 - val_majorPrediction_accuracy: 0.8734\n",
      "Epoch 31/1000\n",
      "239/239 - 2s - loss: 0.1296 - keyPrediction_loss: 0.1982 - majorPrediction_loss: 0.1002 - keyPrediction_accuracy: 0.9293 - majorPrediction_accuracy: 0.9617 - val_loss: 0.5068 - val_keyPrediction_loss: 0.7640 - val_majorPrediction_loss: 0.3967 - val_keyPrediction_accuracy: 0.8107 - val_majorPrediction_accuracy: 0.8724\n",
      "Epoch 32/1000\n",
      "239/239 - 2s - loss: 0.1257 - keyPrediction_loss: 0.1967 - majorPrediction_loss: 0.0953 - keyPrediction_accuracy: 0.9328 - majorPrediction_accuracy: 0.9661 - val_loss: 0.5199 - val_keyPrediction_loss: 0.8014 - val_majorPrediction_loss: 0.3993 - val_keyPrediction_accuracy: 0.8013 - val_majorPrediction_accuracy: 0.8771\n",
      "Epoch 33/1000\n",
      "239/239 - 2s - loss: 0.1167 - keyPrediction_loss: 0.1852 - majorPrediction_loss: 0.0874 - keyPrediction_accuracy: 0.9331 - majorPrediction_accuracy: 0.9668 - val_loss: 0.5285 - val_keyPrediction_loss: 0.8069 - val_majorPrediction_loss: 0.4092 - val_keyPrediction_accuracy: 0.8081 - val_majorPrediction_accuracy: 0.8755\n",
      "Epoch 34/1000\n",
      "239/239 - 2s - loss: 0.1086 - keyPrediction_loss: 0.1687 - majorPrediction_loss: 0.0828 - keyPrediction_accuracy: 0.9418 - majorPrediction_accuracy: 0.9704 - val_loss: 0.5381 - val_keyPrediction_loss: 0.7781 - val_majorPrediction_loss: 0.4353 - val_keyPrediction_accuracy: 0.8196 - val_majorPrediction_accuracy: 0.8729\n",
      "Epoch 35/1000\n",
      "239/239 - 2s - loss: 0.0989 - keyPrediction_loss: 0.1518 - majorPrediction_loss: 0.0762 - keyPrediction_accuracy: 0.9457 - majorPrediction_accuracy: 0.9721 - val_loss: 0.5407 - val_keyPrediction_loss: 0.8065 - val_majorPrediction_loss: 0.4268 - val_keyPrediction_accuracy: 0.8091 - val_majorPrediction_accuracy: 0.8692\n",
      "Epoch 36/1000\n",
      "239/239 - 2s - loss: 0.0871 - keyPrediction_loss: 0.1365 - majorPrediction_loss: 0.0660 - keyPrediction_accuracy: 0.9549 - majorPrediction_accuracy: 0.9757 - val_loss: 0.5539 - val_keyPrediction_loss: 0.7975 - val_majorPrediction_loss: 0.4495 - val_keyPrediction_accuracy: 0.8159 - val_majorPrediction_accuracy: 0.8708\n",
      "Epoch 37/1000\n",
      "239/239 - 2s - loss: 0.0886 - keyPrediction_loss: 0.1357 - majorPrediction_loss: 0.0685 - keyPrediction_accuracy: 0.9527 - majorPrediction_accuracy: 0.9753 - val_loss: 0.5821 - val_keyPrediction_loss: 0.8642 - val_majorPrediction_loss: 0.4613 - val_keyPrediction_accuracy: 0.8091 - val_majorPrediction_accuracy: 0.8729\n",
      "Epoch 38/1000\n",
      "239/239 - 2s - loss: 0.0832 - keyPrediction_loss: 0.1301 - majorPrediction_loss: 0.0631 - keyPrediction_accuracy: 0.9559 - majorPrediction_accuracy: 0.9784 - val_loss: 0.5557 - val_keyPrediction_loss: 0.8240 - val_majorPrediction_loss: 0.4408 - val_keyPrediction_accuracy: 0.8143 - val_majorPrediction_accuracy: 0.8750\n",
      "Epoch 39/1000\n",
      "239/239 - 2s - loss: 0.0722 - keyPrediction_loss: 0.1160 - majorPrediction_loss: 0.0534 - keyPrediction_accuracy: 0.9597 - majorPrediction_accuracy: 0.9820 - val_loss: 0.5686 - val_keyPrediction_loss: 0.8208 - val_majorPrediction_loss: 0.4606 - val_keyPrediction_accuracy: 0.8206 - val_majorPrediction_accuracy: 0.8802\n",
      "Epoch 40/1000\n",
      "239/239 - 2s - loss: 0.0801 - keyPrediction_loss: 0.1211 - majorPrediction_loss: 0.0625 - keyPrediction_accuracy: 0.9558 - majorPrediction_accuracy: 0.9770 - val_loss: 0.5618 - val_keyPrediction_loss: 0.8650 - val_majorPrediction_loss: 0.4318 - val_keyPrediction_accuracy: 0.8096 - val_majorPrediction_accuracy: 0.8818\n",
      "Epoch 41/1000\n",
      "239/239 - 2s - loss: 0.0730 - keyPrediction_loss: 0.1114 - majorPrediction_loss: 0.0565 - keyPrediction_accuracy: 0.9631 - majorPrediction_accuracy: 0.9800 - val_loss: 0.6051 - val_keyPrediction_loss: 0.8942 - val_majorPrediction_loss: 0.4812 - val_keyPrediction_accuracy: 0.8143 - val_majorPrediction_accuracy: 0.8724\n",
      "Epoch 42/1000\n",
      "239/239 - 2s - loss: 0.0648 - keyPrediction_loss: 0.1028 - majorPrediction_loss: 0.0484 - keyPrediction_accuracy: 0.9644 - majorPrediction_accuracy: 0.9822 - val_loss: 0.6023 - val_keyPrediction_loss: 0.8942 - val_majorPrediction_loss: 0.4773 - val_keyPrediction_accuracy: 0.8169 - val_majorPrediction_accuracy: 0.8797\n",
      "Epoch 43/1000\n",
      "239/239 - 2s - loss: 0.0742 - keyPrediction_loss: 0.1114 - majorPrediction_loss: 0.0583 - keyPrediction_accuracy: 0.9609 - majorPrediction_accuracy: 0.9774 - val_loss: 0.5980 - val_keyPrediction_loss: 0.8902 - val_majorPrediction_loss: 0.4729 - val_keyPrediction_accuracy: 0.8175 - val_majorPrediction_accuracy: 0.8734\n",
      "Epoch 44/1000\n",
      "239/239 - 2s - loss: 0.0716 - keyPrediction_loss: 0.1024 - majorPrediction_loss: 0.0584 - keyPrediction_accuracy: 0.9647 - majorPrediction_accuracy: 0.9786 - val_loss: 0.6087 - val_keyPrediction_loss: 0.9169 - val_majorPrediction_loss: 0.4766 - val_keyPrediction_accuracy: 0.8175 - val_majorPrediction_accuracy: 0.8808\n",
      "Epoch 45/1000\n",
      "239/239 - 2s - loss: 0.0564 - keyPrediction_loss: 0.0895 - majorPrediction_loss: 0.0422 - keyPrediction_accuracy: 0.9704 - majorPrediction_accuracy: 0.9834 - val_loss: 0.6087 - val_keyPrediction_loss: 0.9384 - val_majorPrediction_loss: 0.4674 - val_keyPrediction_accuracy: 0.8117 - val_majorPrediction_accuracy: 0.8818\n",
      "Epoch 46/1000\n",
      "239/239 - 2s - loss: 0.0628 - keyPrediction_loss: 0.0926 - majorPrediction_loss: 0.0501 - keyPrediction_accuracy: 0.9689 - majorPrediction_accuracy: 0.9808 - val_loss: 0.6242 - val_keyPrediction_loss: 0.9402 - val_majorPrediction_loss: 0.4888 - val_keyPrediction_accuracy: 0.8075 - val_majorPrediction_accuracy: 0.8787\n",
      "Epoch 47/1000\n",
      "239/239 - 2s - loss: 0.0584 - keyPrediction_loss: 0.0965 - majorPrediction_loss: 0.0421 - keyPrediction_accuracy: 0.9656 - majorPrediction_accuracy: 0.9860 - val_loss: 0.6527 - val_keyPrediction_loss: 0.9518 - val_majorPrediction_loss: 0.5245 - val_keyPrediction_accuracy: 0.8112 - val_majorPrediction_accuracy: 0.8677\n",
      "Epoch 48/1000\n",
      "239/239 - 2s - loss: 0.0570 - keyPrediction_loss: 0.0867 - majorPrediction_loss: 0.0442 - keyPrediction_accuracy: 0.9690 - majorPrediction_accuracy: 0.9829 - val_loss: 0.6215 - val_keyPrediction_loss: 0.9058 - val_majorPrediction_loss: 0.4996 - val_keyPrediction_accuracy: 0.8232 - val_majorPrediction_accuracy: 0.8792\n",
      "Epoch 49/1000\n",
      "239/239 - 2s - loss: 0.0492 - keyPrediction_loss: 0.0771 - majorPrediction_loss: 0.0372 - keyPrediction_accuracy: 0.9741 - majorPrediction_accuracy: 0.9860 - val_loss: 0.6200 - val_keyPrediction_loss: 0.9005 - val_majorPrediction_loss: 0.4998 - val_keyPrediction_accuracy: 0.8190 - val_majorPrediction_accuracy: 0.8792\n",
      "Epoch 50/1000\n",
      "239/239 - 2s - loss: 0.0520 - keyPrediction_loss: 0.0816 - majorPrediction_loss: 0.0393 - keyPrediction_accuracy: 0.9723 - majorPrediction_accuracy: 0.9865 - val_loss: 0.6502 - val_keyPrediction_loss: 0.9480 - val_majorPrediction_loss: 0.5226 - val_keyPrediction_accuracy: 0.8232 - val_majorPrediction_accuracy: 0.8766\n",
      "Restoring model weights from the end of the best epoch.\n",
      "Epoch 00050: early stopping\n"
     ]
    },
    {
     "data": {
      "text/plain": [
       "<keras.callbacks.History at 0x273f8765a30>"
      ]
     },
     "execution_count": 545,
     "metadata": {},
     "output_type": "execute_result"
    }
   ],
   "source": [
    "model.fit(X_train, [y_train[:,:-1],y_train[:,-1]],validation_data=(X_test, [y_test[:,:-1],y_test[:,-1]]), verbose=2, epochs=1000,callbacks=[callback],)"
   ]
  },
  {
   "cell_type": "code",
   "execution_count": 546,
   "id": "f0a7d96f-625d-4326-ac2e-f1917006a0dc",
   "metadata": {},
   "outputs": [
    {
     "name": "stdout",
     "output_type": "stream",
     "text": [
      "60/60 [==============================] - 0s 3ms/step - loss: 0.4443 - keyPrediction_loss: 0.6918 - majorPrediction_loss: 0.3382 - keyPrediction_accuracy: 0.7924 - majorPrediction_accuracy: 0.8598\n"
     ]
    },
    {
     "data": {
      "text/plain": [
       "[0.44426608085632324,\n",
       " 0.6918335556983948,\n",
       " 0.3381657600402832,\n",
       " 0.7923640012741089,\n",
       " 0.8598326444625854]"
      ]
     },
     "execution_count": 546,
     "metadata": {},
     "output_type": "execute_result"
    }
   ],
   "source": [
    "model.evaluate(X_test,[y_test[:,:-1],y_test[:,-1]])"
   ]
  },
  {
   "cell_type": "code",
   "execution_count": 547,
   "id": "e181fb75-f422-449c-b149-44774a96e12f",
   "metadata": {},
   "outputs": [],
   "source": [
    "a,b=(model.predict(X_test))"
   ]
  },
  {
   "cell_type": "code",
   "execution_count": 548,
   "id": "a2108c7f-65da-4089-87d2-ad3d2dfd98f6",
   "metadata": {},
   "outputs": [
    {
     "data": {
      "text/plain": [
       "(526, 1386, 0.7248953974895398)"
      ]
     },
     "execution_count": 548,
     "metadata": {},
     "output_type": "execute_result"
    }
   ],
   "source": [
    "wrong=0\n",
    "correct=0\n",
    "for idx,e in enumerate(y_test):\n",
    "    if np.argmax(y_test[idx][:-1])==np.argmax(a[idx]) and y_test[idx][-1]==(1 if b[idx]>=0.5 else 0):\n",
    "        correct+=1\n",
    "    else:\n",
    "        wrong+=1\n",
    "wrong,correct,correct/(wrong+correct)"
   ]
  },
  {
   "cell_type": "code",
   "execution_count": null,
   "id": "95fb14a6-7798-4f65-b57d-103683162389",
   "metadata": {},
   "outputs": [],
   "source": []
  }
 ],
 "metadata": {
  "kernelspec": {
   "display_name": "Python 3",
   "language": "python",
   "name": "python3"
  },
  "language_info": {
   "codemirror_mode": {
    "name": "ipython",
    "version": 3
   },
   "file_extension": ".py",
   "mimetype": "text/x-python",
   "name": "python",
   "nbconvert_exporter": "python",
   "pygments_lexer": "ipython3",
   "version": "3.8.8"
  }
 },
 "nbformat": 4,
 "nbformat_minor": 5
}
