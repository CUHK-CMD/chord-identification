{
 "cells": [
  {
   "cell_type": "code",
   "execution_count": 1,
   "id": "6c6e77d7-8825-4d4e-bb26-f2d6c3021206",
   "metadata": {},
   "outputs": [],
   "source": [
    "from music21 import *\n",
    "import music21\n",
    "import os\n",
    "import glob\n",
    "import re\n",
    "import numpy as np\n",
    "import math"
   ]
  },
  {
   "cell_type": "code",
   "execution_count": 2,
   "id": "de7dfa53",
   "metadata": {
    "jupyter": {
     "source_hidden": true
    },
    "tags": []
   },
   "outputs": [],
   "source": [
    "def demonopolize(notelist):\n",
    "    if len(notelist) <=2:\n",
    "        return notelist\n",
    "    other_values = np.array(list(notelist.values()))\n",
    "    other_values = other_values[other_values < 0.5]\n",
    "    maxval = np.max(other_values)\n",
    "    if len(notelist) <=2:\n",
    "        return notelist\n",
    "    hasChanged = True\n",
    "    dontchange = []\n",
    "    totalredist = 1\n",
    "    for note in notelist:\n",
    "        if notelist[note] >= 0.5:\n",
    "            notelist[note] = maxval\n",
    "    return notelist\n",
    "            \n",
    "\n",
    "def importance_score(notelist,noteduration,noteoctave):\n",
    "    allnotes = {}\n",
    "    for i in range(len(notelist)):\n",
    "        if not notelist[i] in allnotes:\n",
    "            allnotes[notelist[i]] = {\"occ\":1,\"durlist\":[noteduration[i]],\"octavelist\":[noteoctave[i]]}\n",
    "        else:\n",
    "            allnotes[notelist[i]]['occ'] += 1\n",
    "            allnotes[notelist[i]]['durlist'].append(noteduration[i])\n",
    "            allnotes[notelist[i]]['octavelist'].append(noteoctave[i])\n",
    "    returnnote = {}\n",
    "    totalscore = 0\n",
    "    for note in allnotes:\n",
    "        returnnote[note] = int(allnotes[note]['occ'] * (np.sum(allnotes[note]['durlist'])) * (21-2*np.min(allnotes[note]['octavelist'])))\n",
    "        if returnnote[note] == 0:\n",
    "            returnnote[note] = 1\n",
    "        totalscore += returnnote[note]\n",
    "    for note in allnotes:\n",
    "        returnnote[note] = round(returnnote[note]/totalscore,3)\n",
    "    retunnote = demonopolize(returnnote)\n",
    "    return returnnote"
   ]
  },
  {
   "cell_type": "code",
   "execution_count": 3,
   "id": "2ae5f781-c139-4cb9-a56d-3ccc2c0e7bd4",
   "metadata": {},
   "outputs": [],
   "source": [
    "def cal_offset(e):\n",
    "    if e is None:\n",
    "        return 0\n",
    "    return e.offset+cal_offset(e.activeSite)"
   ]
  },
  {
   "cell_type": "code",
   "execution_count": 4,
   "id": "0a76d82b-7bb5-4155-b5ad-40808816f2cc",
   "metadata": {},
   "outputs": [],
   "source": [
    "class Score_in_beat:\n",
    "    \n",
    "    def __init__(self):\n",
    "        self.beat_list=[Beat()]\n",
    "        \n",
    "    #extract info from note and add to corrsponding beat\n",
    "    def add_note(self,note):\n",
    "        length=note.quarterLength\n",
    "        start=cal_offset(note)\n",
    "        end=start+length\n",
    "        rounded_floor_start=math.floor(start)\n",
    "        #loop until the note played to its end\n",
    "        while start<end-0.000000000001:\n",
    "            if len(self.beat_list)-1<rounded_floor_start:\n",
    "                new_beat=rounded_floor_start-(len(self.beat_list)-1)\n",
    "                #the input note maybe is a chord -> recurse all pitch inside\n",
    "                for _ in range(new_beat):\n",
    "                    self.beat_list.append(Beat())\n",
    "            self.beat_list[rounded_floor_start].add_note(note,min(rounded_floor_start+1-start,end-start))\n",
    "            start+=min(rounded_floor_start+1-start,end-start)\n",
    "            rounded_floor_start=int(start)\n",
    "            \n",
    "    #add key to the first occurence of beat\n",
    "    def add_key(self,note):\n",
    "        assert(note.lyric is not None and '(' in note.lyric)\n",
    "        key_change_beat=cal_offset(note)\n",
    "        rounded_floor_key_change_beat=math.floor(key_change_beat)\n",
    "        self.beat_list[rounded_floor_key_change_beat].add_key(note.lyric.split('(')[0])\n",
    "        \n",
    "    #onyl call once\n",
    "    def infer_key(self):\n",
    "        first_key_in_num=None\n",
    "        first_key_full=None\n",
    "        first_key_major=None\n",
    "        #backtrack\n",
    "        for e in self.beat_list:\n",
    "            if e.key_full is not None:\n",
    "                first_key_full=e.key_full\n",
    "                first_key_in_num=e.key_in_num\n",
    "                first_key_major=e.major\n",
    "                break\n",
    "        #bring forward\n",
    "        for e in self.beat_list:\n",
    "            if e.key_full is None:\n",
    "                e.key_full=first_key_full\n",
    "                e.key_in_num=first_key_in_num\n",
    "                e.major=first_key_major\n",
    "            else:\n",
    "                first_key_full=e.key_full\n",
    "                first_key_in_num=e.key_in_num\n",
    "                first_key_major=e.major"
   ]
  },
  {
   "cell_type": "code",
   "execution_count": 5,
   "id": "0f90f301-76d3-41dd-b390-9de5f0f9fc1e",
   "metadata": {},
   "outputs": [],
   "source": [
    "key_mapping={\n",
    "    'C':0,\n",
    "    'D':2,\n",
    "    'E':4,\n",
    "    'F':5,\n",
    "    'G':7,\n",
    "    'A':9,\n",
    "    'B':11\n",
    "}\n",
    "def key2num(k):  \n",
    "    k=k.upper()\n",
    "    num=key_mapping[k[0]]\n",
    "    modifier=len(k)\n",
    "    if modifier==1:\n",
    "        return num\n",
    "    elif k[1]=='#':\n",
    "        return (num+(modifier-1))%12\n",
    "    elif k[1]=='B' or k[1]=='-' or k[1]=='♭':\n",
    "        return (num-(modifier-1))%12\n",
    "    elif k[1]=='X':\n",
    "        return (num+(modifier-1)*2)%12"
   ]
  },
  {
   "cell_type": "code",
   "execution_count": 6,
   "id": "8bc308cd-6388-4cde-a670-9e7838cc932b",
   "metadata": {},
   "outputs": [],
   "source": [
    "class Beat:\n",
    "    def __init__(self):\n",
    "        self.notes = np.zeros((12,7))  #from C1 to C7\n",
    "        self.total_duration = np.zeros((12,7))\n",
    "        self.notes_occurences_count= np.zeros((12,7))\n",
    "        self.key_full=None\n",
    "        self.major=None\n",
    "        self.key_in_num=None\n",
    "        \n",
    "    def add_note(self,note,duration):\n",
    "        assert(duration<=1)\n",
    "        pitches=note.pitches\n",
    "        for pitch in pitches:\n",
    "            pitch_idx=key2num(pitch.nameWithOctave[:-1])\n",
    "            octave=int(pitch.nameWithOctave[-1])-1\n",
    "            if octave<0:\n",
    "                octave=0\n",
    "            elif octave>6:\n",
    "                octave=6\n",
    "            self.notes[pitch_idx,octave]=1\n",
    "            self.total_duration[pitch_idx,octave]+=duration\n",
    "            self.notes_occurences_count[pitch_idx,octave]+=1\n",
    "            \n",
    "    def add_key(self,k):\n",
    "        self.major = 'M' in k\n",
    "        self.key_full=k\n",
    "        k=k[:-1]\n",
    "        self.key_in_num=key2num(k)"
   ]
  },
  {
   "cell_type": "code",
   "execution_count": 7,
   "id": "6c6e77d7-8825-4d4e-bb26-f2d6c3021203",
   "metadata": {
    "tags": []
   },
   "outputs": [
    {
     "name": "stdout",
     "output_type": "stream",
     "text": [
      "../musicxml(notated)\\E╠ütude_in_C_Minor.mxl\n",
      "../musicxml(notated)\\E╠ütude_in_F_Major.mxl\n",
      "../musicxml(notated)\\E╠ütude_in_F_Minor.mxl\n",
      "../musicxml(notated)\\E╠ütude_in_Gb_Major.mxl\n",
      "../musicxml(notated)\\E╠ütude_in_Gb_Major_Opus_25.mxl\n",
      "../musicxml(notated)\\Il_Vecchio_Castello.mxl\n",
      "../musicxml(notated)\\Menuet_in_G_Minor.mxl\n",
      "../musicxml(notated)\\Minuet_in_F.mxl\n",
      "../musicxml(notated)\\Minuet_in_G_Major_2nd.mxl\n",
      "../musicxml(notated)\\Moonlight_Sonata_1st_Movement.mxl\n",
      "../musicxml(notated)\\Nocturne_in_B_Major.mxl\n",
      "../musicxml(notated)\\Nocturne_in_C#_Minor.mxl\n",
      "../musicxml(notated)\\Nocturne_in_Eb_Major.mxl\n",
      "../musicxml(notated)\\Nocturne_in_E_Minor.mxl\n",
      "../musicxml(notated)\\Nocturne_in_F#_Major.mxl\n",
      "../musicxml(notated)\\Nocturne_in_F_Minor.mxl\n",
      "../musicxml(notated)\\Nocturne_No._20_in_C#_Minor.mxl\n",
      "../musicxml(notated)\\notes-to-chord.mxl\n",
      "../musicxml(notated)\\Piano_Sonata_No._11.mxl\n",
      "../musicxml(notated)\\Pre╠ülude_in_A_Major.mxl\n",
      "../musicxml(notated)\\Pre╠ülude_in_B_Major.mxl\n",
      "../musicxml(notated)\\Pre╠ülude_in_B_Minor.mxl\n",
      "../musicxml(notated)\\Pre╠ülude_in_B_Minor_Opus104a.mxl\n",
      "../musicxml(notated)\\Pre╠ülude_in_C_Minor.mxl\n",
      "../musicxml(notated)\\Pre╠ülude_in_Db_Major.mxl\n",
      "../musicxml(notated)\\Pre╠ülude_in_F#_Major.mxl\n",
      "../musicxml(notated)\\Pre╠ülude_in_G_Major.mxl\n",
      "../musicxml(notated)\\Prlude_Opus_28_No._4_in_E_Minor.mxl\n",
      "../musicxml(notated)\\Sonata_No._1.mxl\n",
      "../musicxml(notated)\\Sonate_No._28.mxl\n",
      "../musicxml(notated)\\Sonate_No._28_2nd_mov.mxl\n",
      "../musicxml(notated)\\Sonate_No._31.mxl\n",
      "../musicxml(notated)\\Sonatina_in_G.mxl\n",
      "../musicxml(notated)\\Twinkle-Twinkle.mxl\n",
      "../musicxml(notated)\\Waltz_in_A_Major_Op.39_No.15_by_Johannes_Brahms.mxl\n",
      "../musicxml(notated)\\Waltz_in_A_Minor.mxl\n",
      "../musicxml(notated)\\Waltz_in_Eb_Major.mxl\n"
     ]
    }
   ],
   "source": [
    "#piece='./Chopin_F._Nocturne_in_E_Major,_Op.26_No.2.mxl'\n",
    "all_score=[]\n",
    "for piece in glob.glob(\"../musicxml(notated)/*.mxl\"):\n",
    "    all_beat=Score_in_beat()\n",
    "    all_score.append(all_beat)\n",
    "    print(piece)\n",
    "    chords = []\n",
    "    notes = []\n",
    "    c = converter.parse(piece)\n",
    "    post = c.flat\n",
    "\n",
    "    #extract note\n",
    "    all_notes=[]\n",
    "    for note in post.notes:\n",
    "        all_notes.append(note)\n",
    "        all_beat.add_note(note)\n",
    "        if note.lyric is not None and '(' in note.lyric:\n",
    "            all_beat.add_key(note)\n",
    "        #print(note,note.pitches,note.pitches[0].nameWithOctave,note.quarterLength,cal_offset(note))\n",
    "\n",
    "    all_beat.infer_key()"
   ]
  },
  {
   "cell_type": "code",
   "execution_count": 8,
   "id": "f21becbd-d584-4dd5-ac2a-c8ac0b4db4f6",
   "metadata": {},
   "outputs": [
    {
     "name": "stdout",
     "output_type": "stream",
     "text": [
      "0 Cm\n",
      "1 FM\n",
      "2 Fm\n",
      "3 G♭M\n",
      "4 G♭M\n",
      "5 G#m\n",
      "6 Gm\n",
      "7 FM\n",
      "8 GM\n",
      "9 C#m\n",
      "10 BM\n",
      "11 C#m\n",
      "12 E♭M\n",
      "13 Em\n",
      "14 F#M\n",
      "15 Fm\n",
      "16 C#m\n",
      "17 E♭M\n",
      "18 Am\n",
      "19 AM\n",
      "20 BM\n",
      "21 Bm\n",
      "22 Bm\n",
      "23 Cm\n",
      "24 D♭M\n",
      "25 F#M\n",
      "26 DM\n",
      "27 Em\n",
      "28 E♭M\n",
      "29 AM\n",
      "30 FM\n",
      "31 Fm\n",
      "32 GM\n",
      "33 CM\n",
      "34 A♭M\n",
      "35 Am\n",
      "36 E♭M\n"
     ]
    }
   ],
   "source": [
    "for i in range(len(all_score)):\n",
    "    print(i,all_score[i].beat_list[0].key_full)"
   ]
  },
  {
   "cell_type": "code",
   "execution_count": 9,
   "id": "b3fa894d-70ff-4af7-b82c-d4a612e0b289",
   "metadata": {},
   "outputs": [
    {
     "ename": "SyntaxError",
     "evalue": "invalid syntax (<ipython-input-9-4f6fca2f5360>, line 1)",
     "output_type": "error",
     "traceback": [
      "\u001b[1;36m  File \u001b[1;32m\"<ipython-input-9-4f6fca2f5360>\"\u001b[1;36m, line \u001b[1;32m1\u001b[0m\n\u001b[1;33m    -----------------------------------------------------------------------------------------------------asg-----------------------\u001b[0m\n\u001b[1;37m                                                                                                                                   ^\u001b[0m\n\u001b[1;31mSyntaxError\u001b[0m\u001b[1;31m:\u001b[0m invalid syntax\n"
     ]
    }
   ],
   "source": [
    "-----------------------------------------------------------------------------------------------------asg-----------------------"
   ]
  },
  {
   "cell_type": "code",
   "execution_count": null,
   "id": "2d3484dc-3734-4806-8d3d-1e497622f790",
   "metadata": {},
   "outputs": [],
   "source": [
    "#prepare train and test data"
   ]
  },
  {
   "cell_type": "code",
   "execution_count": 305,
   "id": "2e956ce3-b45e-4579-bdc2-45e862bdd53f",
   "metadata": {},
   "outputs": [],
   "source": [
    "from sklearn.model_selection import train_test_split"
   ]
  },
  {
   "cell_type": "code",
   "execution_count": 306,
   "id": "787161e9-c900-46b3-84ca-e7ee0cc7abae",
   "metadata": {},
   "outputs": [
    {
     "data": {
      "text/plain": [
       "935"
      ]
     },
     "execution_count": 306,
     "metadata": {},
     "output_type": "execute_result"
    }
   ],
   "source": [
    "max([len(e.beat_list) for e in all_score])"
   ]
  },
  {
   "cell_type": "code",
   "execution_count": 436,
   "id": "f1b79f55-dd57-424c-9ca4-4604af751dbf",
   "metadata": {},
   "outputs": [],
   "source": [
    "X=[]\n",
    "Y=[]\n",
    "weight=[1.3,1.2,1.1,1,0.9,0.8,0.7]\n",
    "for e in all_score:\n",
    "    tempX=[]\n",
    "    tempY=[]\n",
    "    count=0\n",
    "    for beat in e.beat_list:\n",
    "        value=beat.total_duration*beat.notes_occurences_count\n",
    "        if np.sum(value)!=0:\n",
    "            value/=np.sum(value)\n",
    "            value*=weight\n",
    "            value=value.sum(axis=1)\n",
    "            value/=value.sum()\n",
    "        else:\n",
    "            value=np.zeros((12))\n",
    "            \n",
    "        assert(len(value)==12)\n",
    "        tempX.append(value)\n",
    "        \n",
    "        prepare_y=np.zeros((13,1))\n",
    "        prepare_y[-1]=beat.major*1\n",
    "        prepare_y[beat.key_in_num]=1\n",
    "        assert(len(prepare_y)==13)\n",
    "        tempY.append(prepare_y)\n",
    "        count+=1\n",
    "    X.append(tempX)\n",
    "    Y.append(tempY)"
   ]
  },
  {
   "cell_type": "code",
   "execution_count": 437,
   "id": "26e7ee48-a061-41ff-b71b-c36c8c592b69",
   "metadata": {},
   "outputs": [],
   "source": [
    "look_forward=1\n",
    "look_after=1\n",
    "dataX,dataY=[],[]\n",
    "for idx_p,piece in enumerate(X):\n",
    "    for idx_b,beat in enumerate(piece):\n",
    "        tempX=[]\n",
    "        for i in reversed(range(1,look_forward+1)):\n",
    "            if(idx_b-i)<0:\n",
    "                tempX.append(np.zeros(12))\n",
    "            else:\n",
    "                tempX.append(piece[idx_b-i])\n",
    "        tempX.append(piece[idx_b])\n",
    "        for i in range(1,look_after+1):\n",
    "            if(idx_b+i)>len(piece)-1:\n",
    "                tempX.append(np.zeros(12))\n",
    "            else:\n",
    "                tempX.append(piece[idx_b+i])\n",
    "        dataX.append(tempX)\n",
    "        dataY.append(Y[idx_p][idx_b])"
   ]
  },
  {
   "cell_type": "code",
   "execution_count": 438,
   "id": "0bfcb592-4142-4eb5-be45-d075b17c1c44",
   "metadata": {},
   "outputs": [],
   "source": [
    "dataX=np.array(dataX)\n",
    "dataY=np.array(dataY)"
   ]
  },
  {
   "cell_type": "code",
   "execution_count": 439,
   "id": "b97279dd-9b83-4864-bf52-b6364f9f5b85",
   "metadata": {},
   "outputs": [],
   "source": [
    "dataY=dataY.reshape((-1,13))"
   ]
  },
  {
   "cell_type": "code",
   "execution_count": 440,
   "id": "c0fd2d49-e715-493b-9166-602c200c223f",
   "metadata": {},
   "outputs": [
    {
     "data": {
      "text/plain": [
       "((9560, 3, 12), (9560, 13))"
      ]
     },
     "execution_count": 440,
     "metadata": {},
     "output_type": "execute_result"
    }
   ],
   "source": [
    "dataX.shape,dataY.shape"
   ]
  },
  {
   "cell_type": "code",
   "execution_count": 441,
   "id": "76bf992b-96b7-4a48-a7c4-e77f0ab5f0b7",
   "metadata": {},
   "outputs": [],
   "source": [
    "X_train, X_test, y_train, y_test = train_test_split(dataX, dataY, test_size=0.2, random_state=42)"
   ]
  },
  {
   "cell_type": "code",
   "execution_count": 442,
   "id": "580d2a1a-8a40-4bd5-857b-881ab66401f8",
   "metadata": {},
   "outputs": [],
   "source": [
    "#train"
   ]
  },
  {
   "cell_type": "code",
   "execution_count": 463,
   "id": "eb6c82ad",
   "metadata": {
    "tags": []
   },
   "outputs": [],
   "source": [
    "import numpy\n",
    "from keras.models import Sequential\n",
    "from keras.layers import Dense\n",
    "from keras.layers import LSTM\n",
    "from keras.layers.embeddings import Embedding\n",
    "from keras.preprocessing import sequence"
   ]
  },
  {
   "cell_type": "code",
   "execution_count": 464,
   "id": "86637742-2dd2-45a9-a629-4cafd96a8ef4",
   "metadata": {},
   "outputs": [],
   "source": [
    "from keras.layers import Flatten\n",
    "from keras.layers import Input\n",
    "from keras.models import Model\n",
    "from keras.callbacks import EarlyStopping\n",
    "from keras.layers import Bidirectional"
   ]
  },
  {
   "cell_type": "code",
   "execution_count": 574,
   "id": "aaa8625b-4979-47cb-83a8-7ee8999805e7",
   "metadata": {},
   "outputs": [],
   "source": [
    "in_data = Input(shape=(1+look_forward+look_after,12))\n",
    "lstm = LSTM(128, return_sequences=True)(in_data)\n",
    "lstm = LSTM(128)(lstm)\n",
    "lstm = Dense(64,activation='relu')(lstm)\n",
    "\n",
    "output=Dense(12,activation='softmax',name='keyPrediction')(lstm)\n",
    "output2=Dense(1,activation='sigmoid',name='majorPrediction')(lstm)\n",
    "model = Model(inputs=in_data, outputs=[output,output2])"
   ]
  },
  {
   "cell_type": "code",
   "execution_count": 575,
   "id": "840336a8-73f7-4ece-892f-f73940d37f65",
   "metadata": {},
   "outputs": [],
   "source": [
    "losses ={\n",
    "          'keyPrediction':'categorical_crossentropy',\n",
    "          'majorPrediction':'binary_crossentropy'    \n",
    "        }"
   ]
  },
  {
   "cell_type": "code",
   "execution_count": 576,
   "id": "bfb963e1-773b-41d0-8524-483c3fa8a60a",
   "metadata": {},
   "outputs": [],
   "source": [
    "lossWeights={\n",
    "          'keyPrediction':0.9,\n",
    "          'majorPrediction':0.1  \n",
    "        }"
   ]
  },
  {
   "cell_type": "code",
   "execution_count": 568,
   "id": "c60c16b9-3ef3-4282-8046-801ad0f522cf",
   "metadata": {},
   "outputs": [
    {
     "name": "stdout",
     "output_type": "stream",
     "text": [
      "Model: \"model_59\"\n",
      "__________________________________________________________________________________________________\n",
      "Layer (type)                    Output Shape         Param #     Connected to                     \n",
      "==================================================================================================\n",
      "input_82 (InputLayer)           [(None, 3, 12)]      0                                            \n",
      "__________________________________________________________________________________________________\n",
      "lstm_124 (LSTM)                 (None, 3, 64)        19712       input_82[0][0]                   \n",
      "__________________________________________________________________________________________________\n",
      "lstm_125 (LSTM)                 (None, 32)           12416       lstm_124[0][0]                   \n",
      "__________________________________________________________________________________________________\n",
      "dense_58 (Dense)                (None, 256)          8448        lstm_125[0][0]                   \n",
      "__________________________________________________________________________________________________\n",
      "keyPrediction (Dense)           (None, 12)           3084        dense_58[0][0]                   \n",
      "__________________________________________________________________________________________________\n",
      "majorPrediction (Dense)         (None, 1)            257         dense_58[0][0]                   \n",
      "==================================================================================================\n",
      "Total params: 43,917\n",
      "Trainable params: 43,917\n",
      "Non-trainable params: 0\n",
      "__________________________________________________________________________________________________\n"
     ]
    }
   ],
   "source": [
    "model.compile(  loss=losses,\n",
    "                loss_weights= lossWeights,\n",
    "                optimizer='adam',\n",
    "                metrics=['accuracy'])\n",
    "model.summary()"
   ]
  },
  {
   "cell_type": "code",
   "execution_count": 569,
   "id": "c1f3a875-dd76-4d6d-924a-138af5b8666a",
   "metadata": {},
   "outputs": [],
   "source": [
    "callback=EarlyStopping(\n",
    "    monitor='val_loss', min_delta=0, patience=50, verbose=2, mode='auto',\n",
    "    baseline=None, restore_best_weights=True)"
   ]
  },
  {
   "cell_type": "code",
   "execution_count": 570,
   "id": "518d3977-6a41-4200-be58-bc749c34293e",
   "metadata": {},
   "outputs": [
    {
     "name": "stdout",
     "output_type": "stream",
     "text": [
      "Epoch 1/1000\n",
      "239/239 - 3s - loss: 1.4366 - keyPrediction_loss: 1.6296 - majorPrediction_loss: 0.6643 - keyPrediction_accuracy: 0.4417 - majorPrediction_accuracy: 0.5875 - val_loss: 1.1400 - val_keyPrediction_loss: 1.2668 - val_majorPrediction_loss: 0.6327 - val_keyPrediction_accuracy: 0.5601 - val_majorPrediction_accuracy: 0.6464\n",
      "Epoch 2/1000\n",
      "239/239 - 1s - loss: 1.0777 - keyPrediction_loss: 1.1883 - majorPrediction_loss: 0.6351 - keyPrediction_accuracy: 0.5875 - majorPrediction_accuracy: 0.6428 - val_loss: 1.0264 - val_keyPrediction_loss: 1.1271 - val_majorPrediction_loss: 0.6236 - val_keyPrediction_accuracy: 0.6240 - val_majorPrediction_accuracy: 0.6475\n",
      "Epoch 3/1000\n",
      "239/239 - 1s - loss: 0.9838 - keyPrediction_loss: 1.0744 - majorPrediction_loss: 0.6214 - keyPrediction_accuracy: 0.6317 - majorPrediction_accuracy: 0.6576 - val_loss: 0.9653 - val_keyPrediction_loss: 1.0539 - val_majorPrediction_loss: 0.6109 - val_keyPrediction_accuracy: 0.6564 - val_majorPrediction_accuracy: 0.6689\n",
      "Epoch 4/1000\n",
      "239/239 - 1s - loss: 0.9272 - keyPrediction_loss: 1.0064 - majorPrediction_loss: 0.6102 - keyPrediction_accuracy: 0.6616 - majorPrediction_accuracy: 0.6654 - val_loss: 0.9252 - val_keyPrediction_loss: 1.0068 - val_majorPrediction_loss: 0.5988 - val_keyPrediction_accuracy: 0.6768 - val_majorPrediction_accuracy: 0.6982\n",
      "Epoch 5/1000\n",
      "239/239 - 1s - loss: 0.8760 - keyPrediction_loss: 0.9467 - majorPrediction_loss: 0.5934 - keyPrediction_accuracy: 0.6838 - majorPrediction_accuracy: 0.6853 - val_loss: 0.8827 - val_keyPrediction_loss: 0.9597 - val_majorPrediction_loss: 0.5745 - val_keyPrediction_accuracy: 0.6925 - val_majorPrediction_accuracy: 0.7191\n",
      "Epoch 6/1000\n",
      "239/239 - 1s - loss: 0.8327 - keyPrediction_loss: 0.8973 - majorPrediction_loss: 0.5742 - keyPrediction_accuracy: 0.7014 - majorPrediction_accuracy: 0.7070 - val_loss: 0.8591 - val_keyPrediction_loss: 0.9346 - val_majorPrediction_loss: 0.5572 - val_keyPrediction_accuracy: 0.7118 - val_majorPrediction_accuracy: 0.7233\n",
      "Epoch 7/1000\n",
      "239/239 - 1s - loss: 0.8043 - keyPrediction_loss: 0.8657 - majorPrediction_loss: 0.5588 - keyPrediction_accuracy: 0.7137 - majorPrediction_accuracy: 0.7193 - val_loss: 0.8494 - val_keyPrediction_loss: 0.9276 - val_majorPrediction_loss: 0.5368 - val_keyPrediction_accuracy: 0.7035 - val_majorPrediction_accuracy: 0.7568\n",
      "Epoch 8/1000\n",
      "239/239 - 1s - loss: 0.7777 - keyPrediction_loss: 0.8366 - majorPrediction_loss: 0.5422 - keyPrediction_accuracy: 0.7241 - majorPrediction_accuracy: 0.7352 - val_loss: 0.8113 - val_keyPrediction_loss: 0.8807 - val_majorPrediction_loss: 0.5335 - val_keyPrediction_accuracy: 0.7354 - val_majorPrediction_accuracy: 0.7578\n",
      "Epoch 9/1000\n",
      "239/239 - 1s - loss: 0.7603 - keyPrediction_loss: 0.8171 - majorPrediction_loss: 0.5331 - keyPrediction_accuracy: 0.7325 - majorPrediction_accuracy: 0.7454 - val_loss: 0.7956 - val_keyPrediction_loss: 0.8650 - val_majorPrediction_loss: 0.5183 - val_keyPrediction_accuracy: 0.7327 - val_majorPrediction_accuracy: 0.7474\n",
      "Epoch 10/1000\n",
      "239/239 - 1s - loss: 0.7374 - keyPrediction_loss: 0.7926 - majorPrediction_loss: 0.5168 - keyPrediction_accuracy: 0.7408 - majorPrediction_accuracy: 0.7551 - val_loss: 0.7725 - val_keyPrediction_loss: 0.8408 - val_majorPrediction_loss: 0.4994 - val_keyPrediction_accuracy: 0.7369 - val_majorPrediction_accuracy: 0.7589\n",
      "Epoch 11/1000\n",
      "239/239 - 1s - loss: 0.7127 - keyPrediction_loss: 0.7651 - majorPrediction_loss: 0.5031 - keyPrediction_accuracy: 0.7508 - majorPrediction_accuracy: 0.7628 - val_loss: 0.7717 - val_keyPrediction_loss: 0.8435 - val_majorPrediction_loss: 0.4847 - val_keyPrediction_accuracy: 0.7291 - val_majorPrediction_accuracy: 0.7762\n",
      "Epoch 12/1000\n",
      "239/239 - 1s - loss: 0.6987 - keyPrediction_loss: 0.7495 - majorPrediction_loss: 0.4953 - keyPrediction_accuracy: 0.7492 - majorPrediction_accuracy: 0.7649 - val_loss: 0.7494 - val_keyPrediction_loss: 0.8188 - val_majorPrediction_loss: 0.4715 - val_keyPrediction_accuracy: 0.7432 - val_majorPrediction_accuracy: 0.7903\n",
      "Epoch 13/1000\n",
      "239/239 - 1s - loss: 0.6836 - keyPrediction_loss: 0.7338 - majorPrediction_loss: 0.4830 - keyPrediction_accuracy: 0.7585 - majorPrediction_accuracy: 0.7722 - val_loss: 0.7441 - val_keyPrediction_loss: 0.8138 - val_majorPrediction_loss: 0.4655 - val_keyPrediction_accuracy: 0.7401 - val_majorPrediction_accuracy: 0.7861\n",
      "Epoch 14/1000\n",
      "239/239 - 1s - loss: 0.6738 - keyPrediction_loss: 0.7242 - majorPrediction_loss: 0.4723 - keyPrediction_accuracy: 0.7610 - majorPrediction_accuracy: 0.7803 - val_loss: 0.7426 - val_keyPrediction_loss: 0.8157 - val_majorPrediction_loss: 0.4499 - val_keyPrediction_accuracy: 0.7437 - val_majorPrediction_accuracy: 0.8018\n",
      "Epoch 15/1000\n",
      "239/239 - 1s - loss: 0.6567 - keyPrediction_loss: 0.7054 - majorPrediction_loss: 0.4622 - keyPrediction_accuracy: 0.7670 - majorPrediction_accuracy: 0.7840 - val_loss: 0.7194 - val_keyPrediction_loss: 0.7887 - val_majorPrediction_loss: 0.4423 - val_keyPrediction_accuracy: 0.7537 - val_majorPrediction_accuracy: 0.7892\n",
      "Epoch 16/1000\n",
      "239/239 - 1s - loss: 0.6460 - keyPrediction_loss: 0.6938 - majorPrediction_loss: 0.4548 - keyPrediction_accuracy: 0.7734 - majorPrediction_accuracy: 0.7907 - val_loss: 0.7237 - val_keyPrediction_loss: 0.7917 - val_majorPrediction_loss: 0.4517 - val_keyPrediction_accuracy: 0.7537 - val_majorPrediction_accuracy: 0.7835\n",
      "Epoch 17/1000\n",
      "239/239 - 1s - loss: 0.6275 - keyPrediction_loss: 0.6730 - majorPrediction_loss: 0.4458 - keyPrediction_accuracy: 0.7780 - majorPrediction_accuracy: 0.7917 - val_loss: 0.7199 - val_keyPrediction_loss: 0.7924 - val_majorPrediction_loss: 0.4301 - val_keyPrediction_accuracy: 0.7626 - val_majorPrediction_accuracy: 0.8154\n",
      "Epoch 18/1000\n",
      "239/239 - 1s - loss: 0.6164 - keyPrediction_loss: 0.6615 - majorPrediction_loss: 0.4360 - keyPrediction_accuracy: 0.7797 - majorPrediction_accuracy: 0.8015 - val_loss: 0.7120 - val_keyPrediction_loss: 0.7839 - val_majorPrediction_loss: 0.4245 - val_keyPrediction_accuracy: 0.7594 - val_majorPrediction_accuracy: 0.8201\n",
      "Epoch 19/1000\n",
      "239/239 - 1s - loss: 0.6036 - keyPrediction_loss: 0.6473 - majorPrediction_loss: 0.4286 - keyPrediction_accuracy: 0.7888 - majorPrediction_accuracy: 0.8049 - val_loss: 0.7105 - val_keyPrediction_loss: 0.7801 - val_majorPrediction_loss: 0.4323 - val_keyPrediction_accuracy: 0.7626 - val_majorPrediction_accuracy: 0.7981\n",
      "Epoch 20/1000\n",
      "239/239 - 1s - loss: 0.5964 - keyPrediction_loss: 0.6395 - majorPrediction_loss: 0.4240 - keyPrediction_accuracy: 0.7890 - majorPrediction_accuracy: 0.8050 - val_loss: 0.6947 - val_keyPrediction_loss: 0.7617 - val_majorPrediction_loss: 0.4267 - val_keyPrediction_accuracy: 0.7646 - val_majorPrediction_accuracy: 0.8101\n",
      "Epoch 21/1000\n",
      "239/239 - 1s - loss: 0.5812 - keyPrediction_loss: 0.6229 - majorPrediction_loss: 0.4143 - keyPrediction_accuracy: 0.7943 - majorPrediction_accuracy: 0.8099 - val_loss: 0.6950 - val_keyPrediction_loss: 0.7648 - val_majorPrediction_loss: 0.4160 - val_keyPrediction_accuracy: 0.7605 - val_majorPrediction_accuracy: 0.8201\n",
      "Epoch 22/1000\n",
      "239/239 - 1s - loss: 0.5758 - keyPrediction_loss: 0.6169 - majorPrediction_loss: 0.4115 - keyPrediction_accuracy: 0.7929 - majorPrediction_accuracy: 0.8117 - val_loss: 0.6866 - val_keyPrediction_loss: 0.7571 - val_majorPrediction_loss: 0.4046 - val_keyPrediction_accuracy: 0.7662 - val_majorPrediction_accuracy: 0.8196\n",
      "Epoch 23/1000\n",
      "239/239 - 1s - loss: 0.5605 - keyPrediction_loss: 0.6000 - majorPrediction_loss: 0.4023 - keyPrediction_accuracy: 0.8013 - majorPrediction_accuracy: 0.8149 - val_loss: 0.6852 - val_keyPrediction_loss: 0.7557 - val_majorPrediction_loss: 0.4034 - val_keyPrediction_accuracy: 0.7646 - val_majorPrediction_accuracy: 0.8217\n",
      "Epoch 24/1000\n",
      "239/239 - 1s - loss: 0.5482 - keyPrediction_loss: 0.5858 - majorPrediction_loss: 0.3977 - keyPrediction_accuracy: 0.8044 - majorPrediction_accuracy: 0.8175 - val_loss: 0.6779 - val_keyPrediction_loss: 0.7476 - val_majorPrediction_loss: 0.3987 - val_keyPrediction_accuracy: 0.7688 - val_majorPrediction_accuracy: 0.8222\n",
      "Epoch 25/1000\n",
      "239/239 - 1s - loss: 0.5410 - keyPrediction_loss: 0.5785 - majorPrediction_loss: 0.3910 - keyPrediction_accuracy: 0.8049 - majorPrediction_accuracy: 0.8223 - val_loss: 0.6747 - val_keyPrediction_loss: 0.7436 - val_majorPrediction_loss: 0.3989 - val_keyPrediction_accuracy: 0.7762 - val_majorPrediction_accuracy: 0.8175\n",
      "Epoch 26/1000\n",
      "239/239 - 1s - loss: 0.5321 - keyPrediction_loss: 0.5692 - majorPrediction_loss: 0.3837 - keyPrediction_accuracy: 0.8040 - majorPrediction_accuracy: 0.8265 - val_loss: 0.6599 - val_keyPrediction_loss: 0.7297 - val_majorPrediction_loss: 0.3804 - val_keyPrediction_accuracy: 0.7714 - val_majorPrediction_accuracy: 0.8243\n",
      "Epoch 27/1000\n",
      "239/239 - 1s - loss: 0.5178 - keyPrediction_loss: 0.5514 - majorPrediction_loss: 0.3836 - keyPrediction_accuracy: 0.8125 - majorPrediction_accuracy: 0.8262 - val_loss: 0.6569 - val_keyPrediction_loss: 0.7242 - val_majorPrediction_loss: 0.3877 - val_keyPrediction_accuracy: 0.7756 - val_majorPrediction_accuracy: 0.8311\n",
      "Epoch 28/1000\n",
      "239/239 - 1s - loss: 0.5105 - keyPrediction_loss: 0.5441 - majorPrediction_loss: 0.3762 - keyPrediction_accuracy: 0.8121 - majorPrediction_accuracy: 0.8319 - val_loss: 0.6500 - val_keyPrediction_loss: 0.7185 - val_majorPrediction_loss: 0.3759 - val_keyPrediction_accuracy: 0.7809 - val_majorPrediction_accuracy: 0.8300\n",
      "Epoch 29/1000\n",
      "239/239 - 1s - loss: 0.4982 - keyPrediction_loss: 0.5306 - majorPrediction_loss: 0.3684 - keyPrediction_accuracy: 0.8185 - majorPrediction_accuracy: 0.8347 - val_loss: 0.6556 - val_keyPrediction_loss: 0.7242 - val_majorPrediction_loss: 0.3809 - val_keyPrediction_accuracy: 0.7824 - val_majorPrediction_accuracy: 0.8258\n",
      "Epoch 30/1000\n",
      "239/239 - 1s - loss: 0.4911 - keyPrediction_loss: 0.5227 - majorPrediction_loss: 0.3648 - keyPrediction_accuracy: 0.8222 - majorPrediction_accuracy: 0.8401 - val_loss: 0.6538 - val_keyPrediction_loss: 0.7239 - val_majorPrediction_loss: 0.3733 - val_keyPrediction_accuracy: 0.7720 - val_majorPrediction_accuracy: 0.8405\n",
      "Epoch 31/1000\n",
      "239/239 - 1s - loss: 0.4830 - keyPrediction_loss: 0.5129 - majorPrediction_loss: 0.3633 - keyPrediction_accuracy: 0.8251 - majorPrediction_accuracy: 0.8404 - val_loss: 0.6361 - val_keyPrediction_loss: 0.6996 - val_majorPrediction_loss: 0.3822 - val_keyPrediction_accuracy: 0.7793 - val_majorPrediction_accuracy: 0.8232\n",
      "Epoch 32/1000\n",
      "239/239 - 1s - loss: 0.4711 - keyPrediction_loss: 0.5002 - majorPrediction_loss: 0.3546 - keyPrediction_accuracy: 0.8254 - majorPrediction_accuracy: 0.8445 - val_loss: 0.6499 - val_keyPrediction_loss: 0.7188 - val_majorPrediction_loss: 0.3745 - val_keyPrediction_accuracy: 0.7694 - val_majorPrediction_accuracy: 0.8285\n",
      "Epoch 33/1000\n",
      "239/239 - 1s - loss: 0.4671 - keyPrediction_loss: 0.4947 - majorPrediction_loss: 0.3567 - keyPrediction_accuracy: 0.8329 - majorPrediction_accuracy: 0.8454 - val_loss: 0.6419 - val_keyPrediction_loss: 0.7096 - val_majorPrediction_loss: 0.3712 - val_keyPrediction_accuracy: 0.7877 - val_majorPrediction_accuracy: 0.8415\n",
      "Epoch 34/1000\n",
      "239/239 - 1s - loss: 0.4491 - keyPrediction_loss: 0.4747 - majorPrediction_loss: 0.3465 - keyPrediction_accuracy: 0.8404 - majorPrediction_accuracy: 0.8474 - val_loss: 0.6439 - val_keyPrediction_loss: 0.7126 - val_majorPrediction_loss: 0.3695 - val_keyPrediction_accuracy: 0.7782 - val_majorPrediction_accuracy: 0.8410\n",
      "Epoch 35/1000\n",
      "239/239 - 1s - loss: 0.4448 - keyPrediction_loss: 0.4697 - majorPrediction_loss: 0.3453 - keyPrediction_accuracy: 0.8392 - majorPrediction_accuracy: 0.8491 - val_loss: 0.6208 - val_keyPrediction_loss: 0.6858 - val_majorPrediction_loss: 0.3608 - val_keyPrediction_accuracy: 0.7897 - val_majorPrediction_accuracy: 0.8426\n",
      "Epoch 36/1000\n",
      "239/239 - 1s - loss: 0.4377 - keyPrediction_loss: 0.4614 - majorPrediction_loss: 0.3429 - keyPrediction_accuracy: 0.8445 - majorPrediction_accuracy: 0.8509 - val_loss: 0.6237 - val_keyPrediction_loss: 0.6897 - val_majorPrediction_loss: 0.3600 - val_keyPrediction_accuracy: 0.7908 - val_majorPrediction_accuracy: 0.8363\n",
      "Epoch 37/1000\n",
      "239/239 - 1s - loss: 0.4286 - keyPrediction_loss: 0.4515 - majorPrediction_loss: 0.3371 - keyPrediction_accuracy: 0.8471 - majorPrediction_accuracy: 0.8533 - val_loss: 0.6441 - val_keyPrediction_loss: 0.7131 - val_majorPrediction_loss: 0.3683 - val_keyPrediction_accuracy: 0.7782 - val_majorPrediction_accuracy: 0.8347\n",
      "Epoch 38/1000\n",
      "239/239 - 1s - loss: 0.4191 - keyPrediction_loss: 0.4412 - majorPrediction_loss: 0.3307 - keyPrediction_accuracy: 0.8504 - majorPrediction_accuracy: 0.8560 - val_loss: 0.6365 - val_keyPrediction_loss: 0.7039 - val_majorPrediction_loss: 0.3669 - val_keyPrediction_accuracy: 0.7824 - val_majorPrediction_accuracy: 0.8358\n",
      "Epoch 39/1000\n",
      "239/239 - 1s - loss: 0.4118 - keyPrediction_loss: 0.4321 - majorPrediction_loss: 0.3307 - keyPrediction_accuracy: 0.8534 - majorPrediction_accuracy: 0.8566 - val_loss: 0.6260 - val_keyPrediction_loss: 0.6929 - val_majorPrediction_loss: 0.3585 - val_keyPrediction_accuracy: 0.7871 - val_majorPrediction_accuracy: 0.8394\n",
      "Epoch 40/1000\n",
      "239/239 - 1s - loss: 0.4039 - keyPrediction_loss: 0.4239 - majorPrediction_loss: 0.3237 - keyPrediction_accuracy: 0.8568 - majorPrediction_accuracy: 0.8605 - val_loss: 0.6394 - val_keyPrediction_loss: 0.7067 - val_majorPrediction_loss: 0.3703 - val_keyPrediction_accuracy: 0.7897 - val_majorPrediction_accuracy: 0.8421\n",
      "Epoch 41/1000\n",
      "239/239 - 1s - loss: 0.3962 - keyPrediction_loss: 0.4137 - majorPrediction_loss: 0.3263 - keyPrediction_accuracy: 0.8577 - majorPrediction_accuracy: 0.8626 - val_loss: 0.6202 - val_keyPrediction_loss: 0.6867 - val_majorPrediction_loss: 0.3540 - val_keyPrediction_accuracy: 0.7892 - val_majorPrediction_accuracy: 0.8478\n",
      "Epoch 42/1000\n",
      "239/239 - 1s - loss: 0.3883 - keyPrediction_loss: 0.4057 - majorPrediction_loss: 0.3190 - keyPrediction_accuracy: 0.8627 - majorPrediction_accuracy: 0.8630 - val_loss: 0.6142 - val_keyPrediction_loss: 0.6793 - val_majorPrediction_loss: 0.3537 - val_keyPrediction_accuracy: 0.7992 - val_majorPrediction_accuracy: 0.8462\n",
      "Epoch 43/1000\n",
      "239/239 - 1s - loss: 0.3794 - keyPrediction_loss: 0.3954 - majorPrediction_loss: 0.3154 - keyPrediction_accuracy: 0.8696 - majorPrediction_accuracy: 0.8673 - val_loss: 0.6171 - val_keyPrediction_loss: 0.6829 - val_majorPrediction_loss: 0.3541 - val_keyPrediction_accuracy: 0.7986 - val_majorPrediction_accuracy: 0.8488\n",
      "Epoch 44/1000\n",
      "239/239 - 1s - loss: 0.3723 - keyPrediction_loss: 0.3866 - majorPrediction_loss: 0.3150 - keyPrediction_accuracy: 0.8716 - majorPrediction_accuracy: 0.8658 - val_loss: 0.6278 - val_keyPrediction_loss: 0.6938 - val_majorPrediction_loss: 0.3638 - val_keyPrediction_accuracy: 0.7903 - val_majorPrediction_accuracy: 0.8410\n",
      "Epoch 45/1000\n",
      "239/239 - 1s - loss: 0.3667 - keyPrediction_loss: 0.3797 - majorPrediction_loss: 0.3144 - keyPrediction_accuracy: 0.8715 - majorPrediction_accuracy: 0.8665 - val_loss: 0.6077 - val_keyPrediction_loss: 0.6710 - val_majorPrediction_loss: 0.3549 - val_keyPrediction_accuracy: 0.8033 - val_majorPrediction_accuracy: 0.8462\n",
      "Epoch 46/1000\n",
      "239/239 - 1s - loss: 0.3607 - keyPrediction_loss: 0.3728 - majorPrediction_loss: 0.3122 - keyPrediction_accuracy: 0.8704 - majorPrediction_accuracy: 0.8665 - val_loss: 0.6074 - val_keyPrediction_loss: 0.6688 - val_majorPrediction_loss: 0.3617 - val_keyPrediction_accuracy: 0.8049 - val_majorPrediction_accuracy: 0.8379\n",
      "Epoch 47/1000\n",
      "239/239 - 1s - loss: 0.3517 - keyPrediction_loss: 0.3626 - majorPrediction_loss: 0.3077 - keyPrediction_accuracy: 0.8776 - majorPrediction_accuracy: 0.8724 - val_loss: 0.6156 - val_keyPrediction_loss: 0.6801 - val_majorPrediction_loss: 0.3577 - val_keyPrediction_accuracy: 0.7976 - val_majorPrediction_accuracy: 0.8478\n",
      "Epoch 48/1000\n",
      "239/239 - 1s - loss: 0.3454 - keyPrediction_loss: 0.3559 - majorPrediction_loss: 0.3034 - keyPrediction_accuracy: 0.8781 - majorPrediction_accuracy: 0.8700 - val_loss: 0.6088 - val_keyPrediction_loss: 0.6745 - val_majorPrediction_loss: 0.3461 - val_keyPrediction_accuracy: 0.7976 - val_majorPrediction_accuracy: 0.8546\n",
      "Epoch 49/1000\n",
      "239/239 - 1s - loss: 0.3346 - keyPrediction_loss: 0.3435 - majorPrediction_loss: 0.2988 - keyPrediction_accuracy: 0.8844 - majorPrediction_accuracy: 0.8757 - val_loss: 0.6041 - val_keyPrediction_loss: 0.6678 - val_majorPrediction_loss: 0.3494 - val_keyPrediction_accuracy: 0.7971 - val_majorPrediction_accuracy: 0.8494\n",
      "Epoch 50/1000\n",
      "239/239 - 1s - loss: 0.3345 - keyPrediction_loss: 0.3438 - majorPrediction_loss: 0.2974 - keyPrediction_accuracy: 0.8815 - majorPrediction_accuracy: 0.8762 - val_loss: 0.6242 - val_keyPrediction_loss: 0.6923 - val_majorPrediction_loss: 0.3517 - val_keyPrediction_accuracy: 0.7997 - val_majorPrediction_accuracy: 0.8515\n",
      "Epoch 51/1000\n",
      "239/239 - 1s - loss: 0.3220 - keyPrediction_loss: 0.3278 - majorPrediction_loss: 0.2987 - keyPrediction_accuracy: 0.8874 - majorPrediction_accuracy: 0.8747 - val_loss: 0.6335 - val_keyPrediction_loss: 0.7048 - val_majorPrediction_loss: 0.3481 - val_keyPrediction_accuracy: 0.8002 - val_majorPrediction_accuracy: 0.8530\n",
      "Epoch 52/1000\n",
      "239/239 - 1s - loss: 0.3174 - keyPrediction_loss: 0.3237 - majorPrediction_loss: 0.2924 - keyPrediction_accuracy: 0.8883 - majorPrediction_accuracy: 0.8743 - val_loss: 0.6130 - val_keyPrediction_loss: 0.6775 - val_majorPrediction_loss: 0.3551 - val_keyPrediction_accuracy: 0.8060 - val_majorPrediction_accuracy: 0.8415\n",
      "Epoch 53/1000\n",
      "239/239 - 1s - loss: 0.3078 - keyPrediction_loss: 0.3126 - majorPrediction_loss: 0.2886 - keyPrediction_accuracy: 0.8924 - majorPrediction_accuracy: 0.8785 - val_loss: 0.6227 - val_keyPrediction_loss: 0.6926 - val_majorPrediction_loss: 0.3434 - val_keyPrediction_accuracy: 0.7981 - val_majorPrediction_accuracy: 0.8546\n",
      "Epoch 54/1000\n",
      "239/239 - 1s - loss: 0.3050 - keyPrediction_loss: 0.3090 - majorPrediction_loss: 0.2890 - keyPrediction_accuracy: 0.8908 - majorPrediction_accuracy: 0.8784 - val_loss: 0.6117 - val_keyPrediction_loss: 0.6797 - val_majorPrediction_loss: 0.3398 - val_keyPrediction_accuracy: 0.8007 - val_majorPrediction_accuracy: 0.8536\n",
      "Epoch 55/1000\n",
      "239/239 - 1s - loss: 0.2941 - keyPrediction_loss: 0.2965 - majorPrediction_loss: 0.2841 - keyPrediction_accuracy: 0.8981 - majorPrediction_accuracy: 0.8804 - val_loss: 0.6114 - val_keyPrediction_loss: 0.6783 - val_majorPrediction_loss: 0.3436 - val_keyPrediction_accuracy: 0.8154 - val_majorPrediction_accuracy: 0.8536\n",
      "Epoch 56/1000\n",
      "239/239 - 1s - loss: 0.2924 - keyPrediction_loss: 0.2940 - majorPrediction_loss: 0.2857 - keyPrediction_accuracy: 0.9001 - majorPrediction_accuracy: 0.8831 - val_loss: 0.6188 - val_keyPrediction_loss: 0.6859 - val_majorPrediction_loss: 0.3505 - val_keyPrediction_accuracy: 0.8070 - val_majorPrediction_accuracy: 0.8556\n",
      "Epoch 57/1000\n",
      "239/239 - 1s - loss: 0.2857 - keyPrediction_loss: 0.2867 - majorPrediction_loss: 0.2816 - keyPrediction_accuracy: 0.9032 - majorPrediction_accuracy: 0.8821 - val_loss: 0.6275 - val_keyPrediction_loss: 0.6950 - val_majorPrediction_loss: 0.3572 - val_keyPrediction_accuracy: 0.7992 - val_majorPrediction_accuracy: 0.8494\n",
      "Epoch 58/1000\n",
      "239/239 - 1s - loss: 0.2800 - keyPrediction_loss: 0.2809 - majorPrediction_loss: 0.2764 - keyPrediction_accuracy: 0.9014 - majorPrediction_accuracy: 0.8832 - val_loss: 0.6360 - val_keyPrediction_loss: 0.7098 - val_majorPrediction_loss: 0.3407 - val_keyPrediction_accuracy: 0.8002 - val_majorPrediction_accuracy: 0.8604\n",
      "Epoch 59/1000\n",
      "239/239 - 1s - loss: 0.2754 - keyPrediction_loss: 0.2756 - majorPrediction_loss: 0.2746 - keyPrediction_accuracy: 0.9059 - majorPrediction_accuracy: 0.8839 - val_loss: 0.6351 - val_keyPrediction_loss: 0.7087 - val_majorPrediction_loss: 0.3404 - val_keyPrediction_accuracy: 0.7986 - val_majorPrediction_accuracy: 0.8536\n",
      "Epoch 60/1000\n",
      "239/239 - 1s - loss: 0.2649 - keyPrediction_loss: 0.2628 - majorPrediction_loss: 0.2730 - keyPrediction_accuracy: 0.9106 - majorPrediction_accuracy: 0.8823 - val_loss: 0.6156 - val_keyPrediction_loss: 0.6841 - val_majorPrediction_loss: 0.3416 - val_keyPrediction_accuracy: 0.8128 - val_majorPrediction_accuracy: 0.8546\n",
      "Epoch 61/1000\n",
      "239/239 - 1s - loss: 0.2569 - keyPrediction_loss: 0.2539 - majorPrediction_loss: 0.2691 - keyPrediction_accuracy: 0.9149 - majorPrediction_accuracy: 0.8862 - val_loss: 0.6293 - val_keyPrediction_loss: 0.7020 - val_majorPrediction_loss: 0.3388 - val_keyPrediction_accuracy: 0.8054 - val_majorPrediction_accuracy: 0.8572\n",
      "Epoch 62/1000\n",
      "239/239 - 1s - loss: 0.2512 - keyPrediction_loss: 0.2466 - majorPrediction_loss: 0.2696 - keyPrediction_accuracy: 0.9162 - majorPrediction_accuracy: 0.8878 - val_loss: 0.6273 - val_keyPrediction_loss: 0.6990 - val_majorPrediction_loss: 0.3405 - val_keyPrediction_accuracy: 0.8065 - val_majorPrediction_accuracy: 0.8630\n",
      "Epoch 63/1000\n",
      "239/239 - 1s - loss: 0.2475 - keyPrediction_loss: 0.2431 - majorPrediction_loss: 0.2651 - keyPrediction_accuracy: 0.9157 - majorPrediction_accuracy: 0.8894 - val_loss: 0.6407 - val_keyPrediction_loss: 0.7163 - val_majorPrediction_loss: 0.3386 - val_keyPrediction_accuracy: 0.8107 - val_majorPrediction_accuracy: 0.8583\n",
      "Epoch 64/1000\n",
      "239/239 - 1s - loss: 0.2371 - keyPrediction_loss: 0.2309 - majorPrediction_loss: 0.2618 - keyPrediction_accuracy: 0.9212 - majorPrediction_accuracy: 0.8910 - val_loss: 0.6501 - val_keyPrediction_loss: 0.7275 - val_majorPrediction_loss: 0.3404 - val_keyPrediction_accuracy: 0.8091 - val_majorPrediction_accuracy: 0.8614\n",
      "Epoch 65/1000\n",
      "239/239 - 1s - loss: 0.2375 - keyPrediction_loss: 0.2323 - majorPrediction_loss: 0.2583 - keyPrediction_accuracy: 0.9191 - majorPrediction_accuracy: 0.8930 - val_loss: 0.6468 - val_keyPrediction_loss: 0.7242 - val_majorPrediction_loss: 0.3371 - val_keyPrediction_accuracy: 0.8101 - val_majorPrediction_accuracy: 0.8598\n",
      "Epoch 66/1000\n",
      "239/239 - 1s - loss: 0.2276 - keyPrediction_loss: 0.2208 - majorPrediction_loss: 0.2547 - keyPrediction_accuracy: 0.9280 - majorPrediction_accuracy: 0.8958 - val_loss: 0.6696 - val_keyPrediction_loss: 0.7512 - val_majorPrediction_loss: 0.3435 - val_keyPrediction_accuracy: 0.8039 - val_majorPrediction_accuracy: 0.8572\n",
      "Epoch 67/1000\n",
      "239/239 - 1s - loss: 0.2298 - keyPrediction_loss: 0.2234 - majorPrediction_loss: 0.2557 - keyPrediction_accuracy: 0.9204 - majorPrediction_accuracy: 0.8924 - val_loss: 0.6475 - val_keyPrediction_loss: 0.7250 - val_majorPrediction_loss: 0.3377 - val_keyPrediction_accuracy: 0.8065 - val_majorPrediction_accuracy: 0.8577\n",
      "Epoch 68/1000\n",
      "239/239 - 1s - loss: 0.2181 - keyPrediction_loss: 0.2101 - majorPrediction_loss: 0.2501 - keyPrediction_accuracy: 0.9265 - majorPrediction_accuracy: 0.9000 - val_loss: 0.6740 - val_keyPrediction_loss: 0.7571 - val_majorPrediction_loss: 0.3417 - val_keyPrediction_accuracy: 0.8023 - val_majorPrediction_accuracy: 0.8551\n",
      "Epoch 69/1000\n",
      "239/239 - 1s - loss: 0.2147 - keyPrediction_loss: 0.2064 - majorPrediction_loss: 0.2479 - keyPrediction_accuracy: 0.9263 - majorPrediction_accuracy: 0.8983 - val_loss: 0.6707 - val_keyPrediction_loss: 0.7528 - val_majorPrediction_loss: 0.3421 - val_keyPrediction_accuracy: 0.7997 - val_majorPrediction_accuracy: 0.8546\n",
      "Epoch 70/1000\n",
      "239/239 - 1s - loss: 0.2083 - keyPrediction_loss: 0.1996 - majorPrediction_loss: 0.2432 - keyPrediction_accuracy: 0.9308 - majorPrediction_accuracy: 0.9031 - val_loss: 0.6520 - val_keyPrediction_loss: 0.7301 - val_majorPrediction_loss: 0.3398 - val_keyPrediction_accuracy: 0.8112 - val_majorPrediction_accuracy: 0.8541\n",
      "Epoch 71/1000\n",
      "239/239 - 1s - loss: 0.2030 - keyPrediction_loss: 0.1932 - majorPrediction_loss: 0.2420 - keyPrediction_accuracy: 0.9312 - majorPrediction_accuracy: 0.9017 - val_loss: 0.6615 - val_keyPrediction_loss: 0.7431 - val_majorPrediction_loss: 0.3348 - val_keyPrediction_accuracy: 0.8128 - val_majorPrediction_accuracy: 0.8640\n",
      "Epoch 72/1000\n",
      "239/239 - 1s - loss: 0.1999 - keyPrediction_loss: 0.1895 - majorPrediction_loss: 0.2413 - keyPrediction_accuracy: 0.9311 - majorPrediction_accuracy: 0.9000 - val_loss: 0.6918 - val_keyPrediction_loss: 0.7757 - val_majorPrediction_loss: 0.3560 - val_keyPrediction_accuracy: 0.8075 - val_majorPrediction_accuracy: 0.8499\n",
      "Epoch 73/1000\n",
      "239/239 - 1s - loss: 0.1957 - keyPrediction_loss: 0.1855 - majorPrediction_loss: 0.2367 - keyPrediction_accuracy: 0.9379 - majorPrediction_accuracy: 0.9059 - val_loss: 0.6990 - val_keyPrediction_loss: 0.7887 - val_majorPrediction_loss: 0.3404 - val_keyPrediction_accuracy: 0.8023 - val_majorPrediction_accuracy: 0.8651\n",
      "Epoch 74/1000\n",
      "239/239 - 1s - loss: 0.1861 - keyPrediction_loss: 0.1739 - majorPrediction_loss: 0.2347 - keyPrediction_accuracy: 0.9389 - majorPrediction_accuracy: 0.9056 - val_loss: 0.6788 - val_keyPrediction_loss: 0.7645 - val_majorPrediction_loss: 0.3360 - val_keyPrediction_accuracy: 0.8112 - val_majorPrediction_accuracy: 0.8672\n",
      "Epoch 75/1000\n",
      "239/239 - 1s - loss: 0.1837 - keyPrediction_loss: 0.1718 - majorPrediction_loss: 0.2314 - keyPrediction_accuracy: 0.9384 - majorPrediction_accuracy: 0.9062 - val_loss: 0.7192 - val_keyPrediction_loss: 0.8127 - val_majorPrediction_loss: 0.3454 - val_keyPrediction_accuracy: 0.8007 - val_majorPrediction_accuracy: 0.8541\n",
      "Epoch 76/1000\n",
      "239/239 - 1s - loss: 0.1801 - keyPrediction_loss: 0.1674 - majorPrediction_loss: 0.2308 - keyPrediction_accuracy: 0.9399 - majorPrediction_accuracy: 0.9085 - val_loss: 0.6977 - val_keyPrediction_loss: 0.7856 - val_majorPrediction_loss: 0.3465 - val_keyPrediction_accuracy: 0.8096 - val_majorPrediction_accuracy: 0.8551\n",
      "Epoch 77/1000\n",
      "239/239 - 1s - loss: 0.1739 - keyPrediction_loss: 0.1607 - majorPrediction_loss: 0.2267 - keyPrediction_accuracy: 0.9438 - majorPrediction_accuracy: 0.9074 - val_loss: 0.7203 - val_keyPrediction_loss: 0.8119 - val_majorPrediction_loss: 0.3540 - val_keyPrediction_accuracy: 0.8128 - val_majorPrediction_accuracy: 0.8593\n",
      "Epoch 78/1000\n",
      "239/239 - 1s - loss: 0.1751 - keyPrediction_loss: 0.1619 - majorPrediction_loss: 0.2278 - keyPrediction_accuracy: 0.9439 - majorPrediction_accuracy: 0.9087 - val_loss: 0.7237 - val_keyPrediction_loss: 0.8196 - val_majorPrediction_loss: 0.3399 - val_keyPrediction_accuracy: 0.8033 - val_majorPrediction_accuracy: 0.8604\n",
      "Epoch 79/1000\n",
      "239/239 - 1s - loss: 0.1711 - keyPrediction_loss: 0.1574 - majorPrediction_loss: 0.2257 - keyPrediction_accuracy: 0.9507 - majorPrediction_accuracy: 0.9123 - val_loss: 0.7165 - val_keyPrediction_loss: 0.8104 - val_majorPrediction_loss: 0.3409 - val_keyPrediction_accuracy: 0.8033 - val_majorPrediction_accuracy: 0.8635\n",
      "Epoch 80/1000\n",
      "239/239 - 1s - loss: 0.1614 - keyPrediction_loss: 0.1462 - majorPrediction_loss: 0.2220 - keyPrediction_accuracy: 0.9508 - majorPrediction_accuracy: 0.9106 - val_loss: 0.7256 - val_keyPrediction_loss: 0.8233 - val_majorPrediction_loss: 0.3346 - val_keyPrediction_accuracy: 0.8028 - val_majorPrediction_accuracy: 0.8661\n",
      "Epoch 81/1000\n",
      "239/239 - 1s - loss: 0.1628 - keyPrediction_loss: 0.1491 - majorPrediction_loss: 0.2178 - keyPrediction_accuracy: 0.9501 - majorPrediction_accuracy: 0.9137 - val_loss: 0.7336 - val_keyPrediction_loss: 0.8330 - val_majorPrediction_loss: 0.3361 - val_keyPrediction_accuracy: 0.8028 - val_majorPrediction_accuracy: 0.8619\n",
      "Epoch 82/1000\n",
      "239/239 - 1s - loss: 0.1543 - keyPrediction_loss: 0.1390 - majorPrediction_loss: 0.2157 - keyPrediction_accuracy: 0.9531 - majorPrediction_accuracy: 0.9154 - val_loss: 0.7355 - val_keyPrediction_loss: 0.8327 - val_majorPrediction_loss: 0.3468 - val_keyPrediction_accuracy: 0.8075 - val_majorPrediction_accuracy: 0.8572\n",
      "Epoch 83/1000\n",
      "239/239 - 1s - loss: 0.1522 - keyPrediction_loss: 0.1370 - majorPrediction_loss: 0.2131 - keyPrediction_accuracy: 0.9540 - majorPrediction_accuracy: 0.9157 - val_loss: 0.7718 - val_keyPrediction_loss: 0.8773 - val_majorPrediction_loss: 0.3500 - val_keyPrediction_accuracy: 0.7945 - val_majorPrediction_accuracy: 0.8640\n",
      "Epoch 84/1000\n",
      "239/239 - 1s - loss: 0.1500 - keyPrediction_loss: 0.1343 - majorPrediction_loss: 0.2126 - keyPrediction_accuracy: 0.9535 - majorPrediction_accuracy: 0.9155 - val_loss: 0.7423 - val_keyPrediction_loss: 0.8437 - val_majorPrediction_loss: 0.3366 - val_keyPrediction_accuracy: 0.8117 - val_majorPrediction_accuracy: 0.8656\n",
      "Epoch 85/1000\n",
      "239/239 - 1s - loss: 0.1469 - keyPrediction_loss: 0.1311 - majorPrediction_loss: 0.2103 - keyPrediction_accuracy: 0.9566 - majorPrediction_accuracy: 0.9153 - val_loss: 0.7578 - val_keyPrediction_loss: 0.8629 - val_majorPrediction_loss: 0.3375 - val_keyPrediction_accuracy: 0.8044 - val_majorPrediction_accuracy: 0.8687\n",
      "Epoch 86/1000\n",
      "239/239 - 1s - loss: 0.1435 - keyPrediction_loss: 0.1283 - majorPrediction_loss: 0.2039 - keyPrediction_accuracy: 0.9536 - majorPrediction_accuracy: 0.9185 - val_loss: 0.7584 - val_keyPrediction_loss: 0.8609 - val_majorPrediction_loss: 0.3483 - val_keyPrediction_accuracy: 0.8070 - val_majorPrediction_accuracy: 0.8583\n",
      "Epoch 87/1000\n",
      "239/239 - 1s - loss: 0.1405 - keyPrediction_loss: 0.1244 - majorPrediction_loss: 0.2047 - keyPrediction_accuracy: 0.9579 - majorPrediction_accuracy: 0.9174 - val_loss: 0.7923 - val_keyPrediction_loss: 0.9037 - val_majorPrediction_loss: 0.3467 - val_keyPrediction_accuracy: 0.8086 - val_majorPrediction_accuracy: 0.8656\n",
      "Epoch 88/1000\n",
      "239/239 - 1s - loss: 0.1381 - keyPrediction_loss: 0.1219 - majorPrediction_loss: 0.2025 - keyPrediction_accuracy: 0.9588 - majorPrediction_accuracy: 0.9231 - val_loss: 0.7716 - val_keyPrediction_loss: 0.8781 - val_majorPrediction_loss: 0.3457 - val_keyPrediction_accuracy: 0.8086 - val_majorPrediction_accuracy: 0.8661\n",
      "Epoch 89/1000\n",
      "239/239 - 1s - loss: 0.1341 - keyPrediction_loss: 0.1182 - majorPrediction_loss: 0.1980 - keyPrediction_accuracy: 0.9591 - majorPrediction_accuracy: 0.9219 - val_loss: 0.7794 - val_keyPrediction_loss: 0.8894 - val_majorPrediction_loss: 0.3395 - val_keyPrediction_accuracy: 0.8159 - val_majorPrediction_accuracy: 0.8661\n",
      "Epoch 90/1000\n",
      "239/239 - 1s - loss: 0.1300 - keyPrediction_loss: 0.1136 - majorPrediction_loss: 0.1954 - keyPrediction_accuracy: 0.9622 - majorPrediction_accuracy: 0.9242 - val_loss: 0.7943 - val_keyPrediction_loss: 0.9058 - val_majorPrediction_loss: 0.3485 - val_keyPrediction_accuracy: 0.8081 - val_majorPrediction_accuracy: 0.8624\n",
      "Epoch 91/1000\n",
      "239/239 - 1s - loss: 0.1285 - keyPrediction_loss: 0.1127 - majorPrediction_loss: 0.1915 - keyPrediction_accuracy: 0.9618 - majorPrediction_accuracy: 0.9283 - val_loss: 0.7941 - val_keyPrediction_loss: 0.9072 - val_majorPrediction_loss: 0.3419 - val_keyPrediction_accuracy: 0.8081 - val_majorPrediction_accuracy: 0.8640\n",
      "Epoch 92/1000\n",
      "239/239 - 1s - loss: 0.1247 - keyPrediction_loss: 0.1084 - majorPrediction_loss: 0.1900 - keyPrediction_accuracy: 0.9625 - majorPrediction_accuracy: 0.9306 - val_loss: 0.7836 - val_keyPrediction_loss: 0.8954 - val_majorPrediction_loss: 0.3364 - val_keyPrediction_accuracy: 0.8122 - val_majorPrediction_accuracy: 0.8672\n",
      "Epoch 93/1000\n",
      "239/239 - 1s - loss: 0.1260 - keyPrediction_loss: 0.1100 - majorPrediction_loss: 0.1897 - keyPrediction_accuracy: 0.9621 - majorPrediction_accuracy: 0.9266 - val_loss: 0.8148 - val_keyPrediction_loss: 0.9306 - val_majorPrediction_loss: 0.3518 - val_keyPrediction_accuracy: 0.8070 - val_majorPrediction_accuracy: 0.8687\n",
      "Epoch 94/1000\n",
      "239/239 - 1s - loss: 0.1227 - keyPrediction_loss: 0.1056 - majorPrediction_loss: 0.1913 - keyPrediction_accuracy: 0.9639 - majorPrediction_accuracy: 0.9272 - val_loss: 0.8314 - val_keyPrediction_loss: 0.9511 - val_majorPrediction_loss: 0.3522 - val_keyPrediction_accuracy: 0.8060 - val_majorPrediction_accuracy: 0.8624\n",
      "Epoch 95/1000\n",
      "239/239 - 1s - loss: 0.1212 - keyPrediction_loss: 0.1051 - majorPrediction_loss: 0.1856 - keyPrediction_accuracy: 0.9642 - majorPrediction_accuracy: 0.9286 - val_loss: 0.8307 - val_keyPrediction_loss: 0.9491 - val_majorPrediction_loss: 0.3568 - val_keyPrediction_accuracy: 0.8096 - val_majorPrediction_accuracy: 0.8619\n",
      "Epoch 96/1000\n",
      "239/239 - 1s - loss: 0.1132 - keyPrediction_loss: 0.0962 - majorPrediction_loss: 0.1810 - keyPrediction_accuracy: 0.9668 - majorPrediction_accuracy: 0.9325 - val_loss: 0.8127 - val_keyPrediction_loss: 0.9310 - val_majorPrediction_loss: 0.3394 - val_keyPrediction_accuracy: 0.8185 - val_majorPrediction_accuracy: 0.8666\n",
      "Epoch 97/1000\n",
      "239/239 - 1s - loss: 0.1143 - keyPrediction_loss: 0.0981 - majorPrediction_loss: 0.1794 - keyPrediction_accuracy: 0.9678 - majorPrediction_accuracy: 0.9302 - val_loss: 0.8320 - val_keyPrediction_loss: 0.9549 - val_majorPrediction_loss: 0.3404 - val_keyPrediction_accuracy: 0.8185 - val_majorPrediction_accuracy: 0.8692\n",
      "Epoch 98/1000\n",
      "239/239 - 1s - loss: 0.1113 - keyPrediction_loss: 0.0956 - majorPrediction_loss: 0.1740 - keyPrediction_accuracy: 0.9681 - majorPrediction_accuracy: 0.9340 - val_loss: 0.8218 - val_keyPrediction_loss: 0.9431 - val_majorPrediction_loss: 0.3366 - val_keyPrediction_accuracy: 0.8175 - val_majorPrediction_accuracy: 0.8729\n",
      "Epoch 99/1000\n",
      "239/239 - 1s - loss: 0.1117 - keyPrediction_loss: 0.0963 - majorPrediction_loss: 0.1736 - keyPrediction_accuracy: 0.9676 - majorPrediction_accuracy: 0.9348 - val_loss: 0.8480 - val_keyPrediction_loss: 0.9733 - val_majorPrediction_loss: 0.3466 - val_keyPrediction_accuracy: 0.8175 - val_majorPrediction_accuracy: 0.8698\n",
      "Restoring model weights from the end of the best epoch.\n",
      "Epoch 00099: early stopping\n"
     ]
    },
    {
     "data": {
      "text/plain": [
       "<keras.callbacks.History at 0x274109c98e0>"
      ]
     },
     "execution_count": 570,
     "metadata": {},
     "output_type": "execute_result"
    }
   ],
   "source": [
    "model.fit(X_train, [y_train[:,:-1],y_train[:,-1]],validation_data=(X_test, [y_test[:,:-1],y_test[:,-1]]), verbose=2, epochs=1000,callbacks=[callback],)"
   ]
  },
  {
   "cell_type": "code",
   "execution_count": 571,
   "id": "f0a7d96f-625d-4326-ac2e-f1917006a0dc",
   "metadata": {},
   "outputs": [
    {
     "name": "stdout",
     "output_type": "stream",
     "text": [
      "60/60 [==============================] - 0s 1ms/step - loss: 0.6041 - keyPrediction_loss: 0.6678 - majorPrediction_loss: 0.3494 - keyPrediction_accuracy: 0.7971 - majorPrediction_accuracy: 0.8494\n"
     ]
    },
    {
     "data": {
      "text/plain": [
       "[0.6040990352630615,\n",
       " 0.6677754521369934,\n",
       " 0.349393755197525,\n",
       " 0.7970711588859558,\n",
       " 0.849372386932373]"
      ]
     },
     "execution_count": 571,
     "metadata": {},
     "output_type": "execute_result"
    }
   ],
   "source": [
    "model.evaluate(X_test,[y_test[:,:-1],y_test[:,-1]])"
   ]
  },
  {
   "cell_type": "code",
   "execution_count": 572,
   "id": "e181fb75-f422-449c-b149-44774a96e12f",
   "metadata": {},
   "outputs": [],
   "source": [
    "a,b=(model.predict(X_test))"
   ]
  },
  {
   "cell_type": "code",
   "execution_count": 573,
   "id": "a2108c7f-65da-4089-87d2-ad3d2dfd98f6",
   "metadata": {},
   "outputs": [
    {
     "data": {
      "text/plain": [
       "(529, 1383, 0.7233263598326359)"
      ]
     },
     "execution_count": 573,
     "metadata": {},
     "output_type": "execute_result"
    }
   ],
   "source": [
    "wrong=0\n",
    "correct=0\n",
    "for idx,e in enumerate(y_test):\n",
    "    if np.argmax(y_test[idx][:-1])==np.argmax(a[idx]) and y_test[idx][-1]==(1 if b[idx]>=0.5 else 0):\n",
    "        correct+=1\n",
    "    else:\n",
    "        wrong+=1\n",
    "wrong,correct,correct/(wrong+correct)"
   ]
  },
  {
   "cell_type": "code",
   "execution_count": null,
   "id": "95fb14a6-7798-4f65-b57d-103683162389",
   "metadata": {},
   "outputs": [],
   "source": []
  }
 ],
 "metadata": {
  "kernelspec": {
   "display_name": "Python 3",
   "language": "python",
   "name": "python3"
  },
  "language_info": {
   "codemirror_mode": {
    "name": "ipython",
    "version": 3
   },
   "file_extension": ".py",
   "mimetype": "text/x-python",
   "name": "python",
   "nbconvert_exporter": "python",
   "pygments_lexer": "ipython3",
   "version": "3.8.8"
  }
 },
 "nbformat": 4,
 "nbformat_minor": 5
}
